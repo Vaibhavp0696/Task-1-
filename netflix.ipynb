{
 "cells": [
  {
   "cell_type": "code",
   "execution_count": 3,
   "id": "7d3df26c",
   "metadata": {},
   "outputs": [],
   "source": [
    "import pandas as pd\n",
    "import numpy as np\n",
    "import matplotlib.pyplot as plt\n",
    "import seaborn as sns\n",
    "import plotly.express as px"
   ]
  },
  {
   "cell_type": "code",
   "execution_count": 6,
   "id": "2bd3d631",
   "metadata": {},
   "outputs": [
    {
     "data": {
      "text/html": [
       "<div>\n",
       "<style scoped>\n",
       "    .dataframe tbody tr th:only-of-type {\n",
       "        vertical-align: middle;\n",
       "    }\n",
       "\n",
       "    .dataframe tbody tr th {\n",
       "        vertical-align: top;\n",
       "    }\n",
       "\n",
       "    .dataframe thead th {\n",
       "        text-align: right;\n",
       "    }\n",
       "</style>\n",
       "<table border=\"1\" class=\"dataframe\">\n",
       "  <thead>\n",
       "    <tr style=\"text-align: right;\">\n",
       "      <th></th>\n",
       "      <th>show_id</th>\n",
       "      <th>type</th>\n",
       "      <th>title</th>\n",
       "      <th>director</th>\n",
       "      <th>cast</th>\n",
       "      <th>country</th>\n",
       "      <th>date_added</th>\n",
       "      <th>release_year</th>\n",
       "      <th>rating</th>\n",
       "      <th>duration</th>\n",
       "      <th>listed_in</th>\n",
       "      <th>description</th>\n",
       "    </tr>\n",
       "  </thead>\n",
       "  <tbody>\n",
       "    <tr>\n",
       "      <th>0</th>\n",
       "      <td>s1</td>\n",
       "      <td>Movie</td>\n",
       "      <td>Dick Johnson Is Dead</td>\n",
       "      <td>Kirsten Johnson</td>\n",
       "      <td>NaN</td>\n",
       "      <td>United States</td>\n",
       "      <td>September 25, 2021</td>\n",
       "      <td>2020</td>\n",
       "      <td>PG-13</td>\n",
       "      <td>90 min</td>\n",
       "      <td>Documentaries</td>\n",
       "      <td>As her father nears the end of his life, filmm...</td>\n",
       "    </tr>\n",
       "    <tr>\n",
       "      <th>1</th>\n",
       "      <td>s2</td>\n",
       "      <td>TV Show</td>\n",
       "      <td>Blood &amp; Water</td>\n",
       "      <td>NaN</td>\n",
       "      <td>Ama Qamata, Khosi Ngema, Gail Mabalane, Thaban...</td>\n",
       "      <td>South Africa</td>\n",
       "      <td>September 24, 2021</td>\n",
       "      <td>2021</td>\n",
       "      <td>TV-MA</td>\n",
       "      <td>2 Seasons</td>\n",
       "      <td>International TV Shows, TV Dramas, TV Mysteries</td>\n",
       "      <td>After crossing paths at a party, a Cape Town t...</td>\n",
       "    </tr>\n",
       "    <tr>\n",
       "      <th>2</th>\n",
       "      <td>s3</td>\n",
       "      <td>TV Show</td>\n",
       "      <td>Ganglands</td>\n",
       "      <td>Julien Leclercq</td>\n",
       "      <td>Sami Bouajila, Tracy Gotoas, Samuel Jouy, Nabi...</td>\n",
       "      <td>NaN</td>\n",
       "      <td>September 24, 2021</td>\n",
       "      <td>2021</td>\n",
       "      <td>TV-MA</td>\n",
       "      <td>1 Season</td>\n",
       "      <td>Crime TV Shows, International TV Shows, TV Act...</td>\n",
       "      <td>To protect his family from a powerful drug lor...</td>\n",
       "    </tr>\n",
       "    <tr>\n",
       "      <th>3</th>\n",
       "      <td>s4</td>\n",
       "      <td>TV Show</td>\n",
       "      <td>Jailbirds New Orleans</td>\n",
       "      <td>NaN</td>\n",
       "      <td>NaN</td>\n",
       "      <td>NaN</td>\n",
       "      <td>September 24, 2021</td>\n",
       "      <td>2021</td>\n",
       "      <td>TV-MA</td>\n",
       "      <td>1 Season</td>\n",
       "      <td>Docuseries, Reality TV</td>\n",
       "      <td>Feuds, flirtations and toilet talk go down amo...</td>\n",
       "    </tr>\n",
       "    <tr>\n",
       "      <th>4</th>\n",
       "      <td>s5</td>\n",
       "      <td>TV Show</td>\n",
       "      <td>Kota Factory</td>\n",
       "      <td>NaN</td>\n",
       "      <td>Mayur More, Jitendra Kumar, Ranjan Raj, Alam K...</td>\n",
       "      <td>India</td>\n",
       "      <td>September 24, 2021</td>\n",
       "      <td>2021</td>\n",
       "      <td>TV-MA</td>\n",
       "      <td>2 Seasons</td>\n",
       "      <td>International TV Shows, Romantic TV Shows, TV ...</td>\n",
       "      <td>In a city of coaching centers known to train I...</td>\n",
       "    </tr>\n",
       "    <tr>\n",
       "      <th>...</th>\n",
       "      <td>...</td>\n",
       "      <td>...</td>\n",
       "      <td>...</td>\n",
       "      <td>...</td>\n",
       "      <td>...</td>\n",
       "      <td>...</td>\n",
       "      <td>...</td>\n",
       "      <td>...</td>\n",
       "      <td>...</td>\n",
       "      <td>...</td>\n",
       "      <td>...</td>\n",
       "      <td>...</td>\n",
       "    </tr>\n",
       "    <tr>\n",
       "      <th>8802</th>\n",
       "      <td>s8803</td>\n",
       "      <td>Movie</td>\n",
       "      <td>Zodiac</td>\n",
       "      <td>David Fincher</td>\n",
       "      <td>Mark Ruffalo, Jake Gyllenhaal, Robert Downey J...</td>\n",
       "      <td>United States</td>\n",
       "      <td>November 20, 2019</td>\n",
       "      <td>2007</td>\n",
       "      <td>R</td>\n",
       "      <td>158 min</td>\n",
       "      <td>Cult Movies, Dramas, Thrillers</td>\n",
       "      <td>A political cartoonist, a crime reporter and a...</td>\n",
       "    </tr>\n",
       "    <tr>\n",
       "      <th>8803</th>\n",
       "      <td>s8804</td>\n",
       "      <td>TV Show</td>\n",
       "      <td>Zombie Dumb</td>\n",
       "      <td>NaN</td>\n",
       "      <td>NaN</td>\n",
       "      <td>NaN</td>\n",
       "      <td>July 1, 2019</td>\n",
       "      <td>2018</td>\n",
       "      <td>TV-Y7</td>\n",
       "      <td>2 Seasons</td>\n",
       "      <td>Kids' TV, Korean TV Shows, TV Comedies</td>\n",
       "      <td>While living alone in a spooky town, a young g...</td>\n",
       "    </tr>\n",
       "    <tr>\n",
       "      <th>8804</th>\n",
       "      <td>s8805</td>\n",
       "      <td>Movie</td>\n",
       "      <td>Zombieland</td>\n",
       "      <td>Ruben Fleischer</td>\n",
       "      <td>Jesse Eisenberg, Woody Harrelson, Emma Stone, ...</td>\n",
       "      <td>United States</td>\n",
       "      <td>November 1, 2019</td>\n",
       "      <td>2009</td>\n",
       "      <td>R</td>\n",
       "      <td>88 min</td>\n",
       "      <td>Comedies, Horror Movies</td>\n",
       "      <td>Looking to survive in a world taken over by zo...</td>\n",
       "    </tr>\n",
       "    <tr>\n",
       "      <th>8805</th>\n",
       "      <td>s8806</td>\n",
       "      <td>Movie</td>\n",
       "      <td>Zoom</td>\n",
       "      <td>Peter Hewitt</td>\n",
       "      <td>Tim Allen, Courteney Cox, Chevy Chase, Kate Ma...</td>\n",
       "      <td>United States</td>\n",
       "      <td>January 11, 2020</td>\n",
       "      <td>2006</td>\n",
       "      <td>PG</td>\n",
       "      <td>88 min</td>\n",
       "      <td>Children &amp; Family Movies, Comedies</td>\n",
       "      <td>Dragged from civilian life, a former superhero...</td>\n",
       "    </tr>\n",
       "    <tr>\n",
       "      <th>8806</th>\n",
       "      <td>s8807</td>\n",
       "      <td>Movie</td>\n",
       "      <td>Zubaan</td>\n",
       "      <td>Mozez Singh</td>\n",
       "      <td>Vicky Kaushal, Sarah-Jane Dias, Raaghav Chanan...</td>\n",
       "      <td>India</td>\n",
       "      <td>March 2, 2019</td>\n",
       "      <td>2015</td>\n",
       "      <td>TV-14</td>\n",
       "      <td>111 min</td>\n",
       "      <td>Dramas, International Movies, Music &amp; Musicals</td>\n",
       "      <td>A scrappy but poor boy worms his way into a ty...</td>\n",
       "    </tr>\n",
       "  </tbody>\n",
       "</table>\n",
       "<p>8807 rows × 12 columns</p>\n",
       "</div>"
      ],
      "text/plain": [
       "     show_id     type                  title         director  \\\n",
       "0         s1    Movie   Dick Johnson Is Dead  Kirsten Johnson   \n",
       "1         s2  TV Show          Blood & Water              NaN   \n",
       "2         s3  TV Show              Ganglands  Julien Leclercq   \n",
       "3         s4  TV Show  Jailbirds New Orleans              NaN   \n",
       "4         s5  TV Show           Kota Factory              NaN   \n",
       "...      ...      ...                    ...              ...   \n",
       "8802   s8803    Movie                 Zodiac    David Fincher   \n",
       "8803   s8804  TV Show            Zombie Dumb              NaN   \n",
       "8804   s8805    Movie             Zombieland  Ruben Fleischer   \n",
       "8805   s8806    Movie                   Zoom     Peter Hewitt   \n",
       "8806   s8807    Movie                 Zubaan      Mozez Singh   \n",
       "\n",
       "                                                   cast        country  \\\n",
       "0                                                   NaN  United States   \n",
       "1     Ama Qamata, Khosi Ngema, Gail Mabalane, Thaban...   South Africa   \n",
       "2     Sami Bouajila, Tracy Gotoas, Samuel Jouy, Nabi...            NaN   \n",
       "3                                                   NaN            NaN   \n",
       "4     Mayur More, Jitendra Kumar, Ranjan Raj, Alam K...          India   \n",
       "...                                                 ...            ...   \n",
       "8802  Mark Ruffalo, Jake Gyllenhaal, Robert Downey J...  United States   \n",
       "8803                                                NaN            NaN   \n",
       "8804  Jesse Eisenberg, Woody Harrelson, Emma Stone, ...  United States   \n",
       "8805  Tim Allen, Courteney Cox, Chevy Chase, Kate Ma...  United States   \n",
       "8806  Vicky Kaushal, Sarah-Jane Dias, Raaghav Chanan...          India   \n",
       "\n",
       "              date_added  release_year rating   duration  \\\n",
       "0     September 25, 2021          2020  PG-13     90 min   \n",
       "1     September 24, 2021          2021  TV-MA  2 Seasons   \n",
       "2     September 24, 2021          2021  TV-MA   1 Season   \n",
       "3     September 24, 2021          2021  TV-MA   1 Season   \n",
       "4     September 24, 2021          2021  TV-MA  2 Seasons   \n",
       "...                  ...           ...    ...        ...   \n",
       "8802   November 20, 2019          2007      R    158 min   \n",
       "8803        July 1, 2019          2018  TV-Y7  2 Seasons   \n",
       "8804    November 1, 2019          2009      R     88 min   \n",
       "8805    January 11, 2020          2006     PG     88 min   \n",
       "8806       March 2, 2019          2015  TV-14    111 min   \n",
       "\n",
       "                                              listed_in  \\\n",
       "0                                         Documentaries   \n",
       "1       International TV Shows, TV Dramas, TV Mysteries   \n",
       "2     Crime TV Shows, International TV Shows, TV Act...   \n",
       "3                                Docuseries, Reality TV   \n",
       "4     International TV Shows, Romantic TV Shows, TV ...   \n",
       "...                                                 ...   \n",
       "8802                     Cult Movies, Dramas, Thrillers   \n",
       "8803             Kids' TV, Korean TV Shows, TV Comedies   \n",
       "8804                            Comedies, Horror Movies   \n",
       "8805                 Children & Family Movies, Comedies   \n",
       "8806     Dramas, International Movies, Music & Musicals   \n",
       "\n",
       "                                            description  \n",
       "0     As her father nears the end of his life, filmm...  \n",
       "1     After crossing paths at a party, a Cape Town t...  \n",
       "2     To protect his family from a powerful drug lor...  \n",
       "3     Feuds, flirtations and toilet talk go down amo...  \n",
       "4     In a city of coaching centers known to train I...  \n",
       "...                                                 ...  \n",
       "8802  A political cartoonist, a crime reporter and a...  \n",
       "8803  While living alone in a spooky town, a young g...  \n",
       "8804  Looking to survive in a world taken over by zo...  \n",
       "8805  Dragged from civilian life, a former superhero...  \n",
       "8806  A scrappy but poor boy worms his way into a ty...  \n",
       "\n",
       "[8807 rows x 12 columns]"
      ]
     },
     "execution_count": 6,
     "metadata": {},
     "output_type": "execute_result"
    }
   ],
   "source": [
    "df = pd.read_csv(\"netflix_titles.csv\")\n",
    "df"
   ]
  },
  {
   "cell_type": "code",
   "execution_count": 5,
   "id": "48262a77",
   "metadata": {},
   "outputs": [
    {
     "name": "stdout",
     "output_type": "stream",
     "text": [
      "<class 'pandas.core.frame.DataFrame'>\n",
      "RangeIndex: 8807 entries, 0 to 8806\n",
      "Data columns (total 12 columns):\n",
      " #   Column        Non-Null Count  Dtype \n",
      "---  ------        --------------  ----- \n",
      " 0   show_id       8807 non-null   object\n",
      " 1   type          8807 non-null   object\n",
      " 2   title         8807 non-null   object\n",
      " 3   director      6173 non-null   object\n",
      " 4   cast          7982 non-null   object\n",
      " 5   country       7976 non-null   object\n",
      " 6   date_added    8797 non-null   object\n",
      " 7   release_year  8807 non-null   int64 \n",
      " 8   rating        8803 non-null   object\n",
      " 9   duration      8804 non-null   object\n",
      " 10  listed_in     8807 non-null   object\n",
      " 11  description   8807 non-null   object\n",
      "dtypes: int64(1), object(11)\n",
      "memory usage: 825.8+ KB\n"
     ]
    }
   ],
   "source": [
    "df.info()"
   ]
  },
  {
   "cell_type": "markdown",
   "id": "d1516b14",
   "metadata": {},
   "source": [
    "head is used to get the top 5 values"
   ]
  },
  {
   "cell_type": "code",
   "execution_count": 8,
   "id": "22acc66f",
   "metadata": {},
   "outputs": [
    {
     "data": {
      "text/html": [
       "<div>\n",
       "<style scoped>\n",
       "    .dataframe tbody tr th:only-of-type {\n",
       "        vertical-align: middle;\n",
       "    }\n",
       "\n",
       "    .dataframe tbody tr th {\n",
       "        vertical-align: top;\n",
       "    }\n",
       "\n",
       "    .dataframe thead th {\n",
       "        text-align: right;\n",
       "    }\n",
       "</style>\n",
       "<table border=\"1\" class=\"dataframe\">\n",
       "  <thead>\n",
       "    <tr style=\"text-align: right;\">\n",
       "      <th></th>\n",
       "      <th>show_id</th>\n",
       "      <th>type</th>\n",
       "      <th>title</th>\n",
       "      <th>director</th>\n",
       "      <th>cast</th>\n",
       "      <th>country</th>\n",
       "      <th>date_added</th>\n",
       "      <th>release_year</th>\n",
       "      <th>rating</th>\n",
       "      <th>duration</th>\n",
       "      <th>listed_in</th>\n",
       "      <th>description</th>\n",
       "    </tr>\n",
       "  </thead>\n",
       "  <tbody>\n",
       "    <tr>\n",
       "      <th>0</th>\n",
       "      <td>s1</td>\n",
       "      <td>Movie</td>\n",
       "      <td>Dick Johnson Is Dead</td>\n",
       "      <td>Kirsten Johnson</td>\n",
       "      <td>NaN</td>\n",
       "      <td>United States</td>\n",
       "      <td>September 25, 2021</td>\n",
       "      <td>2020</td>\n",
       "      <td>PG-13</td>\n",
       "      <td>90 min</td>\n",
       "      <td>Documentaries</td>\n",
       "      <td>As her father nears the end of his life, filmm...</td>\n",
       "    </tr>\n",
       "    <tr>\n",
       "      <th>1</th>\n",
       "      <td>s2</td>\n",
       "      <td>TV Show</td>\n",
       "      <td>Blood &amp; Water</td>\n",
       "      <td>NaN</td>\n",
       "      <td>Ama Qamata, Khosi Ngema, Gail Mabalane, Thaban...</td>\n",
       "      <td>South Africa</td>\n",
       "      <td>September 24, 2021</td>\n",
       "      <td>2021</td>\n",
       "      <td>TV-MA</td>\n",
       "      <td>2 Seasons</td>\n",
       "      <td>International TV Shows, TV Dramas, TV Mysteries</td>\n",
       "      <td>After crossing paths at a party, a Cape Town t...</td>\n",
       "    </tr>\n",
       "    <tr>\n",
       "      <th>2</th>\n",
       "      <td>s3</td>\n",
       "      <td>TV Show</td>\n",
       "      <td>Ganglands</td>\n",
       "      <td>Julien Leclercq</td>\n",
       "      <td>Sami Bouajila, Tracy Gotoas, Samuel Jouy, Nabi...</td>\n",
       "      <td>NaN</td>\n",
       "      <td>September 24, 2021</td>\n",
       "      <td>2021</td>\n",
       "      <td>TV-MA</td>\n",
       "      <td>1 Season</td>\n",
       "      <td>Crime TV Shows, International TV Shows, TV Act...</td>\n",
       "      <td>To protect his family from a powerful drug lor...</td>\n",
       "    </tr>\n",
       "    <tr>\n",
       "      <th>3</th>\n",
       "      <td>s4</td>\n",
       "      <td>TV Show</td>\n",
       "      <td>Jailbirds New Orleans</td>\n",
       "      <td>NaN</td>\n",
       "      <td>NaN</td>\n",
       "      <td>NaN</td>\n",
       "      <td>September 24, 2021</td>\n",
       "      <td>2021</td>\n",
       "      <td>TV-MA</td>\n",
       "      <td>1 Season</td>\n",
       "      <td>Docuseries, Reality TV</td>\n",
       "      <td>Feuds, flirtations and toilet talk go down amo...</td>\n",
       "    </tr>\n",
       "    <tr>\n",
       "      <th>4</th>\n",
       "      <td>s5</td>\n",
       "      <td>TV Show</td>\n",
       "      <td>Kota Factory</td>\n",
       "      <td>NaN</td>\n",
       "      <td>Mayur More, Jitendra Kumar, Ranjan Raj, Alam K...</td>\n",
       "      <td>India</td>\n",
       "      <td>September 24, 2021</td>\n",
       "      <td>2021</td>\n",
       "      <td>TV-MA</td>\n",
       "      <td>2 Seasons</td>\n",
       "      <td>International TV Shows, Romantic TV Shows, TV ...</td>\n",
       "      <td>In a city of coaching centers known to train I...</td>\n",
       "    </tr>\n",
       "  </tbody>\n",
       "</table>\n",
       "</div>"
      ],
      "text/plain": [
       "  show_id     type                  title         director  \\\n",
       "0      s1    Movie   Dick Johnson Is Dead  Kirsten Johnson   \n",
       "1      s2  TV Show          Blood & Water              NaN   \n",
       "2      s3  TV Show              Ganglands  Julien Leclercq   \n",
       "3      s4  TV Show  Jailbirds New Orleans              NaN   \n",
       "4      s5  TV Show           Kota Factory              NaN   \n",
       "\n",
       "                                                cast        country  \\\n",
       "0                                                NaN  United States   \n",
       "1  Ama Qamata, Khosi Ngema, Gail Mabalane, Thaban...   South Africa   \n",
       "2  Sami Bouajila, Tracy Gotoas, Samuel Jouy, Nabi...            NaN   \n",
       "3                                                NaN            NaN   \n",
       "4  Mayur More, Jitendra Kumar, Ranjan Raj, Alam K...          India   \n",
       "\n",
       "           date_added  release_year rating   duration  \\\n",
       "0  September 25, 2021          2020  PG-13     90 min   \n",
       "1  September 24, 2021          2021  TV-MA  2 Seasons   \n",
       "2  September 24, 2021          2021  TV-MA   1 Season   \n",
       "3  September 24, 2021          2021  TV-MA   1 Season   \n",
       "4  September 24, 2021          2021  TV-MA  2 Seasons   \n",
       "\n",
       "                                           listed_in  \\\n",
       "0                                      Documentaries   \n",
       "1    International TV Shows, TV Dramas, TV Mysteries   \n",
       "2  Crime TV Shows, International TV Shows, TV Act...   \n",
       "3                             Docuseries, Reality TV   \n",
       "4  International TV Shows, Romantic TV Shows, TV ...   \n",
       "\n",
       "                                         description  \n",
       "0  As her father nears the end of his life, filmm...  \n",
       "1  After crossing paths at a party, a Cape Town t...  \n",
       "2  To protect his family from a powerful drug lor...  \n",
       "3  Feuds, flirtations and toilet talk go down amo...  \n",
       "4  In a city of coaching centers known to train I...  "
      ]
     },
     "execution_count": 8,
     "metadata": {},
     "output_type": "execute_result"
    }
   ],
   "source": [
    "df.head()"
   ]
  },
  {
   "cell_type": "markdown",
   "id": "570bcbbd",
   "metadata": {},
   "source": [
    "We checking the Null values\n"
   ]
  },
  {
   "cell_type": "code",
   "execution_count": 10,
   "id": "35b629ba",
   "metadata": {},
   "outputs": [
    {
     "data": {
      "text/plain": [
       "show_id            0\n",
       "type               0\n",
       "title              0\n",
       "director        2634\n",
       "cast             825\n",
       "country          831\n",
       "date_added        10\n",
       "release_year       0\n",
       "rating             4\n",
       "duration           3\n",
       "listed_in          0\n",
       "description        0\n",
       "dtype: int64"
      ]
     },
     "execution_count": 10,
     "metadata": {},
     "output_type": "execute_result"
    }
   ],
   "source": [
    "df.isnull().sum()"
   ]
  },
  {
   "cell_type": "markdown",
   "id": "d0fdcd7d",
   "metadata": {},
   "source": [
    "Dropna function is used to remove null values"
   ]
  },
  {
   "cell_type": "code",
   "execution_count": 11,
   "id": "76c0d0a6",
   "metadata": {},
   "outputs": [],
   "source": [
    "df.dropna(inplace=True)"
   ]
  },
  {
   "cell_type": "code",
   "execution_count": 22,
   "id": "0f389261",
   "metadata": {},
   "outputs": [
    {
     "data": {
      "text/plain": [
       "(5332, 12)"
      ]
     },
     "execution_count": 22,
     "metadata": {},
     "output_type": "execute_result"
    }
   ],
   "source": [
    "df.shape"
   ]
  },
  {
   "cell_type": "code",
   "execution_count": 12,
   "id": "9609983d",
   "metadata": {},
   "outputs": [
    {
     "name": "stdout",
     "output_type": "stream",
     "text": [
      "<class 'pandas.core.frame.DataFrame'>\n",
      "Index: 5332 entries, 7 to 8806\n",
      "Data columns (total 12 columns):\n",
      " #   Column        Non-Null Count  Dtype \n",
      "---  ------        --------------  ----- \n",
      " 0   show_id       5332 non-null   object\n",
      " 1   type          5332 non-null   object\n",
      " 2   title         5332 non-null   object\n",
      " 3   director      5332 non-null   object\n",
      " 4   cast          5332 non-null   object\n",
      " 5   country       5332 non-null   object\n",
      " 6   date_added    5332 non-null   object\n",
      " 7   release_year  5332 non-null   int64 \n",
      " 8   rating        5332 non-null   object\n",
      " 9   duration      5332 non-null   object\n",
      " 10  listed_in     5332 non-null   object\n",
      " 11  description   5332 non-null   object\n",
      "dtypes: int64(1), object(11)\n",
      "memory usage: 541.5+ KB\n"
     ]
    }
   ],
   "source": [
    "df.info()"
   ]
  },
  {
   "cell_type": "code",
   "execution_count": 13,
   "id": "97a8ad8d",
   "metadata": {},
   "outputs": [
    {
     "data": {
      "text/plain": [
       "show_id         0\n",
       "type            0\n",
       "title           0\n",
       "director        0\n",
       "cast            0\n",
       "country         0\n",
       "date_added      0\n",
       "release_year    0\n",
       "rating          0\n",
       "duration        0\n",
       "listed_in       0\n",
       "description     0\n",
       "dtype: int64"
      ]
     },
     "execution_count": 13,
     "metadata": {},
     "output_type": "execute_result"
    }
   ],
   "source": [
    "df.isnull().sum()"
   ]
  },
  {
   "cell_type": "code",
   "execution_count": 14,
   "id": "c99d6147",
   "metadata": {},
   "outputs": [
    {
     "data": {
      "text/plain": [
       "Index(['show_id', 'type', 'title', 'director', 'cast', 'country', 'date_added',\n",
       "       'release_year', 'rating', 'duration', 'listed_in', 'description'],\n",
       "      dtype='object')"
      ]
     },
     "execution_count": 14,
     "metadata": {},
     "output_type": "execute_result"
    }
   ],
   "source": [
    "df.columns"
   ]
  },
  {
   "cell_type": "code",
   "execution_count": 15,
   "id": "11b967cf",
   "metadata": {},
   "outputs": [
    {
     "data": {
      "text/html": [
       "<div>\n",
       "<style scoped>\n",
       "    .dataframe tbody tr th:only-of-type {\n",
       "        vertical-align: middle;\n",
       "    }\n",
       "\n",
       "    .dataframe tbody tr th {\n",
       "        vertical-align: top;\n",
       "    }\n",
       "\n",
       "    .dataframe thead th {\n",
       "        text-align: right;\n",
       "    }\n",
       "</style>\n",
       "<table border=\"1\" class=\"dataframe\">\n",
       "  <thead>\n",
       "    <tr style=\"text-align: right;\">\n",
       "      <th></th>\n",
       "      <th>show_id</th>\n",
       "      <th>type</th>\n",
       "      <th>title</th>\n",
       "      <th>director</th>\n",
       "      <th>cast</th>\n",
       "      <th>country</th>\n",
       "      <th>date_added</th>\n",
       "      <th>release_year</th>\n",
       "      <th>rating</th>\n",
       "      <th>duration</th>\n",
       "      <th>listed_in</th>\n",
       "      <th>description</th>\n",
       "    </tr>\n",
       "  </thead>\n",
       "  <tbody>\n",
       "    <tr>\n",
       "      <th>8801</th>\n",
       "      <td>s8802</td>\n",
       "      <td>Movie</td>\n",
       "      <td>Zinzana</td>\n",
       "      <td>Majid Al Ansari</td>\n",
       "      <td>Ali Suliman, Saleh Bakri, Yasa, Ali Al-Jabri, ...</td>\n",
       "      <td>United Arab Emirates, Jordan</td>\n",
       "      <td>March 9, 2016</td>\n",
       "      <td>2015</td>\n",
       "      <td>TV-MA</td>\n",
       "      <td>96 min</td>\n",
       "      <td>Dramas, International Movies, Thrillers</td>\n",
       "      <td>Recovering alcoholic Talal wakes up inside a s...</td>\n",
       "    </tr>\n",
       "    <tr>\n",
       "      <th>8802</th>\n",
       "      <td>s8803</td>\n",
       "      <td>Movie</td>\n",
       "      <td>Zodiac</td>\n",
       "      <td>David Fincher</td>\n",
       "      <td>Mark Ruffalo, Jake Gyllenhaal, Robert Downey J...</td>\n",
       "      <td>United States</td>\n",
       "      <td>November 20, 2019</td>\n",
       "      <td>2007</td>\n",
       "      <td>R</td>\n",
       "      <td>158 min</td>\n",
       "      <td>Cult Movies, Dramas, Thrillers</td>\n",
       "      <td>A political cartoonist, a crime reporter and a...</td>\n",
       "    </tr>\n",
       "    <tr>\n",
       "      <th>8804</th>\n",
       "      <td>s8805</td>\n",
       "      <td>Movie</td>\n",
       "      <td>Zombieland</td>\n",
       "      <td>Ruben Fleischer</td>\n",
       "      <td>Jesse Eisenberg, Woody Harrelson, Emma Stone, ...</td>\n",
       "      <td>United States</td>\n",
       "      <td>November 1, 2019</td>\n",
       "      <td>2009</td>\n",
       "      <td>R</td>\n",
       "      <td>88 min</td>\n",
       "      <td>Comedies, Horror Movies</td>\n",
       "      <td>Looking to survive in a world taken over by zo...</td>\n",
       "    </tr>\n",
       "    <tr>\n",
       "      <th>8805</th>\n",
       "      <td>s8806</td>\n",
       "      <td>Movie</td>\n",
       "      <td>Zoom</td>\n",
       "      <td>Peter Hewitt</td>\n",
       "      <td>Tim Allen, Courteney Cox, Chevy Chase, Kate Ma...</td>\n",
       "      <td>United States</td>\n",
       "      <td>January 11, 2020</td>\n",
       "      <td>2006</td>\n",
       "      <td>PG</td>\n",
       "      <td>88 min</td>\n",
       "      <td>Children &amp; Family Movies, Comedies</td>\n",
       "      <td>Dragged from civilian life, a former superhero...</td>\n",
       "    </tr>\n",
       "    <tr>\n",
       "      <th>8806</th>\n",
       "      <td>s8807</td>\n",
       "      <td>Movie</td>\n",
       "      <td>Zubaan</td>\n",
       "      <td>Mozez Singh</td>\n",
       "      <td>Vicky Kaushal, Sarah-Jane Dias, Raaghav Chanan...</td>\n",
       "      <td>India</td>\n",
       "      <td>March 2, 2019</td>\n",
       "      <td>2015</td>\n",
       "      <td>TV-14</td>\n",
       "      <td>111 min</td>\n",
       "      <td>Dramas, International Movies, Music &amp; Musicals</td>\n",
       "      <td>A scrappy but poor boy worms his way into a ty...</td>\n",
       "    </tr>\n",
       "  </tbody>\n",
       "</table>\n",
       "</div>"
      ],
      "text/plain": [
       "     show_id   type       title         director  \\\n",
       "8801   s8802  Movie     Zinzana  Majid Al Ansari   \n",
       "8802   s8803  Movie      Zodiac    David Fincher   \n",
       "8804   s8805  Movie  Zombieland  Ruben Fleischer   \n",
       "8805   s8806  Movie        Zoom     Peter Hewitt   \n",
       "8806   s8807  Movie      Zubaan      Mozez Singh   \n",
       "\n",
       "                                                   cast  \\\n",
       "8801  Ali Suliman, Saleh Bakri, Yasa, Ali Al-Jabri, ...   \n",
       "8802  Mark Ruffalo, Jake Gyllenhaal, Robert Downey J...   \n",
       "8804  Jesse Eisenberg, Woody Harrelson, Emma Stone, ...   \n",
       "8805  Tim Allen, Courteney Cox, Chevy Chase, Kate Ma...   \n",
       "8806  Vicky Kaushal, Sarah-Jane Dias, Raaghav Chanan...   \n",
       "\n",
       "                           country         date_added  release_year rating  \\\n",
       "8801  United Arab Emirates, Jordan      March 9, 2016          2015  TV-MA   \n",
       "8802                 United States  November 20, 2019          2007      R   \n",
       "8804                 United States   November 1, 2019          2009      R   \n",
       "8805                 United States   January 11, 2020          2006     PG   \n",
       "8806                         India      March 2, 2019          2015  TV-14   \n",
       "\n",
       "     duration                                       listed_in  \\\n",
       "8801   96 min         Dramas, International Movies, Thrillers   \n",
       "8802  158 min                  Cult Movies, Dramas, Thrillers   \n",
       "8804   88 min                         Comedies, Horror Movies   \n",
       "8805   88 min              Children & Family Movies, Comedies   \n",
       "8806  111 min  Dramas, International Movies, Music & Musicals   \n",
       "\n",
       "                                            description  \n",
       "8801  Recovering alcoholic Talal wakes up inside a s...  \n",
       "8802  A political cartoonist, a crime reporter and a...  \n",
       "8804  Looking to survive in a world taken over by zo...  \n",
       "8805  Dragged from civilian life, a former superhero...  \n",
       "8806  A scrappy but poor boy worms his way into a ty...  "
      ]
     },
     "execution_count": 15,
     "metadata": {},
     "output_type": "execute_result"
    }
   ],
   "source": [
    "df.tail()"
   ]
  },
  {
   "cell_type": "markdown",
   "id": "be6d6f65",
   "metadata": {},
   "source": [
    "we used drop duplicates function to remove duplicate values"
   ]
  },
  {
   "cell_type": "code",
   "execution_count": 16,
   "id": "36674940",
   "metadata": {},
   "outputs": [],
   "source": [
    "df.drop_duplicates(inplace=True)"
   ]
  },
  {
   "cell_type": "markdown",
   "id": "42e8c941",
   "metadata": {},
   "source": [
    "As we can see their are no missing values"
   ]
  },
  {
   "cell_type": "code",
   "execution_count": 19,
   "id": "0bfb2979",
   "metadata": {},
   "outputs": [
    {
     "data": {
      "text/plain": [
       "False"
      ]
     },
     "execution_count": 19,
     "metadata": {},
     "output_type": "execute_result"
    }
   ],
   "source": [
    "df.isnull().values.any()\n"
   ]
  },
  {
   "cell_type": "code",
   "execution_count": 23,
   "id": "41ea08c9",
   "metadata": {},
   "outputs": [
    {
     "data": {
      "text/html": [
       "<div>\n",
       "<style scoped>\n",
       "    .dataframe tbody tr th:only-of-type {\n",
       "        vertical-align: middle;\n",
       "    }\n",
       "\n",
       "    .dataframe tbody tr th {\n",
       "        vertical-align: top;\n",
       "    }\n",
       "\n",
       "    .dataframe thead th {\n",
       "        text-align: right;\n",
       "    }\n",
       "</style>\n",
       "<table border=\"1\" class=\"dataframe\">\n",
       "  <thead>\n",
       "    <tr style=\"text-align: right;\">\n",
       "      <th></th>\n",
       "      <th>release_year</th>\n",
       "    </tr>\n",
       "  </thead>\n",
       "  <tbody>\n",
       "    <tr>\n",
       "      <th>count</th>\n",
       "      <td>5332.000000</td>\n",
       "    </tr>\n",
       "    <tr>\n",
       "      <th>mean</th>\n",
       "      <td>2012.742123</td>\n",
       "    </tr>\n",
       "    <tr>\n",
       "      <th>std</th>\n",
       "      <td>9.625831</td>\n",
       "    </tr>\n",
       "    <tr>\n",
       "      <th>min</th>\n",
       "      <td>1942.000000</td>\n",
       "    </tr>\n",
       "    <tr>\n",
       "      <th>25%</th>\n",
       "      <td>2011.000000</td>\n",
       "    </tr>\n",
       "    <tr>\n",
       "      <th>50%</th>\n",
       "      <td>2016.000000</td>\n",
       "    </tr>\n",
       "    <tr>\n",
       "      <th>75%</th>\n",
       "      <td>2018.000000</td>\n",
       "    </tr>\n",
       "    <tr>\n",
       "      <th>max</th>\n",
       "      <td>2021.000000</td>\n",
       "    </tr>\n",
       "  </tbody>\n",
       "</table>\n",
       "</div>"
      ],
      "text/plain": [
       "       release_year\n",
       "count   5332.000000\n",
       "mean    2012.742123\n",
       "std        9.625831\n",
       "min     1942.000000\n",
       "25%     2011.000000\n",
       "50%     2016.000000\n",
       "75%     2018.000000\n",
       "max     2021.000000"
      ]
     },
     "execution_count": 23,
     "metadata": {},
     "output_type": "execute_result"
    }
   ],
   "source": [
    "df.describe()"
   ]
  },
  {
   "cell_type": "code",
   "execution_count": 26,
   "id": "c87d06a1",
   "metadata": {},
   "outputs": [
    {
     "data": {
      "image/png": "[encoded data removed]",
      "text/plain": [
       "<Figure size 640x480 with 1 Axes>"
      ]
     },
     "metadata": {},
     "output_type": "display_data"
    }
   ],
   "source": [
    "sns.countplot(data = df, x='type', palette='Set2', hue = 'type')\n",
    "plt.title(\"Count of Movies vs TV Shows\")\n",
    "plt.show()"
   ]
  },
  {
   "cell_type": "markdown",
   "id": "bdb7844a",
   "metadata": {},
   "source": [
    "As we can see their is a huge difference between movies and tv shows"
   ]
  },
  {
   "cell_type": "code",
   "execution_count": 29,
   "id": "d7e59ec8",
   "metadata": {},
   "outputs": [
    {
     "data": {
      "image/png": "[encoded data removed]",
      "text/plain": [
       "<Figure size 640x480 with 1 Axes>"
      ]
     },
     "metadata": {},
     "output_type": "display_data"
    }
   ],
   "source": [
    "top_countries = df['country'].value_counts().head(10)\n",
    "sns.barplot(x=top_countries.values, y = top_countries.index, palette=\"Set2\", hue = top_countries.index)\n",
    "plt.title('Top 10 Countries by Number of Titles')\n",
    "plt.xlabel('Number of Titles')\n",
    "plt.show()"
   ]
  },
  {
   "cell_type": "code",
   "execution_count": 30,
   "id": "f53b7417",
   "metadata": {},
   "outputs": [
    {
     "data": {
      "image/png": "[encoded data removed]",
      "text/plain": [
       "<Figure size 640x480 with 1 Axes>"
      ]
     },
     "metadata": {},
     "output_type": "display_data"
    }
   ],
   "source": [
    "sns.histplot(data = df, x = 'release_year', bins = 20, kde = True)\n",
    "plt.title(\"Distribution of Release Years\")\n",
    "plt.show()"
   ]
  },
  {
   "cell_type": "code",
   "execution_count": 36,
   "id": "cefaba4b",
   "metadata": {},
   "outputs": [
    {
     "data": {
      "image/png": "[encoded data removed]",
      "text/plain": [
       "<Figure size 640x480 with 1 Axes>"
      ]
     },
     "metadata": {},
     "output_type": "display_data"
    }
   ],
   "source": [
    "sns.countplot(data=df, y='rating', hue='type', order=df['rating'].value_counts().index)\n",
    "plt.title('Rating Distribution by Content Type')\n",
    "plt.show()"
   ]
  },
  {
   "cell_type": "markdown",
   "id": "59d46a40",
   "metadata": {},
   "source": [
    "As we can see the distribution of rating by content type"
   ]
  },
  {
   "cell_type": "code",
   "execution_count": 40,
   "id": "935d26f5",
   "metadata": {},
   "outputs": [
    {
     "name": "stderr",
     "output_type": "stream",
     "text": [
      "<>:4: SyntaxWarning: invalid escape sequence '\\d'\n",
      "<>:4: SyntaxWarning: invalid escape sequence '\\d'\n",
      "C:\\Users\\VAIBHAV\\AppData\\Local\\Temp\\ipykernel_14708\\2267631229.py:4: SyntaxWarning: invalid escape sequence '\\d'\n",
      "  movies['duration_int'] = movies['duration'].str.extract('(\\d+)').astype(float)\n"
     ]
    },
    {
     "data": {
      "image/png": "[encoded data removed]",
      "text/plain": [
       "<Figure size 1000x600 with 1 Axes>"
      ]
     },
     "metadata": {},
     "output_type": "display_data"
    }
   ],
   "source": [
    "movies = df[df['type'] == 'Movie'].copy()\n",
    "\n",
    "# Extract numeric duration (e.g., '90 min' → 90)\n",
    "movies['duration_int'] = movies['duration'].str.extract('(\\d+)').astype(float)\n",
    "\n",
    "# Get top 10 longest movies\n",
    "top_movies = movies.nlargest(10, 'duration_int')\n",
    "\n",
    "plt.figure(figsize=(10, 6))\n",
    "sns.barplot(data = top_movies, x = 'duration', y = 'title', palette=\"Set2\", hue='type')\n",
    "plt.title(\"Top 10 Movies And Shows by Duration\")\n",
    "plt.show()"
   ]
  },
  {
   "cell_type": "code",
   "execution_count": 45,
   "id": "217d2aa8",
   "metadata": {},
   "outputs": [
    {
     "data": {
      "image/png": "[encoded data removed]",
      "text/plain": [
       "<Figure size 1200x600 with 1 Axes>"
      ]
     },
     "metadata": {},
     "output_type": "display_data"
    }
   ],
   "source": [
    "plt.figure(figsize=(12,6))\n",
    "sns.countplot(x='rating', data=df)\n",
    "plt.title('Number of Movies and Shows by Rating')\n",
    "plt.show()"
   ]
  },
  {
   "cell_type": "code",
   "execution_count": 46,
   "id": "29a051d5",
   "metadata": {},
   "outputs": [
    {
     "data": {
      "application/vnd.plotly.v1+json": {
       "config": {
        "plotlyServerURL": "https://plot.ly"
       },
       "data": [
        {
         "customdata": [
          [
           "Sankofa"
          ],
          [
           "Je Suis Karl"
          ],
          [
           "King of Boys"
          ],
          [
           "Omo Ghetto: the Saga"
          ],
          [
           "Paradise Hills"
          ],
          [
           "If I Leave Here Tomorrow: A Film About Lynyrd Skynyrd"
          ],
          [
           "El patrón, radiografía de un crimen"
          ],
          [
           "Janoskians: Untold and Untrue"
          ],
          [
           "Love in a Puff"
          ],
          [
           "2 Alone in Paris"
          ],
          [
           "Kyaa Kool Hai Hum"
          ],
          [
           "Kyaa Kool Hain Hum 3"
          ],
          [
           "Kyaa Super Kool Hain Hum"
          ],
          [
           "LSD: Love, Sex Aur Dhokha"
          ],
          [
           "Ragini MMS"
          ],
          [
           "Ragini MMS 2"
          ],
          [
           "Shootout at Lokhandwala"
          ],
          [
           "Really Love"
          ],
          [
           "The Old Ways"
          ],
          [
           "Beckett"
          ],
          [
           "Lokillo: Nothing's the Same"
          ],
          [
           "La diosa del asfalto"
          ],
          [
           "Slay"
          ],
          [
           "Quam's Money"
          ],
          [
           "Esperando la carroza"
          ],
          [
           "Tango Feroz"
          ],
          [
           "Aftermath"
          ],
          [
           "American Masters: Inventing David Geffen"
          ],
          [
           "Ije: The Journey"
          ],
          [
           "Bartkowiak"
          ],
          [
           "Department"
          ],
          [
           "The Operative"
          ],
          [
           "The Last Letter From Your Lover"
          ],
          [
           "Cousins"
          ],
          [
           "Milkwater"
          ],
          [
           "Deep"
          ],
          [
           "A Classic Horror Story"
          ],
          [
           "American Woman"
          ],
          [
           "A Land Imagined"
          ],
          [
           "Return of the Prodigal Son"
          ],
          [
           "Haseen Dillruba"
          ],
          [
           "RattleSnake - The Ahanna Story"
          ],
          [
           "Voiceless"
          ],
          [
           "America: The Motion Picture"
          ],
          [
           "Here Comes the Rain"
          ],
          [
           "Osuofia in London"
          ],
          [
           "#Selfie"
          ],
          [
           "#Selfie 69"
          ],
          [
           "Love Is a Story"
          ],
          [
           "Fan Girl"
          ],
          [
           "Red Snow"
          ],
          [
           "Security"
          ],
          [
           "FTA"
          ],
          [
           "Sir! No Sir!"
          ],
          [
           "The Devil Below"
          ],
          [
           "Blind Intersections"
          ],
          [
           "Camellia Sisters"
          ],
          [
           "Copenhagen"
          ],
          [
           "Awake"
          ],
          [
           "Confusion Na Wa"
          ],
          [
           "Tragic Jungle"
          ],
          [
           "Small Chops"
          ],
          [
           "Xtreme"
          ],
          [
           "Alan Saldaña: Locked Up"
          ],
          [
           "Dancing Queens"
          ],
          [
           "The Girl and the Gun"
          ],
          [
           "A Perfect Ending"
          ],
          [
           "And Then Came Lola"
          ],
          [
           "Carnaval"
          ],
          [
           "Cloudburst"
          ],
          [
           "Dream/Killer"
          ],
          [
           "Then Came You"
          ],
          [
           "Bo Burnham: Inside"
          ],
          [
           "Ghost Lab"
          ],
          [
           "Soy Rada: Serendipity"
          ],
          [
           "The Day I lost My Shadow"
          ],
          [
           "Baggio: The Divine Ponytail"
          ],
          [
           "Ahaan"
          ],
          [
           "Cinema Bandi"
          ],
          [
           "Ferry"
          ],
          [
           "I Am All Girls"
          ],
          [
           "Table Manners"
          ],
          [
           "The Strange House"
          ],
          [
           "Tottaa Pataaka Item Maal"
          ],
          [
           "Dance of the Forty One"
          ],
          [
           "Illegal Woman"
          ],
          [
           "Nayattu"
          ],
          [
           "Have You Ever Seen Fireflies? - Theatre Play"
          ],
          [
           "Monster"
          ],
          [
           "Unrest"
          ],
          [
           "And Tomorrow the Entire World"
          ],
          [
           "Framing John DeLorean"
          ],
          [
           "The Clovehitch Killer"
          ],
          [
           "S.M.A.R.T Chase"
          ],
          [
           "Sitting in Limbo"
          ],
          [
           "The Disciple"
          ],
          [
           "Get the Grift"
          ],
          [
           "Deliha"
          ],
          [
           "Düğün Dernek"
          ],
          [
           "Dügün Dernek 2: Sünnet"
          ],
          [
           "G.O.R.A"
          ],
          [
           "Heroes: Silence and Rock & Roll"
          ],
          [
           "Kara Bela"
          ],
          [
           "Kocan Kadar Konus"
          ],
          [
           "My Travel Buddy"
          ],
          [
           "Niyazi Gül Dörtnala"
          ],
          [
           "Vizontele"
          ],
          [
           "HOMUNCULUS"
          ],
          [
           "Stowaway"
          ],
          [
           "Tell Me When"
          ],
          [
           "Delhi Belly"
          ],
          [
           "Dhobi Ghat (Mumbai Diaries)"
          ],
          [
           "Peepli Live"
          ],
          [
           "Ajeeb Daastaans"
          ],
          [
           "Doctor Bello"
          ],
          [
           "Four Sisters Before the Wedding"
          ],
          [
           "Dark City Beneath the Beat"
          ],
          [
           "GANTZ:O"
          ],
          [
           "Ride or Die"
          ],
          [
           "Time Is Illmatic"
          ],
          [
           "The Soul"
          ],
          [
           "Night in Paradise"
          ],
          [
           "Ojukokoro: Greed"
          ],
          [
           "Two Distant Strangers"
          ],
          [
           "The Fisherman's Diary"
          ],
          [
           "What Lies Below"
          ],
          [
           "God Calling"
          ],
          [
           "Irul"
          ],
          [
           "Just Say Yes"
          ],
          [
           "Madame Claude"
          ],
          [
           "White Boy"
          ],
          [
           "Not a Game"
          ],
          [
           "Croupier"
          ],
          [
           "Ni de coña"
          ],
          [
           "Loyiso Gola: Unlearning"
          ],
          [
           "Any Crybabies Around?"
          ],
          [
           "Hospital"
          ],
          [
           "Who's the Boss"
          ],
          [
           "The Present"
          ],
          [
           "RebellComedy: Straight Outta the Zoo"
          ],
          [
           "Çarsi Pazar"
          ],
          [
           "Paper Lives"
          ],
          [
           "Romantik Komedi"
          ],
          [
           "Romantik Komedi 2: Bekarlığa Veda"
          ],
          [
           "Coven of Sisters"
          ],
          [
           "The Block Island Sound"
          ],
          [
           "Dogwashers"
          ],
          [
           "Sentinelle"
          ],
          [
           "Crazy About Her"
          ],
          [
           "Fuga"
          ],
          [
           "The Girl on the Train"
          ],
          [
           "Tony Manero"
          ],
          [
           "Who Am I"
          ],
          [
           "Classmates Minus"
          ],
          [
           "Eeb Allay Ooo!"
          ],
          [
           "Monsoon"
          ],
          [
           "Hate by Dani Rovira"
          ],
          [
           "Mundina Nildana"
          ],
          [
           "Red Dot"
          ],
          [
           "This Is the Life"
          ],
          [
           "The Misadventures of Hedi and Cokeman"
          ],
          [
           "Blanche Gardin: I talk to myself"
          ],
          [
           "Space Sweepers"
          ],
          [
           "The Last Paradiso"
          ],
          [
           "All My Friends Are Dead"
          ],
          [
           "Black Beach"
          ],
          [
           "Rocks"
          ],
          [
           "Below Zero"
          ],
          [
           "Kilometers and Kilometers"
          ],
          [
           "So My Grandma’s a Lesbian!"
          ],
          [
           "Tribhanga - Tedhi Medhi Crazy"
          ],
          [
           "Tanda Tanya"
          ],
          [
           "Al acecho"
          ],
          [
           "Gangaajal"
          ],
          [
           "Is Love Enough? Sir"
          ],
          [
           "Bad Grandpa .5"
          ],
          [
           "What Happened to Mr. Cha?"
          ],
          [
           "Alaska Is a Drag"
          ],
          [
           "The Rope Curse 2"
          ],
          [
           "Death to 2020"
          ],
          [
           "DNA"
          ],
          [
           "AK vs AK"
          ],
          [
           "Bridezilla"
          ],
          [
           "Your Name Engraved Herein"
          ],
          [
           "London Hughes: To Catch a D*ck"
          ],
          [
           "Ariana grande: excuse me, i love you"
          ],
          [
           "Rhys Nicholson Live at the Athenaeum"
          ],
          [
           "Bwakaw"
          ],
          [
           "Vir Das: Outside In - The Lockdown Special"
          ],
          [
           "Torbaaz"
          ],
          [
           "Funny Boy"
          ],
          [
           "The Panti Sisters"
          ],
          [
           "Kalel, 15"
          ],
          [
           "Christmas Crossfire"
          ],
          [
           "Break"
          ],
          [
           "Just Another Christmas"
          ],
          [
           "Ari Eldjárn: Pardon My Icelandic"
          ],
          [
           "Fierce"
          ],
          [
           "Natalie Palamides: Nate - A One Man Show"
          ],
          [
           "U-Turn"
          ],
          [
           "The 2nd"
          ],
          [
           "Don’t Listen"
          ],
          [
           "The Beast"
          ],
          [
           "The Call"
          ],
          [
           "Mosul"
          ],
          [
           "Notes for My Son"
          ],
          [
           "Shawn Mendes: In Wonder"
          ],
          [
           "Black Friday"
          ],
          [
           "Raman Raghav 2.0"
          ],
          [
           "Kevin Hart: Zero F**ks Given"
          ],
          [
           "First Love"
          ],
          [
           "Ludo"
          ],
          [
           "Memories of a Teenager"
          ],
          [
           "What We Wanted"
          ],
          [
           "Citation"
          ],
          [
           "Girl's Revenge"
          ],
          [
           "The Endless Trench"
          ],
          [
           "A New York Christmas Wedding"
          ],
          [
           "Felix Lobrecht: Hype"
          ],
          [
           "The 12th Man"
          ],
          [
           "Rogue City"
          ],
          [
           "The Day of the Lord"
          ],
          [
           "Holidate"
          ],
          [
           "Nobody Sleeps in the Woods Tonight"
          ],
          [
           "Sarah Cooper: Everything's Fine"
          ],
          [
           "I Am Woman"
          ],
          [
           "Alice Junior"
          ],
          [
           "Cadaver"
          ],
          [
           "Exes Baggage"
          ],
          [
           "Ghadi"
          ],
          [
           "Listen"
          ],
          [
           "Out of Life"
          ],
          [
           "Panoptic"
          ],
          [
           "Taxi Ballad"
          ],
          [
           "The Kite"
          ],
          [
           "Under the Bombs"
          ],
          [
           "West Beirut"
          ],
          [
           "Zozo"
          ],
          [
           "Disconnect"
          ],
          [
           "Hunterrr"
          ],
          [
           "House of the Witch"
          ],
          [
           "Ginny Weds Sunny"
          ],
          [
           "My Step Dad: The Hippie"
          ],
          [
           "Bigflo & Oli: Hip Hop Frenzy"
          ],
          [
           "Palermo Hollywood"
          ],
          [
           "Best Wishes, Warmest Regards: A Schitt's Creek Farewell"
          ],
          [
           "Òlòtūré"
          ],
          [
           "Serious Men"
          ],
          [
           "The Binding"
          ],
          [
           "Turkish Dance School"
          ],
          [
           "You've Got This"
          ],
          [
           "Cold Harbour"
          ],
          [
           "Poacher"
          ],
          [
           "Michelle Buteau: Welcome to Buteaupia"
          ],
          [
           "Golmaal Returns"
          ],
          [
           "High & Low The Movie"
          ],
          [
           "High & Low The Movie 2 / End of Sky"
          ],
          [
           "High & Low The Movie 3 / Final Mission"
          ],
          [
           "High & Low The Red Rain"
          ],
          [
           "Road To High & Low"
          ],
          [
           "The Blue Elephant 2"
          ],
          [
           "Saheb Biwi Aur Gangster Returns"
          ],
          [
           "The Royal Bengal Tiger"
          ],
          [
           "Dolly Kitty Aur Woh Chamakte Sitare"
          ],
          [
           "GIMS: On the Record"
          ],
          [
           "Residue"
          ],
          [
           "The Paramedic"
          ],
          [
           "Michael McIntyre: Showman"
          ],
          [
           "Lara and the Beat"
          ],
          [
           "Kaagar"
          ],
          [
           "Night of Knots"
          ],
          [
           "The Babysitter: Killer Queen"
          ],
          [
           "Cuties"
          ],
          [
           "#Alive"
          ],
          [
           "Toll Booth"
          ],
          [
           "The Lost Okoroshi"
          ],
          [
           "Afonso Padilha: Classless"
          ],
          [
           "Freaks – You're One of Us"
          ],
          [
           "Take the Ball, Pass the Ball"
          ],
          [
           "The Match"
          ],
          [
           "The Debt Collector 2"
          ],
          [
           "Santana"
          ],
          [
           "Unknown Origins"
          ],
          [
           "Edge of Seventeen"
          ],
          [
           "The Bridge Curse"
          ],
          [
           "Lingua Franca"
          ],
          [
           "Making The Witcher"
          ],
          [
           "Dark Forces"
          ],
          [
           "Scarecrow"
          ],
          [
           "Nigerian Prince"
          ],
          [
           "An Easy Girl"
          ],
          [
           "Simon Killer"
          ],
          [
           "Rob Schneider: Asian Momma, Mexican Kids"
          ],
          [
           "Berlin, Berlin: Lolle on the Run"
          ],
          [
           "Sam Jay: 3 In The Morning"
          ],
          [
           "Almost Love"
          ],
          [
           "Raat Akeli Hai"
          ],
          [
           "Seriously Single"
          ],
          [
           "Retablo"
          ],
          [
           "Uma Maheswara Ugra Roopasya"
          ],
          [
           "It's Her Day"
          ],
          [
           "Redemption"
          ],
          [
           "Shine Your Eyes"
          ],
          [
           "The Hater"
          ],
          [
           "Banana Split"
          ],
          [
           "Project Marathwada"
          ],
          [
           "Nimbe"
          ],
          [
           "Offering to the Storm"
          ],
          [
           "Romance Doll"
          ],
          [
           "Ip Man 4: The Finale"
          ],
          [
           "Jack Whitehall: I'm Only Joking"
          ],
          [
           "The Millions"
          ],
          [
           "MILF"
          ],
          [
           "The Players"
          ],
          [
           "Urzila Carlson: Overqualified Loser"
          ],
          [
           "Hole in the Wall"
          ],
          [
           "A Kid from Coney Island"
          ],
          [
           "Bombay Talkies"
          ],
          [
           "Budhia Singh: Born to Run"
          ],
          [
           "Inkaar"
          ],
          [
           "Michael"
          ],
          [
           "Mumbai Delhi Mumbai"
          ],
          [
           "Only"
          ],
          [
           "Pyaar Ka Punchnama 2"
          ],
          [
           "Queen"
          ],
          [
           "Shaitan"
          ],
          [
           "Desperados"
          ],
          [
           "Hunter in the Blue Side of Manchester"
          ],
          [
           "The Perfect Picture: Ten Years Later"
          ],
          [
           "Thiago Ventura: POKAS"
          ],
          [
           "Adú"
          ],
          [
           "Ali Baba ve 7 Cüceler"
          ],
          [
           "David Foster: Off the Record"
          ],
          [
           "Pek Yakında"
          ],
          [
           "The F**k-It List"
          ],
          [
           "Under the Riccione Sun"
          ],
          [
           "George Lopez: We'll Do It For Half"
          ],
          [
           "Skin"
          ],
          [
           "Ordinary People"
          ],
          [
           "Krishna and His Leela"
          ],
          [
           "Bulbbul"
          ],
          [
           "Nobody Knows I'm Here"
          ],
          [
           "Eric Andre: Legalize Everything"
          ],
          [
           "Elevator Baby"
          ],
          [
           "Chaman Bahaar"
          ],
          [
           "Lost Bullet"
          ],
          [
           "One-Way to Tomorrow"
          ],
          [
           "Wasp Network"
          ],
          [
           "Alexandria ... Why?"
          ],
          [
           "Alexandria: Again and Forever"
          ],
          [
           "An Egyptian Story"
          ],
          [
           "Saladin"
          ],
          [
           "Stray Bullet"
          ],
          [
           "The Land"
          ],
          [
           "4th Republic"
          ],
          [
           "Axone"
          ],
          [
           "Jo Koy: In His Elements"
          ],
          [
           "From A to B"
          ],
          [
           "The Witch: Part 1 - The Subversion"
          ],
          [
           "365 Days"
          ],
          [
           "Merry Men 2: Another Mission"
          ],
          [
           "The Last Days of American Crime"
          ],
          [
           "Overnight Republic"
          ],
          [
           "Can’t Complain"
          ],
          [
           "My Horrible Grandma"
          ],
          [
           "122"
          ],
          [
           "Kenny Sebastian: The Most Interesting Person in the Room"
          ],
          [
           "The Other"
          ],
          [
           "Intuition"
          ],
          [
           "I'm No Longer Here"
          ],
          [
           "Hannah Gadsby: Douglas"
          ],
          [
           "Living in Bondage: Breaking Free"
          ],
          [
           "Anchor Baby"
          ],
          [
           "Honeytrap"
          ],
          [
           "Mutiny of the Worker Bees"
          ],
          [
           "What Are the Odds?"
          ],
          [
           "The End"
          ],
          [
           "Heaven Without People"
          ],
          [
           "I love you, stupid"
          ],
          [
           "Malang"
          ],
          [
           "Rencor tatuado"
          ],
          [
           "The Wrong Missy"
          ],
          [
           "Have a Good Trip: Adventures in Psychedelics"
          ],
          [
           "18 Presents"
          ],
          [
           "Cracked Up: The Darrell Hammond Story"
          ],
          [
           "Get In"
          ],
          [
           "Mrs. Serial Killer"
          ],
          [
           "Psycho"
          ],
          [
           "Beynelmilel"
          ],
          [
           "Bir Baba Hindu"
          ],
          [
           "Boushkash"
          ],
          [
           "Görümce"
          ],
          [
           "İstanbul Kırmızısı"
          ],
          [
           "Küçük Esnaf"
          ],
          [
           "Love Aaj Kal"
          ],
          [
           "The Lift Boy"
          ],
          [
           "Bittersweet"
          ],
          [
           "No Direction Home: Bob Dylan"
          ],
          [
           "Yours Sincerely, Kanan Gill"
          ],
          [
           "Time to Hunt"
          ],
          [
           "The Plagues of Breslau"
          ],
          [
           "The Set Up"
          ],
          [
           "The Silence of the Marsh"
          ],
          [
           "Babamın Ceketi"
          ],
          [
           "Earth and Blood"
          ],
          [
           "Rising High"
          ],
          [
           "The Legacy of the Bones"
          ],
          [
           "Alelí"
          ],
          [
           "Maurício Meirelles: Generating Chaos"
          ],
          [
           "World Famous Lover"
          ],
          [
           "Chris D'Elia: No Pain"
          ],
          [
           "Code 8"
          ],
          [
           "Love Wedding Repeat"
          ],
          [
           "School Life"
          ],
          [
           "Born Beautiful"
          ],
          [
           "Tiffany Haddish: She Ready! From the Hood To Hollywood!"
          ],
          [
           "Mine 9"
          ],
          [
           "Dark Light"
          ],
          [
           "Coffee & Kareem"
          ],
          [
           "David Batra: Elefanten i rummet"
          ],
          [
           "SETHUM AAYIRAM PON"
          ],
          [
           "Indian Horse"
          ],
          [
           "Paharganj"
          ],
          [
           "Maska"
          ],
          [
           "The Decline"
          ],
          [
           "Uncorked"
          ],
          [
           "Happy Old Year"
          ],
          [
           "Curtiz"
          ],
          [
           "The Occupant"
          ],
          [
           "Tom Segura: Ball Hog"
          ],
          [
           "Ultras"
          ],
          [
           "Altered Carbon: Resleeved"
          ],
          [
           "Bert Kreischer: Hey Big Boy"
          ],
          [
           "Jai Mummy Di"
          ],
          [
           "Justine"
          ],
          [
           "Marc Maron: End Times Fun"
          ],
          [
           "All About Love"
          ],
          [
           "Guilty"
          ],
          [
           "I am Jonas"
          ],
          [
           "Miles Davis: Birth of the Cool"
          ],
          [
           "Twin Murders: the Silence of the White City"
          ],
          [
           "Tootsies & The Fake"
          ],
          [
           "Aurora"
          ],
          [
           "Lil Peep: Everybody’s Everything"
          ],
          [
           "Taylor Tomlinson: Quarter-Life Crisis"
          ],
          [
           "Uncovered"
          ],
          [
           "Fat Ballerina - David A. Arnold"
          ],
          [
           "Frank & Lola"
          ],
          [
           "Voulez-vous rire avec moi ce soir?"
          ],
          [
           "All The Bright Places"
          ],
          [
           "Gbomo Gbomo Express"
          ],
          [
           "Taxi Driver"
          ],
          [
           "The Arbitration"
          ],
          [
           "Pete Davidson: Alive From New York"
          ],
          [
           "Girl on the Third Floor"
          ],
          [
           "System Crasher"
          ],
          [
           "Yeh Ballet"
          ],
          [
           "Miss Virginia"
          ],
          [
           "Cuddle Weather"
          ],
          [
           "Fanatyk"
          ],
          [
           "Isi & Ossi"
          ],
          [
           "Fronteras"
          ],
          [
           "The Coldest Game"
          ],
          [
           "Uppity: The Willy T. Ribbs Story"
          ],
          [
           "The Silent War"
          ],
          [
           "Chronically Metropolitan"
          ],
          [
           "The Car: Road to Revenge"
          ],
          [
           "37 Seconds"
          ],
          [
           "Gang of the Caribbean"
          ],
          [
           "Miss Americana"
          ],
          [
           "Kevin Hart: I'm a Grown Little Man"
          ],
          [
           "Close Enemies"
          ],
          [
           "Vir Das: For India"
          ],
          [
           "A Sun"
          ],
          [
           "Die Ontwaking"
          ],
          [
           "Alex Fernández: The Best Comedian in the World"
          ],
          [
           "Whisky"
          ],
          [
           "Fortune Feimster: Sweet & Salty"
          ],
          [
           "A Fall from Grace"
          ],
          [
           "Jezebel"
          ],
          [
           "Eye For An Eye"
          ],
          [
           "The Brave"
          ],
          [
           "Leslie Jones: Time Machine"
          ],
          [
           "Women of Mafia 2"
          ],
          [
           "Made in China"
          ],
          [
           "Bulletproof 2"
          ],
          [
           "Live Twice, Love Once"
          ],
          [
           "Ghost Stories"
          ],
          [
           "Jeff Dunham: Unhinged in Hollywood"
          ],
          [
           "Posesif"
          ],
          [
           "Albert Pinto Ko Gussa Kyun Aata Hai?"
          ],
          [
           "How High 2"
          ],
          [
           "Hot Gimmick: Girl Meets Boy"
          ],
          [
           "Blitz Patrollie"
          ],
          [
           "The App"
          ],
          [
           "Ronny Chieng: Asian Comedian Destroys America!"
          ],
          [
           "Sincerely Yours, Dhaka"
          ],
          [
           "Dil Dhadakne Do"
          ],
          [
           "Potato Potahto"
          ],
          [
           "A Trip to Jamaica"
          ],
          [
           "My Wife and I"
          ],
          [
           "The 9th Precinct"
          ],
          [
           "Jack Whitehall: Christmas with My Father"
          ],
          [
           "The Sky Is Pink"
          ],
          [
           "Michelle Wolf: Joke Show"
          ],
          [
           "No Game No Life: Zero"
          ],
          [
           "Slow Country"
          ],
          [
           "Tiffany Haddish: Black Mitzvah"
          ],
          [
           "Dead Kids"
          ],
          [
           "Wandering Stars"
          ],
          [
           "Why Me?"
          ],
          [
           "Crazy people"
          ],
          [
           "I Lost My Body"
          ],
          [
           "Kalushi: The Story of Solomon Mahlangu"
          ],
          [
           "Payday"
          ],
          [
           "The Accidental Spy"
          ],
          [
           "The Body Remembers When the World Broke Open"
          ],
          [
           "Mike Birbiglia: The New One"
          ],
          [
           "Brother"
          ],
          [
           "Girls und Panzer der Film"
          ],
          [
           "Shelby American"
          ],
          [
           "Bikram: Yogi, Guru, Predator"
          ],
          [
           "Iliza Shlesinger: Unveiled"
          ],
          [
           "Jeff Dunham: All Over the Map"
          ],
          [
           "Guna 369"
          ],
          [
           "Fadily Camara : La plus drôle de tes copines"
          ],
          [
           "Jeff Garlin: Our Man In Chicago"
          ],
          [
           "Paradise Beach"
          ],
          [
           "Burning Cane"
          ],
          [
           "Seth Meyers: Lobby Baby"
          ],
          [
           "Tune in for Love"
          ],
          [
           "Oththa Seruppu Size 7"
          ],
          [
           "A Remarkable Tale"
          ],
          [
           "American Son"
          ],
          [
           "Christmas Survival"
          ],
          [
           "The Man Without Gravity"
          ],
          [
           "Zoé: Panoramas"
          ],
          [
           "Grego Rossello: Disculpe las molestias"
          ],
          [
           "Mehandi Circus"
          ],
          [
           "Arsenio Hall: Smart & Classy"
          ],
          [
           "Consequences"
          ],
          [
           "Rattlesnake"
          ],
          [
           "The Awakening of Motti Wolkenbruch"
          ],
          [
           "Jenny Slate: Stage Fright"
          ],
          [
           "Eli"
          ],
          [
           "Seventeen"
          ],
          [
           "Tatu"
          ],
          [
           "Park Na-rae: Glamour Warning"
          ],
          [
           "The Game Changers"
          ],
          [
           "Street Flow"
          ],
          [
           "Bygones Be Bygones"
          ],
          [
           "El Camino: A Breaking Bad Movie"
          ],
          [
           "Fractured"
          ],
          [
           "The Forest of Love"
          ],
          [
           "The Influence"
          ],
          [
           "Deon Cole: Cole Hearted"
          ],
          [
           "Noblemen"
          ],
          [
           "Brother in Love"
          ],
          [
           "In the Tall Grass"
          ],
          [
           "Ready to Mingle"
          ],
          [
           "Nikki Glaser: Bangin’"
          ],
          [
           "Mo Gilligan: Momentum"
          ],
          [
           "In the Shadow of the Moon"
          ],
          [
           "Jeff Dunham: Beside Himself"
          ],
          [
           "Manmadhudu 2"
          ],
          [
           "Under the Eiffel Tower"
          ],
          [
           "Do Paise Ki Dhoop Chaar Aane Ki Baarish"
          ],
          [
           "Between Two Ferns: The Movie"
          ],
          [
           "Travel Mates 2"
          ],
          [
           "Kabir Singh"
          ],
          [
           "Avengement"
          ],
          [
           "Sebastian Maniscalco: What's Wrong with People?"
          ],
          [
           "Hello, Privilege. It's Me, Chelsea"
          ],
          [
           "Bill Burr: Paper Tiger"
          ],
          [
           "Article 15"
          ],
          [
           "Care of Kancharapalem"
          ],
          [
           "Olmo & the Seagull"
          ],
          [
           "Feo pero sabroso"
          ],
          [
           "Unbridled"
          ],
          [
           "Travis Scott: Look Mom I Can Fly"
          ],
          [
           "Dave Chappelle: Sticks & Stones"
          ],
          [
           "Drink Drank Drunk"
          ],
          [
           "Game Over (Tamil Version)"
          ],
          [
           "The Girl Allergic to Wi-Fi"
          ],
          [
           "Simon Amstell: Set Free"
          ],
          [
           "The Little Switzerland"
          ],
          [
           "Whindersson Nunes: Adult"
          ],
          [
           "90 ML"
          ],
          [
           "Calum von Moger: Unbroken"
          ],
          [
           "Jaoon Kahan Bata Ae Dil"
          ],
          [
           "Theo Von: No Offense"
          ],
          [
           "I'm Brent Morin"
          ],
          [
           "Jim Jefferies : BARE"
          ],
          [
           "Sebastian Maniscalco: Why Would You Do That"
          ],
          [
           "Enter the Anime"
          ],
          [
           "No One Will Ever Know"
          ],
          [
           "The Red Sea Diving Resort"
          ],
          [
           "Boi"
          ],
          [
           "Girls With Balls"
          ],
          [
           "The Son"
          ],
          [
           "D.L. Hughley: Contrarian"
          ],
          [
           "Demetri Martin: The Overthinker"
          ],
          [
           "Twins Mission"
          ],
          [
           "¡Ay, mi madre!"
          ],
          [
           "4L"
          ],
          [
           "Cities of Last Things"
          ],
          [
           "Kidnapping Stella"
          ],
          [
           "Point Blank"
          ],
          [
           "Aziz Ansari: RIGHT NOW"
          ],
          [
           "Katherine Ryan: Glitter Room"
          ],
          [
           "Inhuman Kiss"
          ],
          [
           "Super Deluxe"
          ],
          [
           "La Leyenda del Diamante"
          ],
          [
           "Daniel Sosa: Maleducado"
          ],
          [
           "Mike Epps: Only One Mike"
          ],
          [
           "Blood Will Tell"
          ],
          [
           "EVANGELION: DEATH (TRUE)²"
          ],
          [
           "The End of Evangelion"
          ],
          [
           "Rakkhosh"
          ],
          [
           "Beats"
          ],
          [
           "Adam Devine: Best Time of Our Lives"
          ],
          [
           "Right Here Right Now"
          ],
          [
           "The 3rd Eye 2"
          ],
          [
           "Jo Koy: Comin' In Hot"
          ],
          [
           "Rolling Thunder Revue: A Bob Dylan Story by Martin Scorsese"
          ],
          [
           "Belmonte"
          ],
          [
           "Elisa & Marcela"
          ],
          [
           "Stree"
          ],
          [
           "The Black Godfather"
          ],
          [
           "Alles ist gut"
          ],
          [
           "Cosmos Laundromat: First Cycle"
          ],
          [
           "III Smoking Barrels"
          ],
          [
           "Oh, Ramona!"
          ],
          [
           "Chopsticks"
          ],
          [
           "Mere Pyare Prime Minister"
          ],
          [
           "Pegasus"
          ],
          [
           "Svaha: The Sixth Finger"
          ],
          [
           "Joy"
          ],
          [
           "The Perfection"
          ],
          [
           "Wanda Sykes: Not Normal"
          ],
          [
           "Maria"
          ],
          [
           "Saverio Raimondo: Il Satiro Parlante"
          ],
          [
           "See You Yesterday"
          ],
          [
           "Jonaki"
          ],
          [
           "Hamid"
          ],
          [
           "Dry Martina"
          ],
          [
           "Shéhérazade"
          ],
          [
           "In Family I Trust"
          ],
          [
           "Gatao 2: Rise of the King"
          ],
          [
           "The Wandering Earth"
          ],
          [
           "Despite Everything"
          ],
          [
           "Jo Pil-ho: The Dawning Rage"
          ],
          [
           "John & Yoko: Above Us Only Sky"
          ],
          [
           "Munafik 2"
          ],
          [
           "A Home with A View"
          ],
          [
           "Anthony Jeselnik: Fire in the Maternity Ward"
          ],
          [
           "Teen Aur Aadha"
          ],
          [
           "Loving is Losing"
          ],
          [
           "Money Trap"
          ],
          [
           "A Fortunate Man"
          ],
          [
           "The Ruthless"
          ],
          [
           "Franco Escamilla: Bienvenido al mundo"
          ],
          [
           "Bollywood Calling"
          ],
          [
           "Hazaaron Khwaishein Aisi"
          ],
          [
           "Thriller"
          ],
          [
           "Who Would You Take to a Deserted Island?"
          ],
          [
           "Dabbe 5: Zehr-i Cin"
          ],
          [
           "Dabbe: The Possession"
          ],
          [
           "Alien Warfare"
          ],
          [
           "Suzzanna: Buried Alive"
          ],
          [
           "Jagat"
          ],
          [
           "Kevin Hart: Irresponsible"
          ],
          [
           "Pinky Memsaab"
          ],
          [
           "The Trap"
          ],
          [
           "Bayonet"
          ],
          [
           "Danur: I Can See Ghosts"
          ],
          [
           "Superlopez"
          ],
          [
           "Oversize Cops"
          ],
          [
           "Mirage"
          ],
          [
           "The Dirt"
          ],
          [
           "The Third Party"
          ],
          [
           "The Unmarried Wife"
          ],
          [
           "Alexis Viera: A Story of Surviving"
          ],
          [
           "Amy Schumer Growing"
          ],
          [
           "Bombairiya"
          ],
          [
           "Burn Out"
          ],
          [
           "Edoardo Ferrario: Temi Caldi"
          ],
          [
           "Jeff Dunham: Arguing with Myself"
          ],
          [
           "Jeff Dunham: Controlled Chaos"
          ],
          [
           "Jeff Dunham: Minding the Monsters"
          ],
          [
           "Jeff Dunham's Very Special Christmas Special"
          ],
          [
           "Everything About Her"
          ],
          [
           "Seven Sundays"
          ],
          [
           "Juanita"
          ],
          [
           "Lady J"
          ],
          [
           "Nappily Ever After"
          ],
          [
           "That Thing Called Tadhana"
          ],
          [
           "The Love Affair"
          ],
          [
           "The Hard Way"
          ],
          [
           "No Other Woman"
          ],
          [
           "River's Edge"
          ],
          [
           "2,215"
          ],
          [
           "Budapest"
          ],
          [
           "The Last Runway"
          ],
          [
           "Your Son"
          ],
          [
           "Quién te cantará"
          ],
          [
           "A Second Chance"
          ],
          [
           "The Breakup Playlist"
          ],
          [
           "The Mistress"
          ],
          [
           "Zach Galifianakis: Live at the Purple Onion"
          ],
          [
           "The Photographer Of Mauthausen"
          ],
          [
           "Bert Kreischer: The Machine"
          ],
          [
           "Firebrand"
          ],
          [
           "Paddleton"
          ],
          [
           "Paris Is Us"
          ],
          [
           "The Drug King"
          ],
          [
           "Transformer"
          ],
          [
           "Awe"
          ],
          [
           "Ayana"
          ],
          [
           "Buddies"
          ],
          [
           "Candyflip"
          ],
          [
           "Pyaar Ke Side Effects"
          ],
          [
           "The Breaker Upperers"
          ],
          [
           "Yucatán"
          ],
          [
           "Ken Jeong: You Complete Me, Ho"
          ],
          [
           "High Flying Bird"
          ],
          [
           "ReMastered: The Two Killings of Sam Cooke"
          ],
          [
           "The Tree of Blood"
          ],
          [
           "Ray Romano: Right Here, Around the Corner"
          ],
          [
           "Await Further Instructions"
          ],
          [
           "Dear Ex"
          ],
          [
           "Love Off the Cuff"
          ],
          [
           "High Society"
          ],
          [
           "Up Among  The Stars"
          ],
          [
           "Nathicharami"
          ],
          [
           "Goyo: The Boy General"
          ],
          [
           "Animas"
          ],
          [
           "Mi Obra Maestra"
          ],
          [
           "Just Love"
          ],
          [
           "Patria"
          ],
          [
           "Soni"
          ],
          [
           "Pandigai"
          ],
          [
           "Revenger"
          ],
          [
           "Sebastian Maniscalco: Stay Hungry"
          ],
          [
           "The Doll"
          ],
          [
           "The Doll 2"
          ],
          [
           "Baazaar"
          ],
          [
           "All of You"
          ],
          [
           "Solo"
          ],
          [
           "The Last Laugh"
          ],
          [
           "Nang Nak"
          ],
          [
           "Merku Thodarchi Malai"
          ],
          [
           "Moshe Kasher: Live in Oakland"
          ],
          [
           "Puriyatha Puthir"
          ],
          [
           "Taramani"
          ],
          [
           "Whitney Cummings: Money Shot"
          ],
          [
           "Bill Hicks: One Night Stand"
          ],
          [
           "Bill Hicks: Relentless"
          ],
          [
           "Bill Hicks: Revelations"
          ],
          [
           "Bill Hicks: Sane Man"
          ],
          [
           "Sam Kinison: Breaking the Rules"
          ],
          [
           "Sam Kinison: Family Entertainment Hour"
          ],
          [
           "Sam Kinison: Live in Vegas"
          ],
          [
           "Tim Allen: Men Are Pigs"
          ],
          [
           "Tim Minchin And The Heritage Orchestra Live"
          ],
          [
           "Tim Minchin: So F**king Rock"
          ],
          [
           "Todd Glass: Stand-Up Special"
          ],
          [
           "A Twelve Year Night"
          ],
          [
           "Life Ki Toh Lag Gayi"
          ],
          [
           "When Angels Sleep"
          ],
          [
           "Bad Seeds"
          ],
          [
           "Imperfect"
          ],
          [
           "Lang Tong"
          ],
          [
           "Miss J Contemplates Her Choice"
          ],
          [
           "Ascharyachakit!"
          ],
          [
           "Lilli"
          ],
          [
           "Springsteen on Broadway"
          ],
          [
           "Once in a Lifetime Sessions with Kasabian"
          ],
          [
           "Once in a Lifetime Sessions with Snow Patrol"
          ],
          [
           "Vanjagar Ulagam"
          ],
          [
           "Vir Das: Losing It"
          ],
          [
           "The American Meme"
          ],
          [
           "Accident"
          ],
          [
           "Battle"
          ],
          [
           "Blind Detective"
          ],
          [
           "Line Walker"
          ],
          [
           "Once a Gangster"
          ],
          [
           "Power Paandi"
          ],
          [
           "SDU: Sex Duties Unit"
          ],
          [
           "Set Off"
          ],
          [
           "El club de los insomnes"
          ],
          [
           "Manto"
          ],
          [
           "Rajma Chawal"
          ],
          [
           "The World Is Yours"
          ],
          [
           "Time Share"
          ],
          [
           "The Tribe"
          ],
          [
           "Sabrina"
          ],
          [
           "Trevor Noah: Son of Patricia"
          ],
          [
           "Cam"
          ],
          [
           "Nothing to Hide"
          ],
          [
           "May the Devil Take You"
          ],
          [
           "BuyBust"
          ],
          [
           "Lommbock"
          ],
          [
           "Ana e Vitória"
          ],
          [
           "They’ll Love Me When I’m Dead"
          ],
          [
           "Edge of Fear"
          ],
          [
           "Edmilson Filho: Notas, Comedy about Relationships"
          ],
          [
           "Ghanchakkar"
          ],
          [
           "Heroine"
          ],
          [
           "Kai Po Che!"
          ],
          [
           "Katt Williams: The Pimp Chronicles: Pt. 1"
          ],
          [
           "Marc Maron: Thinky Pain"
          ],
          [
           "Mumbai Meri Jaan"
          ],
          [
           "No One Killed Jessica"
          ],
          [
           "Sommore: The Reign Continues"
          ],
          [
           "The Untold Tales of Armistead Maupin"
          ],
          [
           "Vaya"
          ],
          [
           "Gun City"
          ],
          [
           "Jefe"
          ],
          [
           "W/O Ram"
          ],
          [
           "Ronnie Coleman: The King"
          ],
          [
           "ADAM SANDLER 100% FRESH"
          ],
          [
           "How to Get Over a Breakup"
          ],
          [
           "Club de Cuervos Presents: I, Potro"
          ],
          [
           "Illang: The Wolf Brigade"
          ],
          [
           "S Storm"
          ],
          [
           "The Night Comes for Us"
          ],
          [
           "Mr. Chandramouli"
          ],
          [
           "Ron White: If You Quit Listening, I'll Shut Up"
          ],
          [
           "Meghnadbodh Rohoshyo"
          ],
          [
           "Sanju"
          ],
          [
           "Apostle"
          ],
          [
           "Errementari: The Blacksmith and the Devil"
          ],
          [
           "Mo Amer: The Vagabond"
          ],
          [
           "Malevolent"
          ],
          [
           "Truth or Dare"
          ],
          [
           "Eric ldle's What About Dick?"
          ],
          [
           "Monty Python Live (Mostly): One Down, Five to Go"
          ],
          [
           "Monty Python: Before the Flying Circus"
          ],
          [
           "Monty Python: The Meaning of Live"
          ],
          [
           "Dev.D"
          ],
          [
           "My Suicide"
          ],
          [
           "Udaan"
          ],
          [
           "Paradise Lost"
          ],
          [
           "Animal World"
          ],
          [
           "Hold the Dark"
          ],
          [
           "The 3rd Eye"
          ],
          [
           "In Darkness"
          ],
          [
           "Quincy"
          ],
          [
           "The Angel"
          ],
          [
           "The Land of Steady Habits"
          ],
          [
           "On My Skin"
          ],
          [
           "The Resistance Banker"
          ],
          [
           "The Most Assassinated Woman in the World"
          ],
          [
           "The Debt Collector"
          ],
          [
           "Carbon"
          ],
          [
           "Garbage"
          ],
          [
           "Love and Shukla"
          ],
          [
           "Sparring"
          ],
          [
           "The Laws of Thermodynamics"
          ],
          [
           "Maria Bamford: The Special Special Special"
          ],
          [
           "One Last Shot"
          ],
          [
           "The After Party"
          ],
          [
           "The Motive"
          ],
          [
           "Yoo Byung Jae: Discomfort Zone"
          ],
          [
           "For Here or to Go?"
          ],
          [
           "The Package"
          ],
          [
           "Perdida"
          ],
          [
           "Brij Mohan Amar Rahe"
          ],
          [
           "Like Father"
          ],
          [
           "7 Khoon Maaf"
          ],
          [
           "Fashion"
          ],
          [
           "Haider"
          ],
          [
           "Being Napoleon"
          ],
          [
           "Invisible"
          ],
          [
           "The Mansion"
          ],
          [
           "Coco y Raulito: Carrusel de ternura"
          ],
          [
           "Extinction"
          ],
          [
           "Iliza Shlesinger: Elder Millennial"
          ],
          [
           "The Warning"
          ],
          [
           "How It Ends"
          ],
          [
           "Jim Jefferies: This Is Me Now"
          ],
          [
           "Romina"
          ],
          [
           "The Skin of the Wolf"
          ],
          [
           "Sommore: Chandelier Status"
          ],
          [
           "Felipe Esparza: They're Not Going to Laugh at You"
          ],
          [
           "Joan Rivers: Don't Start with Me"
          ],
          [
           "Katt Williams: Kattpacalypse"
          ],
          [
           "Bo Burnham: what."
          ],
          [
           "Duck Butter"
          ],
          [
           "Zoo"
          ],
          [
           "Bill Burr: You People Are All the Same"
          ],
          [
           "The Maus"
          ],
          [
           "Calibre"
          ],
          [
           "Jani Dueñas: Grandes fracasos de ayer y hoy"
          ],
          [
           "W. Kamau Bell: Private School Negro"
          ],
          [
           "Expelled from Paradise"
          ],
          [
           "To Each, Her Own"
          ],
          [
           "Us and Them"
          ],
          [
           "Hannah Gadsby: Nanette"
          ],
          [
           "Lust Stories"
          ],
          [
           "Maktub"
          ],
          [
           "Set It Up"
          ],
          [
           "The last hour"
          ],
          [
           "Alex Strangelove"
          ],
          [
           "Ali's Wedding"
          ],
          [
           "Franco Escamilla: Por la anécdota"
          ],
          [
           "Bad Genius"
          ],
          [
           "Outside In"
          ],
          [
           "Pedal the World"
          ],
          [
           "Sara's Notebook"
          ],
          [
           "Fernando Sanjiao: Hombre"
          ],
          [
           "Ibiza"
          ],
          [
           "Catching Feelings"
          ],
          [
           "Katt Williams: American Hustle (The Movie)"
          ],
          [
           "Aiyaary"
          ],
          [
           "Ali Wong: Hard Knock Wife"
          ],
          [
           "Spivak"
          ],
          [
           "Carlos Ballarta: Furia Ñera"
          ],
          [
           "Hari Kondabolu: Warn Your Relatives"
          ],
          [
           "Family Blood"
          ],
          [
           "Anon"
          ],
          [
           "Dany Boon: Des Hauts De France"
          ],
          [
           "Forgive Us Our Debts"
          ],
          [
           "Manhunt"
          ],
          [
           "Thi Mai"
          ],
          [
           "Si saben cómo me pongo ¿pá qué me invitan?"
          ],
          [
           "Jailbreak"
          ],
          [
           "Ajji"
          ],
          [
           "Darc"
          ],
          [
           "Despido Procedente"
          ],
          [
           "John Mulaney: Kid Gorgeous at Radio City"
          ],
          [
           "Toc Toc"
          ],
          [
           "The Price of Success"
          ],
          [
           "Holy Goalie"
          ],
          [
           "Enissa Amani: Ehrenwort"
          ],
          [
           "Psychokinesis"
          ],
          [
           "Dude"
          ],
          [
           "Kodachrome"
          ],
          [
           "All The Reasons To Forget"
          ],
          [
           "I Am not an Easy Man"
          ],
          [
           "Pickpockets"
          ],
          [
           "Greg Davies: You Magnificent Beast"
          ],
          [
           "6 Balloons"
          ],
          [
           "Amateur"
          ],
          [
           "Seth Rogen's Hilarity for Charity"
          ],
          [
           "Sun Dogs"
          ],
          [
           "Todo lo que sería Lucas Lauriente"
          ],
          [
           "Fary Is the New Black"
          ],
          [
           "Ittefaq"
          ],
          [
           "John Mulaney: New in Town"
          ],
          [
           "First Match"
          ],
          [
           "Happy Anniversary"
          ],
          [
           "Sofía Niño de Rivera: Selección Natural"
          ],
          [
           "The Titan"
          ],
          [
           "Birdshot"
          ],
          [
           "Game Over, Man!"
          ],
          [
           "Layla M."
          ],
          [
           "Paradox"
          ],
          [
           "Roxanne Roxanne"
          ],
          [
           "Jag älskar dig: En skilsmässokomedi"
          ],
          [
           "The Art of Loving"
          ],
          [
           "Steel Rain"
          ],
          [
           "Ricky Gervais: Humanity"
          ],
          [
           "The Outsider"
          ],
          [
           "Malena Pichot: Estupidez compleja"
          ],
          [
           "Natalia Valdebenito: El especial"
          ],
          [
           "Ravenous"
          ],
          [
           "Battle Drone"
          ],
          [
           "Something Huge"
          ],
          [
           "Swearnet Live"
          ],
          [
           "Trailer Park Boys Live at the North Pole"
          ],
          [
           "Trailer Park Boys Live In F**kin' Dublin"
          ],
          [
           "Trailer Park Boys: Say Goodnight to the Bad Guys"
          ],
          [
           "Trailer Park Boys: Xmas Special"
          ],
          [
           "반드시 잡는다"
          ],
          [
           "Marlon Wayans: Woke-ish"
          ],
          [
           "Veronica"
          ],
          [
           "Mute"
          ],
          [
           "Forgotten"
          ],
          [
           "Agustín Aristarán: Soy Rada"
          ],
          [
           "Irreplaceable You"
          ],
          [
           "Chris Rock: Tamborine"
          ],
          [
           "The Ritual"
          ],
          [
           "On Body and Soul"
          ],
          [
           "Newness"
          ],
          [
           "Holy Camp!"
          ],
          [
           "A Futile and Stupid Gesture"
          ],
          [
           "Fakkah Fuzz: Almost Banned"
          ],
          [
           "Sebastián Marcelo Wainraich"
          ],
          [
           "Ricardo Quevedo: Hay gente así"
          ],
          [
           "Todd Glass: Act Happy"
          ],
          [
           "The Open House"
          ],
          [
           "Bad Day for the Cut"
          ],
          [
           "Arango y Sanint: Ríase el show"
          ],
          [
           "Tom Segura: Disgraceful"
          ],
          [
           "The House Next Door"
          ],
          [
           "Mr. Roosevelt"
          ],
          [
           "Todd Barry: Spicy Honey"
          ],
          [
           "Creep 2"
          ],
          [
           "Bright"
          ],
          [
           "Desire"
          ],
          [
           "Russell Howard: Recalibrate"
          ],
          [
           "Muramba"
          ],
          [
           "Seoul Searching"
          ],
          [
           "Judd Apatow: The Return"
          ],
          [
           "El Camino Christmas"
          ],
          [
           "Craig Ferguson: Tickle Fight"
          ],
          [
           "Jab Harry Met Sejal"
          ],
          [
           "Temple"
          ],
          [
           "The Worthy"
          ],
          [
           "Voyeur"
          ],
          [
           "The Girl from the Song"
          ],
          [
           "Jim & Andy: The Great Beyond - Featuring a Very Special, Contractually Obligated Mention of Tony Clifton"
          ],
          [
           "DeRay Davis: How to Act Black"
          ],
          [
           "Bon Cop Bad Cop 2"
          ],
          [
           "Mea Culpa"
          ],
          [
           "The Killer"
          ],
          [
           "Getaway Plan"
          ],
          [
           "The Bittersweet"
          ],
          [
           "Judah Friedlander: America Is the Greatest Country in the United States"
          ],
          [
           "Jack Whitehall: At Large"
          ],
          [
           "1922"
          ],
          [
           "Wheelman"
          ],
          [
           "Wedding Unplanned"
          ],
          [
           "Patton Oswalt: Annihilation"
          ],
          [
           "Belief: The Possession of Janet Moses"
          ],
          [
           "Clair Obscur"
          ],
          [
           "El Especial de Alex Fernández, el Especial"
          ],
          [
           "The Babysitter"
          ],
          [
           "The Meyerowitz Stories (New and Selected)"
          ],
          [
           "Barakah Meets Barakah"
          ],
          [
           "Bomb Scared"
          ],
          [
           "Christina P: Mother Inferior"
          ],
          [
           "Rodney Carrington: Here Comes the Truth"
          ],
          [
           "26 Years"
          ],
          [
           "For Your Own Good"
          ],
          [
           "Verónica"
          ],
          [
           "Gerald's Game"
          ],
          [
           "Much Loved"
          ],
          [
           "Def Comedy Jam 25"
          ],
          [
           "The Bar"
          ],
          [
           "Gaga: Five Foot Two"
          ],
          [
           "First They Killed My Father"
          ],
          [
           "Jeff Dunham: Relative Disaster"
          ],
          [
           "Fabrizio Copano: Solo pienso en mi"
          ],
          [
           "Carrie Pilby"
          ],
          [
           "Marc Maron: Too Real"
          ],
          [
           "Berserk: The Golden Age Arc II - The Battle for Doldrey"
          ],
          [
           "Berserk: The Golden Age Arc III - The Advent"
          ],
          [
           "Brother's Shadow"
          ],
          [
           "Little Evil"
          ],
          [
           "Offline - Das leben ist kein bonuslevel"
          ],
          [
           "Rocco"
          ],
          [
           "The Distinguished Citizen"
          ],
          [
           "The Lost Brother"
          ],
          [
           "Todo Sobre El Asado"
          ],
          [
           "Buster's Mal Heart"
          ],
          [
           "Death Note"
          ],
          [
           "Lynne Koplitz: Hormonal Beast"
          ],
          [
           "What Happened to Monday"
          ],
          [
           "Brad Paisley's Comedy Rodeo"
          ],
          [
           "Colin Quinn: Unconstitutional"
          ],
          [
           "Chocolate City: Vegas Strip"
          ],
          [
           "Los Herederos"
          ],
          [
           "Baahubali 2: The Conclusion (Hindi Version)"
          ],
          [
           "Alan Saldaña: Mi vida de pobre"
          ],
          [
           "Icarus"
          ],
          [
           "The Invisible Guardian"
          ],
          [
           "Handsome Devil"
          ],
          [
           "Opening Night"
          ],
          [
           "The Blind Christ"
          ],
          [
           "Un plus une"
          ],
          [
           "The Incredible Jessica James"
          ],
          [
           "Joe Mande’s Award-Winning Comedy Special"
          ],
          [
           "Aditi Mittal: Things They Wouldn't Let Me Say"
          ],
          [
           "Uncertain Glory"
          ],
          [
           "Amar"
          ],
          [
           "To the Bone"
          ],
          [
           "D.L. Hughley: Clear"
          ],
          [
           "Tom Segura: Completely Normal"
          ],
          [
           "Take Me"
          ],
          [
           "Hans Teeuwen: Real Rancour"
          ],
          [
           "Liar's Dice"
          ],
          [
           "Okja"
          ],
          [
           "Chris D'Elia: Man on Fire"
          ],
          [
           "I Am Michael"
          ],
          [
           "You Get Me"
          ],
          [
           "Rory Scovel Tries Stand-Up for the First Time"
          ],
          [
           "Marco Luque: Tamo Junto"
          ],
          [
           "Oh, Hello On Broadway"
          ],
          [
           "Shimmer Lake"
          ],
          [
           "Headshot"
          ],
          [
           "Lucid Dream"
          ],
          [
           "Catfight"
          ],
          [
           "Lens"
          ],
          [
           "Little Boxes"
          ],
          [
           "Love.com"
          ],
          [
           "Sarah Silverman A Speck of Dust"
          ],
          [
           "War Machine"
          ],
          [
           "Arès"
          ],
          [
           "Laerte-se"
          ],
          [
           "Tracy Morgan: Staying Alive"
          ],
          [
           "Lovesong"
          ],
          [
           "The Devil's Mistress"
          ],
          [
           "Get Me Roger Stone"
          ],
          [
           "Mindhorn"
          ],
          [
           "Norm Macdonald: Hitler's Dog, Gossip & Trickery"
          ],
          [
           "Handsome: A Netflix Mystery Movie"
          ],
          [
           "Simplemente Manu NNa"
          ],
          [
           "Maria Bamford: Old Baby"
          ],
          [
           "A Yellow Bird"
          ],
          [
           "He Even Has Your Eyes"
          ],
          [
           "In the Shadow of Iris"
          ],
          [
           "Kiss & Cry"
          ],
          [
           "Loev"
          ],
          [
           "Mostly Sunny"
          ],
          [
           "The Next Skin"
          ],
          [
           "Rodney King"
          ],
          [
           "Small Crimes"
          ],
          [
           "The 101-Year-Old Man Who Skipped Out on the Bill and Disappeared"
          ],
          [
           "Vir Das: Abroad Understanding"
          ],
          [
           "Sand Castle"
          ],
          [
           "Tramps"
          ],
          [
           "Lucas Brothers: On Drugs"
          ],
          [
           "Slam"
          ],
          [
           "Our Lovers"
          ],
          [
           "Macho"
          ],
          [
           "Frat Star"
          ],
          [
           "The Lighthouse of the Orcas"
          ],
          [
           "Win It All"
          ],
          [
           "Couples Counseling"
          ],
          [
           "Deuces"
          ],
          [
           "Five Nights in Maine"
          ],
          [
           "Skins"
          ],
          [
           "The Tenth Man"
          ],
          [
           "Toro"
          ],
          [
           "The Discovery"
          ],
          [
           "Jo Koy: Live from Seattle"
          ],
          [
           "Felipe Neto: My Life Makes No Sense"
          ],
          [
           "The Most Hated Woman in America"
          ],
          [
           "Best Worst Thing That Ever Could Have Happened"
          ],
          [
           "Pandora"
          ],
          [
           "Bon Cop, Bad Cop"
          ],
          [
           "Jim Norton: Mouthful of Shame"
          ],
          [
           "100 Meters"
          ],
          [
           "Burning Sands"
          ],
          [
           "Amy Schumer: The Leather Special"
          ],
          [
           "Nila"
          ],
          [
           "Mike Birbiglia: Thank God for Jokes"
          ],
          [
           "Jonas"
          ],
          [
           "Operações Especiais"
          ],
          [
           "I Don't Feel at Home in This World Anymore"
          ],
          [
           "Boy Missing"
          ],
          [
           "Rocky Handsome"
          ],
          [
           "A Heavy Heart"
          ],
          [
           "The Fury of a Patient Man"
          ],
          [
           "The Memory of Water"
          ],
          [
           "Girlfriend's Day"
          ],
          [
           "Katherine Ryan: In Trouble"
          ],
          [
           "David Brent: Life on the Road"
          ],
          [
           "Michael Bolton's Big, Sexy Valentine's Day Special"
          ],
          [
           "Daniel Sosa: Sosafado"
          ],
          [
           "Imperial Dreams"
          ],
          [
           "Heroes Wanted"
          ],
          [
           "The Reconquest"
          ],
          [
           "Bill Burr: Walk Your Way Out"
          ],
          [
           "Semana Santa"
          ],
          [
           "IBOY"
          ],
          [
           "O Silêncio do Céu"
          ],
          [
           "Cristela Alonzo: Lower Classy"
          ],
          [
           "Gad Gone Wild"
          ],
          [
           "Take the 10"
          ],
          [
           "Neal Brennan: 3 Mics"
          ],
          [
           "Berlin Calling"
          ],
          [
           "Stereo"
          ],
          [
           "We Are Young. We Are Strong."
          ],
          [
           "Clinical"
          ],
          [
           "Very Big Shot"
          ],
          [
           "Rampage: President Down"
          ],
          [
           "Jen Kirkman: Just Keep Livin’?"
          ],
          [
           "Autohead"
          ],
          [
           "Headwinds"
          ],
          [
           "Udta Punjab"
          ],
          [
           "Mr. Pig"
          ],
          [
           "7:19"
          ],
          [
           "Garfunkel and Oates: Trying to be Special"
          ],
          [
           "Barry"
          ],
          [
           "Sister Cities"
          ],
          [
           "3 Türken & ein Baby"
          ],
          [
           "Eddie - Strongman"
          ],
          [
           "Ricardo O'Farrill: Abrazo navideño"
          ],
          [
           "Asperger's Are Us"
          ],
          [
           "Other People"
          ],
          [
           "Blue Jay"
          ],
          [
           "Reggie Watts: Spatial"
          ],
          [
           "Mercenary"
          ],
          [
           "White Girl"
          ],
          [
           "Interrogation"
          ],
          [
           "Rainbow Time"
          ],
          [
           "Richard Pryor: Live in Concert"
          ],
          [
           "Beauties of the Night"
          ],
          [
           "Michael Che Matters"
          ],
          [
           "Mercy"
          ],
          [
           "Carlos Ballarta: El amor es de putos"
          ],
          [
           "Donald Glover: Weirdo"
          ],
          [
           "Colin Quinn: The New York Story"
          ],
          [
           "Divines"
          ],
          [
           "Dieter Nuhr: Nuhr in Berlin"
          ],
          [
           "Mumbai Cha Raja"
          ],
          [
           "Kathleen Madigan: Bothering Jesus"
          ],
          [
           "Dana Carvey: Straight White Male, 60"
          ],
          [
           "Norman Lear: Just Another Version of You"
          ],
          [
           "Spanish Affair 2"
          ],
          [
           "They Are Everywhere"
          ],
          [
           "West Coast"
          ],
          [
           "7 años"
          ],
          [
           "Joe Rogan: Triggered"
          ],
          [
           "A Mighty Team"
          ],
          [
           "Berserk: The Golden Age Arc I - The Egg of the King"
          ],
          [
           "Sky Ladder: The Art of Cai Guo-Qiang"
          ],
          [
           "Mascots"
          ],
          [
           "Justin Timberlake + the Tennessee Kids"
          ],
          [
           "Russell Peters: Almost Famous"
          ],
          [
           "The Siege of Jadotville"
          ],
          [
           "Bombshell"
          ],
          [
           "Chatô: The King of Brazil"
          ],
          [
           "Harud"
          ],
          [
           "Much Ado About Nothing"
          ],
          [
           "My Big Night"
          ],
          [
           "Umrika"
          ],
          [
           "Unchained: The Untold Story of Freestyle Motocross"
          ],
          [
           "Welcome Mr. President"
          ],
          [
           "Iliza Shlesinger: Confirmed Kills"
          ],
          [
           "ARQ"
          ],
          [
           "Cedric the Entertainer: Live from the Ville"
          ],
          [
           "XOXO"
          ],
          [
           "I'll Sleep When I'm Dead"
          ],
          [
           "David Cross: Making America Great Again!"
          ],
          [
           "Lavell Crawford: Can a Brother Get Some Love?"
          ],
          [
           "Interview with a Serial Killer"
          ],
          [
           "Tallulah"
          ],
          [
           "Rebirth"
          ],
          [
           "Tony Robbins: I Am Not Your Guru"
          ],
          [
           "Brahman Naman"
          ],
          [
           "Jim Jefferies: Freedumb"
          ],
          [
           "X: Past Is Present"
          ],
          [
           "Sofía Niño de Rivera: Exposed"
          ],
          [
           "The Fundamentals of Caring"
          ],
          [
           "Bo Burnham: Make Happy"
          ],
          [
           "The Do-Over"
          ],
          [
           "Ali Wong: Baby Cobra"
          ],
          [
           "Special Correspondents"
          ],
          [
           "Belgica"
          ],
          [
           "Jimmy Carr: Funny Business"
          ],
          [
           "Hannibal Buress: Comedy Camisado"
          ],
          [
           "Ricardo O'Farrill Abrazo Genial"
          ],
          [
           "Tom Segura: Mostly Stories"
          ],
          [
           "Marco Polo: One Hundred Eyes"
          ],
          [
           "Mike Epps: Don't Take It Personal"
          ],
          [
           "Trailer Park Boys: Drunk, High and Unemployed: Live in Austin"
          ],
          [
           "Naomi and Ely's No Kiss List"
          ],
          [
           "John Mulaney: The Comeback Kid"
          ],
          [
           "Manson Family Vacation"
          ],
          [
           "Anthony Jeselnik: Thoughts and Prayers"
          ],
          [
           "Beasts of No Nation"
          ],
          [
           "Circle"
          ],
          [
           "6 Years"
          ],
          [
           "Demetri Martin: Live (At the Time)"
          ],
          [
           "Chris Tucker Live"
          ],
          [
           "Ralphie May: Imperfectly Yours"
          ],
          [
           "Advantageous"
          ],
          [
           "The Perfect Dictatorship"
          ],
          [
           "Jen Kirkman: I'm Gonna Die Alone (And I Feel Fine)"
          ],
          [
           "Chris D'Elia: Incorrigible"
          ],
          [
           "Aziz Ansari Live at Madison Square Garden"
          ],
          [
           "My Own Man"
          ],
          [
           "Ralphie May: Unruly"
          ],
          [
           "Bill Burr: I'm Sorry You Feel That Way"
          ],
          [
           "Chelsea Peretti: One of the Greats"
          ],
          [
           "Wyatt Cenac: Brooklyn"
          ],
          [
           "Chelsea Handler: Uganda Be Kidding Me Live"
          ],
          [
           "The Battered Bastards of Baseball"
          ],
          [
           "The Square"
          ],
          [
           "Aziz Ansari: Buried Alive"
          ],
          [
           "Adam: His Song Continues"
          ],
          [
           "Too Young the Hero"
          ],
          [
           "Even the Rain"
          ],
          [
           "Splatter"
          ],
          [
           "Just Another Love Story"
          ],
          [
           "To and From New York"
          ],
          [
           "1920"
          ],
          [
           "Ég man þig"
          ],
          [
           "Çok Filim Hareketler Bunlar"
          ],
          [
           "12 ROUND GUN"
          ],
          [
           "14 Cameras"
          ],
          [
           "1BR"
          ],
          [
           "1st Summoning"
          ],
          [
           "2307: Winter's Dream"
          ],
          [
           "27, el club de los malditos"
          ],
          [
           "27: Gone Too Soon"
          ],
          [
           "42 Grams"
          ],
          [
           "6-5=2"
          ],
          [
           "A Noble Intention"
          ],
          [
           "A Patch of Fog"
          ],
          [
           "A Scandall"
          ],
          [
           "A Wednesday"
          ],
          [
           "A.M.I."
          ],
          [
           "Aşk Tesadüfleri Sever"
          ],
          [
           "Aadu 2"
          ],
          [
           "Abzurdah"
          ],
          [
           "Acapulco La vida va"
          ],
          [
           "Across The Line"
          ],
          [
           "Afterschool"
          ],
          [
           "Agatha and the Truth of Murder"
          ],
          [
           "Alejandro Sanz: What I Was Is What I Am"
          ],
          [
           "All Good Ones Get Away"
          ],
          [
           "All Light Will End"
          ],
          [
           "Amar Akbar & Tony"
          ],
          [
           "American Anarchist"
          ],
          [
           "American Experience: Ruby Ridge"
          ],
          [
           "American Hangman"
          ],
          [
           "American Masters: Ted Williams"
          ],
          [
           "American Warfighter"
          ],
          [
           "An Upper Egyptian"
          ],
          [
           "Anarkali of Aarah"
          ],
          [
           "Anchor and Hope"
          ],
          [
           "Angry Indian Goddesses"
          ],
          [
           "Antar: Son of Shadad"
          ],
          [
           "Antidote"
          ],
          [
           "Assimilate"
          ],
          [
           "At All Costs"
          ],
          [
           "Avicii: True Stories"
          ],
          [
           "Backfire"
          ],
          [
           "Bad Match"
          ],
          [
           "Bad Rap"
          ],
          [
           "Balu Mahi"
          ],
          [
           "Bang Rajan 2"
          ],
          [
           "Bangkok Hell"
          ],
          [
           "Barça Dreams"
          ],
          [
           "Be Here Now"
          ],
          [
           "Behind the Curtain: Todrick Hall"
          ],
          [
           "Beiimaan Love"
          ],
          [
           "Below Her Mouth"
          ],
          [
           "Beneath the Leaves"
          ],
          [
           "Bhoot"
          ],
          [
           "Big Bear"
          ],
          [
           "Big Time"
          ],
          [
           "Bilu Rakkhosh"
          ],
          [
           "Birthmarked"
          ],
          [
           "Black & Privileged: Volume 1"
          ],
          [
           "Black Site Delta"
          ],
          [
           "Black Snow"
          ],
          [
           "Blockbuster"
          ],
          [
           "Bob Lazar: Area 51 & Flying Saucers"
          ],
          [
           "Bobbi Jene"
          ],
          [
           "Bon Bini Holland"
          ],
          [
           "Boom"
          ],
          [
           "Born Strong"
          ],
          [
           "Bottom of the World"
          ],
          [
           "Boy Bye"
          ],
          [
           "Brampton's Own"
          ],
          [
           "Brave New Jersey"
          ],
          [
           "Breaking Free"
          ],
          [
           "Breath"
          ],
          [
           "Brotherhood of Blades II: The Infernal Battlefield"
          ],
          [
           "Buffalo Boys"
          ],
          [
           "Bullitt County"
          ],
          [
           "Burning"
          ],
          [
           "Bushwick"
          ],
          [
           "Caida del Cielo"
          ],
          [
           "Cake"
          ],
          [
           "Camera Store"
          ],
          [
           "Cardboard Gangsters"
          ],
          [
           "Casino Tycoon"
          ],
          [
           "Casino Tycoon 2"
          ],
          [
           "Cave"
          ],
          [
           "Chasing the Dragon"
          ],
          [
           "Chief Daddy"
          ],
          [
           "China Salesman"
          ],
          [
           "Chris Brown: Welcome to My Life"
          ],
          [
           "City of Tiny Lights"
          ],
          [
           "Clarence Clemons: Who Do I Think I Am?"
          ],
          [
           "Class Rank"
          ],
          [
           "Clive Davis: The Soundtrack of Our Lives"
          ],
          [
           "Company"
          ],
          [
           "Compulsion"
          ],
          [
           "Conjuring Spirit"
          ],
          [
           "Consequences "
          ],
          [
           "CRD"
          ],
          [
           "Dabbe 6: The Return"
          ],
          [
           "Daddy Issues"
          ],
          [
           "Dagh Ujala"
          ],
          [
           "Dancing Quietly"
          ],
          [
           "Danny Says"
          ],
          [
           "Dark Chocolate (Bengali Version)"
          ],
          [
           "Darna Mana Hai"
          ],
          [
           "Dayveon"
          ],
          [
           "Dead in a Week (Or Your Money Back)"
          ],
          [
           "Deathgrip"
          ],
          [
           "Deewangee"
          ],
          [
           "Desolation"
          ],
          [
           "Devil's Bride"
          ],
          [
           "Devil's Gate"
          ],
          [
           "Discovering Bigfoot"
          ],
          [
           "Dog Eat Dog"
          ],
          [
           "Don't Crack Under Pressure"
          ],
          [
           "Don't Crack Under Pressure II"
          ],
          [
           "Don't Look Down"
          ],
          [
           "Eddie Murphy: Delirious"
          ],
          [
           "Ek Hasina Thi"
          ],
          [
           "Elephants Dream 4 Hour"
          ],
          [
           "Emelie"
          ],
          [
           "Emo the Musical"
          ],
          [
           "Entanglement"
          ],
          [
           "Escape from the \"Liberty\" Cinema"
          ],
          [
           "Every Time I Die"
          ],
          [
           "Eyyvah Eyyvah"
          ],
          [
           "F the Prom"
          ],
          [
           "Face 2 Face"
          ],
          [
           "Familiye"
          ],
          [
           "Farce"
          ],
          [
           "Feel Rich"
          ],
          [
           "Filmworker"
          ],
          [
           "Fireflies"
          ],
          [
           "FirstBorn"
          ],
          [
           "Flock of Four"
          ],
          [
           "Flying Guillotine 2"
          ],
          [
           "Follow Me"
          ],
          [
           "For Love or Money"
          ],
          [
           "For the Birds"
          ],
          [
           "Freak Show"
          ],
          [
           "Freezer's Campaign"
          ],
          [
           "French Dirty"
          ],
          [
           "Furie"
          ],
          [
           "Furthest Witness"
          ],
          [
           "Gabriel and the Mountain"
          ],
          [
           "Gehenna: Where Death Lives"
          ],
          [
           "Gelo"
          ],
          [
           "Ghost House"
          ],
          [
           "Ghost Pain"
          ],
          [
           "Ghost Tears"
          ],
          [
           "Ghulam-E-Musthafa"
          ],
          [
           "God's Own Country"
          ],
          [
           "Goldie"
          ],
          [
           "Good Kisser"
          ],
          [
           "Good Luck"
          ],
          [
           "Gook"
          ],
          [
           "Grand Masti"
          ],
          [
           "Grass"
          ],
          [
           "Green White Green (And All the Beautiful Colours in My Mosaic of Madness)"
          ],
          [
           "Héroes"
          ],
          [
           "Hükümet Kadin"
          ],
          [
           "Happy Hunting"
          ],
          [
           "Hard Tide"
          ],
          [
           "Haunting on Fraternity Row"
          ],
          [
           "Have You Seen the Listers?"
          ],
          [
           "Havenhurst"
          ],
          [
           "Head Count"
          ],
          [
           "Head On"
          ],
          [
           "Heartthrob"
          ],
          [
           "Here Alone"
          ],
          [
           "Hero"
          ],
          [
           "Hickok"
          ],
          [
           "Hisss"
          ],
          [
           "Hokkabaz"
          ],
          [
           "Holding the Man"
          ],
          [
           "Holidays"
          ],
          [
           "Holy Man 3"
          ],
          [
           "Hot Property"
          ],
          [
           "Hotel Pacific"
          ],
          [
           "Hungerford"
          ],
          [
           "Hurricane Bianca"
          ],
          [
           "Hurricane Bianca: From Russia With Hate"
          ],
          [
           "Hypersomnia"
          ],
          [
           "I Am"
          ],
          [
           "Ice Guardians"
          ],
          [
           "Incoming"
          ],
          [
           "Incomplete"
          ],
          [
           "Indiscretion"
          ],
          [
           "Inxeba"
          ],
          [
           "Issaq"
          ],
          [
           "It's Now or Never"
          ],
          [
           "Jealousy and medicine"
          ],
          [
           "Jewel's Catch One"
          ],
          [
           "John Day"
          ],
          [
           "Jonathan"
          ],
          [
           "Jora 10 Numbaria"
          ],
          [
           "Kabali (Hindi Version)"
          ],
          [
           "Kaleidoscope"
          ],
          [
           "Kevin Hart: Seriously Funny"
          ],
          [
           "Kevyn Aucoin: Beauty & the Beast in Me"
          ],
          [
           "Kickboxer: Vengeance"
          ],
          [
           "Kill Command"
          ],
          [
           "Kill Ratio"
          ],
          [
           "Kills on Wheels"
          ],
          [
           "Kraftidioten"
          ],
          [
           "Kuldip Patwal: I Didn't Do It!"
          ],
          [
           "Kurtulus Son Durak"
          ],
          [
           "Kygo: Live at the Hollywood Bowl"
          ],
          [
           "La Última Fiesta"
          ],
          [
           "La Coppia dei Campioni"
          ],
          [
           "Laddaland"
          ],
          [
           "Lalbaug Parel: Zali Mumbai Sonyachi"
          ],
          [
           "Last Ferry"
          ],
          [
           "Lechmi"
          ],
          [
           "Legend of the Naga Pearls"
          ],
          [
           "Lifechanger"
          ],
          [
           "Loco Love"
          ],
          [
           "Love Dot Com: The Social Experiment"
          ],
          [
           "Love In A Puff"
          ],
          [
           "Love Shot"
          ],
          [
           "Loving Annabelle"
          ],
          [
           "Lusers"
          ],
          [
           "Macchli Jal Ki Rani Hai"
          ],
          [
           "Mad World"
          ],
          [
           "Maddman: The Steve Madden Story"
          ],
          [
           "Madre"
          ],
          [
           "Malicious"
          ],
          [
           "Mandi"
          ],
          [
           "Manolo: The Boy Who Made Shoes for Lizards"
          ],
          [
           "Mantostaan"
          ],
          [
           "Mara"
          ],
          [
           "Maroon"
          ],
          [
           "Mater"
          ],
          [
           "May We Chat"
          ],
          [
           "Me and the Alien"
          ],
          [
           "Medium"
          ],
          [
           "Memoir of a Murderer"
          ],
          [
           "Menorca"
          ],
          [
           "Merry Men: The Real Yoruba Demons"
          ],
          [
           "Mirzya"
          ],
          [
           "Miss Sharon Jones!"
          ],
          [
           "Mission of Honor"
          ],
          [
           "Moh Maya Money"
          ],
          [
           "Mohawk"
          ],
          [
           "Monopoly (The Bank Of Luck)"
          ],
          [
           "My Ex-Ex"
          ],
          [
           "My Scientology Movie"
          ],
          [
           "My True Friend"
          ],
          [
           "Nails"
          ],
          [
           "Natalia Valdebenito: Gritona"
          ],
          [
           "Night Comes On"
          ],
          [
           "No Estoy Loca"
          ],
          [
           "Now More Than Ever: The History of Chicago"
          ],
          [
           "Nymphomaniac: Volume II"
          ],
          [
           "Off Course"
          ],
          [
           "Oh My Ghost 2"
          ],
          [
           "Oh My Ghost 3"
          ],
          [
           "Omar and Salma 3"
          ],
          [
           "Once In A Lifetime Sessions with Noel Gallagher"
          ],
          [
           "Once Upon a Time in London"
          ],
          [
           "One Last Thing"
          ],
          [
           "One Night Stand"
          ],
          [
           "Only the Dead"
          ],
          [
           "Operation Mekong"
          ],
          [
           "Operation Red Sea"
          ],
          [
           "Operator"
          ],
          [
           "Opium and the Kung Fu Master"
          ],
          [
           "OtherLife"
          ],
          [
           "Our Godfather"
          ],
          [
           "Outlawed"
          ],
          [
           "P"
          ],
          [
           "Pahuyut Fighting Beat"
          ],
          [
           "Palm Trees in the Snow"
          ],
          [
           "Paper Year"
          ],
          [
           "Patron Mutlu Son Istiyor"
          ],
          [
           "Pee Mak"
          ],
          [
           "Pekak"
          ],
          [
           "People You May Know"
          ],
          [
           "Perfect Bid: The Contestant Who Knew Too Much"
          ],
          [
           "Peter and the Farm"
          ],
          [
           "Phobia 2"
          ],
          [
           "Pierre Jackson"
          ],
          [
           "Pitaah"
          ],
          [
           "Pizza, birra, faso"
          ],
          [
           "Plaire, aimer et courir vite"
          ],
          [
           "Planetarium"
          ],
          [
           "Porto"
          ],
          [
           "Postcards from London"
          ],
          [
           "Prague"
          ],
          [
           "Princess Cyd"
          ],
          [
           "Professor Mack"
          ],
          [
           "Prosecuting Evil: The Extraordinary World of Ben Ferencz"
          ],
          [
           "Rampant"
          ],
          [
           "Ranbhool"
          ],
          [
           "Recall"
          ],
          [
           "Red Christmas"
          ],
          [
           "Regatta"
          ],
          [
           "Residente"
          ],
          [
           "Restless Creature: Wendy Whelan"
          ],
          [
           "Rise of the Zombie"
          ],
          [
           "Rivaaz"
          ],
          [
           "Roh's Beauty"
          ],
          [
           "Room for Rent"
          ],
          [
           "Rukh"
          ],
          [
           "Rumble"
          ],
          [
           "Sadece Sen"
          ],
          [
           "Saeed Mirza: The Leftist Sufi"
          ],
          [
           "Saheb Bibi Golaam"
          ],
          [
           "Samantaral"
          ],
          [
           "Satan & Adam"
          ],
          [
           "Saturday Church"
          ],
          [
           "Savage Dog"
          ],
          [
           "Savage Raghda"
          ],
          [
           "Seal Team Six: The Raid on Osama Bin Laden"
          ],
          [
           "Septiembre, un llanto en silencio"
          ],
          [
           "SGT. Will Gardner"
          ],
          [
           "Shakti: The Power"
          ],
          [
           "Shiva"
          ],
          [
           "SHOT! The Psycho-Spiritual Mantra of Rock"
          ],
          [
           "Shutter"
          ],
          [
           "Sicilian Ghost Story"
          ],
          [
           "Silencer"
          ],
          [
           "Sinister Circle"
          ],
          [
           "Siren"
          ],
          [
           "Sky on Fire"
          ],
          [
           "Soekarno"
          ],
          [
           "Some Freaks"
          ],
          [
           "Soul to Keep"
          ],
          [
           "Sprinter"
          ],
          [
           "Spy Time"
          ],
          [
           "St. Agatha"
          ],
          [
           "Starred Up"
          ],
          [
           "Still"
          ],
          [
           "Straight Up"
          ],
          [
           "Submission"
          ],
          [
           "Suckseed"
          ],
          [
           "Suicide (Hitabdut)"
          ],
          [
           "Suite Française"
          ],
          [
           "Summer Night"
          ],
          [
           "Summer of '92"
          ],
          [
           "Sunrise"
          ],
          [
           "Super Dark Times"
          ],
          [
           "Survivors Guide to Prison"
          ],
          [
           "Susanne Bartsch: On Top"
          ],
          [
           "Sword Master"
          ],
          [
           "Tamanchey"
          ],
          [
           "Tarif de nuit"
          ],
          [
           "Teenage Cocktail"
          ],
          [
           "Temporada de Caza"
          ],
          [
           "Ten Years"
          ],
          [
           "Terrifier"
          ],
          [
           "Tezz"
          ],
          [
           "The 4th Company"
          ],
          [
           "The Aerial"
          ],
          [
           "The Age of Shadows"
          ],
          [
           "The Apostate"
          ],
          [
           "The Bad Education Movie"
          ],
          [
           "The Basement"
          ],
          [
           "The Bill Murray Stories: Life Lessons Learned From a Mythical Man"
          ],
          [
           "The Black Room"
          ],
          [
           "The Boss's Daughter"
          ],
          [
           "The Brawler"
          ],
          [
           "The Bygone"
          ],
          [
           "The Carter Effect"
          ],
          [
           "The Cell"
          ],
          [
           "The Chord"
          ],
          [
           "The Chosen Ones"
          ],
          [
           "The Congress"
          ],
          [
           "The Dancer"
          ],
          [
           "The Dark Side of Life: Mumbai City"
          ],
          [
           "The Daughter"
          ],
          [
           "The Dawn Wall"
          ],
          [
           "The Diabolical"
          ],
          [
           "The Drowning"
          ],
          [
           "The Eichmann Show"
          ],
          [
           "The Endless"
          ],
          [
           "The Evil Dead"
          ],
          [
           "The Feels"
          ],
          [
           "The First Temptation of Christ"
          ],
          [
           "The Flying Guillotine"
          ],
          [
           "The Forgotten"
          ],
          [
           "The Ghost Who Walks"
          ],
          [
           "The Golem"
          ],
          [
           "The Good Neighbor"
          ],
          [
           "The Heretics"
          ],
          [
           "The Heroes of Evil"
          ],
          [
           "The Heyday of the Insensitive Bastards"
          ],
          [
           "The Incident"
          ],
          [
           "The Intent"
          ],
          [
           "The Intent 2: The Come Up"
          ],
          [
           "The Invitation"
          ],
          [
           "The Land of the Enlightened"
          ],
          [
           "The Last Hangover"
          ],
          [
           "The Mayor"
          ],
          [
           "The Model"
          ],
          [
           "The Monster of Mangatiti"
          ],
          [
           "The New Romantic"
          ],
          [
           "The Plan"
          ],
          [
           "The Player"
          ],
          [
           "The President's Barber"
          ],
          [
           "The Prison"
          ],
          [
           "The Push"
          ],
          [
           "The Rebound"
          ],
          [
           "The Rehearsal"
          ],
          [
           "The Rezort"
          ],
          [
           "The Rift: The Dark Side of the Moon"
          ],
          [
           "The Rolling Stones: Olé Olé Olé! A Trip Across Latin America"
          ],
          [
           "The Shaukeens"
          ],
          [
           "The Show"
          ],
          [
           "The spiral"
          ],
          [
           "The Trip to Spain"
          ],
          [
           "The Unborn Child"
          ],
          [
           "The Unknown Girl"
          ],
          [
           "The Workshop"
          ],
          [
           "The Young Offenders"
          ],
          [
           "Thithi"
          ],
          [
           "Thong Dee Fun Khao"
          ],
          [
           "Three"
          ],
          [
           "Thumper"
          ],
          [
           "Tikli and Laxmi Bomb"
          ],
          [
           "Traffic Signal"
          ],
          [
           "Train of the Dead"
          ],
          [
           "Train to Busan"
          ],
          [
           "Trip to Bhangarh: Asia's Most Haunted Place"
          ],
          [
           "Trixie Mattel: Moving Parts"
          ],
          [
           "Troy: The Odyssey"
          ],
          [
           "Twinsanity"
          ],
          [
           "Two Graves"
          ],
          [
           "Urvi"
          ],
          [
           "VS."
          ],
          [
           "Waar"
          ],
          [
           "Waiting"
          ],
          [
           "We Need to Talk"
          ],
          [
           "We're No Animals"
          ],
          [
           "Weather forecast"
          ],
          [
           "Weeds on Fire"
          ],
          [
           "Welcome 2 Karachi"
          ],
          [
           "Welcome to Willits"
          ],
          [
           "Westerplatte Resists"
          ],
          [
           "White Chamber"
          ],
          [
           "White Island"
          ],
          [
           "Who the F**k Is That Guy?"
          ],
          [
           "Withdrawn"
          ],
          [
           "Would You Rather"
          ],
          [
           "Wrong Side Raju"
          ],
          [
           "Y.M.I.: Yeh Mera India"
          ],
          [
           "You Carry Me"
          ],
          [
           "Zed Plus"
          ],
          [
           "Zinzana"
          ]
         ],
         "hovertemplate": "rating=TV-MA<br>release_year=%{x}<br>duration_int=%{y}<br>title=%{customdata[0]}<extra></extra>",
         "legendgroup": "TV-MA",
         "marker": {
          "color": "#636efa",
          "symbol": "circle"
         },
         "mode": "markers",
         "name": "TV-MA",
         "showlegend": true,
         "type": "scattergl",
         "x": [
          1993,
          2021,
          2018,
          2020,
          2019,
          2018,
          2014,
          2016,
          2010,
          2008,
          2005,
          2016,
          2012,
          2010,
          2011,
          2014,
          2007,
          2020,
          2020,
          2021,
          2021,
          2020,
          2021,
          2020,
          1985,
          1993,
          2021,
          2012,
          2010,
          2021,
          2012,
          2019,
          2021,
          2021,
          2020,
          2021,
          2021,
          2019,
          2019,
          1976,
          2021,
          2020,
          2020,
          2021,
          2010,
          2003,
          2014,
          2016,
          2015,
          2020,
          2019,
          2021,
          1972,
          2005,
          2021,
          2012,
          2021,
          2014,
          2021,
          2013,
          2021,
          2020,
          2021,
          2021,
          2021,
          2019,
          2012,
          2009,
          2021,
          2011,
          2015,
          2019,
          2021,
          2021,
          2021,
          2018,
          2021,
          2021,
          2021,
          2021,
          2021,
          2018,
          2020,
          2018,
          2021,
          2020,
          2021,
          1999,
          2021,
          2017,
          2020,
          2019,
          2018,
          2018,
          2020,
          2021,
          2021,
          2014,
          2013,
          2015,
          2004,
          2021,
          2015,
          2015,
          2017,
          2015,
          2001,
          2021,
          2021,
          2021,
          2011,
          2010,
          2010,
          2021,
          2013,
          2020,
          2020,
          2016,
          2021,
          2014,
          2021,
          2021,
          2016,
          2021,
          2020,
          2020,
          2018,
          2021,
          2021,
          2021,
          2017,
          2020,
          1998,
          2020,
          2021,
          2020,
          2020,
          2020,
          2020,
          2021,
          2015,
          2021,
          2010,
          2013,
          2021,
          2020,
          2021,
          2021,
          2021,
          2006,
          2021,
          2008,
          2014,
          2020,
          2019,
          2020,
          2021,
          2019,
          2021,
          2008,
          2021,
          2017,
          2021,
          2020,
          2020,
          2020,
          2019,
          2021,
          2020,
          2020,
          2021,
          2011,
          2019,
          2003,
          2018,
          2014,
          2021,
          2017,
          2020,
          2020,
          2020,
          2020,
          2019,
          2020,
          2020,
          2020,
          2020,
          2012,
          2020,
          2020,
          2020,
          2019,
          2019,
          2020,
          2018,
          2020,
          2020,
          2020,
          2020,
          2020,
          2020,
          2020,
          2020,
          2020,
          2020,
          2020,
          2020,
          2004,
          2016,
          2020,
          2018,
          2020,
          2019,
          2020,
          2020,
          2020,
          2019,
          2020,
          2020,
          2018,
          2020,
          2020,
          2020,
          2020,
          2020,
          2019,
          2019,
          2020,
          2018,
          2013,
          2017,
          1991,
          2017,
          2012,
          2003,
          2007,
          1999,
          2005,
          2018,
          2015,
          2017,
          2020,
          2018,
          2020,
          2004,
          2020,
          2020,
          2020,
          2020,
          2017,
          2020,
          2013,
          2018,
          2020,
          2008,
          2016,
          2017,
          2017,
          2016,
          2016,
          2019,
          2013,
          2014,
          2020,
          2020,
          2020,
          2020,
          2020,
          2018,
          2019,
          2018,
          2020,
          2020,
          2020,
          2010,
          2019,
          2020,
          2020,
          2018,
          2020,
          2020,
          2020,
          2020,
          1998,
          2020,
          2019,
          2020,
          2020,
          2019,
          2018,
          2019,
          2012,
          2020,
          2020,
          2020,
          2020,
          2020,
          2020,
          2017,
          2020,
          2016,
          2019,
          2020,
          2020,
          2020,
          2016,
          2019,
          2020,
          2020,
          2019,
          2020,
          2019,
          2018,
          2020,
          2020,
          2016,
          2019,
          2013,
          2016,
          2013,
          2011,
          2014,
          2019,
          2015,
          2014,
          2011,
          2020,
          2020,
          2019,
          2020,
          2020,
          2015,
          2019,
          2014,
          2019,
          2020,
          2020,
          2019,
          2016,
          2020,
          2020,
          2020,
          2020,
          2019,
          2020,
          2020,
          2020,
          2020,
          1979,
          1989,
          1982,
          1963,
          2010,
          1970,
          2019,
          2020,
          2020,
          2014,
          2018,
          2020,
          2019,
          2020,
          2017,
          2007,
          2012,
          2019,
          2020,
          1999,
          2020,
          2019,
          2020,
          2019,
          2010,
          2014,
          2020,
          2020,
          2019,
          2017,
          2019,
          2020,
          2018,
          2020,
          2020,
          2020,
          2018,
          2019,
          2020,
          2020,
          2006,
          2016,
          2008,
          2016,
          2017,
          2016,
          2020,
          2020,
          2010,
          2005,
          2020,
          2020,
          2018,
          2019,
          2019,
          2018,
          2020,
          2020,
          2019,
          2019,
          2020,
          2020,
          2020,
          2019,
          2020,
          2019,
          2019,
          2017,
          2019,
          2019,
          2020,
          2020,
          2020,
          2017,
          2019,
          2020,
          2020,
          2020,
          2019,
          2018,
          2020,
          2020,
          2020,
          2020,
          2020,
          2020,
          2019,
          2020,
          2017,
          2020,
          2019,
          2019,
          2020,
          2019,
          2010,
          2019,
          2020,
          2019,
          2020,
          2016,
          2018,
          2020,
          2015,
          2015,
          2016,
          2020,
          2019,
          2020,
          2020,
          2019,
          2019,
          2017,
          2020,
          2018,
          2019,
          2020,
          2020,
          2016,
          2019,
          2020,
          2016,
          2020,
          2009,
          2018,
          2020,
          2019,
          2015,
          2020,
          2004,
          2020,
          2020,
          2019,
          2019,
          2019,
          2020,
          2019,
          2019,
          2020,
          2020,
          2020,
          2015,
          2017,
          2019,
          2019,
          2019,
          2013,
          2019,
          2019,
          2018,
          2015,
          2017,
          2016,
          2017,
          2019,
          2019,
          2019,
          2019,
          2017,
          2017,
          2019,
          2019,
          2019,
          2015,
          2018,
          2019,
          2016,
          2018,
          2017,
          2019,
          2019,
          2019,
          2015,
          2019,
          2019,
          2019,
          2014,
          2019,
          2019,
          2019,
          2019,
          2019,
          2019,
          2019,
          2019,
          2019,
          2019,
          2018,
          2019,
          2016,
          2019,
          2019,
          2019,
          2014,
          2019,
          2018,
          2019,
          2019,
          2019,
          2017,
          2019,
          2018,
          2019,
          2017,
          2019,
          2019,
          2019,
          2019,
          2019,
          2019,
          2019,
          2019,
          2019,
          2019,
          2019,
          2019,
          2019,
          2019,
          2018,
          2009,
          2019,
          2018,
          2019,
          2019,
          2012,
          2019,
          2019,
          2019,
          2018,
          2014,
          2018,
          2018,
          2019,
          2019,
          2016,
          2019,
          2018,
          2019,
          2019,
          2019,
          2019,
          2019,
          2018,
          2016,
          2015,
          2014,
          2016,
          2019,
          2017,
          2019,
          2018,
          2019,
          2019,
          2018,
          2018,
          2007,
          2019,
          2019,
          2018,
          2019,
          2019,
          2019,
          2019,
          2019,
          2019,
          2017,
          2019,
          2019,
          2019,
          1998,
          1997,
          2019,
          2019,
          2019,
          2018,
          2019,
          2019,
          2019,
          2018,
          2019,
          2018,
          2019,
          2019,
          2015,
          2017,
          2019,
          2019,
          2019,
          2019,
          2019,
          2019,
          2019,
          2019,
          2019,
          2019,
          2019,
          2018,
          2018,
          2018,
          2019,
          2018,
          2018,
          2019,
          2019,
          2018,
          2018,
          2018,
          2019,
          2019,
          2018,
          2019,
          2019,
          2018,
          2019,
          2019,
          2001,
          2003,
          2018,
          2019,
          2014,
          2013,
          2019,
          2018,
          2015,
          2019,
          2018,
          2017,
          2019,
          2017,
          2018,
          2017,
          2018,
          2019,
          2016,
          2016,
          2019,
          2019,
          2018,
          2017,
          2019,
          2006,
          2011,
          2012,
          2008,
          2016,
          2017,
          2019,
          2019,
          2018,
          2015,
          2015,
          2019,
          2011,
          2018,
          2018,
          2018,
          2018,
          2018,
          2018,
          2015,
          2015,
          2012,
          2006,
          2018,
          2016,
          2019,
          2019,
          2019,
          2018,
          2017,
          2018,
          2017,
          2012,
          2017,
          2006,
          2018,
          2018,
          2019,
          2019,
          2019,
          2018,
          2019,
          2018,
          2018,
          2017,
          2018,
          2018,
          2018,
          2018,
          2018,
          2018,
          2018,
          2019,
          2018,
          2017,
          2018,
          2019,
          2016,
          2017,
          2018,
          2017,
          2018,
          2019,
          1999,
          2018,
          2012,
          2017,
          2017,
          2010,
          1991,
          1992,
          1993,
          1989,
          1987,
          1991,
          1991,
          1990,
          2011,
          2008,
          2012,
          2018,
          2012,
          2018,
          2018,
          2012,
          2015,
          2014,
          2018,
          2018,
          2018,
          2018,
          2018,
          2018,
          2018,
          2018,
          2009,
          2018,
          2013,
          2016,
          2010,
          2017,
          2013,
          2008,
          2018,
          2018,
          2018,
          2018,
          2018,
          2018,
          2018,
          2018,
          2018,
          2018,
          2018,
          2018,
          2017,
          2018,
          2018,
          2018,
          2017,
          2013,
          2012,
          2013,
          2006,
          2013,
          2008,
          2011,
          2015,
          2017,
          2016,
          2018,
          2018,
          2018,
          2018,
          2018,
          2018,
          2018,
          2018,
          2016,
          2018,
          2018,
          2018,
          2017,
          2018,
          2018,
          2018,
          2018,
          2018,
          2017,
          2012,
          2014,
          2000,
          2014,
          2009,
          2009,
          2010,
          2018,
          2018,
          2018,
          2018,
          2018,
          2018,
          2018,
          2018,
          2018,
          2018,
          2018,
          2018,
          2017,
          2018,
          2017,
          2017,
          2018,
          2012,
          1998,
          2018,
          2017,
          2018,
          2015,
          2018,
          2018,
          2018,
          2018,
          2011,
          2008,
          2014,
          2018,
          2017,
          2017,
          2018,
          2018,
          2018,
          2018,
          2018,
          2018,
          2018,
          2018,
          2013,
          2012,
          2012,
          2012,
          2013,
          2018,
          2018,
          2012,
          2017,
          2018,
          2018,
          2018,
          2014,
          2018,
          2018,
          2018,
          2018,
          2018,
          2018,
          2017,
          2018,
          2018,
          2018,
          2017,
          2018,
          2015,
          2018,
          2018,
          2018,
          2018,
          2007,
          2018,
          2018,
          2017,
          2018,
          2018,
          2018,
          2018,
          2018,
          2018,
          2017,
          2017,
          2018,
          2017,
          2017,
          2018,
          2017,
          2018,
          2017,
          2017,
          2017,
          2018,
          2018,
          2018,
          2018,
          2017,
          2018,
          2017,
          2018,
          2018,
          2018,
          2018,
          2017,
          2018,
          2018,
          2017,
          2012,
          2018,
          2018,
          2018,
          2018,
          2016,
          2018,
          2016,
          2018,
          2018,
          2016,
          2017,
          2018,
          2018,
          2018,
          2018,
          2018,
          2017,
          2018,
          2017,
          2014,
          2014,
          2014,
          2008,
          2004,
          2017,
          2018,
          2017,
          2018,
          2017,
          2018,
          2018,
          2018,
          2018,
          2017,
          2017,
          2017,
          2018,
          2018,
          2018,
          2018,
          2018,
          2018,
          2017,
          2018,
          2018,
          2017,
          2017,
          2017,
          2017,
          2017,
          2017,
          2017,
          2017,
          2015,
          2017,
          2017,
          2017,
          2017,
          2017,
          2016,
          2017,
          2016,
          2017,
          2017,
          2017,
          2017,
          2017,
          2016,
          2017,
          2017,
          2017,
          2017,
          2017,
          2017,
          2017,
          2015,
          2016,
          2017,
          2017,
          2017,
          2016,
          2017,
          2017,
          2017,
          2012,
          2017,
          2017,
          2017,
          2015,
          2017,
          2017,
          2017,
          2017,
          2017,
          2017,
          2016,
          2017,
          2012,
          2013,
          2006,
          2017,
          2016,
          2016,
          2016,
          2017,
          2016,
          2016,
          2017,
          2017,
          2017,
          2017,
          2015,
          2017,
          2015,
          2017,
          2017,
          2017,
          2017,
          2016,
          2016,
          2016,
          2015,
          2017,
          2017,
          2017,
          2017,
          2017,
          2017,
          2014,
          2014,
          2017,
          2018,
          2013,
          2017,
          2017,
          2015,
          2017,
          2017,
          2017,
          2017,
          2017,
          2016,
          2017,
          2016,
          2015,
          2016,
          2017,
          2017,
          2017,
          2016,
          2017,
          2017,
          2016,
          2016,
          2017,
          2017,
          2017,
          2017,
          2017,
          2017,
          2016,
          2016,
          2016,
          2017,
          2015,
          2016,
          2016,
          2017,
          2017,
          2016,
          2017,
          2017,
          2017,
          2017,
          2017,
          2016,
          2016,
          2017,
          2016,
          2017,
          2016,
          2016,
          2015,
          2017,
          2016,
          2016,
          2017,
          2017,
          2017,
          2017,
          2016,
          2016,
          2006,
          2017,
          2016,
          2017,
          2017,
          2016,
          2017,
          2015,
          2015,
          2017,
          2016,
          2016,
          2015,
          2016,
          2015,
          2017,
          2017,
          2016,
          2017,
          2017,
          2014,
          2016,
          2016,
          2017,
          2015,
          2017,
          2016,
          2017,
          2017,
          2017,
          2017,
          2008,
          2014,
          2014,
          2017,
          2015,
          2016,
          2017,
          2016,
          2011,
          2016,
          2016,
          2016,
          2016,
          2016,
          2016,
          2015,
          2015,
          2016,
          2016,
          2016,
          2016,
          2016,
          2016,
          2016,
          2015,
          2016,
          1979,
          2016,
          2016,
          2016,
          2016,
          2012,
          2016,
          2016,
          2016,
          2012,
          2016,
          2016,
          2016,
          2015,
          2016,
          2016,
          2016,
          2016,
          2016,
          2012,
          2016,
          2016,
          2016,
          2016,
          2016,
          2016,
          2015,
          2010,
          2016,
          2015,
          2015,
          2016,
          2013,
          2016,
          2016,
          2016,
          2016,
          2016,
          2016,
          2011,
          2008,
          2016,
          2016,
          2016,
          2016,
          2016,
          2015,
          2016,
          2016,
          2016,
          2016,
          2016,
          2016,
          2016,
          2016,
          2016,
          2016,
          2016,
          2015,
          2015,
          2015,
          2015,
          2015,
          2015,
          2015,
          2015,
          2015,
          2015,
          2015,
          2015,
          2015,
          2015,
          2014,
          2015,
          2015,
          2015,
          2015,
          2015,
          2014,
          2014,
          2014,
          2014,
          2014,
          2013,
          2013,
          1986,
          1988,
          2010,
          2009,
          2007,
          2006,
          2008,
          2017,
          2010,
          2017,
          2018,
          2019,
          2018,
          2016,
          2018,
          2017,
          2017,
          2014,
          2015,
          2015,
          2016,
          2008,
          2019,
          2011,
          2017,
          2015,
          2016,
          2015,
          2008,
          2018,
          2018,
          2019,
          2018,
          2015,
          2016,
          2017,
          2019,
          2018,
          2019,
          2014,
          2017,
          2017,
          2015,
          2017,
          2018,
          2019,
          2016,
          2017,
          2019,
          2017,
          2016,
          2017,
          2010,
          2002,
          2015,
          2015,
          2017,
          2016,
          2016,
          2019,
          2003,
          2017,
          2017,
          2017,
          2018,
          2019,
          2017,
          2017,
          2017,
          2018,
          2017,
          2015,
          2003,
          2017,
          2017,
          2016,
          2018,
          2016,
          2015,
          2018,
          2017,
          2018,
          2018,
          2018,
          2017,
          2016,
          2018,
          2016,
          2016,
          1992,
          1992,
          2016,
          2017,
          2018,
          2017,
          2017,
          2016,
          2019,
          2018,
          2017,
          2002,
          2016,
          2014,
          2014,
          2016,
          2015,
          2019,
          2015,
          2016,
          2015,
          2016,
          2003,
          2017,
          2018,
          2017,
          2002,
          2017,
          2016,
          2017,
          2017,
          2016,
          2015,
          2016,
          2016,
          1983,
          2004,
          2006,
          2016,
          2016,
          2018,
          1990,
          2019,
          2010,
          2017,
          2017,
          2017,
          2017,
          2017,
          2017,
          2013,
          2016,
          2018,
          1978,
          2017,
          2019,
          2018,
          2018,
          2016,
          2015,
          2019,
          2017,
          2017,
          2016,
          2016,
          2017,
          2013,
          2014,
          1997,
          2017,
          2019,
          2019,
          2012,
          2017,
          2013,
          2017,
          2016,
          2015,
          2013,
          2017,
          2015,
          2018,
          2017,
          2016,
          2018,
          1998,
          2017,
          2016,
          1997,
          2017,
          2010,
          2006,
          2015,
          2016,
          2010,
          2016,
          1975,
          2014,
          2016,
          2018,
          2016,
          2010,
          2016,
          2019,
          2017,
          2016,
          2017,
          2013,
          2015,
          1973,
          2016,
          2013,
          2018,
          2017,
          2016,
          2016,
          2010,
          2017,
          2016,
          2016,
          2016,
          2016,
          2014,
          2017,
          2012,
          2017,
          2016,
          2016,
          2011,
          2010,
          2019,
          2017,
          2017,
          2018,
          2017,
          2019,
          2010,
          2018,
          2006,
          2015,
          2014,
          2016,
          2017,
          2016,
          2018,
          1983,
          2017,
          2017,
          2017,
          2016,
          2017,
          2014,
          2016,
          1985,
          2017,
          2016,
          2018,
          2016,
          2015,
          2018,
          2016,
          2017,
          2017,
          2015,
          2015,
          2012,
          2017,
          2017,
          2018,
          2018,
          2016,
          2013,
          2015,
          2011,
          2012,
          2012,
          2018,
          2019,
          2018,
          2016,
          2015,
          2016,
          2018,
          2016,
          1984,
          2017,
          2019,
          2018,
          2006,
          2007,
          2015,
          2018,
          2014,
          2013,
          2016,
          2016,
          2017,
          2016,
          2009,
          2018,
          2002,
          1998,
          2018,
          2016,
          2016,
          2018,
          2013,
          2017,
          2018,
          2019,
          2018,
          2010,
          2018,
          2016,
          2015,
          2017,
          2016,
          2013,
          2011,
          2014,
          2017,
          2017,
          2016,
          2014,
          2016,
          2016,
          2017,
          2018,
          2017,
          2017,
          2018,
          2012,
          2017,
          2019,
          2002,
          1990,
          2016,
          2004,
          2017,
          2018,
          2017,
          2016,
          2016,
          2013,
          2017,
          2019,
          2018,
          2015,
          2018,
          2013,
          2010,
          2020,
          2019,
          2011,
          2014,
          2014,
          2019,
          2015,
          2014,
          2017,
          2017,
          2017,
          2016,
          2014,
          2015,
          2016,
          2017,
          2015,
          2017,
          2012,
          2016,
          2007,
          2016,
          2015,
          2015,
          2018,
          2018,
          2016,
          2015,
          2019,
          2019,
          2017,
          2017,
          2010,
          2015,
          2013,
          2011,
          2018,
          2015,
          2017,
          2015,
          2016,
          2015,
          2017,
          1981,
          2018,
          2019,
          1975,
          2014,
          2019,
          2018,
          2016,
          2017,
          2015,
          2017,
          2014,
          2016,
          2018,
          2015,
          2016,
          2018,
          2017,
          2016,
          2015,
          2018,
          2015,
          2012,
          2004,
          2017,
          2018,
          2016,
          2016,
          2016,
          2016,
          2016,
          2014,
          2017,
          1978,
          2016,
          2011,
          2016,
          2017,
          2016,
          2015,
          2017,
          2016,
          2017,
          2017,
          2007,
          2007,
          2016,
          2014,
          2019,
          2017,
          2018,
          2018,
          2017,
          2018,
          2013,
          2015,
          2016,
          2015,
          1983,
          2016,
          2015,
          2017,
          1967,
          2018,
          2016,
          2017,
          2017,
          2013,
          2016,
          2008,
          2015,
          2014,
          2015
         ],
         "xaxis": "x",
         "y": [
          125,
          127,
          182,
          147,
          95,
          97,
          100,
          88,
          103,
          97,
          165,
          124,
          136,
          112,
          93,
          113,
          116,
          95,
          90,
          110,
          64,
          127,
          86,
          115,
          95,
          124,
          115,
          115,
          106,
          92,
          143,
          117,
          111,
          99,
          102,
          101,
          95,
          87,
          95,
          124,
          136,
          136,
          112,
          98,
          101,
          84,
          125,
          119,
          105,
          101,
          96,
          119,
          104,
          84,
          89,
          91,
          117,
          99,
          97,
          106,
          97,
          98,
          112,
          49,
          111,
          78,
          110,
          70,
          95,
          93,
          109,
          97,
          88,
          118,
          70,
          91,
          92,
          81,
          99,
          107,
          107,
          104,
          100,
          107,
          99,
          119,
          122,
          118,
          99,
          97,
          112,
          109,
          109,
          94,
          89,
          128,
          95,
          102,
          102,
          107,
          123,
          95,
          101,
          104,
          111,
          102,
          106,
          116,
          116,
          97,
          101,
          102,
          109,
          142,
          96,
          116,
          65,
          96,
          143,
          75,
          130,
          132,
          108,
          32,
          143,
          88,
          120,
          91,
          98,
          113,
          83,
          98,
          95,
          97,
          60,
          108,
          90,
          106,
          24,
          74,
          97,
          97,
          110,
          105,
          92,
          99,
          108,
          81,
          107,
          112,
          120,
          97,
          102,
          123,
          97,
          85,
          83,
          104,
          86,
          98,
          99,
          88,
          138,
          107,
          97,
          116,
          93,
          107,
          127,
          95,
          96,
          102,
          81,
          148,
          99,
          87,
          102,
          83,
          105,
          71,
          91,
          109,
          94,
          115,
          68,
          98,
          66,
          110,
          50,
          133,
          109,
          108,
          105,
          106,
          96,
          101,
          54,
          118,
          60,
          99,
          93,
          98,
          100,
          112,
          103,
          84,
          83,
          162,
          133,
          70,
          123,
          150,
          97,
          93,
          151,
          82,
          148,
          90,
          60,
          130,
          116,
          93,
          105,
          103,
          50,
          117,
          87,
          87,
          103,
          101,
          103,
          94,
          69,
          81,
          76,
          94,
          106,
          99,
          107,
          140,
          86,
          126,
          100,
          100,
          106,
          44,
          107,
          115,
          93,
          107,
          112,
          73,
          28,
          59,
          135,
          129,
          124,
          118,
          111,
          94,
          130,
          139,
          103,
          120,
          96,
          90,
          94,
          63,
          140,
          130,
          93,
          102,
          96,
          99,
          98,
          94,
          63,
          93,
          109,
          97,
          97,
          107,
          97,
          103,
          88,
          94,
          33,
          81,
          121,
          104,
          93,
          105,
          44,
          82,
          64,
          92,
          150,
          108,
          102,
          137,
          112,
          102,
          103,
          136,
          84,
          103,
          115,
          140,
          124,
          105,
          58,
          95,
          102,
          89,
          62,
          104,
          89,
          123,
          95,
          125,
          86,
          107,
          97,
          136,
          138,
          126,
          107,
          89,
          148,
          82,
          120,
          115,
          107,
          134,
          103,
          102,
          52,
          76,
          107,
          126,
          94,
          92,
          52,
          84,
          112,
          93,
          90,
          128,
          131,
          109,
          129,
          194,
          76,
          130,
          120,
          101,
          55,
          104,
          126,
          114,
          115,
          149,
          105,
          114,
          100,
          95,
          68,
          106,
          116,
          112,
          73,
          149,
          97,
          94,
          94,
          92,
          97,
          91,
          88,
          131,
          152,
          90,
          86,
          114,
          97,
          98,
          107,
          143,
          102,
          107,
          100,
          104,
          110,
          100,
          140,
          107,
          132,
          208,
          72,
          135,
          94,
          105,
          93,
          101,
          81,
          95,
          121,
          88,
          63,
          147,
          55,
          98,
          101,
          112,
          96,
          66,
          83,
          90,
          88,
          77,
          103,
          101,
          107,
          112,
          83,
          104,
          113,
          99,
          104,
          70,
          109,
          75,
          62,
          101,
          106,
          71,
          79,
          120,
          82,
          115,
          110,
          108,
          186,
          116,
          61,
          98,
          61,
          87,
          93,
          109,
          97,
          94,
          101,
          50,
          92,
          120,
          117,
          102,
          95,
          33,
          113,
          106,
          103,
          106,
          122,
          86,
          89,
          116,
          86,
          85,
          62,
          112,
          76,
          156,
          90,
          51,
          98,
          61,
          121,
          86,
          108,
          103,
          66,
          132,
          128,
          97,
          102,
          145,
          71,
          102,
          85,
          89,
          120,
          102,
          79,
          63,
          136,
          174,
          104,
          99,
          100,
          95,
          65,
          143,
          60,
          106,
          115,
          56,
          94,
          95,
          126,
          107,
          81,
          107,
          110,
          104,
          106,
          86,
          97,
          121,
          119,
          86,
          78,
          84,
          143,
          54,
          59,
          94,
          78,
          61,
          123,
          103,
          94,
          90,
          101,
          107,
          89,
          65,
          126,
          63,
          106,
          86,
          94,
          67,
          98,
          100,
          101,
          63,
          86,
          96,
          104,
          123,
          100,
          151,
          102,
          70,
          109,
          110,
          102,
          98,
          64,
          64,
          116,
          58,
          152,
          87,
          121,
          83,
          111,
          171,
          88,
          76,
          65,
          67,
          125,
          142,
          82,
          91,
          100,
          85,
          66,
          92,
          98,
          104,
          52,
          86,
          69,
          123,
          93,
          107,
          67,
          67,
          77,
          63,
          59,
          102,
          130,
          111,
          77,
          93,
          58,
          56,
          102,
          81,
          105,
          106,
          90,
          87,
          65,
          66,
          122,
          176,
          87,
          55,
          63,
          113,
          69,
          87,
          116,
          110,
          59,
          91,
          117,
          60,
          142,
          74,
          119,
          127,
          118,
          90,
          12,
          128,
          109,
          101,
          103,
          98,
          123,
          101,
          91,
          66,
          90,
          53,
          87,
          96,
          108,
          100,
          111,
          98,
          126,
          125,
          79,
          128,
          90,
          104,
          92,
          64,
          119,
          91,
          122,
          168,
          111,
          54,
          102,
          111,
          87,
          94,
          133,
          135,
          88,
          126,
          76,
          60,
          124,
          91,
          102,
          75,
          108,
          100,
          129,
          108,
          118,
          130,
          69,
          61,
          108,
          104,
          65,
          69,
          97,
          80,
          85,
          127,
          128,
          90,
          111,
          99,
          91,
          127,
          94,
          103,
          118,
          89,
          103,
          107,
          103,
          125,
          130,
          118,
          132,
          61,
          110,
          70,
          117,
          89,
          84,
          139,
          79,
          111,
          112,
          103,
          104,
          120,
          82,
          130,
          62,
          91,
          74,
          136,
          59,
          91,
          100,
          120,
          137,
          86,
          114,
          150,
          88,
          105,
          96,
          90,
          97,
          125,
          102,
          65,
          106,
          117,
          136,
          104,
          91,
          99,
          101,
          115,
          61,
          120,
          148,
          48,
          28,
          61,
          56,
          81,
          50,
          49,
          71,
          30,
          146,
          127,
          46,
          122,
          109,
          96,
          105,
          95,
          82,
          89,
          90,
          85,
          153,
          79,
          83,
          145,
          68,
          98,
          87,
          98,
          130,
          109,
          95,
          124,
          96,
          96,
          82,
          114,
          119,
          101,
          96,
          91,
          114,
          64,
          95,
          94,
          111,
          128,
          106,
          116,
          98,
          92,
          80,
          129,
          143,
          120,
          45,
          95,
          135,
          131,
          93,
          91,
          106,
          126,
          90,
          115,
          93,
          74,
          104,
          51,
          140,
          95,
          121,
          131,
          63,
          150,
          159,
          130,
          99,
          57,
          89,
          88,
          81,
          137,
          56,
          94,
          137,
          111,
          137,
          111,
          130,
          126,
          108,
          101,
          124,
          114,
          98,
          100,
          123,
          102,
          96,
          104,
          109,
          110,
          94,
          101,
          50,
          31,
          90,
          114,
          54,
          105,
          95,
          104,
          100,
          104,
          148,
          158,
          154,
          88,
          87,
          100,
          57,
          95,
          72,
          93,
          113,
          71,
          75,
          110,
          77,
          58,
          69,
          61,
          60,
          94,
          94,
          69,
          90,
          101,
          77,
          66,
          103,
          95,
          119,
          70,
          121,
          106,
          106,
          119,
          100,
          110,
          66,
          130,
          110,
          85,
          117,
          63,
          94,
          117,
          89,
          158,
          64,
          92,
          63,
          67,
          92,
          100,
          113,
          105,
          109,
          99,
          89,
          92,
          105,
          98,
          90,
          65,
          96,
          92,
          95,
          66,
          102,
          97,
          105,
          90,
          99,
          108,
          66,
          75,
          96,
          70,
          94,
          78,
          75,
          105,
          60,
          103,
          78,
          62,
          97,
          115,
          102,
          99,
          74,
          100,
          91,
          115,
          140,
          79,
          121,
          51,
          69,
          104,
          94,
          87,
          75,
          89,
          81,
          47,
          46,
          110,
          67,
          105,
          127,
          109,
          60,
          96,
          65,
          95,
          116,
          117,
          108,
          102,
          61,
          49,
          59,
          63,
          95,
          99,
          62,
          71,
          135,
          91,
          61,
          80,
          118,
          94,
          69,
          128,
          109,
          70,
          89,
          67,
          142,
          78,
          99,
          96,
          101,
          94,
          66,
          126,
          54,
          100,
          104,
          98,
          84,
          68,
          103,
          82,
          94,
          66,
          90,
          102,
          52,
          85,
          113,
          88,
          89,
          59,
          66,
          135,
          93,
          81,
          103,
          104,
          82,
          102,
          101,
          137,
          71,
          60,
          98,
          70,
          92,
          107,
          90,
          95,
          89,
          103,
          113,
          113,
          86,
          98,
          100,
          51,
          124,
          63,
          56,
          90,
          71,
          165,
          54,
          121,
          129,
          95,
          84,
          86,
          114,
          84,
          67,
          63,
          116,
          104,
          108,
          59,
          74,
          84,
          86,
          104,
          121,
          66,
          102,
          89,
          66,
          73,
          102,
          87,
          119,
          102,
          96,
          109,
          89,
          92,
          71,
          123,
          80,
          101,
          59,
          84,
          110,
          101,
          88,
          61,
          81,
          72,
          64,
          111,
          95,
          99,
          93,
          89,
          83,
          104,
          53,
          95,
          108,
          66,
          113,
          83,
          50,
          99,
          92,
          101,
          85,
          110,
          89,
          88,
          88,
          83,
          78,
          81,
          106,
          102,
          63,
          91,
          93,
          97,
          137,
          117,
          62,
          109,
          102,
          57,
          94,
          71,
          97,
          99,
          97,
          105,
          119,
          109,
          92,
          88,
          71,
          64,
          97,
          54,
          78,
          86,
          97,
          108,
          78,
          87,
          91,
          102,
          67,
          57,
          80,
          66,
          105,
          91,
          123,
          104,
          109,
          100,
          69,
          97,
          92,
          146,
          97,
          93,
          62,
          105,
          88,
          93,
          98,
          31,
          83,
          97,
          81,
          62,
          99,
          90,
          116,
          92,
          79,
          92,
          61,
          88,
          67,
          65,
          62,
          107,
          69,
          77,
          71,
          64,
          91,
          107,
          110,
          81,
          77,
          64,
          97,
          77,
          80,
          95,
          90,
          73,
          108,
          86,
          105,
          100,
          96,
          97,
          96,
          92,
          99,
          78,
          89,
          60,
          92,
          80,
          73,
          81,
          45,
          112,
          101,
          117,
          96,
          87,
          105,
          80,
          97,
          60,
          109,
          60,
          101,
          127,
          62,
          68,
          92,
          74,
          29,
          60,
          74,
          91,
          62,
          85,
          59,
          137,
          86,
          80,
          62,
          92,
          69,
          92,
          143,
          78,
          84,
          58,
          82,
          83,
          81,
          75,
          68,
          71,
          80,
          105,
          80,
          96,
          94,
          103,
          29,
          104,
          81,
          143,
          106,
          99,
          90,
          89,
          90,
          94,
          101,
          82,
          70,
          81,
          103,
          111,
          92,
          108,
          103,
          77,
          122,
          150,
          90,
          89,
          88,
          107,
          92,
          102,
          83,
          84,
          92,
          81,
          53,
          99,
          55,
          106,
          85,
          111,
          113,
          104,
          110,
          90,
          94,
          81,
          97,
          97,
          83,
          83,
          149,
          122,
          107,
          122,
          110,
          100,
          115,
          91,
          90,
          114,
          87,
          90,
          127,
          88,
          79,
          88,
          91,
          85,
          97,
          99,
          88,
          79,
          86,
          84,
          86,
          90,
          92,
          81,
          116,
          120,
          103,
          98,
          148,
          94,
          78,
          125,
          104,
          92,
          125,
          108,
          77,
          129,
          98,
          111,
          80,
          110,
          88,
          103,
          124,
          137,
          84,
          112,
          106,
          110,
          153,
          82,
          103,
          70,
          103,
          91,
          116,
          76,
          90,
          53,
          156,
          76,
          108,
          94,
          111,
          93,
          95,
          88,
          93,
          69,
          134,
          196,
          82,
          94,
          85,
          88,
          98,
          99,
          92,
          89,
          99,
          94,
          70,
          94,
          99,
          90,
          83,
          88,
          86,
          95,
          93,
          91,
          116,
          72,
          97,
          88,
          132,
          107,
          118,
          100,
          58,
          58,
          161,
          105,
          89,
          75,
          99,
          95,
          93,
          57,
          102,
          91,
          100,
          91,
          79,
          99,
          86,
          85,
          90,
          104,
          87,
          97,
          89,
          88,
          97,
          118,
          128,
          106,
          102,
          82,
          96,
          79,
          85,
          85,
          84,
          106,
          108,
          89,
          119,
          99,
          88,
          140,
          91,
          97,
          84,
          125,
          101,
          135,
          148,
          99,
          67,
          90,
          90,
          100,
          87,
          103,
          117,
          126,
          100,
          52,
          104,
          88,
          112,
          145,
          86,
          147,
          108,
          84,
          103,
          98,
          103,
          77,
          77,
          100,
          118,
          102,
          78,
          95,
          91,
          155,
          89,
          75,
          99,
          94,
          80,
          99,
          83,
          90,
          118,
          81,
          106,
          129,
          94,
          107,
          109,
          92,
          117,
          91,
          99,
          108,
          85,
          76,
          87,
          116,
          114,
          124,
          107,
          103,
          103,
          97,
          66,
          111,
          92,
          93,
          76,
          124,
          139,
          91,
          86,
          96,
          93,
          102,
          105,
          82,
          163,
          89,
          105,
          112,
          95,
          108,
          72,
          92,
          125,
          81,
          127,
          81,
          133,
          108,
          77,
          90,
          106,
          97,
          84,
          83,
          122,
          115,
          73,
          81,
          100,
          97,
          94,
          83,
          107,
          98,
          89,
          103,
          92,
          105,
          61,
          118,
          110,
          78,
          83,
          95,
          93,
          90,
          69,
          125,
          168,
          168,
          98,
          96,
          119,
          88,
          87,
          83,
          100,
          142,
          97,
          94,
          112,
          93,
          103,
          106,
          100,
          96,
          95,
          130,
          114,
          107,
          93,
          94,
          85,
          104,
          103,
          86,
          108,
          111,
          81,
          89,
          108,
          102,
          84,
          121,
          117,
          99,
          140,
          80,
          87,
          89,
          72,
          95,
          98,
          95,
          106,
          60,
          126,
          101,
          107,
          123,
          105,
          121,
          95,
          100,
          86,
          99,
          96,
          112,
          85,
          88,
          46,
          101,
          89,
          107,
          95,
          97,
          88,
          99,
          96,
          100,
          99,
          103,
          100,
          84,
          44,
          130,
          104,
          70,
          82,
          124,
          110,
          116,
          125,
          90,
          77,
          102,
          90,
          92,
          101,
          123,
          105,
          84,
          108,
          93,
          106,
          114,
          83,
          123,
          122,
          88,
          93,
          151,
          130,
          88,
          118,
          113,
          91,
          90,
          86,
          80,
          121,
          99,
          130,
          94,
          91,
          94,
          91,
          95,
          124,
          84,
          93,
          89,
          91,
          78,
          74,
          93,
          140,
          137,
          157,
          131,
          96
         ],
         "yaxis": "y"
        },
        {
         "customdata": [
          [
           "The Starling"
          ],
          [
           "Grown Ups"
          ],
          [
           "Dark Skies"
          ],
          [
           "Paranoia"
          ],
          [
           "Birth of the Dragon"
          ],
          [
           "Jaws: The Revenge"
          ],
          [
           "An Unfinished Life"
          ],
          [
           "Clear and Present Danger"
          ],
          [
           "Dear John"
          ],
          [
           "Freedom Writers"
          ],
          [
           "Green Lantern"
          ],
          [
           "Love Don't Cost a Thing"
          ],
          [
           "Mars Attacks!"
          ],
          [
           "Marshall"
          ],
          [
           "Mystery Men"
          ],
          [
           "Poseidon"
          ],
          [
           "Same Kind of Different as Me"
          ],
          [
           "School of Rock"
          ],
          [
           "Snervous Tyler Oakley"
          ],
          [
           "The Golden Child"
          ],
          [
           "The Nutty Professor"
          ],
          [
           "Welcome Home Roscoe Jenkins"
          ],
          [
           "Like Crazy"
          ],
          [
           "Quartet"
          ],
          [
           "The Paper Tigers"
          ],
          [
           "Beowulf"
          ],
          [
           "Catch Me If You Can"
          ],
          [
           "Ferris Bueller's Day Off"
          ],
          [
           "Five Feet Apart"
          ],
          [
           "Inception"
          ],
          [
           "Major Payne"
          ],
          [
           "My Girl"
          ],
          [
           "Poms"
          ],
          [
           "Seabiscuit"
          ],
          [
           "Space Cowboys"
          ],
          [
           "The Losers"
          ],
          [
           "The Net"
          ],
          [
           "Valentine's Day"
          ],
          [
           "The Book of Henry"
          ],
          [
           "The Twilight Saga: Breaking Dawn: Part 1"
          ],
          [
           "The Twilight Saga: Breaking Dawn: Part 2"
          ],
          [
           "The Twilight Saga: Eclipse"
          ],
          [
           "The Twilight Saga: New Moon"
          ],
          [
           "Twilight"
          ],
          [
           "Home Again"
          ],
          [
           "Midnight Sun"
          ],
          [
           "Brick Mansions"
          ],
          [
           "Winchester"
          ],
          [
           "Austin Powers in Goldmember"
          ],
          [
           "Austin Powers: International Man of Mystery"
          ],
          [
           "Austin Powers: The Spy Who Shagged Me"
          ],
          [
           "Charlie's Angels"
          ],
          [
           "Congo"
          ],
          [
           "Hampstead"
          ],
          [
           "Life as We Know It"
          ],
          [
           "Memoirs of a Geisha"
          ],
          [
           "Mortal Kombat"
          ],
          [
           "Mother's Day"
          ],
          [
           "Ophelia"
          ],
          [
           "Seven Pounds"
          ],
          [
           "Star Trek"
          ],
          [
           "Talladega Nights: The Ballad of Ricky Bobby"
          ],
          [
           "The Best of Enemies"
          ],
          [
           "The Queen"
          ],
          [
           "The Sum of All Fears"
          ],
          [
           "The Tourist"
          ],
          [
           "What Dreams May Come"
          ],
          [
           "The Ice Road"
          ],
          [
           "Fatherhood"
          ],
          [
           "Lowriders"
          ],
          [
           "Vampire Academy"
          ],
          [
           "2 Hearts"
          ],
          [
           "American Outlaws"
          ],
          [
           "Battlefield Earth"
          ],
          [
           "Domestic Disturbance"
          ],
          [
           "Fools Rush In"
          ],
          [
           "I Am Sam"
          ],
          [
           "Million Dollar Baby"
          ],
          [
           "Starsky & Hutch"
          ],
          [
           "The Interpreter"
          ],
          [
           "The Meddler"
          ],
          [
           "The Mirror Has Two Faces"
          ],
          [
           "Collateral Beauty"
          ],
          [
           "Best of the Best"
          ],
          [
           "Fun with Dick & Jane"
          ],
          [
           "Never Back Down"
          ],
          [
           "Stargate"
          ],
          [
           "State of Play"
          ],
          [
           "The Darkest Hour"
          ],
          [
           "The Lovely Bones"
          ],
          [
           "Battle: Los Angeles"
          ],
          [
           "The Zookeeper's Wife"
          ],
          [
           "Thunder Force"
          ],
          [
           "Accepted"
          ],
          [
           "Wild Child"
          ],
          [
           "2012"
          ],
          [
           "3 Idiots"
          ],
          [
           "Insidious"
          ],
          [
           "Kingsglaive: Final Fantasy XV"
          ],
          [
           "Legally Blonde"
          ],
          [
           "Takers"
          ],
          [
           "The Stepfather"
          ],
          [
           "Yes Man"
          ],
          [
           "At Eternity's Gate"
          ],
          [
           "Mandela: Long Walk to Freedom"
          ],
          [
           "Philomena"
          ],
          [
           "The Fluffy Movie"
          ],
          [
           "Get on Up"
          ],
          [
           "Bombay Rose"
          ],
          [
           "Safe Haven"
          ],
          [
           "Moxie"
          ],
          [
           "Black or White"
          ],
          [
           "Dances with Wolves"
          ],
          [
           "Operation Finale"
          ],
          [
           "Beverly Hills Ninja"
          ],
          [
           "Fatima"
          ],
          [
           "The Dig"
          ],
          [
           "The Next Three Days"
          ],
          [
           "A Monster Calls"
          ],
          [
           "Playing for Keeps"
          ],
          [
           "Gimme Shelter"
          ],
          [
           "Good Hair"
          ],
          [
           "Mean Girls 2"
          ],
          [
           "Unknown"
          ],
          [
           "What's Eating Gilbert Grape"
          ],
          [
           "Cops and Robbers"
          ],
          [
           "The Midnight Sky"
          ],
          [
           "Atlas Shrugged: Part II"
          ],
          [
           "Incarnate"
          ],
          [
           "Lee Daniels' The Butler"
          ],
          [
           "A California Christmas"
          ],
          [
           "Giving Voice"
          ],
          [
           "The Prom"
          ],
          [
           "3 Days to Kill"
          ],
          [
           "Angels & Demons"
          ],
          [
           "Effie Gray"
          ],
          [
           "Quigley Down Under"
          ],
          [
           "The Da Vinci Code"
          ],
          [
           "Loving"
          ],
          [
           "The Life Ahead"
          ],
          [
           "Prom Night"
          ],
          [
           "The Impossible"
          ],
          [
           "Fisherman's Friends"
          ],
          [
           "Rebecca"
          ],
          [
           "Tremors: Shrieker Island"
          ],
          [
           "Hubie Halloween"
          ],
          [
           "Vampires vs. the Bronx"
          ],
          [
           "Hunt for the Wilderpeople"
          ],
          [
           "Rize"
          ],
          [
           "Amandla! A Revolution in Four Part Harmony"
          ],
          [
           "Real Steel"
          ],
          [
           "Enola Holmes"
          ],
          [
           "The Social Dilemma"
          ],
          [
           "Adrift"
          ],
          [
           "The Young Messiah"
          ],
          [
           "Septembers of Shiraz"
          ],
          [
           "Les Misérables"
          ],
          [
           "Seventh Son"
          ],
          [
           "The Lost Husband"
          ],
          [
           "I Am Not Your Negro"
          ],
          [
           "Stardust"
          ],
          [
           "Eurovision Song Contest: The Story of Fire Saga"
          ],
          [
           "The Darkness"
          ],
          [
           "Before I Fall"
          ],
          [
           "Big Stone Gap"
          ],
          [
           "Bennett's War"
          ],
          [
           "The Half Of It"
          ],
          [
           "The Reliant"
          ],
          [
           "The Artist"
          ],
          [
           "Hail, Caesar!"
          ],
          [
           "The Forest"
          ],
          [
           "Polaroid"
          ],
          [
           "Dragonheart: Vengeance"
          ],
          [
           "Love Jacked"
          ],
          [
           "Benchwarmers 2: Breaking Balls"
          ],
          [
           "Grand-Daddy Day Care"
          ],
          [
           "Sweetheart"
          ],
          [
           "The Two Popes"
          ],
          [
           "Nothing to Lose 2"
          ],
          [
           "Suffragette"
          ],
          [
           "Let It Snow"
          ],
          [
           "Echo in the Canyon"
          ],
          [
           "The Command"
          ],
          [
           "After"
          ],
          [
           "The Grandmaster"
          ],
          [
           "Selfless"
          ],
          [
           "Murder Mystery"
          ],
          [
           "The Silence"
          ],
          [
           "5 Flights Up"
          ],
          [
           "The Theory of Everything"
          ],
          [
           "Dumplin'"
          ],
          [
           "Mowgli: Legend of the Jungle"
          ],
          [
           "Happy as Lazzaro"
          ],
          [
           "Dovlatov"
          ],
          [
           "Scorpion King 5: Book of Souls"
          ],
          [
           "Seven in Heaven"
          ],
          [
           "The Black Prince"
          ],
          [
           "Sierra Burgess Is A Loser"
          ],
          [
           "Pad Man"
          ],
          [
           "Brain on Fire"
          ],
          [
           "Sunday's Illness"
          ],
          [
           "Lupin the 3rd: The Castle of Cagliostro: Special Edition"
          ],
          [
           "In This Corner of the World"
          ],
          [
           "The Cloverfield Paradox"
          ],
          [
           "Step Sisters"
          ],
          [
           "Before I Wake"
          ],
          [
           "Pottersville"
          ],
          [
           "Poster Boys"
          ],
          [
           "Mubarakan"
          ],
          [
           "SPF-18"
          ],
          [
           "Undefeated"
          ],
          [
           "Enter the Warriors Gate"
          ],
          [
           "Wild Oats"
          ],
          [
           "Under the Shadow"
          ],
          [
           "Ip Man 3"
          ],
          [
           "Crouching Tiger, Hidden Dragon: Sword of Destiny"
          ],
          [
           "9"
          ],
          [
           "21"
          ],
          [
           "Æon Flux"
          ],
          [
           "10,000 B.C."
          ],
          [
           "16 Blocks"
          ],
          [
           "17 Again"
          ],
          [
           "20 Feet From Stardom"
          ],
          [
           "28 Days"
          ],
          [
           "3 Generations"
          ],
          [
           "50 First Dates"
          ],
          [
           "A Night at the Roxbury"
          ],
          [
           "A Separation"
          ],
          [
           "A Tale of Love and Darkness"
          ],
          [
           "A Thousand Words"
          ],
          [
           "About a Boy"
          ],
          [
           "Across the Universe"
          ],
          [
           "Anger Management"
          ],
          [
           "Ant-Man and the Wasp"
          ],
          [
           "Apollo 18"
          ],
          [
           "Arthur"
          ],
          [
           "As Good as It Gets"
          ],
          [
           "Avengers: Infinity War"
          ],
          [
           "Barely Lethal"
          ],
          [
           "Bathtubs Over Broadway"
          ],
          [
           "Bean: The Ultimate Disaster Movie"
          ],
          [
           "Beavis and Butt-head Do America"
          ],
          [
           "Bebe's Kids"
          ],
          [
           "Becoming Jane"
          ],
          [
           "Big Daddy"
          ],
          [
           "Black Panther"
          ],
          [
           "Blackway"
          ],
          [
           "Blue Jasmine"
          ],
          [
           "Blue Streak"
          ],
          [
           "Bring It On: Worldwide Showdown"
          ],
          [
           "Burlesque"
          ],
          [
           "Can't Hardly Wait"
          ],
          [
           "Carriers"
          ],
          [
           "Casino Royale"
          ],
          [
           "Center Stage"
          ],
          [
           "Chappaquiddick"
          ],
          [
           "Charlie's Angels: Full Throttle"
          ],
          [
           "Cirque du Freak: The Vampire's Assistant"
          ],
          [
           "Clash of the Titans"
          ],
          [
           "Click"
          ],
          [
           "Cloverfield"
          ],
          [
           "Coach Carter"
          ],
          [
           "Code Name: The Cleaner"
          ],
          [
           "Crouching Tiger, Hidden Dragon"
          ],
          [
           "Dante's Peak"
          ],
          [
           "Dean"
          ],
          [
           "Die Another Day"
          ],
          [
           "Dinner for Schmucks"
          ],
          [
           "Doctor Zhivago"
          ],
          [
           "Don Verdean"
          ],
          [
           "Doubt"
          ],
          [
           "Dragonheart"
          ],
          [
           "Dragonheart 3: The Sorcerer"
          ],
          [
           "Dragonheart: Battle for the Heartfire"
          ],
          [
           "Dumb and Dumberer: When Harry Met Lloyd"
          ],
          [
           "Easy A"
          ],
          [
           "Eat Pray Love"
          ],
          [
           "Employee of the Month"
          ],
          [
           "Equals"
          ],
          [
           "Evolution"
          ],
          [
           "Flash of Genius"
          ],
          [
           "Four Christmases"
          ],
          [
           "Get Smart"
          ],
          [
           "Getting Played"
          ],
          [
           "Ghost Rider"
          ],
          [
           "Ginger & Rosa"
          ],
          [
           "GoldenEye"
          ],
          [
           "HALO Legends"
          ],
          [
           "He Named Me Malala"
          ],
          [
           "Heartbreakers"
          ],
          [
           "Hellboy"
          ],
          [
           "Hitch"
          ],
          [
           "Honey 2"
          ],
          [
           "Honey: Rise Up and Dance"
          ],
          [
           "Hot Rod"
          ],
          [
           "House at the End of the Street"
          ],
          [
           "How to Be a Latin Lover"
          ],
          [
           "How to Make an American Quilt"
          ],
          [
           "Hulk Vs."
          ],
          [
           "I Don't Know How She Does It"
          ],
          [
           "I'll See You in My Dreams"
          ],
          [
           "In The Deep"
          ],
          [
           "Indiana Jones and the Kingdom of the Crystal Skull"
          ],
          [
           "Indiana Jones and the Last Crusade"
          ],
          [
           "Instructions Not Included"
          ],
          [
           "Invictus"
          ],
          [
           "Jeremy Scott: The People's Designer"
          ],
          [
           "John Carter"
          ],
          [
           "Julie & Julia"
          ],
          [
           "Jumping the Broom"
          ],
          [
           "Jupiter Ascending"
          ],
          [
           "Just Friends"
          ],
          [
           "K-19: The Widowmaker"
          ],
          [
           "Kate & Leopold"
          ],
          [
           "Killer Klowns from Outer Space"
          ],
          [
           "Killers"
          ],
          [
           "King's Ransom"
          ],
          [
           "Kingpin"
          ],
          [
           "Knowing"
          ],
          [
           "Kon-Tiki"
          ],
          [
           "La Bamba"
          ],
          [
           "Lady in the Water"
          ],
          [
           "Left Behind"
          ],
          [
           "Lincoln"
          ],
          [
           "Little Nicky"
          ],
          [
           "Lo and Behold: Reveries of the Connected World"
          ],
          [
           "Lockout"
          ],
          [
           "Mad Money"
          ],
          [
           "Manglehorn"
          ],
          [
           "Mansfield Park"
          ],
          [
           "Men in Black"
          ],
          [
           "Men in Black II"
          ],
          [
           "Midnight Special"
          ],
          [
           "Miss Hokusai"
          ],
          [
           "Miss Julie"
          ],
          [
           "Mona Lisa Smile"
          ],
          [
           "Monster-in-Law"
          ],
          [
           "Mr. Church"
          ],
          [
           "Mr. Deeds"
          ],
          [
           "Mr. Woodcock"
          ],
          [
           "Mud"
          ],
          [
           "My Entire High School Sinking Into the Sea"
          ],
          [
           "My Life as a Zucchini"
          ],
          [
           "My Sister's Keeper"
          ],
          [
           "Next"
          ],
          [
           "Nights in Rodanthe"
          ],
          [
           "November Criminals"
          ],
          [
           "Now and Then"
          ],
          [
           "Ocean's Thirteen"
          ],
          [
           "Ocean's Twelve"
          ],
          [
           "Once Upon a Time in the West"
          ],
          [
           "Our House"
          ],
          [
           "P.S. I Love You"
          ],
          [
           "Philadelphia"
          ],
          [
           "Quantum of Solace"
          ],
          [
           "Queen of the Desert"
          ],
          [
           "Rebel Without a Cause"
          ],
          [
           "Red Dawn"
          ],
          [
           "Remember Me"
          ],
          [
           "Rememory"
          ],
          [
           "Rocky V"
          ],
          [
           "Rumor Has It"
          ],
          [
           "S.W.A.T."
          ],
          [
           "Samson"
          ],
          [
           "Sarah's Key"
          ],
          [
           "Saving Mr. Banks"
          ],
          [
           "Scary Movie 5"
          ],
          [
           "Scott Pilgrim vs. the World"
          ],
          [
           "Searching for Sugar Man"
          ],
          [
           "Season of the Witch"
          ],
          [
           "Secret in Their Eyes"
          ],
          [
           "Senna"
          ],
          [
           "Shark Night"
          ],
          [
           "Sherlock Holmes"
          ],
          [
           "Singularity"
          ],
          [
           "Skiptrace"
          ],
          [
           "Skyline"
          ],
          [
           "Small Soldiers"
          ],
          [
           "SMOSH: The Movie"
          ],
          [
           "Solo: A Star Wars Story"
          ],
          [
           "Solo: A Star Wars Story (Spanish Version)"
          ],
          [
           "Something's Gotta Give"
          ],
          [
           "Speech & Debate"
          ],
          [
           "Spider-Man 3"
          ],
          [
           "Star Wars: Episode VIII: The Last Jedi"
          ],
          [
           "Stonehearst Asylum"
          ],
          [
           "Strange but True"
          ],
          [
           "Stranger than Fiction"
          ],
          [
           "Superman Returns"
          ],
          [
           "Superstar"
          ],
          [
           "Terminator Salvation"
          ],
          [
           "The American President"
          ],
          [
           "The Bounty Hunter"
          ],
          [
           "The Box"
          ],
          [
           "The Boy"
          ],
          [
           "The Boy in the Striped Pajamas"
          ],
          [
           "The Breadwinner"
          ],
          [
           "The Break-Up"
          ],
          [
           "The Brothers Grimm"
          ],
          [
           "The Bucket List"
          ],
          [
           "The Bye Bye Man"
          ],
          [
           "The Confirmation"
          ],
          [
           "The Dukes of Hazzard"
          ],
          [
           "The Forbidden Kingdom"
          ],
          [
           "The Founder"
          ],
          [
           "The Good Catholic"
          ],
          [
           "The Green Hornet"
          ],
          [
           "The Haunting of Molly Hartley"
          ],
          [
           "The Help"
          ],
          [
           "The Hurricane Heist"
          ],
          [
           "The Hurt Business"
          ],
          [
           "The Imaginarium of Doctor Parnassus"
          ],
          [
           "The Invention of Lying"
          ],
          [
           "The Iron Lady"
          ],
          [
           "The Jane Austen Book Club"
          ],
          [
           "The Keeping Hours"
          ],
          [
           "The Last Exorcism"
          ],
          [
           "The Lord of the Rings: The Return of the King"
          ],
          [
           "The Lord of the Rings: The Two Towers"
          ],
          [
           "The Love Guru"
          ],
          [
           "The Mask of Zorro"
          ],
          [
           "The Naked Gun: From the Files of Police Squad!"
          ],
          [
           "The Other Guys"
          ],
          [
           "The Pelican Brief"
          ],
          [
           "The Perks of Being a Wallflower"
          ],
          [
           "The Phantom of the Opera"
          ],
          [
           "The Pursuit of Happyness"
          ],
          [
           "The Rainmaker"
          ],
          [
           "The Ring"
          ],
          [
           "The River Wild"
          ],
          [
           "The Roommate"
          ],
          [
           "The Sapphires"
          ],
          [
           "The Sea of Trees"
          ],
          [
           "The Signal"
          ],
          [
           "The Social Network"
          ],
          [
           "The Space Between Us"
          ],
          [
           "The Time Machine"
          ],
          [
           "The Time Traveler's Wife"
          ],
          [
           "The Tuxedo"
          ],
          [
           "The Unknown Known"
          ],
          [
           "The Vatican Tapes"
          ],
          [
           "The Waterboy"
          ],
          [
           "The World Is Not Enough"
          ],
          [
           "Thelonious Monk: Straight, No Chaser"
          ],
          [
           "Thor: Ragnarok"
          ],
          [
           "To Wong Foo, Thanks for Everything! Julie Newmar"
          ],
          [
           "Tomorrow Never Dies"
          ],
          [
           "Tortilla Soup"
          ],
          [
           "Tracers"
          ],
          [
           "Traitor"
          ],
          [
           "Transcendence"
          ],
          [
           "Tremors"
          ],
          [
           "Tremors 4: The Legend Begins"
          ],
          [
           "Tremors 5:  Bloodline"
          ],
          [
           "Tremors 6: A Cold Day in Hell"
          ],
          [
           "Undercover Grandpa"
          ],
          [
           "Unfinished Song"
          ],
          [
           "Vantage Point"
          ],
          [
           "Victor"
          ],
          [
           "Walking Out"
          ],
          [
           "War Horse"
          ],
          [
           "What Lies Beneath"
          ],
          [
           "Where the Money Is"
          ],
          [
           "Wild Wild West"
          ],
          [
           "Wildlife"
          ],
          [
           "World Trade Center"
          ],
          [
           "Wyatt Earp"
          ],
          [
           "XXx"
          ],
          [
           "XXX: State of the Union"
          ],
          [
           "Yoga Hosers"
          ]
         ],
         "hovertemplate": "rating=PG-13<br>release_year=%{x}<br>duration_int=%{y}<br>title=%{customdata[0]}<extra></extra>",
         "legendgroup": "PG-13",
         "marker": {
          "color": "#EF553B",
          "symbol": "circle"
         },
         "mode": "markers",
         "name": "PG-13",
         "showlegend": true,
         "type": "scattergl",
         "x": [
          2021,
          2010,
          2013,
          2013,
          2017,
          1987,
          2005,
          1994,
          2010,
          2007,
          2011,
          2003,
          1996,
          2017,
          1999,
          2006,
          2017,
          2003,
          2015,
          1986,
          1996,
          2008,
          2011,
          2012,
          2021,
          2007,
          2002,
          1986,
          2019,
          2010,
          1995,
          1991,
          2019,
          2003,
          2000,
          2010,
          1995,
          2010,
          2017,
          2011,
          2012,
          2010,
          2009,
          2008,
          2017,
          2018,
          2014,
          2018,
          2002,
          1997,
          1999,
          2000,
          1995,
          2019,
          2010,
          2005,
          1995,
          2016,
          2018,
          2008,
          2009,
          2006,
          2019,
          2006,
          2002,
          2010,
          1998,
          2021,
          2021,
          2016,
          2014,
          2020,
          2001,
          2000,
          2001,
          1997,
          2001,
          2004,
          2004,
          2005,
          2015,
          1996,
          2016,
          1989,
          2005,
          2008,
          1994,
          2009,
          2011,
          2009,
          2011,
          2017,
          2021,
          2006,
          2008,
          2009,
          2009,
          2010,
          2016,
          2001,
          2010,
          2009,
          2008,
          2018,
          2013,
          2013,
          2014,
          2014,
          2021,
          2013,
          2021,
          2014,
          1990,
          2018,
          1997,
          2020,
          2021,
          2010,
          2016,
          2012,
          2013,
          2009,
          2011,
          2011,
          1993,
          2020,
          2020,
          2012,
          2016,
          2013,
          2020,
          2020,
          2020,
          2014,
          2009,
          2014,
          1990,
          2006,
          2016,
          2020,
          2008,
          2012,
          2019,
          2020,
          2020,
          2020,
          2020,
          2016,
          2005,
          2002,
          2011,
          2020,
          2020,
          2018,
          2016,
          2016,
          2012,
          2014,
          2020,
          2017,
          2007,
          2020,
          2016,
          2017,
          2014,
          2019,
          2020,
          2019,
          2011,
          2016,
          2016,
          2019,
          2020,
          2018,
          2019,
          2019,
          2019,
          2019,
          2019,
          2015,
          2019,
          2019,
          2018,
          2019,
          2013,
          2015,
          2019,
          2019,
          2014,
          2014,
          2018,
          2018,
          2018,
          2018,
          2018,
          2018,
          2017,
          2018,
          2018,
          2016,
          2017,
          1979,
          2016,
          2018,
          2018,
          2016,
          2017,
          2017,
          2017,
          2017,
          2011,
          2016,
          2016,
          2016,
          2015,
          2016,
          2009,
          2008,
          2005,
          2008,
          2006,
          2009,
          2013,
          2000,
          2015,
          2004,
          1998,
          2011,
          2015,
          2012,
          2002,
          2007,
          2003,
          2018,
          2011,
          2011,
          1997,
          2018,
          2015,
          2018,
          1997,
          1996,
          1992,
          2007,
          1999,
          2018,
          2015,
          2013,
          1999,
          2017,
          2010,
          1998,
          2009,
          2006,
          2000,
          2017,
          2003,
          2009,
          2010,
          2006,
          2008,
          2005,
          2007,
          2000,
          1997,
          2016,
          2002,
          2010,
          1965,
          2015,
          2008,
          1996,
          2015,
          2017,
          2003,
          2010,
          2010,
          2006,
          2015,
          2001,
          2008,
          2008,
          2008,
          2005,
          2007,
          2012,
          1995,
          2009,
          2015,
          2001,
          2004,
          2005,
          2011,
          2018,
          2007,
          2012,
          2017,
          1995,
          2009,
          2011,
          2015,
          2017,
          2008,
          1989,
          2013,
          2009,
          2015,
          2012,
          2009,
          2011,
          2015,
          2005,
          2002,
          2001,
          1988,
          2010,
          2005,
          1996,
          2009,
          2012,
          1987,
          2006,
          2014,
          2012,
          2000,
          2016,
          2012,
          2008,
          2014,
          1999,
          1997,
          2002,
          2016,
          2015,
          2014,
          2003,
          2005,
          2016,
          2002,
          2007,
          2012,
          2016,
          2016,
          2009,
          2007,
          2008,
          2017,
          1995,
          2007,
          2004,
          1968,
          2018,
          2007,
          1993,
          2008,
          2015,
          1955,
          1984,
          2010,
          2017,
          1990,
          2005,
          2003,
          2018,
          2010,
          2013,
          2013,
          2010,
          2012,
          2011,
          2015,
          2010,
          2011,
          2009,
          2017,
          2016,
          2010,
          1998,
          2015,
          2018,
          2018,
          2003,
          2017,
          2007,
          2017,
          2014,
          2019,
          2006,
          2006,
          1999,
          2009,
          1995,
          2010,
          2009,
          2016,
          2008,
          2017,
          2006,
          2005,
          2007,
          2017,
          2016,
          2005,
          2008,
          2016,
          2017,
          2011,
          2008,
          2011,
          2018,
          2016,
          2009,
          2009,
          2011,
          2007,
          2017,
          2010,
          2003,
          2002,
          2008,
          1998,
          1988,
          2010,
          1993,
          2012,
          2004,
          2006,
          1997,
          2002,
          1994,
          2011,
          2012,
          2015,
          2014,
          2010,
          2016,
          2002,
          2009,
          2002,
          2013,
          2015,
          1998,
          1999,
          1988,
          2017,
          1995,
          1997,
          2001,
          2015,
          2008,
          2014,
          1990,
          2004,
          2015,
          2018,
          2016,
          2012,
          2008,
          2015,
          2017,
          2011,
          2000,
          2000,
          1999,
          2018,
          2006,
          1994,
          2002,
          2005,
          2016
         ],
         "xaxis": "x",
         "y": [
          104,
          103,
          97,
          106,
          96,
          91,
          108,
          142,
          108,
          124,
          114,
          101,
          106,
          118,
          121,
          98,
          120,
          110,
          83,
          94,
          95,
          114,
          91,
          98,
          111,
          114,
          142,
          103,
          116,
          148,
          97,
          102,
          91,
          141,
          130,
          97,
          114,
          125,
          105,
          117,
          115,
          124,
          131,
          122,
          97,
          91,
          90,
          100,
          94,
          90,
          95,
          98,
          108,
          103,
          115,
          145,
          101,
          118,
          106,
          123,
          128,
          108,
          133,
          103,
          124,
          103,
          114,
          109,
          111,
          98,
          104,
          101,
          94,
          118,
          89,
          109,
          132,
          133,
          101,
          128,
          104,
          127,
          97,
          97,
          91,
          113,
          121,
          127,
          89,
          136,
          116,
          127,
          107,
          93,
          98,
          158,
          164,
          103,
          116,
          96,
          107,
          102,
          104,
          111,
          141,
          98,
          101,
          139,
          97,
          116,
          112,
          121,
          181,
          123,
          89,
          113,
          113,
          133,
          108,
          106,
          101,
          96,
          98,
          113,
          118,
          8,
          119,
          112,
          87,
          132,
          107,
          91,
          132,
          117,
          139,
          109,
          120,
          149,
          124,
          95,
          88,
          114,
          112,
          123,
          102,
          104,
          86,
          101,
          87,
          103,
          127,
          124,
          94,
          96,
          111,
          110,
          158,
          102,
          110,
          94,
          128,
          124,
          92,
          98,
          103,
          94,
          105,
          116,
          101,
          106,
          93,
          88,
          97,
          94,
          90,
          96,
          83,
          126,
          97,
          107,
          93,
          82,
          118,
          106,
          108,
          117,
          98,
          91,
          92,
          123,
          110,
          105,
          127,
          126,
          102,
          94,
          121,
          106,
          130,
          89,
          113,
          100,
          129,
          102,
          108,
          97,
          86,
          128,
          153,
          75,
          113,
          105,
          86,
          84,
          105,
          101,
          80,
          123,
          93,
          109,
          102,
          102,
          91,
          104,
          92,
          99,
          82,
          123,
          98,
          92,
          101,
          133,
          105,
          118,
          87,
          110,
          139,
          150,
          99,
          87,
          89,
          81,
          73,
          121,
          93,
          135,
          90,
          98,
          94,
          95,
          119,
          101,
          85,
          145,
          116,
          106,
          106,
          109,
          106,
          108,
          85,
          137,
          91,
          120,
          108,
          94,
          133,
          115,
          200,
          96,
          104,
          103,
          97,
          98,
          85,
          92,
          140,
          108,
          102,
          102,
          119,
          88,
          110,
          85,
          110,
          90,
          130,
          117,
          89,
          124,
          122,
          118,
          111,
          100,
          88,
          101,
          116,
          116,
          83,
          89,
          96,
          89,
          123,
          127,
          122,
          134,
          109,
          133,
          123,
          113,
          128,
          94,
          138,
          118,
          86,
          100,
          98,
          114,
          121,
          96,
          109,
          110,
          110,
          150,
          90,
          98,
          95,
          99,
          97,
          112,
          98,
          88,
          112,
          90,
          130,
          119,
          101,
          105,
          97,
          88,
          131,
          77,
          68,
          109,
          96,
          97,
          86,
          102,
          122,
          125,
          166,
          90,
          126,
          126,
          106,
          128,
          111,
          114,
          112,
          112,
          104,
          97,
          117,
          109,
          102,
          126,
          88,
          112,
          86,
          95,
          111,
          106,
          91,
          128,
          92,
          107,
          94,
          110,
          83,
          135,
          135,
          128,
          96,
          139,
          152,
          113,
          96,
          113,
          154,
          82,
          115,
          113,
          111,
          116,
          97,
          95,
          93,
          107,
          119,
          97,
          96,
          101,
          104,
          104,
          115,
          97,
          119,
          85,
          147,
          103,
          111,
          123,
          99,
          105,
          106,
          95,
          88,
          201,
          179,
          87,
          138,
          85,
          108,
          141,
          103,
          141,
          117,
          136,
          116,
          111,
          91,
          99,
          111,
          97,
          121,
          120,
          96,
          107,
          99,
          103,
          91,
          90,
          128,
          89,
          131,
          108,
          119,
          104,
          94,
          114,
          119,
          96,
          101,
          99,
          98,
          94,
          94,
          90,
          110,
          96,
          147,
          130,
          89,
          106,
          105,
          129,
          191,
          124,
          101,
          88
         ],
         "yaxis": "y"
        },
        {
         "customdata": [
          [
           "Jeans"
          ],
          [
           "InuYasha the Movie 2: The Castle Beyond the Looking Glass"
          ],
          [
           "InuYasha the Movie 3: Swords of an Honorable Ruler"
          ],
          [
           "Naruto Shippuden the Movie: Blood Prison"
          ],
          [
           "Naruto Shippuden: The Movie: The Lost Tower"
          ],
          [
           "Angamaly Diaries"
          ],
          [
           "Anjaam"
          ],
          [
           "Gurgaon"
          ],
          [
           "Shikara"
          ],
          [
           "Initial D"
          ],
          [
           "Level 16"
          ],
          [
           "The Guns of Navarone"
          ],
          [
           "Thimmarusu"
          ],
          [
           "C Kkompany"
          ],
          [
           "EMI: Liya Hai To Chukana Padega"
          ],
          [
           "Koi Aap Sa"
          ],
          [
           "Krishna Cottage"
          ],
          [
           "Kucch To Hai"
          ],
          [
           "Kyo Kii... Main Jhuth Nahin Bolta"
          ],
          [
           "Mission Istaanbul: Darr Ke Aagey Jeet Hai"
          ],
          [
           "Once Upon a Time in Mumbaai"
          ],
          [
           "Once Upon a Time in Mumbai Dobaara!"
          ],
          [
           "Shor In the City"
          ],
          [
           "The Dirty Picture"
          ],
          [
           "Bombay"
          ],
          [
           "Brother Jekwu"
          ],
          [
           "The Kissing Booth 3"
          ],
          [
           "The Swarm"
          ],
          [
           "Chennai Express"
          ],
          [
           "Lady Boss: The Jackie Collins Story"
          ],
          [
           "Eyes of a Thief"
          ],
          [
           "Sanitation Day"
          ],
          [
           "The Tambour of Retribution"
          ],
          [
           "Back to Q82"
          ],
          [
           "Tango With Me"
          ],
          [
           "Har Kisse Ke Hisse: Kaamyaab"
          ],
          [
           "Rehmataan"
          ],
          [
           "Truckbhar Swapna"
          ],
          [
           "Ujala"
          ],
          [
           "The 8th Night"
          ],
          [
           "Dreamy Eyes"
          ],
          [
           "Wonder Boy"
          ],
          [
           "O Vendedor de Sonhos"
          ],
          [
           "Kambili: The Whole 30 Yards"
          ],
          [
           "Biking Borders"
          ],
          [
           "Until Midnight"
          ],
          [
           "Sweet & Sour"
          ],
          [
           "Trippin' with the Kandasamys"
          ],
          [
           "Myriam Fares: The Journey"
          ],
          [
           "Gold Statue"
          ],
          [
           "Mosquita y Mari"
          ],
          [
           "99 Songs"
          ],
          [
           "Asmaa"
          ],
          [
           "Amy Tan: Unintended Memoir"
          ],
          [
           "Sardar Ka Grandson"
          ],
          [
           "Oxygen"
          ],
          [
           "Super Me"
          ],
          [
           "Milestone"
          ],
          [
           "Swiped"
          ],
          [
           "Ram Prasad Ki Tehrvi"
          ],
          [
           "Among Family"
          ],
          [
           "Dedemin Fisi"
          ],
          [
           "Hayat Öpücügü"
          ],
          [
           "Kocan Kadar Konus 2: Dirilis"
          ],
          [
           "This Lady Called Life"
          ],
          [
           "Oloibiri"
          ],
          [
           "Jaane Tu... Ya Jaane Na"
          ],
          [
           "Madness in the Desert"
          ],
          [
           "Into the Beat"
          ],
          [
           "Time Trap"
          ],
          [
           "Tuesdays & Fridays"
          ],
          [
           "Only Mine"
          ],
          [
           "Uppena"
          ],
          [
           "New Gods: Nezha Reborn"
          ],
          [
           "Roohi"
          ],
          [
           "Mandela"
          ],
          [
           "Madam Chief Minister"
          ],
          [
           "Seven Souls in the Skull Castle: Season Flower"
          ],
          [
           "Tersanjung the Movie"
          ],
          [
           "Wazir"
          ],
          [
           "Keeping the Bees"
          ],
          [
           "Caught by a Wave"
          ],
          [
           "The Yin Yang Master"
          ],
          [
           "Get the Goat"
          ],
          [
           "Catch.er"
          ],
          [
           "C/O Kaadhal"
          ],
          [
           "Mucize"
          ],
          [
           "Generasi 90an: Melankolia"
          ],
          [
           "Aelay"
          ],
          [
           "Fate of Alakada"
          ],
          [
           "Mariposa"
          ],
          [
           "Indoo Ki Jawani"
          ],
          [
           "How to Be Really Bad"
          ],
          [
           "Blue, Painful, Fragile"
          ],
          [
           "Red"
          ],
          [
           "Love"
          ],
          [
           "No Escape Room"
          ],
          [
           "Awara Paagal Deewana"
          ],
          [
           "My Teacher, My Obsession"
          ],
          [
           "Namaste Wahala"
          ],
          [
           "To All The Boys: Always And Forever"
          ],
          [
           "Growing up and other problems"
          ],
          [
           "Layla Majnun"
          ],
          [
           "Squared Love"
          ],
          [
           "Monster Run"
          ],
          [
           "Little Big Women"
          ],
          [
           "The Yin-Yang Master: Dream Of Eternity"
          ],
          [
           "Accomplice"
          ],
          [
           "Penguin Bloom"
          ],
          [
           "Black Rose"
          ],
          [
           "Sightless"
          ],
          [
           "Radium Girls"
          ],
          [
           "What Would Sophia Loren Do?"
          ],
          [
           "The Heartbreak Club"
          ],
          [
           "Apaharan"
          ],
          [
           "BluffMaster!"
          ],
          [
           "100% Halal"
          ],
          [
           "Tony Parker: The Final Shot"
          ],
          [
           "Hello Brother"
          ],
          [
           "Asphalt Burning"
          ],
          [
           "The Creative Brain"
          ],
          [
           "Bobby Jasoos"
          ],
          [
           "Too Handsome to Handle"
          ],
          [
           "Hello, Love, Goodbye"
          ],
          [
           "The History of Future Folk"
          ],
          [
           "QLIMAX THE SOURCE"
          ],
          [
           "Mohamed Hussein"
          ],
          [
           "Talentime"
          ],
          [
           "An Unremarkable Christmas"
          ],
          [
           "Eggnoid: Love & Time Portal"
          ],
          [
           "Love You to the Stars and Back"
          ],
          [
           "Sakaling Maging Tayo"
          ],
          [
           "The Professor and the Madman"
          ],
          [
           "She's the One"
          ],
          [
           "Rose Island"
          ],
          [
           "Between Maybes"
          ],
          [
           "Must Be... Love"
          ],
          [
           "Larry the Cable Guy: Remain Seated"
          ],
          [
           "Unexpectedly Yours"
          ],
          [
           "Andhakaaram"
          ],
          [
           "The Suit"
          ],
          [
           "40 Sticks"
          ],
          [
           "Bodyguard"
          ],
          [
           "Break Ke Baad"
          ],
          [
           "Hawaizaada"
          ],
          [
           "My Amnesia Girl"
          ],
          [
           "Singham"
          ],
          [
           "TE3N"
          ],
          [
           "Well Done Abba"
          ],
          [
           "Killer Cove"
          ],
          [
           "Alone/Together"
          ],
          [
           "One More Try"
          ],
          [
           "MOTHER"
          ],
          [
           "Hidden in Plain Sight"
          ],
          [
           "His House"
          ],
          [
           "In Line"
          ],
          [
           "Kaali Khuhi"
          ],
          [
           "Pagpag: Nine Lives"
          ],
          [
           "Ajab Prem Ki Ghazab Kahani"
          ],
          [
           "Shattered Memories"
          ],
          [
           "The Hows of Us"
          ],
          [
           "Beirut Oh Beirut"
          ],
          [
           "Bosta"
          ],
          [
           "Heritages"
          ],
          [
           "The Little Wars"
          ],
          [
           "What Did I Mess"
          ],
          [
           "Whispers"
          ],
          [
           "El-Khawaga's Dilemma"
          ],
          [
           "Love Like the Falling Rain"
          ],
          [
           "A Choo"
          ],
          [
           "BLACKPINK: Light Up the Sky"
          ],
          [
           "Fida"
          ],
          [
           "Dil"
          ],
          [
           "Disco Dancer"
          ],
          [
           "Phir Hera Pheri"
          ],
          [
           "The Legend of Bhagat Singh"
          ],
          [
           "Dolly Parton: Here I Am"
          ],
          [
           "Walk Away from Love"
          ],
          [
           "Good Game: The Beginning"
          ],
          [
           "A Chaster Marriage"
          ],
          [
           "Carlos Almaraz: Playing with Fire"
          ],
          [
           "The Book of Sun"
          ],
          [
           "We Have Always Lived in the Castle"
          ],
          [
           "Dedh Ishqiya"
          ],
          [
           "Ishqiya"
          ],
          [
           "Jab We Met"
          ],
          [
           "Mann"
          ],
          [
           "Manorama Six Feet Under"
          ],
          [
           "Time Out"
          ],
          [
           "Bhaji In Problem"
          ],
          [
           "Black"
          ],
          [
           "Santa Banta Pvt Ltd"
          ],
          [
           "Whipped"
          ],
          [
           "Anaamika"
          ],
          [
           "Dad Wanted"
          ],
          [
           "Aapla Manus"
          ],
          [
           "Ani... Dr. Kashinath Ghanekar"
          ],
          [
           "Bhai: Vyakti Ki Valli - Poorvardha"
          ],
          [
           "PhotoCopy"
          ],
          [
           "Poshter Girl"
          ],
          [
           "Son Of Adam"
          ],
          [
           "Cargo"
          ],
          [
           "So Much Love to Give"
          ],
          [
           "Kandasamys: The Wedding"
          ],
          [
           "You're My Boss"
          ],
          [
           "Always Be My Maybe"
          ],
          [
           "Fate/Grand Order -First Order-"
          ],
          [
           "Soldier"
          ],
          [
           "Maniyarayile Ashokan"
          ],
          [
           "Class of '83"
          ],
          [
           "The Crimes That Bind"
          ],
          [
           "Gunjan Saxena: The Kargil Girl"
          ],
          [
           "Stars in the Sky: A Hunting Story"
          ],
          [
           "Work It"
          ],
          [
           "Anelka: Misunderstood"
          ],
          [
           "Door Ke Darshan"
          ],
          [
           "Double World"
          ],
          [
           "The Kissing Booth 2"
          ],
          [
           "Funan"
          ],
          [
           "Fatal Affair"
          ],
          [
           "Cold Feet"
          ],
          [
           "Sylvia"
          ],
          [
           "Mama's Boy"
          ],
          [
           "Mucho Mucho Amor: The Legend of Walter Mercado"
          ],
          [
           "Aiyyaa"
          ],
          [
           "Bbuddah Hoga Terra Baap"
          ],
          [
           "Blood Money"
          ],
          [
           "Boss"
          ],
          [
           "Chashme Baddoor"
          ],
          [
           "Drishyam"
          ],
          [
           "Gabbar Is Back"
          ],
          [
           "Gollu Aur Pappu"
          ],
          [
           "Madras Café"
          ],
          [
           "One by Two"
          ],
          [
           "Penalty"
          ],
          [
           "Players"
          ],
          [
           "Tanu Weds Manu"
          ],
          [
           "What the Fish"
          ],
          [
           "#AnneFrank - Parallel Stories"
          ],
          [
           "The Mirror Boy"
          ],
          [
           "Kasanova"
          ],
          [
           "Thackeray (Hindi)"
          ],
          [
           "Prem Ratan Dhan Payo"
          ],
          [
           "Vivah"
          ],
          [
           "Kappela"
          ],
          [
           "Destiny"
          ],
          [
           "The Emigrant"
          ],
          [
           "Cairo Station"
          ],
          [
           "Dark Waters"
          ],
          [
           "Lola Igna"
          ],
          [
           "The Blazing Sun"
          ],
          [
           "Last Flight to Abuja"
          ],
          [
           "Wira"
          ],
          [
           "Asura Guru"
          ],
          [
           "Milea"
          ],
          [
           "Menahi"
          ],
          [
           "Forensic"
          ],
          [
           "Project Papa"
          ],
          [
           "Before the Summer Crowds"
          ],
          [
           "Choked: Paisa Bolta Hai"
          ],
          [
           "Hot Sweet Sour"
          ],
          [
           "Andaleeb El Dokki"
          ],
          [
           "Let's Dance"
          ],
          [
           "Life's Speed Bump"
          ],
          [
           "Sorry To Disturb"
          ],
          [
           "The Student Cop"
          ],
          [
           "X Large"
          ],
          [
           "Chippa"
          ],
          [
           "The Stolen"
          ],
          [
           "High Strung Free Dance"
          ],
          [
           "Grandmother's Farm"
          ],
          [
           "Grandmother's Farm Part 2"
          ],
          [
           "Ne Zha"
          ],
          [
           "Bye Bye London"
          ],
          [
           "Mujeres arriba"
          ],
          [
           "No Longer kids"
          ],
          [
           "The Married Couples"
          ],
          [
           "The School of Mischief"
          ],
          [
           "I Will Follow"
          ],
          [
           "Escaping Tel Aviv"
          ],
          [
           "Game Over"
          ],
          [
           "Karkar"
          ],
          [
           "Omar & Salma 2"
          ],
          [
           "Tarek's Situation"
          ],
          [
           "The Beach Loafer"
          ],
          [
           "Light in the Dark"
          ],
          [
           "Dilan 1990"
          ],
          [
           "Dilan 1991"
          ],
          [
           "The Delivery Boy"
          ],
          [
           "Fire in the Blood"
          ],
          [
           "Ali & Alia"
          ],
          [
           "Unbreakable Kimmy Schmidt: Kimmy vs. the Reverend"
          ],
          [
           "Andaz Apna Apna"
          ],
          [
           "Aerials"
          ],
          [
           "In Paradox"
          ],
          [
           "One Day: Justice Delivered"
          ],
          [
           "Death Can Wait"
          ],
          [
           "Mike Birbiglia: My Girlfriend's Boyfriend"
          ],
          [
           "Material"
          ],
          [
           "Dangerous Lies"
          ],
          [
           "Rich in Love"
          ],
          [
           "Love Is War"
          ],
          [
           "R.K.Nagar"
          ],
          [
           "Cinar Agaci"
          ],
          [
           "Neseli Hayat"
          ],
          [
           "Organize Isler"
          ],
          [
           "We'll Be Right Back After The Break"
          ],
          [
           "5Gang"
          ],
          [
           "Bheeshma"
          ],
          [
           "She Made Me a Criminal"
          ],
          [
           "The Dealer"
          ],
          [
           "The International Player"
          ],
          [
           "The Promise"
          ],
          [
           "الف مبروك"
          ],
          [
           "Kolaiyuthir Kaalam"
          ],
          [
           "My Stupid Boss 2"
          ],
          [
           "This Earth of Mankind"
          ],
          [
           "Varane Avashyamund"
          ],
          [
           "For the Broken Hearted"
          ],
          [
           "New Money"
          ],
          [
           "Moms at War"
          ],
          [
           "Agneepath"
          ],
          [
           "Brothers"
          ],
          [
           "Dostana"
          ],
          [
           "Duniya"
          ],
          [
           "Duplicate"
          ],
          [
           "Friendship"
          ],
          [
           "Gori Tere Pyaar Mein"
          ],
          [
           "Gumrah"
          ],
          [
           "Hasee Toh Phasee"
          ],
          [
           "Humpty Sharma Ki Dulhania"
          ],
          [
           "Kaal"
          ],
          [
           "Kabhi Alvida Naa Kehna"
          ],
          [
           "Kabhi Khushi Kabhie Gham"
          ],
          [
           "Kal Ho Naa Ho"
          ],
          [
           "Kapoor & Sons"
          ],
          [
           "Kuch Kuch Hota Hai"
          ],
          [
           "Magnificent"
          ],
          [
           "Muqaddar ka Faisla"
          ],
          [
           "Ungli"
          ],
          [
           "Pretty Little Stalker"
          ],
          [
           "Kannum Kannum Kollaiyadithaal"
          ],
          [
           "There's Something in the Water"
          ],
          [
           "El silencio es bienvenido"
          ],
          [
           "Masameer - The Movie"
          ],
          [
           "Bypass Road"
          ],
          [
           "Baby Mamas"
          ],
          [
           "Miracle in Cell No. 7"
          ],
          [
           "The Last Bomb of the Second World War"
          ],
          [
           "Bhangra Paa Le"
          ],
          [
           "Ordinary World"
          ],
          [
           "Pop, Lock 'n Roll"
          ],
          [
           "Ala Vaikunthapurramuloo"
          ],
          [
           "Couple of Days"
          ],
          [
           "When Love Happens"
          ],
          [
           "The Body"
          ],
          [
           "Panipat - The Great Betrayal"
          ],
          [
           "The Ghost and the Tout"
          ],
          [
           "To All the Boys: P.S. I Still Love You"
          ],
          [
           "Love for Sale 2"
          ],
          [
           "Thottappan"
          ],
          [
           "Azali"
          ],
          [
           "Jada"
          ],
          [
           "Gardeners of Eden"
          ],
          [
           "Tom Papa: You're Doing Great!"
          ],
          [
           "Thambi"
          ],
          [
           "Hum Aapke Hain Koun"
          ],
          [
           "Hakkunde"
          ],
          [
           "Shimla Mirchi"
          ],
          [
           "Sillu Karuppatti"
          ],
          [
           "KD (A) Karuppudurai"
          ],
          [
           "Motichoor Chaknachoor"
          ],
          [
           "WHAT DID JACK DO?"
          ],
          [
           "Deadcon"
          ],
          [
           "NiNoKuni"
          ],
          [
           "Bulbul Can Sing"
          ],
          [
           "Betty White: First Lady of Television"
          ],
          [
           "All the Freckles in the World"
          ],
          [
           "Half Girlfriend"
          ],
          [
           "Aruna & Her Palate"
          ],
          [
           "Aaviri"
          ],
          [
           "El Pepe, a Supreme Life"
          ],
          [
           "Como caído del cielo"
          ],
          [
           "Being Mrs Elliot"
          ],
          [
           "Bangistan"
          ],
          [
           "Dil Chahta Hai"
          ],
          [
           "Don"
          ],
          [
           "Don 2"
          ],
          [
           "Fukrey"
          ],
          [
           "Game"
          ],
          [
           "Honeymoon Travels Pvt. Ltd."
          ],
          [
           "Isoken"
          ],
          [
           "Karthik Calling Karthik"
          ],
          [
           "Luck by Chance"
          ],
          [
           "Rock On!!"
          ],
          [
           "Talaash"
          ],
          [
           "Zindagi Na Milegi Dobara"
          ],
          [
           "Good and Prosperous"
          ],
          [
           "Saaho"
          ],
          [
           "Banana Island Ghost"
          ],
          [
           "Wives on Strike"
          ],
          [
           "High End Yaariyan"
          ],
          [
           "Jindua"
          ],
          [
           "Mahi NRI"
          ],
          [
           "Tee Shot: Ariya Jutanugarn"
          ],
          [
           "Thug Life"
          ],
          [
           "The Zoya Factor"
          ],
          [
           "Atlantics"
          ],
          [
           "The Island"
          ],
          [
           "Evvarikee Cheppoddu"
          ],
          [
           "Pranaam"
          ],
          [
           "The Knight Before Christmas"
          ],
          [
           "Dorasaani"
          ],
          [
           "Mallesham"
          ],
          [
           "El sendero de la anaconda"
          ],
          [
           "House Arrest"
          ],
          [
           "SunGanges"
          ],
          [
           "The Garden of Words"
          ],
          [
           "U Turn"
          ],
          [
           "Shadow"
          ],
          [
           "Minimalism: A Documentary About the Important Things"
          ],
          [
           "Drive"
          ],
          [
           "Revenge of the Pontianak"
          ],
          [
           "Master Z: The Ip Man Legacy"
          ],
          [
           "10 Days in Sun City"
          ],
          [
           "Love, Surreal and Odd"
          ],
          [
           "Up North"
          ],
          [
           "Upstarts"
          ],
          [
           "Verses of Love 2"
          ],
          [
           "Martin Matte: La vie, la mort...eh la la..!"
          ],
          [
           "The Bling Lagosians"
          ],
          [
           "Home Is Where the Killer Is"
          ],
          [
           "Love for Sale"
          ],
          [
           "First Kiss"
          ],
          [
           "Malaal"
          ],
          [
           "Steal a Pencil for Me"
          ],
          [
           "Oh! Baby"
          ],
          [
           "Locked on You"
          ],
          [
           "Shanghai Fortress"
          ],
          [
           "Ee Nagaraniki Emaindi"
          ],
          [
           "Kill Me If You Dare"
          ],
          [
           "Saawan"
          ],
          [
           "Watchman"
          ],
          [
           "Uncle Naji in UAE"
          ],
          [
           "Kardec"
          ],
          [
           "Marriage Palace"
          ],
          [
           "Saavat"
          ],
          [
           "Sextuplets"
          ],
          [
           "Uyare"
          ],
          [
           "Badla"
          ],
          [
           "Crazy Beautiful You"
          ],
          [
           "Misfit"
          ],
          [
           "Uriyadi 2"
          ],
          [
           "Manu"
          ],
          [
           "Eerie"
          ],
          [
           "The Beast Stalker"
          ],
          [
           "The Midas Touch"
          ],
          [
           "The Twins Effect II"
          ],
          [
           "Secret Obsession"
          ],
          [
           "Mauli"
          ],
          [
           "Frankenstein’s Monster’s Monster, Frankenstein"
          ],
          [
           "Romeo Akbar Walter"
          ],
          [
           "El testigo"
          ],
          [
           "Kahaani"
          ],
          [
           "The Wolf's Call"
          ],
          [
           "Luckee"
          ],
          [
           "Pihu"
          ],
          [
           "A Silent Voice"
          ],
          [
           "Miranda Sings Live…Your Welcome"
          ],
          [
           "Krutant"
          ],
          [
           "We Are Legends"
          ],
          [
           "Rim of the World"
          ],
          [
           "The Man Who Feels No Pain"
          ],
          [
           "Merata: How Mum Decolonised the Screen"
          ],
          [
           "The Great Magician"
          ],
          [
           "The Last Summer"
          ],
          [
           "Sur Sapata"
          ],
          [
           "Music Teacher"
          ],
          [
           "Ek Khiladi Ek Haseena"
          ],
          [
           "Jhankaar Beats"
          ],
          [
           "Mumbai Matinee"
          ],
          [
           "Rainbow Jelly"
          ],
          [
           "Shabd"
          ],
          [
           "The Perfect Date"
          ],
          [
           "Liss Pereira: Reteniendo líquidos"
          ],
          [
           "Sarvam Thaala Mayam (Telugu Version)"
          ],
          [
           "Petta"
          ],
          [
           "Unicorn Store"
          ],
          [
           "Ek Ladki Ko Dekha Toh Aisa Laga"
          ],
          [
           "Love O2O"
          ],
          [
           "Mercy Black"
          ],
          [
           "The Burial of Kojo"
          ],
          [
           "15 August"
          ],
          [
           "Sei"
          ],
          [
           "The Amazing Praybeyt Benjamin"
          ],
          [
           "The Super Parental Guardians"
          ],
          [
           "Late Life: The Chien-Ming Wang Story"
          ],
          [
           "Paskal"
          ],
          [
           "A Love Story"
          ],
          [
           "Barcelona: A Love Untold"
          ],
          [
           "Finally Found Someone"
          ],
          [
           "Hajwala 2: Mysterious Mission"
          ],
          [
           "Sisterakas"
          ],
          [
           "Starting Over Again"
          ],
          [
           "Everyday I Love You"
          ],
          [
           "Paranormal Investigation"
          ],
          [
           "Beauty and the Bestie"
          ],
          [
           "Can't Help Falling in Love"
          ],
          [
           "Four Sisters and a Wedding"
          ],
          [
           "My Ex & Whys"
          ],
          [
           "She's Dating the Gangster"
          ],
          [
           "Genius"
          ],
          [
           "Chameli"
          ],
          [
           "Fatso"
          ],
          [
           "Neevevaro"
          ],
          [
           "Sur: The Melody of Life"
          ],
          [
           "Ugly Aur Pagli"
          ],
          [
           "Manusangada"
          ],
          [
           "Virsa"
          ],
          [
           "Bhasmasur"
          ],
          [
           "Habibie & Ainun"
          ],
          [
           "Rudy Habibie"
          ],
          [
           "Surga Yang Tak Dirindukan"
          ],
          [
           "Surga Yang Tak Dirindukan 2"
          ],
          [
           "IO"
          ],
          [
           "Old Lord Savanna"
          ],
          [
           "Abdullah, The Final Witness"
          ],
          [
           "Echcharikkai"
          ],
          [
           "Pari"
          ],
          [
           "Next Enti?"
          ],
          [
           "Komola Rocket"
          ],
          [
           "And Breathe Normally"
          ],
          [
           "Back to the 90s"
          ],
          [
           "The Seven Deadly Sins the Movie: Prisoners of the Sky"
          ],
          [
           "Tom Papa Live in New York City"
          ],
          [
           "Andhadhun"
          ],
          [
           "Kita Kita"
          ],
          [
           "5 Star Christmas"
          ],
          [
           "Teefa in Trouble"
          ],
          [
           "A Beautiful Life"
          ],
          [
           "Break Up 100"
          ],
          [
           "Chal Bhaag"
          ],
          [
           "Crossroads: One Two Jaga"
          ],
          [
           "Don't Go Breaking My Heart 2"
          ],
          [
           "Faraar"
          ],
          [
           "Helios"
          ],
          [
           "Look for a Star"
          ],
          [
           "Target"
          ],
          [
           "Halkaa"
          ],
          [
           "Odu Raja Odu"
          ],
          [
           "Savita Damodar Paranjpe"
          ],
          [
           "The Giant"
          ],
          [
           "All's Well, End's Well (2009)"
          ],
          [
           "Bucket List"
          ],
          [
           "Aagey Se Right"
          ],
          [
           "Aamir"
          ],
          [
           "ABCD 2"
          ],
          [
           "ABCD: Any Body Can Dance"
          ],
          [
           "Arjun: The Warrior Prince"
          ],
          [
           "Asees"
          ],
          [
           "Barfi!"
          ],
          [
           "Chance Pe Dance"
          ],
          [
           "Chup Chup Ke"
          ],
          [
           "Dhan Dhana Dhan Goal"
          ],
          [
           "Dhoondte Reh Jaoge"
          ],
          [
           "Gaddar: the Traitor"
          ],
          [
           "Grandmaster"
          ],
          [
           "Hattrick"
          ],
          [
           "Himmatwala"
          ],
          [
           "Husbands in Goa"
          ],
          [
           "Kalakalappu"
          ],
          [
           "Katti Batti"
          ],
          [
           "Life in a ... Metro"
          ],
          [
           "Mundeyan Ton Bachke Rahin"
          ],
          [
           "Oye Lucky! Lucky Oye!"
          ],
          [
           "Paan Singh Tomar"
          ],
          [
           "Raja Natwarlal"
          ],
          [
           "Satyagraha"
          ],
          [
           "Settai"
          ],
          [
           "Sigaram Thodu"
          ],
          [
           "Welcome to Sajjanpur"
          ],
          [
           "Dragon Tiger Gate"
          ],
          [
           "Naa Bangaaru Talli"
          ],
          [
           "Soorma"
          ],
          [
           "Kuntilanak"
          ],
          [
           "Pulang"
          ],
          [
           "Parrot Sketch Not Included: Twenty Years of Monty Python"
          ],
          [
           "25 Kille"
          ],
          [
           "Agyaat"
          ],
          [
           "Anjaan"
          ],
          [
           "Bathinda Express"
          ],
          [
           "Delhi 6"
          ],
          [
           "Ek Main Aur Ekk Tu"
          ],
          [
           "Haani"
          ],
          [
           "Happy Go Lucky"
          ],
          [
           "Jagga Jasoos"
          ],
          [
           "Jatt James Bond"
          ],
          [
           "Jodhaa Akbar"
          ],
          [
           "Kaminey"
          ],
          [
           "Khido Khundi"
          ],
          [
           "Khoobsurat"
          ],
          [
           "Kisaan"
          ],
          [
           "Kismat Konnection"
          ],
          [
           "Kurbaan"
          ],
          [
           "Lock"
          ],
          [
           "Luv Shuv Tey Chicken Khurana"
          ],
          [
           "Manje Bistre"
          ],
          [
           "Mugamoodi"
          ],
          [
           "Muran"
          ],
          [
           "My Friend Pinto"
          ],
          [
           "Naan Sigappu Manithan"
          ],
          [
           "Nasha"
          ],
          [
           "Needhi Singh"
          ],
          [
           "Peace Haven"
          ],
          [
           "Phantom"
          ],
          [
           "Pizza"
          ],
          [
           "Race"
          ],
          [
           "Race 2"
          ],
          [
           "Sat Shri Akaal England"
          ],
          [
           "Thaandavam"
          ],
          [
           "Tiger"
          ],
          [
           "Vettai"
          ],
          [
           "Wake Up Sid"
          ],
          [
           "We Are Family"
          ],
          [
           "Zindagi Kitni Haseen Hay"
          ],
          [
           "PK"
          ],
          [
           "​​Kuch Bheege Alfaaz"
          ],
          [
           "Naam Shabana"
          ],
          [
           "Qarib Qarib Singlle"
          ],
          [
           "Spyder"
          ],
          [
           "Bareilly Ki Barfi"
          ],
          [
           "Mersal"
          ],
          [
           "Mom"
          ],
          [
           "Toilet: Ek Prem Katha"
          ],
          [
           "To All the Boys I’ve Loved Before"
          ],
          [
           "Bhavesh Joshi Superhero"
          ],
          [
           "Baaghi"
          ],
          [
           "Fitoor"
          ],
          [
           "Fiza"
          ],
          [
           "Guzaarish"
          ],
          [
           "Highway"
          ],
          [
           "I Hate Luv Storys"
          ],
          [
           "Main aurr Mrs. Khanna"
          ],
          [
           "Mohenjo Daro"
          ],
          [
           "Raajneeti"
          ],
          [
           "Rang De Basanti"
          ],
          [
           "Rowdy Rathore"
          ],
          [
           "Tamasha"
          ],
          [
           "Tere Naal Love Ho Gaya"
          ],
          [
           "Thank You"
          ],
          [
           "Kath & Kimderella"
          ],
          [
           "Camarón: The Film"
          ],
          [
           "GODZILLA City on the Edge of Battle"
          ],
          [
           "Luciano Mellera: Infantiloide"
          ],
          [
           "The Legacy of a Whitetail Deer Hunter"
          ],
          [
           "King of Peking"
          ],
          [
           "Anthony Kaun Hai?"
          ],
          [
           "Chalte Chalte"
          ],
          [
           "Deewana Main Deewana"
          ],
          [
           "My Birthday Song"
          ],
          [
           "Namastey London"
          ],
          [
           "Soul Robbers"
          ],
          [
           "Tum Milo Toh Sahi"
          ],
          [
           "Penalty Kick"
          ],
          [
           "B.A. Pass 2"
          ],
          [
           "Steve Martin and Martin Short: An Evening You Will Forget for the Rest of Your Life"
          ],
          [
           "Tig Notaro Happy To Be Here"
          ],
          [
           "The Kissing Booth"
          ],
          [
           "My Fuhrer"
          ],
          [
           "Lo más sencillo es complicarlo todo"
          ],
          [
           "CIA: Comrade in America"
          ],
          [
           "Sometimes"
          ],
          [
           "Running Shaadi"
          ],
          [
           "Candy Jar"
          ],
          [
           "The Week Of"
          ],
          [
           "Come Sunday"
          ],
          [
           "Orbiter 9"
          ],
          [
           "Ram Dass, Going Home"
          ],
          [
           "A Sort of Family"
          ],
          [
           "Main Hoon Na"
          ],
          [
           "Metro"
          ],
          [
           "Om Shanti Om"
          ],
          [
           "Phir Bhi Dil Hai Hindustani"
          ],
          [
           "Secret Superstar"
          ],
          [
           "Gad Elmaleh: American Dream"
          ],
          [
           "Dil Se"
          ],
          [
           "Judwaa 2"
          ],
          [
           "Schubert In Love"
          ],
          [
           "Tu Hai Mera Sunday"
          ],
          [
           "Yuva"
          ],
          [
           "Love Per Square Foot"
          ],
          [
           "Seeing Allred"
          ],
          [
           "When We First Met"
          ],
          [
           "The Bros"
          ],
          [
           "Jerry Seinfeld: I'm Telling You for the Last Time"
          ],
          [
           "Harith Iskander: I Told You So"
          ],
          [
           "Alibaba Aur 40 Chor"
          ],
          [
           "Pyar Ke Do Pal"
          ],
          [
           "Milada"
          ],
          [
           "The Polka King"
          ],
          [
           "Mustang Island"
          ],
          [
           "The Climb"
          ],
          [
           "Bibi & Tina: Tohuwabohu Total"
          ],
          [
           "Jaal"
          ],
          [
           "Shikari"
          ],
          [
           "My Happy Family"
          ],
          [
           "Barbra: The Music ... The Mem'ries ... The Magic!"
          ],
          [
           "Joan Didion: The Center Will Not Hold"
          ],
          [
           "Baadshaho"
          ],
          [
           "Lucknow Central"
          ],
          [
           "Blessed Benefit"
          ],
          [
           "The Lion Woman"
          ],
          [
           "Our Souls at Night"
          ],
          [
           "Jerry Before Seinfeld"
          ],
          [
           "#realityhigh"
          ],
          [
           "Aakhri Adaalat"
          ],
          [
           "Ek Jaan Hain Hum"
          ],
          [
           "Khoon Khoon"
          ],
          [
           "Manoranjan"
          ],
          [
           "Mujrim"
          ],
          [
           "Sohni Mahiwal"
          ],
          [
           "The Last Shaman"
          ],
          [
           "Ryan Hamilton: Happy Face"
          ],
          [
           "The Outcasts"
          ],
          [
           "Naked"
          ],
          [
           "The Saint"
          ],
          [
           "Baahubali: The Beginning (Hindi Version)"
          ],
          [
           "10 jours en or"
          ],
          [
           "Lal Patthar"
          ],
          [
           "The Invisible Guest"
          ],
          [
           "Yaar Gaddar"
          ],
          [
           "The Wishing Tree"
          ],
          [
           "Aashik Awara"
          ],
          [
           "How to Stage a Coup"
          ],
          [
           "Maya Memsaab"
          ],
          [
           "Oh Darling Yeh Hai India"
          ],
          [
           "Qila"
          ],
          [
           "Smoke & Mirrors"
          ],
          [
           "Rangoon"
          ],
          [
           "Raees"
          ],
          [
           "BLAME!"
          ],
          [
           "Chamatkar"
          ],
          [
           "Kabhi Haan Kabhi Naa"
          ],
          [
           "Ram Jaane"
          ],
          [
           "Chaahat"
          ],
          [
           "English Babu Desi Mem"
          ],
          [
           "Dear Zindagi"
          ],
          [
           "Bibi & Tina II"
          ],
          [
           "Bibi & Tina: Girls Versus Boys"
          ],
          [
           "The Wedding Party"
          ],
          [
           "Arctic Heart"
          ],
          [
           "Sandy Wexler"
          ],
          [
           "Elaan"
          ],
          [
           "Killa"
          ],
          [
           "Salaakhen"
          ],
          [
           "The C Word"
          ],
          [
           "Deidra & Laney Rob a Train"
          ],
          [
           "One 2 Ka 4"
          ],
          [
           "Force 2"
          ],
          [
           "Trevor Noah: Afraid of the Dark"
          ],
          [
           "Happy New Year"
          ],
          [
           "Haraamkhor"
          ],
          [
           "Journey to Greenland"
          ],
          [
           "Pink"
          ],
          [
           "Jim Gaffigan: Cinco"
          ],
          [
           "Coin Heist"
          ],
          [
           "Gabriel lglesias: I’m Sorry For What I Said When I Was Hungry"
          ],
          [
           "Spectral"
          ],
          [
           "One in a Billion"
          ],
          [
           "For the Love of Spock"
          ],
          [
           "1000 Rupee Note"
          ],
          [
           "Asu Mare 2"
          ],
          [
           "The Violin Player"
          ],
          [
           "The Land of Cards"
          ],
          [
           "True Memoirs of an International Assassin"
          ],
          [
           "I Am the Pretty Thing That Lives in the House"
          ],
          [
           "The African Doctor"
          ],
          [
           "Bleach the Movie: Hell Verse"
          ],
          [
           "Blind Date"
          ],
          [
           "Riphagen - The Untouchable"
          ],
          [
           "Sample This"
          ],
          [
           "Jeff Foxworthy and Larry the Cable Guy: We’ve Been Thinking..."
          ],
          [
           "Jim Gaffigan: Beyond the Pale"
          ],
          [
           "Jim Gaffigan: Mr. Universe"
          ],
          [
           "Jim Gaffigan: Obsessed"
          ],
          [
           "Real Crime: Diamond Geezers"
          ],
          [
           "My Beautiful Broken Brain"
          ],
          [
           "The Ridiculous 6"
          ],
          [
           "A Very Murray Christmas"
          ],
          [
           "Anjelah Johnson: Not Fancy"
          ],
          [
           "Keith Richards: Under the Influence"
          ],
          [
           "Tig"
          ],
          [
           "The Other One: The Long Strange Trip of Bob Weir"
          ],
          [
           "A Stoning in Fulham County"
          ],
          [
           "Hard Lessons"
          ],
          [
           "In Defense of a Married Man"
          ],
          [
           "Unspeakable Acts"
          ],
          [
           "Victim of Beauty"
          ],
          [
           "706"
          ],
          [
           "Oct-01"
          ],
          [
           "15-Aug"
          ],
          [
           "​Goli Soda 2"
          ],
          [
           "​Maj Rati ​​Keteki"
          ],
          [
           "​Mayurakshi"
          ],
          [
           "#Roxy"
          ],
          [
           "1 Mile to You"
          ],
          [
           "2036 Origin Unknown"
          ],
          [
           "30 Days of Luxury"
          ],
          [
           "300 Miles to Heaven"
          ],
          [
           "5CM"
          ],
          [
           "A Billion Colour Story"
          ],
          [
           "A Flying Jatt"
          ],
          [
           "A Haunting at Silver Falls: The Return"
          ],
          [
           "Aarakshan"
          ],
          [
           "Aashayein"
          ],
          [
           "Aata Pita"
          ],
          [
           "Abhinetri"
          ],
          [
           "Addicted to Life"
          ],
          [
           "Adrishya"
          ],
          [
           "Ahista Ahista"
          ],
          [
           "Aisa Yeh Jahaan"
          ],
          [
           "Aitraaz"
          ],
          [
           "Always a Bridesmaid"
          ],
          [
           "Amar Akbar Anthony"
          ],
          [
           "Amar's Hands"
          ],
          [
           "American Experience: The Island Murder"
          ],
          [
           "An Hour and a Half"
          ],
          [
           "Ankur Arora Murder Case"
          ],
          [
           "Anwar"
          ],
          [
           "Aram, Aram"
          ],
          [
           "Are We Done Yet?"
          ],
          [
           "Arisan 2"
          ],
          [
           "At First Light"
          ],
          [
           "ATM"
          ],
          [
           "Attacking the Devil: Harold Evans and the Last Nazi War Crime"
          ],
          [
           "Attitude Test"
          ],
          [
           "Azhar"
          ],
          [
           "B.A. Pass"
          ],
          [
           "Babam ve Oğlum"
          ],
          [
           "Badha"
          ],
          [
           "Badland"
          ],
          [
           "Bana Masal Anlatma"
          ],
          [
           "Bangkok Traffic (Love) Story"
          ],
          [
           "Barah Aana"
          ],
          [
           "Barrio Universitario"
          ],
          [
           "Bazaar"
          ],
          [
           "Because of Soccer"
          ],
          [
           "Because We're Heading Out"
          ],
          [
           "Being AP"
          ],
          [
           "Berlin Kaplani"
          ],
          [
           "Bewildered Bolbol"
          ],
          [
           "Beyond All Boundaries"
          ],
          [
           "Beyond the Clouds"
          ],
          [
           "Bhagam Bhag"
          ],
          [
           "Bhool Bhulaiyaa"
          ],
          [
           "Bhouri"
          ],
          [
           "Bioscope"
          ],
          [
           "Bitcoin Heist"
          ],
          [
           "Bittoo Boss"
          ],
          [
           "Bobby"
          ],
          [
           "Bobby Robson: More Than a Manager"
          ],
          [
           "Bokeh"
          ],
          [
           "Bombshell: The Hedy Lamarr Story"
          ],
          [
           "Born to Be Free"
          ],
          [
           "Butterfield 8"
          ],
          [
           "Cahaya Dari Timur Beta Maluku"
          ],
          [
           "Calendar Girls"
          ],
          [
           "Caregiver"
          ],
          [
           "Chal Dhar Pakad"
          ],
          [
           "Chal Mere Bhai"
          ],
          [
           "Chalay Thay Saath"
          ],
          [
           "Chaotic Love Poems"
          ],
          [
           "Chauthi Koot"
          ],
          [
           "Chicken Kokkachi"
          ],
          [
           "Chupan Chupai"
          ],
          [
           "Colkatay Columbus"
          ],
          [
           "Colours of Passion"
          ],
          [
           "Contract"
          ],
          [
           "Cool Hand Luke"
          ],
          [
           "Counterfeiting in Suburbia"
          ],
          [
           "Daagdi Chaawl"
          ],
          [
           "Daffedar"
          ],
          [
           "Darra"
          ],
          [
           "Deadline: Sirf 24 Ghante"
          ],
          [
           "Deadly Scholars"
          ],
          [
           "Dear Dad"
          ],
          [
           "Defying the Nazis: The Sharps' War"
          ],
          [
           "Detention Letter"
          ],
          [
           "Deviant Love"
          ],
          [
           "Dhamaal"
          ],
          [
           "Di Renjie zhi Sidatianwang"
          ],
          [
           "Dil Hai Tumhaara"
          ],
          [
           "Disciples Of The 36th Chamber"
          ],
          [
           "Dismissed"
          ],
          [
           "Don Quixote: The Ingenious Gentleman of La Mancha"
          ],
          [
           "Don't Crack Under Pressure III"
          ],
          [
           "Doubles Cause Troubles"
          ],
          [
           "Dukhtar"
          ],
          [
           "Dum"
          ],
          [
           "E-Cigarettes: Miracle or Menace?"
          ],
          [
           "Eeda"
          ],
          [
           "Eh Janam Tumhare Lekhe"
          ],
          [
           "El Che"
          ],
          [
           "Elles étaient en guerre (1914-1918)"
          ],
          [
           "Encounter: The Killing"
          ],
          [
           "Enlighten Us"
          ],
          [
           "Estar o no estar"
          ],
          [
           "Expo"
          ],
          [
           "Fakta Ladh Mhana"
          ],
          [
           "Fall Girls"
          ],
          [
           "Fanatic"
          ],
          [
           "Fire at Sea"
          ],
          [
           "First Impression"
          ],
          [
           "Flimflam"
          ],
          [
           "Forbidden Games: The Justin Fashanu Story"
          ],
          [
           "From Japan to Egypt"
          ],
          [
           "Gagarin: First in Space"
          ],
          [
           "Ghayal"
          ],
          [
           "Ghost Whispers"
          ],
          [
           "Gie"
          ],
          [
           "Girl, Boy, Bakla, Tomboy"
          ],
          [
           "Golmaal: Fun Unlimited"
          ],
          [
           "Gour Hari Dastaan: The Freedom File"
          ],
          [
           "Hükümet Kadin 2"
          ],
          [
           "Hadi İnşallah"
          ],
          [
           "Halo: The Fall of Reach"
          ],
          [
           "Hamara Dil Aapke Paas Hai"
          ],
          [
           "Hamza's Suitcase"
          ],
          [
           "Hank: Five Years from the Brink"
          ],
          [
           "Harold and Lillian: A Hollywood Love Story"
          ],
          [
           "Heal"
          ],
          [
           "Her Only Choice"
          ],
          [
           "Hera Pheri"
          ],
          [
           "Hide & Seek"
          ],
          [
           "Hide and Seek"
          ],
          [
           "History of Joy"
          ],
          [
           "Holy Man 2"
          ],
          [
           "Hombanna"
          ],
          [
           "Hope Aur Hum"
          ],
          [
           "Hope: One in a Billion"
          ],
          [
           "Horror Story"
          ],
          [
           "House of Z"
          ],
          [
           "Houston, We Have a Problem!"
          ],
          [
           "Hridaynath"
          ],
          [
           "I Am Jane Doe"
          ],
          [
           "I Am Maris"
          ],
          [
           "I Am Not Madame Bovary"
          ],
          [
           "I Fine... Thank You... Love You"
          ],
          [
           "Ideachi Kalpana"
          ],
          [
           "Incir Receli 2"
          ],
          [
           "Insan"
          ],
          [
           "Internet Famous"
          ],
          [
           "Inuyasha the Movie - La spada del dominatore del mondo"
          ],
          [
           "InuYasha: The Movie 2: The Castle Beyond the Looking Glass"
          ],
          [
           "Irada Pakka"
          ],
          [
           "Iron Cowboy: The Story of the 50.50.50"
          ],
          [
           "Ishqedarriyaan"
          ],
          [
           "It's Okay, Buddy"
          ],
          [
           "Jaan-E-Mann: Let's Fall in Love... Again"
          ],
          [
           "Jackpot"
          ],
          [
           "Jail"
          ],
          [
           "Jal"
          ],
          [
           "Jalpari: The Desert Mermaid"
          ],
          [
           "Janaan"
          ],
          [
           "Jesus: Countdown to Calvary"
          ],
          [
           "Judwaa"
          ],
          [
           "Justice, My Foot!"
          ],
          [
           "Kaabil"
          ],
          [
           "Kaalia"
          ],
          [
           "Kacche Dhaagey"
          ],
          [
           "Kajraare"
          ],
          [
           "Kalki"
          ],
          [
           "Karzzzz"
          ],
          [
           "Kaviyude Osyath"
          ],
          [
           "Kay Dyache Bola"
          ],
          [
           "Khalnayak"
          ],
          [
           "Khosla Ka Ghosla"
          ],
          [
           "Khushi"
          ],
          [
           "Kia and Cosmos"
          ],
          [
           "Kid Kulafu"
          ],
          [
           "Kill Hitler! The Luck of the Devil"
          ],
          [
           "KL Zombi"
          ],
          [
           "Know Your Enemy - Japan"
          ],
          [
           "Koshish"
          ],
          [
           "Laal Rang"
          ],
          [
           "Larceny"
          ],
          [
           "Le K Benzema"
          ],
          [
           "Legendary Weapons of China"
          ],
          [
           "Lez Bomb"
          ],
          [
           "Lifeline"
          ],
          [
           "Lion's Heart"
          ],
          [
           "Little Dragon Maiden"
          ],
          [
           "Lizzie Borden Took an Ax"
          ],
          [
           "Long Time Running"
          ],
          [
           "Look Out, Officer"
          ],
          [
           "Lorai: Play to Live"
          ],
          [
           "Love Ni Bhavai"
          ],
          [
           "Love on Delivery"
          ],
          [
           "Love Station"
          ],
          [
           "Love You... Love You Not"
          ],
          [
           "Loving You"
          ],
          [
           "Lucky: No Time for Love"
          ],
          [
           "Lupt"
          ],
          [
           "Ma Chu Ka"
          ],
          [
           "Madaari"
          ],
          [
           "Magnetic"
          ],
          [
           "Mahabharat"
          ],
          [
           "Maine Pyaar Kyun Kiya"
          ],
          [
           "Mandobasar Galpo"
          ],
          [
           "Mango Dreams"
          ],
          [
           "Manhattan Romance"
          ],
          [
           "Mantra"
          ],
          [
           "Masoom"
          ],
          [
           "Matichya Chuli"
          ],
          [
           "Max Rose"
          ],
          [
           "May You Prosper"
          ],
          [
           "Mi Shivajiraje Bhosale Boltoy"
          ],
          [
           "Minnaminugu the FireFly"
          ],
          [
           "Miss Me This Christmas"
          ],
          [
           "Mokalik (Mechanic)"
          ],
          [
           "Moor"
          ],
          [
           "Morya"
          ],
          [
           "Mr. Gaga: A True Story of Love and Dance"
          ],
          [
           "Mr. Virgin"
          ],
          [
           "Ms. Mammy"
          ],
          [
           "My Daddy is in Heaven"
          ],
          [
           "My Dog is My Guide"
          ],
          [
           "My Schoolmate, the Barbarian"
          ],
          [
           "Namak Halaal"
          ],
          [
           "Naruto Shippuden : Blood Prison"
          ],
          [
           "Natsamrat - Asa Nat Hone Nahi"
          ],
          [
           "Nibunan"
          ],
          [
           "NOVA: Decoding the Weather Machine"
          ],
          [
           "On the Wrong Track"
          ],
          [
           "On Yoga The Architecture of Peace"
          ],
          [
           "Onaatah"
          ],
          [
           "Once In A Lifetime Sessions with Moby"
          ],
          [
           "Oru Vishsheshapetta Biryani Kissa"
          ],
          [
           "P Se PM Tak"
          ],
          [
           "Paathi"
          ],
          [
           "Pardes"
          ],
          [
           "Paulettante Veedu"
          ],
          [
           "Paying Guests"
          ],
          [
           "Phir Se"
          ],
          [
           "Phone Swap"
          ],
          [
           "Phullu"
          ],
          [
           "Planet Hulk"
          ],
          [
           "Playing for Time"
          ],
          [
           "Premachi Goshta"
          ],
          [
           "Prince Charming"
          ],
          [
           "Pukar"
          ],
          [
           "Punjab 1984"
          ],
          [
           "Pyaar Ka Punchnama"
          ],
          [
           "Rahasya"
          ],
          [
           "Railroad Tigers"
          ],
          [
           "Raja Hindustani"
          ],
          [
           "Ram Teri Ganga Maili"
          ],
          [
           "Ramji Londonwaley"
          ],
          [
           "Rangreza"
          ],
          [
           "Reaction"
          ],
          [
           "Red Oleanders Raktokarobi"
          ],
          [
           "Ringan"
          ],
          [
           "Road to Sangam"
          ],
          [
           "Road to Yesterday"
          ],
          [
           "Roberto Saviano: Writing Under Police Protection"
          ],
          [
           "Robin Hood: The Rebellion"
          ],
          [
           "Romeo Ranjha"
          ],
          [
           "Run"
          ],
          [
           "Running for Grace"
          ],
          [
           "Running Out Of Time"
          ],
          [
           "Rustom"
          ],
          [
           "Saath Saath"
          ],
          [
           "Sadie's Last Days on Earth"
          ],
          [
           "Sadma"
          ],
          [
           "Sairat"
          ],
          [
           "Salem: His Sister's Father"
          ],
          [
           "Sameer Abu Alneel"
          ],
          [
           "Sanai Choughade"
          ],
          [
           "Sangam"
          ],
          [
           "Sardaar ji"
          ],
          [
           "Sarivar Sari"
          ],
          [
           "Sarvopari Palakkaran"
          ],
          [
           "Sat Sri Akal"
          ],
          [
           "Satrangi Re"
          ],
          [
           "Satte Pe Satta"
          ],
          [
           "Secrets of Scotland Yard"
          ],
          [
           "Sen Kimsin?"
          ],
          [
           "Shahanpan Dega Deva"
          ],
          [
           "Shanghai"
          ],
          [
           "Shark Busters"
          ],
          [
           "Shaurya: It Takes Courage to Make Right... Right"
          ],
          [
           "Shorgul"
          ],
          [
           "Shuddhi"
          ],
          [
           "Singh Saab the Great"
          ],
          [
           "Socha Na Tha"
          ],
          [
           "Spitfire: The Plane that Saved the World"
          ],
          [
           "Staged Killer"
          ],
          [
           "Step Outside"
          ],
          [
           "Sthaniya Sambaad"
          ],
          [
           "Sudani from Nigeria"
          ],
          [
           "Surat Dari Praha"
          ],
          [
           "Tahaan"
          ],
          [
           "Tattah"
          ],
          [
           "The Ant's Scream"
          ],
          [
           "The Bachelors"
          ],
          [
           "The Bare-Footed Kid"
          ],
          [
           "The Battle of Midway"
          ],
          [
           "The Bridge"
          ],
          [
           "The Cakemaker"
          ],
          [
           "The CEO"
          ],
          [
           "The Chosen"
          ],
          [
           "The Cincinnati Kid"
          ],
          [
           "The Competition"
          ],
          [
           "The Consul's Son"
          ],
          [
           "The Damned Rain"
          ],
          [
           "The Desert Bride"
          ],
          [
           "The Detained"
          ],
          [
           "The Figurine (Araromire)"
          ],
          [
           "The First Line"
          ],
          [
           "The Gathering"
          ],
          [
           "The Gospel of John"
          ],
          [
           "The Gospel of Luke"
          ],
          [
           "The Great Gambler"
          ],
          [
           "The Healer"
          ],
          [
           "The Holy Man"
          ],
          [
           "The Legend of Michael Mishra"
          ],
          [
           "The lynx"
          ],
          [
           "The Mad Monk"
          ],
          [
           "The Man Who Would Be Polka King"
          ],
          [
           "The Mayo Clinic"
          ],
          [
           "The Pursuit"
          ],
          [
           "The Right One"
          ],
          [
           "The Sign of Venus"
          ],
          [
           "The Sinking Of Van Der Wijck"
          ],
          [
           "The Student"
          ],
          [
           "The Thief and the Imbecile"
          ],
          [
           "The Tiger Hunter"
          ],
          [
           "The Truth About Alcohol"
          ],
          [
           "The Walls of the Moon"
          ],
          [
           "The Wedding Party 2: Destination Dubai"
          ],
          [
           "The Witch Files"
          ],
          [
           "The Wrong Babysitter"
          ],
          [
           "The Young Vagabond"
          ],
          [
           "Theeram"
          ],
          [
           "Tik Tok"
          ],
          [
           "Time Please"
          ],
          [
           "Tinker'"
          ],
          [
           "Tope: The Bait"
          ],
          [
           "Trikal (Past, Present, Future)"
          ],
          [
           "Tunisian Victory"
          ],
          [
           "Twice"
          ],
          [
           "Under an Arctic Sky"
          ],
          [
           "Union Leader"
          ],
          [
           "Unruly Friends"
          ],
          [
           "Used Goods"
          ],
          [
           "Veerappan"
          ],
          [
           "Veerey Ki Wedding"
          ],
          [
           "Viswasapoorvam Mansoor"
          ],
          [
           "Vitti Dandu"
          ],
          [
           "Vodka Diaries"
          ],
          [
           "Waarrior Savitri"
          ],
          [
           "War Chhod Na Yaar"
          ],
          [
           "Warda"
          ],
          [
           "Warehoused"
          ],
          [
           "We Belong Together"
          ],
          [
           "What a Wonderful Family!"
          ],
          [
           "What Still Remains"
          ],
          [
           "Why Are We Getting So Fat?"
          ],
          [
           "Wish Man"
          ],
          [
           "Wrong No."
          ],
          [
           "Yaadein"
          ],
          [
           "Yaara O Dildaara"
          ],
          [
           "Yamla Pagla Deewana 2"
          ],
          [
           "يوم الدين"
          ],
          [
           "اشتباك"
          ],
          [
           "Zenda"
          ],
          [
           "Zubaan"
          ]
         ],
         "hovertemplate": "rating=TV-14<br>release_year=%{x}<br>duration_int=%{y}<br>title=%{customdata[0]}<extra></extra>",
         "legendgroup": "TV-14",
         "marker": {
          "color": "#00cc96",
          "symbol": "circle"
         },
         "mode": "markers",
         "name": "TV-14",
         "showlegend": true,
         "type": "scattergl",
         "x": [
          1998,
          2002,
          2003,
          2011,
          2010,
          2017,
          1994,
          2017,
          2020,
          2005,
          2018,
          1961,
          2021,
          2008,
          2008,
          2006,
          2004,
          2003,
          2001,
          2008,
          2010,
          2013,
          2011,
          2011,
          1995,
          2016,
          2021,
          2021,
          2013,
          2021,
          2014,
          2020,
          2021,
          2017,
          2010,
          2020,
          2012,
          2018,
          1959,
          2021,
          2019,
          2019,
          2016,
          2020,
          2019,
          2019,
          2021,
          2021,
          2021,
          2019,
          2012,
          2021,
          2011,
          2021,
          2021,
          2021,
          2021,
          2021,
          2018,
          2019,
          2017,
          2016,
          2015,
          2016,
          2020,
          2015,
          2008,
          2004,
          2020,
          2017,
          2021,
          2019,
          2020,
          2021,
          2021,
          2021,
          2020,
          2017,
          2021,
          2016,
          2020,
          2021,
          2021,
          2021,
          2017,
          2021,
          2015,
          2020,
          2021,
          2020,
          2020,
          2020,
          2018,
          2020,
          2021,
          2020,
          2018,
          2002,
          2018,
          2021,
          2021,
          2018,
          2020,
          2021,
          2020,
          2020,
          2021,
          2021,
          2021,
          2018,
          2020,
          2018,
          2021,
          2020,
          2005,
          2005,
          2020,
          2020,
          1999,
          2020,
          2019,
          2014,
          2019,
          2019,
          2012,
          2020,
          2019,
          2009,
          2020,
          2019,
          2017,
          2019,
          2019,
          2013,
          2020,
          2019,
          2013,
          2020,
          2017,
          2020,
          2018,
          2019,
          2011,
          2010,
          2015,
          2010,
          2011,
          2016,
          2009,
          2019,
          2019,
          2012,
          2020,
          2019,
          2020,
          2017,
          2020,
          2013,
          2009,
          2018,
          2018,
          1975,
          2005,
          2014,
          1982,
          2018,
          1980,
          2018,
          2020,
          2020,
          2020,
          2004,
          1990,
          1982,
          2006,
          2002,
          2019,
          2017,
          2018,
          2016,
          2019,
          2020,
          2018,
          2014,
          2009,
          2007,
          1999,
          2007,
          2015,
          2013,
          2015,
          2016,
          2020,
          2014,
          2020,
          2018,
          2018,
          2019,
          2016,
          2016,
          2018,
          2020,
          2020,
          2019,
          2015,
          2016,
          2016,
          1998,
          2020,
          2020,
          2020,
          2020,
          2018,
          2020,
          2020,
          2020,
          2020,
          2020,
          2018,
          2020,
          2019,
          2018,
          2018,
          2020,
          2012,
          2011,
          2012,
          2013,
          2013,
          2015,
          2015,
          2014,
          2013,
          2014,
          2019,
          2012,
          2011,
          2013,
          2019,
          2011,
          2019,
          2019,
          2015,
          2006,
          2020,
          1997,
          1994,
          1958,
          1956,
          2019,
          1954,
          2012,
          2019,
          2020,
          2020,
          2008,
          2020,
          2018,
          2016,
          2020,
          2017,
          2008,
          2006,
          2006,
          2008,
          2004,
          2011,
          2020,
          2016,
          2019,
          2014,
          2015,
          2019,
          1981,
          2019,
          1979,
          1981,
          1973,
          2010,
          2009,
          2012,
          2007,
          2009,
          2006,
          2004,
          2019,
          2018,
          2019,
          2018,
          2012,
          2019,
          2020,
          1994,
          2016,
          2019,
          2019,
          2020,
          2013,
          2012,
          2020,
          2020,
          2019,
          2019,
          2011,
          2009,
          2005,
          2012,
          2019,
          2020,
          2006,
          2010,
          2009,
          2008,
          2009,
          2019,
          2019,
          2019,
          2020,
          2018,
          2018,
          2018,
          1990,
          2015,
          2008,
          1984,
          1998,
          1980,
          2013,
          1993,
          2014,
          2014,
          2005,
          2006,
          2001,
          2003,
          2016,
          1998,
          2015,
          1987,
          2014,
          2018,
          2020,
          2019,
          2017,
          2020,
          2019,
          2018,
          2019,
          2019,
          2019,
          2016,
          2017,
          2020,
          2016,
          2014,
          2019,
          2019,
          2018,
          2020,
          2019,
          2019,
          2018,
          2019,
          2014,
          2020,
          2019,
          1994,
          2017,
          2020,
          2019,
          2019,
          2019,
          2020,
          2019,
          2019,
          2018,
          2018,
          2020,
          2017,
          2018,
          2019,
          2018,
          2019,
          2014,
          2015,
          2001,
          2006,
          2011,
          2013,
          2011,
          2007,
          2017,
          2010,
          2009,
          2008,
          2012,
          2011,
          2017,
          2019,
          2017,
          2016,
          2019,
          2017,
          2017,
          2019,
          2017,
          2019,
          2019,
          2018,
          2019,
          2019,
          2019,
          2019,
          2019,
          2019,
          2019,
          2018,
          2013,
          2016,
          2018,
          2016,
          2019,
          2019,
          2018,
          2017,
          2017,
          2018,
          2019,
          2017,
          2019,
          2019,
          2019,
          2018,
          2018,
          2019,
          2006,
          2019,
          2018,
          2019,
          2018,
          2019,
          2016,
          2019,
          2019,
          2019,
          2018,
          2019,
          2019,
          2019,
          2019,
          2015,
          2017,
          2019,
          2018,
          2019,
          2008,
          2013,
          2004,
          2019,
          2018,
          2019,
          2019,
          2018,
          2012,
          2019,
          2019,
          2018,
          2016,
          2019,
          2019,
          2019,
          2019,
          2018,
          2018,
          2011,
          2019,
          2019,
          2019,
          2005,
          2003,
          2003,
          2018,
          2005,
          2019,
          2019,
          2018,
          2019,
          2019,
          2019,
          2016,
          2019,
          2018,
          2019,
          2018,
          2014,
          2016,
          2018,
          2018,
          2007,
          2016,
          2017,
          2018,
          2012,
          2014,
          2015,
          2018,
          2015,
          2017,
          2013,
          2017,
          2014,
          2018,
          2004,
          2012,
          2018,
          2002,
          2008,
          2017,
          2010,
          2017,
          2012,
          2016,
          2015,
          2017,
          2019,
          2018,
          2016,
          2018,
          2018,
          2018,
          2018,
          2018,
          2015,
          2018,
          2011,
          2018,
          2017,
          2018,
          2018,
          2011,
          2014,
          2014,
          2018,
          2014,
          2015,
          2015,
          2009,
          2018,
          2018,
          2018,
          2018,
          2017,
          2009,
          2018,
          2009,
          2008,
          2015,
          2013,
          2011,
          2018,
          2012,
          2010,
          2006,
          2007,
          2009,
          2015,
          2012,
          2007,
          2013,
          2012,
          2012,
          2015,
          2007,
          2014,
          2008,
          2010,
          2014,
          2013,
          2013,
          2014,
          2008,
          2006,
          2013,
          2018,
          2018,
          2018,
          1989,
          2016,
          2009,
          2014,
          2016,
          2009,
          2012,
          2013,
          2014,
          2017,
          2014,
          2008,
          2009,
          2018,
          2014,
          2009,
          2008,
          2009,
          2016,
          2012,
          2017,
          2012,
          2011,
          2011,
          2014,
          2013,
          2016,
          2016,
          2015,
          2014,
          2008,
          2013,
          2017,
          2012,
          2016,
          2012,
          2009,
          2010,
          2016,
          2014,
          2018,
          2017,
          2017,
          2017,
          2017,
          2017,
          2017,
          2017,
          2018,
          2018,
          2016,
          2016,
          2000,
          2010,
          2014,
          2010,
          2009,
          2016,
          2010,
          2006,
          2012,
          2015,
          2012,
          2011,
          2012,
          2018,
          2018,
          2018,
          2018,
          2018,
          2006,
          2003,
          2013,
          2018,
          2007,
          2015,
          2010,
          2018,
          2017,
          2018,
          2018,
          2018,
          2007,
          2018,
          2017,
          2016,
          2017,
          2018,
          2018,
          2018,
          2017,
          2018,
          2017,
          2004,
          2016,
          2007,
          2000,
          2017,
          2018,
          1998,
          2017,
          2016,
          2016,
          2004,
          2018,
          2018,
          2018,
          2017,
          1998,
          2018,
          1980,
          1986,
          2017,
          2018,
          2017,
          2017,
          2017,
          1986,
          1991,
          2017,
          2017,
          2017,
          2017,
          2017,
          2016,
          2016,
          2017,
          2017,
          2017,
          1988,
          1983,
          1973,
          1974,
          1989,
          1984,
          2016,
          2017,
          2017,
          2017,
          2017,
          2015,
          2012,
          1971,
          2016,
          1994,
          2017,
          1993,
          2017,
          1993,
          1995,
          1998,
          2016,
          2017,
          2017,
          2017,
          1992,
          1994,
          1995,
          1996,
          1996,
          2016,
          2014,
          2016,
          2016,
          2016,
          2017,
          1971,
          2014,
          1975,
          2016,
          2017,
          2001,
          2016,
          2017,
          2014,
          2015,
          2016,
          2016,
          2017,
          2017,
          2016,
          2016,
          2016,
          2016,
          2014,
          2015,
          2016,
          2012,
          2016,
          2016,
          2016,
          2010,
          2015,
          2016,
          2012,
          2016,
          2005,
          2012,
          2014,
          2008,
          2016,
          2015,
          2015,
          2015,
          2015,
          2015,
          2015,
          1988,
          1986,
          1990,
          1990,
          1991,
          2019,
          2014,
          2019,
          2018,
          2017,
          2017,
          2018,
          2017,
          2018,
          2016,
          1989,
          2012,
          2016,
          2016,
          2019,
          2011,
          2010,
          2010,
          2016,
          2014,
          2017,
          2006,
          2015,
          2004,
          2019,
          1977,
          2011,
          2018,
          2012,
          2013,
          2007,
          2015,
          2018,
          2011,
          2018,
          2012,
          2014,
          2016,
          2016,
          2013,
          2005,
          2006,
          2019,
          2015,
          2009,
          2009,
          2013,
          1982,
          2008,
          2016,
          2015,
          2012,
          2010,
          2013,
          2018,
          2006,
          2007,
          2017,
          2015,
          2016,
          2012,
          1973,
          2018,
          2017,
          2017,
          2016,
          1960,
          2014,
          2015,
          2008,
          2010,
          2000,
          2017,
          2016,
          2015,
          2017,
          2017,
          2016,
          2008,
          2008,
          1967,
          2018,
          2015,
          2017,
          2016,
          2006,
          2018,
          2016,
          2016,
          2017,
          2019,
          2007,
          2018,
          2002,
          1985,
          2017,
          2015,
          2017,
          1989,
          2014,
          2003,
          2016,
          2018,
          2015,
          2017,
          2014,
          2002,
          2016,
          2016,
          2019,
          2011,
          2019,
          2019,
          2016,
          2018,
          2016,
          2017,
          2017,
          2013,
          1990,
          2013,
          2005,
          2013,
          2006,
          2015,
          2013,
          2014,
          2015,
          2000,
          2017,
          2013,
          2015,
          2017,
          2018,
          1976,
          2010,
          2016,
          2017,
          2008,
          2017,
          2018,
          2017,
          2013,
          2016,
          2016,
          2012,
          2017,
          2018,
          2016,
          2014,
          2010,
          2014,
          2005,
          2016,
          2003,
          2002,
          2010,
          2018,
          2015,
          2017,
          2006,
          2015,
          2009,
          2013,
          2012,
          2016,
          2018,
          1997,
          1992,
          2017,
          1981,
          2016,
          2010,
          2017,
          2008,
          2017,
          2005,
          1993,
          2006,
          2003,
          2018,
          2015,
          2015,
          2013,
          1945,
          1972,
          2016,
          2017,
          2017,
          1982,
          2018,
          1997,
          2013,
          1983,
          2014,
          2017,
          1990,
          2015,
          2017,
          1994,
          2011,
          2015,
          1995,
          2005,
          2018,
          2017,
          2016,
          2018,
          2013,
          2005,
          2017,
          2016,
          2014,
          2017,
          1983,
          2006,
          2013,
          2017,
          2009,
          2017,
          2017,
          2019,
          2015,
          2011,
          2015,
          1984,
          2012,
          2017,
          2013,
          2001,
          1982,
          2011,
          2016,
          2017,
          2018,
          1983,
          2017,
          2016,
          2018,
          2017,
          2015,
          2017,
          1997,
          2016,
          2009,
          2015,
          2012,
          2017,
          2010,
          1980,
          2013,
          1984,
          2000,
          2014,
          2011,
          2015,
          2016,
          1996,
          1985,
          2005,
          2017,
          2011,
          2017,
          2015,
          2010,
          2015,
          2016,
          2018,
          2014,
          2004,
          2018,
          2018,
          2016,
          1982,
          2016,
          1983,
          2016,
          2014,
          2013,
          2008,
          1964,
          2015,
          2005,
          2017,
          2008,
          2012,
          1982,
          2013,
          2012,
          2011,
          2012,
          2002,
          2008,
          2016,
          2017,
          2013,
          2005,
          2018,
          2019,
          2018,
          2010,
          2018,
          2016,
          2008,
          2013,
          2010,
          2017,
          1993,
          1942,
          2017,
          2017,
          2016,
          2016,
          1965,
          2018,
          2011,
          2009,
          2017,
          2017,
          2009,
          2014,
          2003,
          2014,
          2015,
          1979,
          2017,
          2005,
          2016,
          1982,
          1993,
          2009,
          2018,
          2019,
          2011,
          1955,
          2013,
          2017,
          2013,
          2016,
          2016,
          2015,
          2017,
          2018,
          2017,
          1985,
          2017,
          2016,
          2013,
          2018,
          2016,
          1985,
          1944,
          2010,
          2017,
          2017,
          2011,
          2018,
          2016,
          2018,
          2017,
          2014,
          2018,
          2016,
          2013,
          2014,
          2015,
          2018,
          2017,
          2018,
          2016,
          2019,
          2015,
          2001,
          2011,
          2013,
          2018,
          2016,
          2009,
          2015
         ],
         "xaxis": "x",
         "y": [
          166,
          99,
          99,
          102,
          85,
          128,
          143,
          106,
          115,
          109,
          102,
          156,
          125,
          127,
          128,
          135,
          124,
          136,
          150,
          119,
          133,
          142,
          106,
          145,
          135,
          101,
          114,
          102,
          135,
          97,
          103,
          105,
          91,
          104,
          104,
          105,
          116,
          128,
          143,
          116,
          117,
          83,
          96,
          119,
          89,
          77,
          103,
          94,
          72,
          145,
          85,
          131,
          92,
          101,
          140,
          102,
          104,
          98,
          94,
          113,
          127,
          101,
          98,
          104,
          120,
          86,
          147,
          141,
          102,
          88,
          106,
          88,
          145,
          118,
          133,
          140,
          121,
          181,
          114,
          98,
          93,
          100,
          120,
          98,
          80,
          131,
          136,
          94,
          151,
          113,
          116,
          115,
          100,
          119,
          143,
          91,
          85,
          162,
          86,
          107,
          116,
          91,
          119,
          102,
          104,
          123,
          133,
          52,
          95,
          121,
          89,
          103,
          32,
          101,
          161,
          129,
          101,
          99,
          126,
          101,
          53,
          116,
          106,
          117,
          85,
          57,
          96,
          120,
          83,
          102,
          111,
          90,
          125,
          111,
          119,
          108,
          106,
          68,
          121,
          171,
          97,
          93,
          130,
          108,
          129,
          105,
          142,
          128,
          135,
          87,
          103,
          102,
          127,
          87,
          93,
          114,
          91,
          106,
          150,
          86,
          120,
          106,
          112,
          96,
          108,
          98,
          93,
          94,
          87,
          101,
          80,
          117,
          165,
          134,
          150,
          156,
          90,
          81,
          115,
          94,
          83,
          120,
          95,
          146,
          115,
          143,
          173,
          129,
          98,
          117,
          137,
          111,
          98,
          130,
          103,
          133,
          157,
          116,
          138,
          138,
          110,
          113,
          108,
          93,
          117,
          112,
          72,
          155,
          110,
          98,
          100,
          113,
          69,
          94,
          95,
          114,
          110,
          133,
          87,
          90,
          98,
          104,
          101,
          96,
          151,
          116,
          110,
          139,
          121,
          162,
          128,
          112,
          128,
          135,
          125,
          162,
          114,
          96,
          95,
          86,
          117,
          135,
          164,
          166,
          112,
          136,
          130,
          73,
          104,
          114,
          116,
          76,
          108,
          117,
          100,
          101,
          132,
          92,
          86,
          114,
          102,
          106,
          116,
          109,
          116,
          111,
          135,
          92,
          98,
          104,
          71,
          80,
          110,
          177,
          98,
          237,
          195,
          253,
          80,
          120,
          96,
          107,
          101,
          110,
          112,
          105,
          109,
          118,
          67,
          83,
          106,
          190,
          160,
          90,
          94,
          120,
          91,
          76,
          94,
          97,
          105,
          111,
          132,
          115,
          108,
          104,
          106,
          96,
          138,
          105,
          124,
          93,
          110,
          115,
          107,
          95,
          180,
          144,
          93,
          107,
          92,
          174,
          155,
          142,
          170,
          165,
          161,
          144,
          149,
          135,
          131,
          126,
          192,
          209,
          187,
          138,
          185,
          143,
          172,
          114,
          84,
          160,
          72,
          95,
          100,
          135,
          98,
          132,
          133,
          130,
          87,
          88,
          162,
          103,
          109,
          101,
          171,
          100,
          102,
          96,
          139,
          89,
          124,
          70,
          60,
          148,
          193,
          93,
          121,
          133,
          116,
          132,
          17,
          78,
          107,
          95,
          56,
          90,
          129,
          106,
          110,
          73,
          117,
          113,
          134,
          185,
          169,
          148,
          135,
          135,
          119,
          98,
          135,
          156,
          139,
          140,
          154,
          101,
          172,
          108,
          92,
          120,
          135,
          134,
          103,
          133,
          135,
          106,
          93,
          134,
          117,
          93,
          134,
          131,
          74,
          105,
          74,
          46,
          121,
          116,
          78,
          119,
          92,
          108,
          87,
          95,
          99,
          112,
          127,
          62,
          99,
          87,
          101,
          90,
          133,
          94,
          157,
          105,
          107,
          133,
          100,
          128,
          93,
          95,
          110,
          135,
          118,
          100,
          119,
          117,
          114,
          81,
          116,
          177,
          100,
          110,
          98,
          106,
          98,
          136,
          32,
          141,
          73,
          122,
          116,
          113,
          90,
          130,
          62,
          114,
          109,
          99,
          137,
          88,
          128,
          110,
          140,
          102,
          141,
          131,
          116,
          119,
          146,
          91,
          59,
          131,
          170,
          92,
          120,
          103,
          88,
          81,
          124,
          126,
          105,
          115,
          98,
          115,
          117,
          132,
          125,
          116,
          105,
          128,
          124,
          93,
          119,
          120,
          125,
          121,
          113,
          96,
          102,
          97,
          132,
          137,
          115,
          93,
          127,
          74,
          125,
          143,
          121,
          119,
          96,
          96,
          88,
          127,
          116,
          117,
          95,
          102,
          111,
          100,
          57,
          137,
          84,
          96,
          155,
          122,
          105,
          110,
          81,
          113,
          146,
          118,
          117,
          91,
          111,
          121,
          119,
          115,
          99,
          129,
          117,
          95,
          146,
          136,
          91,
          123,
          144,
          121,
          158,
          157,
          124,
          126,
          133,
          109,
          140,
          150,
          154,
          132,
          126,
          139,
          118,
          129,
          131,
          146,
          123,
          141,
          131,
          94,
          122,
          131,
          106,
          119,
          72,
          140,
          97,
          146,
          118,
          128,
          106,
          137,
          129,
          155,
          142,
          214,
          128,
          151,
          121,
          101,
          145,
          147,
          90,
          129,
          136,
          150,
          134,
          100,
          147,
          115,
          103,
          73,
          129,
          102,
          155,
          139,
          127,
          156,
          130,
          156,
          132,
          119,
          126,
          146,
          110,
          141,
          120,
          140,
          110,
          162,
          139,
          145,
          100,
          150,
          127,
          124,
          163,
          121,
          127,
          128,
          109,
          168,
          162,
          159,
          137,
          133,
          127,
          131,
          86,
          105,
          101,
          66,
          83,
          88,
          122,
          166,
          107,
          92,
          130,
          88,
          128,
          89,
          126,
          74,
          58,
          105,
          91,
          94,
          130,
          101,
          115,
          93,
          117,
          105,
          95,
          32,
          96,
          171,
          116,
          169,
          159,
          150,
          58,
          166,
          145,
          94,
          125,
          160,
          133,
          96,
          97,
          102,
          69,
          62,
          147,
          153,
          124,
          94,
          86,
          105,
          106,
          162,
          163,
          119,
          109,
          98,
          135,
          144,
          83,
          118,
          103,
          62,
          99,
          148,
          151,
          132,
          162,
          163,
          160,
          83,
          57,
          94,
          97,
          92,
          159,
          97,
          153,
          106,
          148,
          117,
          154,
          47,
          122,
          154,
          161,
          123,
          153,
          143,
          106,
          164,
          151,
          142,
          148,
          163,
          149,
          105,
          107,
          101,
          81,
          131,
          143,
          107,
          134,
          93,
          92,
          160,
          123,
          67,
          179,
          93,
          99,
          130,
          74,
          98,
          88,
          108,
          70,
          112,
          89,
          100,
          72,
          113,
          98,
          89,
          94,
          94,
          91,
          132,
          83,
          75,
          72,
          77,
          70,
          46,
          84,
          120,
          57,
          64,
          82,
          92,
          84,
          95,
          94,
          94,
          95,
          93,
          118,
          149,
          124,
          128,
          117,
          100,
          105,
          105,
          95,
          91,
          93,
          126,
          104,
          142,
          80,
          164,
          115,
          133,
          131,
          91,
          99,
          122,
          127,
          153,
          98,
          172,
          125,
          53,
          87,
          127,
          134,
          79,
          87,
          113,
          91,
          122,
          102,
          88,
          129,
          99,
          112,
          91,
          117,
          103,
          126,
          95,
          91,
          121,
          75,
          99,
          99,
          99,
          112,
          98,
          120,
          151,
          148,
          123,
          131,
          116,
          117,
          168,
          99,
          92,
          89,
          74,
          108,
          151,
          126,
          131,
          129,
          132,
          118,
          86,
          116,
          113,
          118,
          118,
          114,
          116,
          127,
          88,
          118,
          151,
          121,
          97,
          86,
          83,
          79,
          99,
          87,
          128,
          132,
          176,
          90,
          87,
          83,
          94,
          94,
          93,
          162,
          52,
          153,
          124,
          119,
          93,
          151,
          93,
          100,
          81,
          150,
          80,
          91,
          114,
          96,
          102,
          81,
          93,
          108,
          163,
          56,
          141,
          103,
          148,
          109,
          101,
          95,
          65,
          158,
          79,
          86,
          95,
          107,
          87,
          156,
          96,
          104,
          118,
          92,
          126,
          95,
          81,
          85,
          88,
          84,
          103,
          98,
          54,
          139,
          116,
          124,
          103,
          141,
          87,
          99,
          99,
          137,
          77,
          130,
          84,
          163,
          92,
          132,
          132,
          94,
          132,
          53,
          133,
          95,
          139,
          173,
          120,
          113,
          41,
          137,
          116,
          133,
          170,
          124,
          157,
          124,
          108,
          53,
          92,
          63,
          115,
          143,
          87,
          121,
          101,
          90,
          104,
          111,
          92,
          87,
          96,
          88,
          155,
          163,
          93,
          97,
          115,
          79,
          131,
          110,
          117,
          134,
          110,
          119,
          137,
          103,
          92,
          98,
          89,
          138,
          132,
          84,
          93,
          148,
          128,
          85,
          100,
          135,
          121,
          102,
          86,
          90,
          95,
          99,
          90,
          171,
          102,
          165,
          124,
          113,
          89,
          92,
          107,
          86,
          122,
          117,
          89,
          187,
          104,
          114,
          118,
          112,
          96,
          81,
          149,
          127,
          93,
          165,
          158,
          149,
          117,
          124,
          177,
          178,
          154,
          126,
          99,
          112,
          103,
          136,
          96,
          45,
          92,
          122,
          134,
          110,
          88,
          141,
          118,
          94,
          137,
          173,
          99,
          107,
          122,
          228,
          140,
          126,
          133,
          141,
          150,
          153,
          55,
          102,
          115,
          109,
          92,
          135,
          122,
          115,
          143,
          137,
          95,
          88,
          89,
          106,
          115,
          98,
          95,
          112,
          108,
          100,
          83,
          18,
          119,
          109,
          109,
          111,
          103,
          103,
          114,
          99,
          78,
          85,
          121,
          87,
          124,
          161,
          205,
          161,
          108,
          92,
          118,
          82,
          85,
          68,
          116,
          76,
          93,
          97,
          163,
          90,
          96,
          94,
          58,
          98,
          98,
          88,
          89,
          85,
          104,
          108,
          125,
          97,
          87,
          134,
          76,
          53,
          40,
          105,
          83,
          95,
          117,
          130,
          125,
          116,
          113,
          120,
          109,
          73,
          92,
          83,
          102,
          91,
          50,
          108,
          133,
          171,
          132,
          147,
          97,
          98,
          120,
          111
         ],
         "yaxis": "y"
        },
        {
         "customdata": [
          [
           "Jaws"
          ],
          [
           "Jaws 2"
          ],
          [
           "Jaws 3"
          ],
          [
           "Show Dogs"
          ],
          [
           "Bright Star"
          ],
          [
           "A Cinderella Story"
          ],
          [
           "Crocodile Dundee in Los Angeles"
          ],
          [
           "Labyrinth"
          ],
          [
           "Letters to Juliet"
          ],
          [
           "Open Season 2"
          ],
          [
           "Osmosis Jones"
          ],
          [
           "The Water Man"
          ],
          [
           "Vivo"
          ],
          [
           "Beethoven"
          ],
          [
           "Beethoven's 2nd"
          ],
          [
           "Cloudy with a Chance of Meatballs"
          ],
          [
           "My Girl 2"
          ],
          [
           "Open Season: Scared Silly"
          ],
          [
           "Planet 51"
          ],
          [
           "A Second Chance:  Rivals!"
          ],
          [
           "Surf's Up"
          ],
          [
           "Ratchet and Clank"
          ],
          [
           "Dennis the Menace"
          ],
          [
           "Kung Fu Panda"
          ],
          [
           "Kung Fu Panda 2"
          ],
          [
           "Snow Day"
          ],
          [
           "Stuart Little"
          ],
          [
           "The Karate Kid"
          ],
          [
           "The Karate Kid Part II"
          ],
          [
           "The Karate Kid Part III"
          ],
          [
           "Skater Girl"
          ],
          [
           "Wish Dragon"
          ],
          [
           "Flipped"
          ],
          [
           "Streets of Fire"
          ],
          [
           "The Four Seasons"
          ],
          [
           "The Outlaw Josey Wales"
          ],
          [
           "Home"
          ],
          [
           "Spy Kids: All the Time in the World"
          ],
          [
           "Aliens Stole My Body"
          ],
          [
           "Madagascar 3: Europe's Most Wanted"
          ],
          [
           "Lagaan"
          ],
          [
           "Taare Zameen Par"
          ],
          [
           "Escape from Planet Earth"
          ],
          [
           "Woody Woodpecker"
          ],
          [
           "The BFG"
          ],
          [
           "YES DAY"
          ],
          [
           "The Resurrection of Gavin Stone"
          ],
          [
           "The World We Make"
          ],
          [
           "Zathura"
          ],
          [
           "Finding ‘Ohana"
          ],
          [
           "Penguins of Madagascar: The Movie"
          ],
          [
           "Leap!"
          ],
          [
           "Good Burger"
          ],
          [
           "Rango"
          ],
          [
           "We Can Be Heroes"
          ],
          [
           "Bobbleheads The Movie"
          ],
          [
           "Monster House"
          ],
          [
           "The Christmas Chronicles: Part Two"
          ],
          [
           "Cloudy with a Chance of Meatballs 2"
          ],
          [
           "Jingle Jangle: A Christmas Journey"
          ],
          [
           "Elliot the Littlest Reindeer"
          ],
          [
           "Little Monsters"
          ],
          [
           "The Next Karate Kid"
          ],
          [
           "Over the Moon"
          ],
          [
           "ParaNorman"
          ],
          [
           "David Attenborough: A Life on Our Planet"
          ],
          [
           "The Smurfs 2"
          ],
          [
           "How to Train Your Dragon 2"
          ],
          [
           "Hotel for Dogs"
          ],
          [
           "Puss in Boots"
          ],
          [
           "The Smurfs"
          ],
          [
           "All Together Now"
          ],
          [
           "Mr. Peabody & Sherman"
          ],
          [
           "Dr. Seuss' The Lorax"
          ],
          [
           "Ride Like a Girl"
          ],
          [
           "The Nut Job"
          ],
          [
           "Underdogs"
          ],
          [
           "Okko's Inn"
          ],
          [
           "Mirai"
          ],
          [
           "Modest Heroes: Ponoc Short Films Theatre"
          ],
          [
           "Wadjda"
          ],
          [
           "Becoming"
          ],
          [
           "Arctic Dogs"
          ],
          [
           "Lady Driver"
          ],
          [
           "Roped"
          ],
          [
           "Madagascar: Escape 2 Africa"
          ],
          [
           "What a Girl Wants"
          ],
          [
           "The Willoughbys"
          ],
          [
           "Jem and the Holograms"
          ],
          [
           "Tigertail"
          ],
          [
           "The Last Airbender"
          ],
          [
           "Greater"
          ],
          [
           "Bethany Hamilton: Unstoppable"
          ],
          [
           "Lu Over the Wall"
          ],
          [
           "Hugo"
          ],
          [
           "Faith, Hope & Love"
          ],
          [
           "Menashe"
          ],
          [
           "Hop"
          ],
          [
           "A Cinderella Story: Christmas Wish"
          ],
          [
           "Klaus"
          ],
          [
           "Holly Star"
          ],
          [
           "Pachamama"
          ],
          [
           "Knock Down The House"
          ],
          [
           "The Spiderwick Chronicles"
          ],
          [
           "Monty Python and the Holy Grail"
          ],
          [
           "Puppy Star Christmas"
          ],
          [
           "Christmas Wedding Planner"
          ],
          [
           "Zokkomon"
          ],
          [
           "Gnome Alone"
          ],
          [
           "A Witches' Ball"
          ],
          [
           "Big Miracle"
          ],
          [
           "Duck Duck Goose"
          ],
          [
           "Nothing to Lose"
          ],
          [
           "My Perfect Romance"
          ],
          [
           "Pup Star: Better 2Gether"
          ],
          [
           "A 2nd Chance"
          ],
          [
           "Howards End"
          ],
          [
           "Marvel's Hulk: Where Monsters Dwell"
          ],
          [
           "Bee Movie"
          ],
          [
           "Marvel Super Hero Adventures: Frost Fight!"
          ],
          [
           "The Short Game"
          ],
          [
           "Being Elmo: A Puppeteer's Journey"
          ],
          [
           "A Boy Called Po"
          ],
          [
           "A Bridge Too Far"
          ],
          [
           "A Walk to Remember"
          ],
          [
           "A Wrinkle in Time"
          ],
          [
           "A.X.L."
          ],
          [
           "Alice Doesn't Live Here Anymore"
          ],
          [
           "Aliens Ate My Homework"
          ],
          [
           "April and the Extraordinary World"
          ],
          [
           "Arthur Christmas"
          ],
          [
           "Be Somebody"
          ],
          [
           "Bedtime Stories"
          ],
          [
           "Before the Flood"
          ],
          [
           "Benji: Off the Leash"
          ],
          [
           "Big Fat Liar"
          ],
          [
           "Bigger Fatter Liar"
          ],
          [
           "Blinky Bill: The Movie"
          ],
          [
           "Bolt"
          ],
          [
           "Boy and the World"
          ],
          [
           "Bratz: The Movie"
          ],
          [
           "Cats & Dogs: The Revenge of Kitty Galore"
          ],
          [
           "Change in the Air"
          ],
          [
           "Charlie and the Chocolate Factory"
          ],
          [
           "Christian Mingle"
          ],
          [
           "Christmas with the Kranks"
          ],
          [
           "Christopher Robin"
          ],
          [
           "Cleopatra Jones"
          ],
          [
           "Cop and a Half: New Recruit"
          ],
          [
           "Coraline"
          ],
          [
           "Dad"
          ],
          [
           "Daddy Day Care"
          ],
          [
           "Dolphin Tale 2"
          ],
          [
           "Dr. Seuss' The Cat in the Hat"
          ],
          [
           "Dr. Seuss' The Grinch"
          ],
          [
           "Dragonheart: A New Beginning"
          ],
          [
           "Earth to Echo"
          ],
          [
           "East Side Sushi"
          ],
          [
           "Evan Almighty"
          ],
          [
           "Fred Claus"
          ],
          [
           "Free Willy"
          ],
          [
           "Froning: The Fittest Man in History"
          ],
          [
           "G-Force"
          ],
          [
           "George of the Jungle 2"
          ],
          [
           "Get Santa"
          ],
          [
           "God Bless the Broken Road"
          ],
          [
           "God's Not Dead"
          ],
          [
           "God's Not Dead: A Light in Darkness"
          ],
          [
           "Good Night, and Good Luck"
          ],
          [
           "Goosebumps 2: Haunted Halloween"
          ],
          [
           "Grease"
          ],
          [
           "Hairspray"
          ],
          [
           "Hedgehogs"
          ],
          [
           "Hoodwinked Too! Hood vs. Evil"
          ],
          [
           "Hope Springs Eternal"
          ],
          [
           "Hotel Transylvania 3: Summer Vacation"
          ],
          [
           "How the Grinch Stole Christmas"
          ],
          [
           "I Am Bolt"
          ],
          [
           "I'm in Love with a Church Girl"
          ],
          [
           "Igor"
          ],
          [
           "Imagine That"
          ],
          [
           "Incredibles 2 (Spanish Version)"
          ],
          [
           "Indiana Jones and the Raiders of the Lost Ark"
          ],
          [
           "Indiana Jones and the Temple of Doom"
          ],
          [
           "Inequality for All"
          ],
          [
           "Inkheart"
          ],
          [
           "Iron Man & Captain America: Heroes United"
          ],
          [
           "It Takes Two"
          ],
          [
           "Jack and the Cuckoo-Clock Heart"
          ],
          [
           "Jiro Dreams of Sushi"
          ],
          [
           "Judy Moody and the Not Bummer Summer"
          ],
          [
           "Kahlil Gibran's The Prophet"
          ],
          [
           "Leap Year"
          ],
          [
           "Legend of the Guardians: The Owls of Ga'Hoole"
          ],
          [
           "Little Men"
          ],
          [
           "Logan's Run"
          ],
          [
           "Marvel's Iron Man & Hulk: Heroes United"
          ],
          [
           "Mary and the Witch's Flower"
          ],
          [
           "Mary Poppins Returns"
          ],
          [
           "Middle School: The Worst Years of My Life"
          ],
          [
           "Miracle"
          ],
          [
           "Mirror Mirror"
          ],
          [
           "Monkey Up"
          ],
          [
           "Monster Family"
          ],
          [
           "Mune: Guardian of the Moon"
          ],
          [
           "Muppets Most Wanted"
          ],
          [
           "Nacho Libre"
          ],
          [
           "National Treasure"
          ],
          [
           "New York Minute"
          ],
          [
           "No Reservations"
          ],
          [
           "One Direction: This Is Us"
          ],
          [
           "Open Season"
          ],
          [
           "Paul Blart: Mall Cop"
          ],
          [
           "Penelope"
          ],
          [
           "Peter Rabbit"
          ],
          [
           "Phantom Boy"
          ],
          [
           "Pope Francis: A Man of His Word"
          ],
          [
           "Popeye"
          ],
          [
           "R.L. Stine's Mostly Ghostly"
          ],
          [
           "Race to Witch Mountain"
          ],
          [
           "Ralph Breaks the Internet: Wreck-It Ralph 2"
          ],
          [
           "Rocky"
          ],
          [
           "Rocky II"
          ],
          [
           "Rocky III"
          ],
          [
           "Rocky IV"
          ],
          [
           "Runaway Bride"
          ],
          [
           "Russell Madness"
          ],
          [
           "Scales: Mermaids Are Real"
          ],
          [
           "Searching for Bobby Fischer"
          ],
          [
           "Shorts"
          ],
          [
           "Sleepover"
          ],
          [
           "Soul Surfer"
          ],
          [
           "Sparkle"
          ],
          [
           "Spider-Man: Into the Spider-Verse"
          ],
          [
           "Spy Kids"
          ],
          [
           "Spy Kids 2: The Island of Lost Dreams"
          ],
          [
           "Spy Kids 3: Game Over"
          ],
          [
           "Strictly Ballroom"
          ],
          [
           "Stuart Little 2"
          ],
          [
           "Teenage Mutant Ninja Turtles"
          ],
          [
           "Teenage Mutant Ninja Turtles II: The Secret of the Ooze"
          ],
          [
           "The Adventures of Sharkboy and Lavagirl"
          ],
          [
           "The Adventures of Tintin"
          ],
          [
           "The Angry Birds Movie 2"
          ],
          [
           "The Car"
          ],
          [
           "The Christmas Candle"
          ],
          [
           "The Croods"
          ],
          [
           "The Dark Crystal"
          ],
          [
           "The First Wives Club"
          ],
          [
           "The Flintstones"
          ],
          [
           "The Flintstones in Viva Rock Vegas"
          ],
          [
           "The Hundred-Foot Journey"
          ],
          [
           "The Incredibles 2"
          ],
          [
           "The Indian in the Cupboard"
          ],
          [
           "The Lake House"
          ],
          [
           "The Lamb"
          ],
          [
           "The Last Whistle"
          ],
          [
           "The Little Mermaid"
          ],
          [
           "The Little Prince"
          ],
          [
           "The Longshots"
          ],
          [
           "The Muppets"
          ],
          [
           "The Natural"
          ],
          [
           "The Nutcracker and the Four Realms"
          ],
          [
           "The Pink Panther"
          ],
          [
           "The Pirates! Band of Misfits"
          ],
          [
           "The Prince & Me"
          ],
          [
           "The Secret Life of Pets 2"
          ],
          [
           "The Spy Next Door"
          ],
          [
           "The Water Horse: Legend of the Deep"
          ],
          [
           "Tremors 3: Back to Perfection"
          ],
          [
           "Turbo"
          ],
          [
           "Unaccompanied Minors"
          ],
          [
           "Yellowbird"
          ],
          [
           "Yours, Mine and Ours"
          ],
          [
           "Zoom"
          ]
         ],
         "hovertemplate": "rating=PG<br>release_year=%{x}<br>duration_int=%{y}<br>title=%{customdata[0]}<extra></extra>",
         "legendgroup": "PG",
         "marker": {
          "color": "#ab63fa",
          "symbol": "circle"
         },
         "mode": "markers",
         "name": "PG",
         "showlegend": true,
         "type": "scattergl",
         "x": [
          1975,
          1978,
          1983,
          2018,
          2009,
          2004,
          2001,
          1986,
          2010,
          2008,
          2001,
          2021,
          2021,
          1992,
          1993,
          2009,
          1994,
          2015,
          2009,
          2021,
          2007,
          2016,
          1993,
          2008,
          2011,
          2000,
          1999,
          1984,
          1986,
          1989,
          2021,
          2021,
          2010,
          1984,
          1981,
          1976,
          2015,
          2011,
          2020,
          2012,
          2001,
          2007,
          2013,
          2017,
          2016,
          2021,
          2017,
          2019,
          2005,
          2021,
          2014,
          2016,
          1997,
          2011,
          2020,
          2020,
          2006,
          2020,
          2013,
          2020,
          2018,
          1989,
          1994,
          2020,
          2012,
          2020,
          2013,
          2014,
          2009,
          2011,
          2011,
          2020,
          2014,
          2012,
          2020,
          2014,
          2013,
          2018,
          2018,
          2018,
          2012,
          2020,
          2019,
          2019,
          2020,
          2008,
          2003,
          2020,
          2015,
          2020,
          2010,
          2016,
          2019,
          2017,
          2011,
          2019,
          2017,
          2011,
          2019,
          2019,
          2018,
          2019,
          2019,
          2008,
          1975,
          2018,
          2017,
          2011,
          2018,
          2017,
          2012,
          2018,
          2018,
          2018,
          2017,
          2011,
          1992,
          2016,
          2007,
          2015,
          2013,
          2011,
          2016,
          1977,
          2002,
          2018,
          2018,
          1974,
          2018,
          2015,
          2011,
          2016,
          2008,
          2016,
          2004,
          2002,
          2017,
          2015,
          2008,
          2013,
          2007,
          2010,
          2018,
          2005,
          2014,
          2004,
          2018,
          1973,
          2017,
          2009,
          1989,
          2003,
          2014,
          2003,
          2018,
          2000,
          2014,
          2015,
          2007,
          2007,
          1993,
          2016,
          2009,
          2003,
          2014,
          2018,
          2014,
          2018,
          2005,
          2018,
          1978,
          2007,
          2016,
          2011,
          2018,
          2018,
          2000,
          2016,
          2013,
          2008,
          2009,
          2018,
          1981,
          1984,
          2013,
          2008,
          2014,
          1995,
          2013,
          2011,
          2011,
          2014,
          2010,
          2010,
          2016,
          1976,
          2013,
          2017,
          2018,
          2016,
          2004,
          2012,
          2016,
          2017,
          2014,
          2014,
          2006,
          2004,
          2004,
          2007,
          2013,
          2006,
          2009,
          2006,
          2018,
          2015,
          2018,
          1980,
          2008,
          2009,
          2018,
          1976,
          1979,
          1982,
          1985,
          1999,
          2015,
          2017,
          1993,
          2009,
          2004,
          2011,
          1976,
          2018,
          2001,
          2002,
          2003,
          1992,
          2002,
          2007,
          1991,
          2005,
          2011,
          2019,
          1977,
          2013,
          2013,
          1982,
          1996,
          1994,
          2000,
          2014,
          2018,
          1995,
          2006,
          2017,
          2019,
          2018,
          2015,
          2008,
          2011,
          1984,
          2018,
          2006,
          2012,
          2004,
          2019,
          2010,
          2007,
          2001,
          2013,
          2006,
          2014,
          2005,
          2006
         ],
         "xaxis": "x",
         "y": [
          124,
          116,
          98,
          90,
          119,
          95,
          95,
          101,
          105,
          76,
          95,
          92,
          100,
          87,
          88,
          90,
          99,
          85,
          91,
          91,
          86,
          94,
          96,
          94,
          93,
          89,
          85,
          127,
          113,
          112,
          110,
          102,
          90,
          94,
          108,
          136,
          94,
          88,
          88,
          96,
          224,
          162,
          89,
          91,
          118,
          90,
          92,
          108,
          101,
          123,
          92,
          89,
          96,
          110,
          101,
          83,
          91,
          115,
          95,
          124,
          90,
          102,
          107,
          100,
          93,
          84,
          105,
          102,
          101,
          92,
          103,
          94,
          93,
          86,
          99,
          85,
          85,
          96,
          98,
          54,
          93,
          89,
          93,
          104,
          90,
          91,
          105,
          92,
          119,
          91,
          104,
          131,
          100,
          113,
          127,
          106,
          82,
          95,
          86,
          98,
          92,
          71,
          88,
          97,
          92,
          91,
          86,
          104,
          86,
          91,
          107,
          92,
          133,
          92,
          93,
          95,
          143,
          75,
          92,
          74,
          100,
          76,
          94,
          176,
          102,
          110,
          99,
          112,
          90,
          107,
          98,
          88,
          100,
          97,
          100,
          88,
          95,
          91,
          99,
          80,
          102,
          82,
          95,
          115,
          99,
          99,
          104,
          89,
          96,
          101,
          117,
          93,
          107,
          82,
          86,
          84,
          91,
          106,
          96,
          115,
          112,
          99,
          88,
          87,
          103,
          111,
          113,
          106,
          93,
          90,
          110,
          116,
          94,
          86,
          79,
          97,
          105,
          107,
          119,
          87,
          108,
          118,
          116,
          119,
          90,
          106,
          71,
          101,
          93,
          79,
          91,
          85,
          100,
          97,
          85,
          118,
          72,
          103,
          131,
          92,
          136,
          106,
          83,
          93,
          85,
          110,
          92,
          131,
          91,
          104,
          92,
          86,
          91,
          89,
          95,
          85,
          96,
          114,
          98,
          99,
          113,
          120,
          119,
          100,
          92,
          116,
          93,
          93,
          110,
          89,
          89,
          106,
          98,
          117,
          88,
          100,
          83,
          95,
          78,
          87,
          88,
          93,
          107,
          97,
          96,
          100,
          99,
          93,
          103,
          91,
          91,
          123,
          118,
          96,
          98,
          86,
          88,
          85,
          107,
          95,
          104,
          138,
          99,
          93,
          88,
          111,
          86,
          94,
          112,
          104,
          96,
          90,
          90,
          88,
          88
         ],
         "yaxis": "y"
        },
        {
         "customdata": [
          [
           "Safe House"
          ],
          [
           "Training Day"
          ],
          [
           "Kate"
          ],
          [
           "In the Cut"
          ],
          [
           "Blade Runner: The Final Cut"
          ],
          [
           "Chappie"
          ],
          [
           "Cliffhanger"
          ],
          [
           "Cold Mountain"
          ],
          [
           "Do the Right Thing"
          ],
          [
           "Extraction"
          ],
          [
           "House Party"
          ],
          [
           "House Party 2"
          ],
          [
           "House Party 3"
          ],
          [
           "I Got the Hook Up"
          ],
          [
           "In Too Deep"
          ],
          [
           "My Boss's Daughter"
          ],
          [
           "Once Upon a Time in America"
          ],
          [
           "Rhyme & Reason"
          ],
          [
           "Tears of the Sun"
          ],
          [
           "The Blue Lagoon"
          ],
          [
           "The Interview"
          ],
          [
           "In the Line of Fire"
          ],
          [
           "Wind River"
          ],
          [
           "The November Man"
          ],
          [
           "Sweet Girl"
          ],
          [
           "Walk of Shame"
          ],
          [
           "The Piano"
          ],
          [
           "The Railway Man"
          ],
          [
           "Heavy"
          ],
          [
           "Boyka: Undisputed"
          ],
          [
           "Deep Blue Sea"
          ],
          [
           "Freedomland"
          ],
          [
           "Good Luck Chuck"
          ],
          [
           "Magnolia"
          ],
          [
           "Pineapple Express"
          ],
          [
           "Team America: World Police"
          ],
          [
           "The Edge of Seventeen"
          ],
          [
           "The Haunting in Connecticut 2: Ghosts of Georgia"
          ],
          [
           "The Last Boy Scout"
          ],
          [
           "The Lincoln Lawyer"
          ],
          [
           "The Machinist"
          ],
          [
           "The Original Kings of Comedy"
          ],
          [
           "Django Unchained"
          ],
          [
           "Cosmic Sin"
          ],
          [
           "The Beguiled"
          ],
          [
           "American Ultra"
          ],
          [
           "Rock the Kasbah"
          ],
          [
           "Snowpiercer"
          ],
          [
           "6 Bullets"
          ],
          [
           "Air Force One"
          ],
          [
           "Boogie Nights"
          ],
          [
           "Mary Magdalene"
          ],
          [
           "Midnight Run"
          ],
          [
           "No Strings Attached"
          ],
          [
           "Not Another Teen Movie"
          ],
          [
           "Red Joan"
          ],
          [
           "She's Out of My League"
          ],
          [
           "Sword of Trust"
          ],
          [
           "The American"
          ],
          [
           "The Game"
          ],
          [
           "The Life of David Gale"
          ],
          [
           "The Long Riders"
          ],
          [
           "The Strangers"
          ],
          [
           "Underworld"
          ],
          [
           "Underworld: Awakening"
          ],
          [
           "Underworld: Rise of the Lycans"
          ],
          [
           "Why Do Fools Fall in Love"
          ],
          [
           "Lying and Stealing"
          ],
          [
           "Killing Them Softly"
          ],
          [
           "The Seventh Day"
          ],
          [
           "Silver Linings Playbook"
          ],
          [
           "Life of Crime"
          ],
          [
           "Rogue Warfare: Death of a Nation"
          ],
          [
           "A Haunted House 2"
          ],
          [
           "A Private War"
          ],
          [
           "Bliss"
          ],
          [
           "Company of Heroes"
          ],
          [
           "Cradle 2 the Grave"
          ],
          [
           "Felon"
          ],
          [
           "Hostel: Part III"
          ],
          [
           "Love Jones"
          ],
          [
           "Never Back Down 2: The Beatdown"
          ],
          [
           "Ninja Assassin"
          ],
          [
           "Population 436"
          ],
          [
           "Sniper: Legacy"
          ],
          [
           "Swordfish"
          ],
          [
           "The Wedding Guest"
          ],
          [
           "The Wind"
          ],
          [
           "Welcome Home"
          ],
          [
           "Army of the Dead"
          ],
          [
           "Sabotage"
          ],
          [
           "Small Town Crime"
          ],
          [
           "Sleight"
          ],
          [
           "The Woman in the Window"
          ],
          [
           "Layer Cake"
          ],
          [
           "Sleepless"
          ],
          [
           "Dead Man Down"
          ],
          [
           "Au coeur des gangs"
          ],
          [
           "Due Date"
          ],
          [
           "Green Zone"
          ],
          [
           "JT LeRoy"
          ],
          [
           "Mystic River"
          ],
          [
           "The Sweetest Thing"
          ],
          [
           "The Whole Nine Yards"
          ],
          [
           "The Whole Truth"
          ],
          [
           "Under Siege"
          ],
          [
           "Zack and Miri Make a Porno"
          ],
          [
           "The Strangers: Prey at Night"
          ],
          [
           "August: Osage County"
          ],
          [
           "Between Worlds"
          ],
          [
           "Miss Sloane"
          ],
          [
           "American Me"
          ],
          [
           "Crimson Peak"
          ],
          [
           "Rush"
          ],
          [
           "Synchronic"
          ],
          [
           "The Master"
          ],
          [
           "Zoot Suit"
          ],
          [
           "The Stand-In"
          ],
          [
           "Air Strike"
          ],
          [
           "Concrete Cowboy"
          ],
          [
           "Cross: Rise of the Villains"
          ],
          [
           "Into the Grizzly Maze"
          ],
          [
           "Maximum Risk"
          ],
          [
           "S.W.A.T.: Under Siege"
          ],
          [
           "Sniper: Ghost Shooter"
          ],
          [
           "Starship Troopers: Traitor of Mars"
          ],
          [
           "The Pianist"
          ],
          [
           "Universal Soldier: The Return"
          ],
          [
           "Lawless"
          ],
          [
           "Jiu Jitsu"
          ],
          [
           "Deadly Illusions"
          ],
          [
           "Skylines"
          ],
          [
           "Operation Varsity Blues: The College Admissions Scandal"
          ],
          [
           "Savages"
          ],
          [
           "Parker"
          ],
          [
           "Biggie: I Got a Story to Tell"
          ],
          [
           "Rain Man"
          ],
          [
           "Tenacious D in The Pick of Destiny"
          ],
          [
           "Captain Fantastic"
          ],
          [
           "No Escape"
          ],
          [
           "Our Idiot Brother"
          ],
          [
           "The Conjuring"
          ],
          [
           "The Conjuring 2"
          ],
          [
           "I Care a Lot"
          ],
          [
           "Middle of Nowhere"
          ],
          [
           "War Dogs"
          ],
          [
           "Malcolm & Marie"
          ],
          [
           "Shutter Island"
          ],
          [
           "The Bank Job"
          ],
          [
           "Hell Fest"
          ],
          [
           "The White Tiger"
          ],
          [
           "Friendsgiving"
          ],
          [
           "The Shadow of Violence"
          ],
          [
           "Cut Throat City"
          ],
          [
           "Homefront"
          ],
          [
           "Death of Me"
          ],
          [
           "Outside the Wire"
          ],
          [
           "The Vanished"
          ],
          [
           "An Imperfect Murder"
          ],
          [
           "The Intouchables"
          ],
          [
           "Pieces of a Woman"
          ],
          [
           "Case 39"
          ],
          [
           "Eddie Murphy: Raw"
          ],
          [
           "Into the Wild"
          ],
          [
           "London Heist"
          ],
          [
           "Mystic Pizza"
          ],
          [
           "After We Collided"
          ],
          [
           "The Con Is On"
          ],
          [
           "Guest House"
          ],
          [
           "Ma Rainey's Black Bottom"
          ],
          [
           "Braven"
          ],
          [
           "Nocturnal Animals"
          ],
          [
           "Grizzlies"
          ],
          [
           "Triple 9"
          ],
          [
           "Ava"
          ],
          [
           "MANK"
          ],
          [
           "Chef"
          ],
          [
           "Peppermint"
          ],
          [
           "The Happytime Murders"
          ],
          [
           "Rust Creek"
          ],
          [
           "Ghosts of War"
          ],
          [
           "Hillbilly Elegy"
          ],
          [
           "Hard Kill"
          ],
          [
           "Machete Kills"
          ],
          [
           "Fruitvale Station"
          ],
          [
           "The Late Bloomer"
          ],
          [
           "Prospect"
          ],
          [
           "Mile 22"
          ],
          [
           "Piercing"
          ],
          [
           "Snowden"
          ],
          [
           "Wheels of Fortune"
          ],
          [
           "Metallica Through The Never"
          ],
          [
           "Black '47"
          ],
          [
           "The Hummingbird Project"
          ],
          [
           "Yes, God, Yes"
          ],
          [
           "I Am Vengeance: Retaliation"
          ],
          [
           "In a Valley of Violence"
          ],
          [
           "The Trial of the Chicago 7"
          ],
          [
           "Unfriended"
          ],
          [
           "Batman: The Killing Joke"
          ],
          [
           "The Forty-Year-Old Version"
          ],
          [
           "American Pie 9: Girls' Rules"
          ],
          [
           "An Ordinary Man"
          ],
          [
           "Free State of Jones"
          ],
          [
           "The Outpost"
          ],
          [
           "The Boys in the Band"
          ],
          [
           "Welcome to Sudden Death"
          ],
          [
           "The Devil All The Time"
          ],
          [
           "The Take"
          ],
          [
           "Raising Victor Vargas"
          ],
          [
           "Villain"
          ],
          [
           "I'm Thinking of Ending Things"
          ],
          [
           "Sex Drive"
          ],
          [
           "Drunk Parents"
          ],
          [
           "Project Power"
          ],
          [
           "Christine"
          ],
          [
           "We Summon the Darkness"
          ],
          [
           "Killing Hasselhoff"
          ],
          [
           "Rogue Warfare: The Hunt"
          ],
          [
           "The Ottoman Lieutenant"
          ],
          [
           "What Keeps You Alive"
          ],
          [
           "The Old Guard"
          ],
          [
           "Born Racer"
          ],
          [
           "The Long Dumb Road"
          ],
          [
           "Double Jeopardy"
          ],
          [
           "Total Recall"
          ],
          [
           "Woodshock"
          ],
          [
           "An Evening with Beverly Luff Linn"
          ],
          [
           "Da 5 Bloods"
          ],
          [
           "Middle Men"
          ],
          [
           "The Night Clerk"
          ],
          [
           "Lady Bird"
          ],
          [
           "The Disaster Artist"
          ],
          [
           "Uncut Gems"
          ],
          [
           "The Lovebirds"
          ],
          [
           "John Henry"
          ],
          [
           "The Stand at Paxton County"
          ],
          [
           "All Day and a Night"
          ],
          [
           "The Heartbreak Kid"
          ],
          [
           "Sergio"
          ],
          [
           "Puerto Ricans in Paris"
          ],
          [
           "The Florida Project"
          ],
          [
           "The Killing of a Sacred Deer"
          ],
          [
           "Angel Has Fallen"
          ],
          [
           "The Death of Stalin"
          ],
          [
           "The Runaways"
          ],
          [
           "Wildling"
          ],
          [
           "Through My Father's Eyes: The Ronda Rousey Story"
          ],
          [
           "Rogue Warfare"
          ],
          [
           "3022"
          ],
          [
           "AllI Wish"
          ],
          [
           "Search Party"
          ],
          [
           "Lost Girls"
          ],
          [
           "Spenser Confidential"
          ],
          [
           "The Death of Mr. Lazarescu"
          ],
          [
           "Freaks"
          ],
          [
           "W.E."
          ],
          [
           "There Will Be Blood"
          ],
          [
           "The Last Thing He Wanted"
          ],
          [
           "By the Sea"
          ],
          [
           "MR. RIGHT"
          ],
          [
           "Term Life"
          ],
          [
           "Good Time"
          ],
          [
           "Horse Girl"
          ],
          [
           "The Ballad of Lefty Brown"
          ],
          [
           "Justice"
          ],
          [
           "The Bling Ring"
          ],
          [
           "Legend"
          ],
          [
           "Steve Jobs"
          ],
          [
           "MindGamers"
          ],
          [
           "Monsters: Dark Continent"
          ],
          [
           "A Ghost Story"
          ],
          [
           "Pan's Labyrinth"
          ],
          [
           "Road Trip: Beer Pong"
          ],
          [
           "Doom: Annihilation"
          ],
          [
           "Jarhead: Law of Return"
          ],
          [
           "MFKZ"
          ],
          [
           "Jacob's Ladder"
          ],
          [
           "The Danish Girl"
          ],
          [
           "6 Underground"
          ],
          [
           "It Comes at Night"
          ],
          [
           "Marriage Story"
          ],
          [
           "Cut Bank"
          ],
          [
           "Defiance"
          ],
          [
           "The Irishman"
          ],
          [
           "Shot Caller"
          ],
          [
           "The Green Inferno"
          ],
          [
           "Earthquake Bird"
          ],
          [
           "A Single Man"
          ],
          [
           "The Lovers"
          ],
          [
           "Undercover Brother 2"
          ],
          [
           "The King"
          ],
          [
           "Dolemite Is My Name"
          ],
          [
           "Free Fire"
          ],
          [
           "The Laundromat"
          ],
          [
           "Sinister 2"
          ],
          [
           "The Squid and the Whale"
          ],
          [
           "Inside Man: Most Wanted"
          ],
          [
           "Triple Threat"
          ],
          [
           "Cop Car"
          ],
          [
           "Backdraft 2"
          ],
          [
           "Wine Country"
          ],
          [
           "Extremely Wicked, Shockingly Evil and Vile"
          ],
          [
           "Olympus Has Fallen"
          ],
          [
           "Someone Great"
          ],
          [
           "A Little Chaos"
          ],
          [
           "About Time"
          ],
          [
           "The Highwaymen"
          ],
          [
           "Girl"
          ],
          [
           "Triple Frontier"
          ],
          [
           "Black Sea"
          ],
          [
           "Velvet Buzzsaw"
          ],
          [
           "Bird Box"
          ],
          [
           "23:59"
          ],
          [
           "Kill the Messenger"
          ],
          [
           "Maps to the Stars"
          ],
          [
           "ROMA"
          ],
          [
           "The Ballad of Buster Scruggs"
          ],
          [
           "Outlaw King"
          ],
          [
           "The Other Side of the Wind"
          ],
          [
           "Heneral Luna"
          ],
          [
           "The Kindergarten Teacher"
          ],
          [
           "22 July"
          ],
          [
           "Tales From the Hood 2"
          ],
          [
           "Private Life"
          ],
          [
           "Death Race: Beyond Anarchy"
          ],
          [
           "Monty Python: Live at The Hollywood Bowl"
          ],
          [
           "Monty Python's Life of Brian"
          ],
          [
           "TAU"
          ],
          [
           "The Clapper"
          ],
          [
           "Beyond Skyline"
          ],
          [
           "Day of the Dead: Bloodline"
          ],
          [
           "Revolt"
          ],
          [
           "Trailer Park Boys: Countdown to Liquor Day"
          ],
          [
           "Trailer Park Boys: The Movie"
          ],
          [
           "Bullet Head"
          ],
          [
           "Love Beats Rhymes"
          ],
          [
           "Acts of Vengeance"
          ],
          [
           "Fun Mom Dinner"
          ],
          [
           "Goon: Last of the Enforcers"
          ],
          [
           "Jeremiah Tower: The Last Magnificent"
          ],
          [
           "Mudbound"
          ],
          [
           "Jerry Seinfeld: Comedian"
          ],
          [
           "The Journey Is the Destination"
          ],
          [
           "The B-Side: Elsa Dorfman's Portrait Photography"
          ],
          [
           "Strange Weather"
          ],
          [
           "The Hateful Eight"
          ],
          [
           "The Bad Batch"
          ],
          [
           "Berlin Syndrome"
          ],
          [
           "Demonic"
          ],
          [
           "Message from the King"
          ],
          [
           "1898: Our Last Men in the Philippines"
          ],
          [
           "Shepherds and Butchers"
          ],
          [
           "Kevin Hart: What Now?"
          ],
          [
           "Asoka"
          ],
          [
           "Gridlocked"
          ],
          [
           "Hush"
          ],
          [
           "He Never Died"
          ],
          [
           "Ip Man"
          ],
          [
           "Ip Man 2"
          ],
          [
           "Results"
          ],
          [
           "Creep"
          ],
          [
           "187"
          ],
          [
           "22-Jul"
          ],
          [
           "13 Sins"
          ],
          [
           "14 Blades"
          ],
          [
           "20th Century Women"
          ],
          [
           "21 & Over"
          ],
          [
           "24 Hours to Live"
          ],
          [
           "30 Minutes or Less"
          ],
          [
           "5 to 7"
          ],
          [
           "50/50"
          ],
          [
           "6 Days"
          ],
          [
           "68 Kill"
          ],
          [
           "A Bad Moms Christmas"
          ],
          [
           "A Clockwork Orange"
          ],
          [
           "A Dangerous Woman"
          ],
          [
           "A Family Man"
          ],
          [
           "A Glimpse Inside the Mind of Charles Swan III"
          ],
          [
           "A Haunted House"
          ],
          [
           "A Kind of Murder"
          ],
          [
           "A Most Violent Year"
          ],
          [
           "A Perfect Man"
          ],
          [
           "A Serious Man"
          ],
          [
           "A Thin Line Between Love & Hate"
          ],
          [
           "Act of Valor"
          ],
          [
           "Acts of Violence"
          ],
          [
           "Adore"
          ],
          [
           "Aftershock"
          ],
          [
           "Ai Weiwei: Never Sorry"
          ],
          [
           "All About Nina"
          ],
          [
           "All the Boys Love Mandy Lane"
          ],
          [
           "All the Devil's Men"
          ],
          [
           "Alone in Berlin"
          ],
          [
           "Along Came a Spider"
          ],
          [
           "American Assassin"
          ],
          [
           "American Beauty"
          ],
          [
           "American Heist"
          ],
          [
           "American History X"
          ],
          [
           "American Honey"
          ],
          [
           "American Psycho"
          ],
          [
           "Amy"
          ],
          [
           "Anesthesia"
          ],
          [
           "Angel Eyes"
          ],
          [
           "As Above, So Below"
          ],
          [
           "Automata"
          ],
          [
           "Babel"
          ],
          [
           "Backtrack"
          ],
          [
           "Bad Boys"
          ],
          [
           "Bad Boys II"
          ],
          [
           "Band Aid"
          ],
          [
           "BASEketball"
          ],
          [
           "Basic Instinct"
          ],
          [
           "Big Kill"
          ],
          [
           "Biggie & Tupac"
          ],
          [
           "Billy Elliot"
          ],
          [
           "Bitch"
          ],
          [
           "Black Hawk Down"
          ],
          [
           "Black Snake Moan"
          ],
          [
           "Blaze"
          ],
          [
           "Bleed for This"
          ],
          [
           "Blood Father"
          ],
          [
           "Blow"
          ],
          [
           "Blue Mountain State: The Rise of Thadland"
          ],
          [
           "Blue Ruin"
          ],
          [
           "Blue Valentine"
          ],
          [
           "Bonnie and Clyde"
          ],
          [
           "Brick"
          ],
          [
           "Brooklyn's Finest"
          ],
          [
           "Cézanne et moi"
          ],
          [
           "Cabin Fever"
          ],
          [
           "Camp X-Ray"
          ],
          [
           "Candyman"
          ],
          [
           "Carol"
          ],
          [
           "Carrie"
          ],
          [
           "Casa de mi Padre"
          ],
          [
           "Chasing Amy"
          ],
          [
           "Chernobyl Diaries"
          ],
          [
           "Child's Play"
          ],
          [
           "Chloe"
          ],
          [
           "Chronicle of an Escape"
          ],
          [
           "City of God"
          ],
          [
           "Closed Circuit"
          ],
          [
           "Cloud Atlas"
          ],
          [
           "Clouds of Sils Maria"
          ],
          [
           "Colonia"
          ],
          [
           "Come and Find Me"
          ],
          [
           "Concussion"
          ],
          [
           "Conor McGregor: Notorious"
          ],
          [
           "Crash"
          ],
          [
           "Cult of Chucky"
          ],
          [
           "Cutie and the Boxer"
          ],
          [
           "Dallas Buyers Club"
          ],
          [
           "Dark Crimes"
          ],
          [
           "Dark Places"
          ],
          [
           "De Palma"
          ],
          [
           "Death at a Funeral"
          ],
          [
           "Death House"
          ],
          [
           "Delirium"
          ],
          [
           "Den of Thieves"
          ],
          [
           "Denis Leary: No Cure For Cancer"
          ],
          [
           "Detour"
          ],
          [
           "District 9"
          ],
          [
           "Domino"
          ],
          [
           "Don't Be Afraid of the Dark"
          ],
          [
           "Don't Knock Twice"
          ],
          [
           "Don't Think Twice"
          ],
          [
           "Donnie Brasco"
          ],
          [
           "Doom"
          ],
          [
           "El último testigo"
          ],
          [
           "Elizabeth Harvest"
          ],
          [
           "End of Watch"
          ],
          [
           "Enemy"
          ],
          [
           "Enter the Dragon"
          ],
          [
           "Equilibrium"
          ],
          [
           "Euphoria"
          ],
          [
           "Event Horizon"
          ],
          [
           "Everybody Knows"
          ],
          [
           "Ex Machina"
          ],
          [
           "Executive Decision"
          ],
          [
           "Exit Wounds"
          ],
          [
           "Fallen"
          ],
          [
           "Fear and Loathing in Las Vegas"
          ],
          [
           "Final Destination"
          ],
          [
           "Final Destination 2"
          ],
          [
           "Final Destination 3"
          ],
          [
           "First Kill"
          ],
          [
           "Five Elements Ninjas"
          ],
          [
           "For Colored Girls"
          ],
          [
           "For Greater Glory"
          ],
          [
           "Four Weddings and a Funeral"
          ],
          [
           "Fracture"
          ],
          [
           "Frances Ha"
          ],
          [
           "Freeway: Crack in the System"
          ],
          [
           "Friday the 13th"
          ],
          [
           "Friend Request"
          ],
          [
           "From Paris with Love"
          ],
          [
           "Frozen River"
          ],
          [
           "Gangs of New York"
          ],
          [
           "Get Him to the Greek"
          ],
          [
           "Goldstone"
          ],
          [
           "Gone are the Days"
          ],
          [
           "Good Kids"
          ],
          [
           "Good Kill"
          ],
          [
           "Good People"
          ],
          [
           "GoodFellas"
          ],
          [
           "Goon"
          ],
          [
           "Gosford Park"
          ],
          [
           "Gothika"
          ],
          [
           "Gran Torino"
          ],
          [
           "Green Room"
          ],
          [
           "Hamburger Hill"
          ],
          [
           "Hangman"
          ],
          [
           "Hardcore Henry"
          ],
          [
           "Harold & Kumar Escape from Guantanamo Bay"
          ],
          [
           "Harold & Kumar Go to White Castle"
          ],
          [
           "Haywire"
          ],
          [
           "He's Out There"
          ],
          [
           "Hell and Back"
          ],
          [
           "Hell or High Water"
          ],
          [
           "Her"
          ],
          [
           "Horns"
          ],
          [
           "Hostiles"
          ],
          [
           "How to Be a Player"
          ],
          [
           "Hunt to Kill"
          ],
          [
           "Hunter's Prayer"
          ],
          [
           "Hustle & Flow"
          ],
          [
           "I Am Vengeance"
          ],
          [
           "I Am Wrath"
          ],
          [
           "I, Daniel Blake"
          ],
          [
           "Iceman"
          ],
          [
           "In Search of Fellini"
          ],
          [
           "Inconceivable"
          ],
          [
           "Inglourious Basterds"
          ],
          [
           "Into the Forest"
          ],
          [
           "Jackie Brown"
          ],
          [
           "Jay and Silent Bob Strike Back"
          ],
          [
           "Jersey Boys"
          ],
          [
           "Jimi Hendrix"
          ],
          [
           "Junebug"
          ],
          [
           "Kevin Hart: Laugh at My Pain"
          ],
          [
           "Kevin Hart: Let Me Explain"
          ],
          [
           "Kickboxer: Retaliation"
          ],
          [
           "Kicking and Screaming"
          ],
          [
           "Kidnapping Mr. Heineken"
          ],
          [
           "Kill Bill: Vol. 1"
          ],
          [
           "Kill Bill: Vol. 2"
          ],
          [
           "Kill the Irishman"
          ],
          [
           "Kilo Two Bravo"
          ],
          [
           "Kings"
          ],
          [
           "Kiss the Girls"
          ],
          [
           "Knock Knock"
          ],
          [
           "Krisha"
          ],
          [
           "Krystal"
          ],
          [
           "Kung Fu Hustle"
          ],
          [
           "Kurt & Courtney"
          ],
          [
           "Lady Bloodfight"
          ],
          [
           "Last Knights"
          ],
          [
           "Last Night"
          ],
          [
           "Legion"
          ],
          [
           "Life After Beth"
          ],
          [
           "Like Water for Chocolate"
          ],
          [
           "Lila & Eve"
          ],
          [
           "Lock, Stock and Two Smoking Barrels"
          ],
          [
           "Locke"
          ],
          [
           "Lolita"
          ],
          [
           "Love, Rosie"
          ],
          [
           "Mac & Devin Go to High School"
          ],
          [
           "Mad Max"
          ],
          [
           "Man of Tai Chi"
          ],
          [
           "Man Up"
          ],
          [
           "Marauders"
          ],
          [
           "Martial Arts of Shaolin"
          ],
          [
           "Martin Lawrence Live: Runteldat"
          ],
          [
           "Mean Dreams"
          ],
          [
           "Mean Streets"
          ],
          [
           "Melvin Goes to Dinner"
          ],
          [
           "Merantau"
          ],
          [
           "MI-5"
          ],
          [
           "Milk"
          ],
          [
           "Mississippi Grind"
          ],
          [
           "Mojave"
          ],
          [
           "Molly's Game"
          ],
          [
           "Money"
          ],
          [
           "Money Talks"
          ],
          [
           "Moon"
          ],
          [
           "Moonlight"
          ],
          [
           "Moonwalkers"
          ],
          [
           "Morris from America"
          ],
          [
           "Movie 43"
          ],
          [
           "My Week with Marilyn"
          ],
          [
           "Natural Born Pranksters"
          ],
          [
           "Natural Selection"
          ],
          [
           "Neruda"
          ],
          [
           "Night Moves"
          ],
          [
           "Nightcrawler"
          ],
          [
           "Nowhere Boy"
          ],
          [
           "Oasis: Supersonic"
          ],
          [
           "Obvious Child"
          ],
          [
           "Occupation"
          ],
          [
           "Officer Downe"
          ],
          [
           "Only God Forgives"
          ],
          [
           "Paid in Full"
          ],
          [
           "Paint It Black"
          ],
          [
           "Panic Room"
          ],
          [
           "Paranormal Activity"
          ],
          [
           "Passenger 57"
          ],
          [
           "Patriot Games"
          ],
          [
           "Perfect Stranger"
          ],
          [
           "Personal Shopper"
          ],
          [
           "Platoon"
          ],
          [
           "Primal Fear"
          ],
          [
           "Pulp Fiction"
          ],
          [
           "Pusher"
          ],
          [
           "Rachel Getting Married"
          ],
          [
           "Raging Bull"
          ],
          [
           "Reincarnated"
          ],
          [
           "Remember"
          ],
          [
           "Resident Evil: Afterlife"
          ],
          [
           "Return To The 36th Chamber"
          ],
          [
           "Revenge of the Green Dragons"
          ],
          [
           "Revolutionary Road"
          ],
          [
           "Righteous Kill"
          ],
          [
           "Roger Corman's Death Race 2050"
          ],
          [
           "Room"
          ],
          [
           "Rosemary's Baby"
          ],
          [
           "Rounders"
          ],
          [
           "Rumble in the Bronx"
          ],
          [
           "Safety Not Guaranteed"
          ],
          [
           "Saving Zoë"
          ],
          [
           "Say When"
          ],
          [
           "Scary Movie"
          ],
          [
           "Schindler's List"
          ],
          [
           "School Daze"
          ],
          [
           "Scream 2"
          ],
          [
           "Scream 3"
          ],
          [
           "Set Up"
          ],
          [
           "Sex and the City 2"
          ],
          [
           "Sex and the City: The Movie"
          ],
          [
           "Sexo, Pudor y Lagrimas"
          ],
          [
           "Shelter"
          ],
          [
           "Short Term 12"
          ],
          [
           "Silent Hill: Revelation"
          ],
          [
           "Sister Code"
          ],
          [
           "Skin Trade"
          ],
          [
           "Sleeping with Other People"
          ],
          [
           "Sling Blade"
          ],
          [
           "Sliver"
          ],
          [
           "Slow West"
          ],
          [
           "Smart People"
          ],
          [
           "Sniper: Special Ops"
          ],
          [
           "Solomon Kane"
          ],
          [
           "Son of a Gun"
          ],
          [
           "Spotlight"
          ],
          [
           "Spring Breakers"
          ],
          [
           "Standoff"
          ],
          [
           "Step Brothers"
          ],
          [
           "Stephanie"
          ],
          [
           "Stripes"
          ],
          [
           "Striptease"
          ],
          [
           "Superbad"
          ],
          [
           "Superfly"
          ],
          [
           "Sweeney Todd: The Demon Barber of Fleet Street"
          ],
          [
           "Sweet Virginia"
          ],
          [
           "Swiss Army Man"
          ],
          [
           "Sword Masters: Two Champions of Shaolin"
          ],
          [
           "Take Me Home Tonight"
          ],
          [
           "Terminator 3: Rise of the Machines"
          ],
          [
           "The Adderall Diaries"
          ],
          [
           "The Amityville Horror"
          ],
          [
           "The Art of the Steal"
          ],
          [
           "The Art of War"
          ],
          [
           "The Assignment"
          ],
          [
           "The Autopsy of Jane Doe"
          ],
          [
           "The Blackcoat's Daughter"
          ],
          [
           "The Bleeder"
          ],
          [
           "The Book of Eli"
          ],
          [
           "The Brave One"
          ],
          [
           "The Captive"
          ],
          [
           "The Charnel House"
          ],
          [
           "The Company Men"
          ],
          [
           "The Craft"
          ],
          [
           "The Crow"
          ],
          [
           "The Crying Game"
          ],
          [
           "The D Train"
          ],
          [
           "The Departed"
          ],
          [
           "The Devil Inside"
          ],
          [
           "The Duel"
          ],
          [
           "The Dukes of Hazzard: The Beginning"
          ],
          [
           "The End of the Tour"
          ],
          [
           "The Exception"
          ],
          [
           "The Eyes of My Mother"
          ],
          [
           "The Fighter"
          ],
          [
           "The Final Destination"
          ],
          [
           "The Five Venoms"
          ],
          [
           "The Foreigner"
          ],
          [
           "The Frozen Ground"
          ],
          [
           "The Girl with the Dragon Tattoo"
          ],
          [
           "The Goods: Live Hard, Sell Hard"
          ],
          [
           "The Great Raid"
          ],
          [
           "The Hatred"
          ],
          [
           "The Hollow Point"
          ],
          [
           "The Humanity Bureau"
          ],
          [
           "The Informant!"
          ],
          [
           "The King's Speech"
          ],
          [
           "The Last Days of Chez Nous"
          ],
          [
           "The Last Face"
          ],
          [
           "The Little Hours"
          ],
          [
           "The Lives of Others"
          ],
          [
           "The Lobster"
          ],
          [
           "The Lodgers"
          ],
          [
           "The Longest Yard"
          ],
          [
           "The Matrix"
          ],
          [
           "The Matrix Reloaded"
          ],
          [
           "The Matrix Revolutions"
          ],
          [
           "The Men Who Stare at Goats"
          ],
          [
           "The Monster"
          ],
          [
           "The One I Love"
          ],
          [
           "The Parole Officer"
          ],
          [
           "The Peacemaker"
          ],
          [
           "The Physician"
          ],
          [
           "The Pirates of Somalia"
          ],
          [
           "The Place Beyond the Pines"
          ],
          [
           "The Prince"
          ],
          [
           "The Riot Club"
          ],
          [
           "The Rover"
          ],
          [
           "THE RUM DIARY"
          ],
          [
           "The Runner"
          ],
          [
           "The Salvation"
          ],
          [
           "The Score"
          ],
          [
           "The Spectacular Now"
          ],
          [
           "The Stanford Prison Experiment"
          ],
          [
           "The Super"
          ],
          [
           "The Taking of Pelham 123"
          ],
          [
           "The Talented Mr. Ripley"
          ],
          [
           "The Texas Chainsaw Massacre"
          ],
          [
           "The Tribes of Palos Verdes"
          ],
          [
           "The Trigger Effect"
          ],
          [
           "The Trust"
          ],
          [
           "The Ugly Truth"
          ],
          [
           "The Water Diviner"
          ],
          [
           "The Witch"
          ],
          [
           "Trainspotting"
          ],
          [
           "Trash"
          ],
          [
           "Trash Fire"
          ],
          [
           "Trespass Against Us"
          ],
          [
           "True to the Game"
          ],
          [
           "Trumbo"
          ],
          [
           "Tucker and Dale vs. Evil"
          ],
          [
           "Tusk"
          ],
          [
           "Two Lovers and a Bear"
          ],
          [
           "Tyson"
          ],
          [
           "Una"
          ],
          [
           "Under The Skin"
          ],
          [
           "Up in the Air"
          ],
          [
           "USS Indianapolis: Men of Courage"
          ],
          [
           "V for Vendetta"
          ],
          [
           "Viking Destiny"
          ],
          [
           "Vincent N Roxxy"
          ],
          [
           "Waiting..."
          ],
          [
           "Wakefield"
          ],
          [
           "War"
          ],
          [
           "War on Everyone"
          ],
          [
           "We Are Your Friends"
          ],
          [
           "We the Animals"
          ],
          [
           "Welcome to New York"
          ],
          [
           "What's Up With Love?"
          ],
          [
           "Where's the Money"
          ],
          [
           "While We're Young"
          ],
          [
           "Who's That Knocking at My Door?"
          ],
          [
           "Winter's Bone"
          ],
          [
           "Wish I Was Here"
          ],
          [
           "Wolves"
          ],
          [
           "XX"
          ],
          [
           "Y Tu Mamá También"
          ],
          [
           "Young Adult"
          ],
          [
           "Zodiac"
          ],
          [
           "Zombieland"
          ]
         ],
         "hovertemplate": "rating=R<br>release_year=%{x}<br>duration_int=%{y}<br>title=%{customdata[0]}<extra></extra>",
         "legendgroup": "R",
         "marker": {
          "color": "#FFA15A",
          "symbol": "circle"
         },
         "mode": "markers",
         "name": "R",
         "showlegend": true,
         "type": "scattergl",
         "x": [
          2012,
          2001,
          2021,
          2003,
          1982,
          2015,
          1993,
          2003,
          1989,
          2015,
          1990,
          1991,
          1994,
          1998,
          1999,
          2003,
          1984,
          1997,
          2003,
          1980,
          2014,
          1993,
          2017,
          2014,
          2021,
          2014,
          1993,
          2013,
          1995,
          2016,
          1999,
          2006,
          2007,
          1999,
          2008,
          2004,
          2016,
          2013,
          1991,
          2011,
          2004,
          2000,
          2012,
          2021,
          2017,
          2015,
          2015,
          2013,
          2012,
          1997,
          1997,
          2019,
          1988,
          2011,
          2001,
          2019,
          2010,
          2019,
          2010,
          1997,
          2003,
          1980,
          2008,
          2003,
          2012,
          2009,
          1998,
          2019,
          2012,
          2021,
          2012,
          2013,
          2020,
          2014,
          2018,
          1997,
          2013,
          2003,
          2008,
          2011,
          1997,
          2011,
          2009,
          2006,
          2014,
          2001,
          2018,
          2019,
          2018,
          2021,
          2014,
          2017,
          2016,
          2021,
          2004,
          2017,
          2013,
          2006,
          2010,
          2010,
          2018,
          2003,
          2002,
          2000,
          2016,
          1992,
          2008,
          2018,
          2014,
          2018,
          2016,
          1992,
          2015,
          2013,
          2020,
          2012,
          1981,
          2020,
          2018,
          2021,
          2019,
          2015,
          1996,
          2017,
          2016,
          2017,
          2002,
          1999,
          2012,
          2020,
          2021,
          2020,
          2021,
          2012,
          2013,
          2021,
          1988,
          2006,
          2016,
          2015,
          2011,
          2013,
          2016,
          2021,
          2012,
          2016,
          2021,
          2010,
          2008,
          2018,
          2021,
          2020,
          2020,
          2020,
          2013,
          2020,
          2021,
          2020,
          2017,
          2011,
          2020,
          2009,
          1987,
          2007,
          2017,
          1988,
          2020,
          2018,
          2020,
          2020,
          2018,
          2016,
          2018,
          2016,
          2020,
          2020,
          2014,
          2018,
          2018,
          2018,
          2020,
          2020,
          2020,
          2013,
          2013,
          2016,
          2018,
          2018,
          2018,
          2016,
          2020,
          2013,
          2018,
          2018,
          2020,
          2020,
          2016,
          2020,
          2014,
          2016,
          2020,
          2020,
          2017,
          2016,
          2020,
          2020,
          2020,
          2020,
          2016,
          2002,
          2020,
          2020,
          2008,
          2019,
          2020,
          2016,
          2020,
          2017,
          2020,
          2017,
          2018,
          2020,
          2018,
          2018,
          1999,
          1990,
          2017,
          2018,
          2020,
          2009,
          2020,
          2017,
          2017,
          2019,
          2020,
          2020,
          2020,
          2020,
          2007,
          2020,
          2015,
          2017,
          2017,
          2019,
          2017,
          2010,
          2018,
          2019,
          2019,
          2019,
          2017,
          2014,
          2020,
          2020,
          2005,
          2018,
          2011,
          2007,
          2020,
          2015,
          2015,
          2016,
          2017,
          2020,
          2017,
          2017,
          2013,
          2015,
          2015,
          2017,
          2014,
          2017,
          2006,
          2009,
          2019,
          2019,
          2017,
          2019,
          2015,
          2019,
          2017,
          2019,
          2014,
          2008,
          2019,
          2017,
          2013,
          2019,
          2009,
          2017,
          2019,
          2019,
          2019,
          2016,
          2019,
          2015,
          2005,
          2019,
          2019,
          2015,
          2019,
          2019,
          2019,
          2013,
          2019,
          2014,
          2013,
          2019,
          2018,
          2019,
          2015,
          2019,
          2018,
          2011,
          2014,
          2014,
          2018,
          2018,
          2018,
          2018,
          2015,
          2018,
          2018,
          2018,
          2018,
          2017,
          1982,
          1979,
          2018,
          2017,
          2017,
          2018,
          2017,
          2009,
          2006,
          2017,
          2016,
          2017,
          2017,
          2016,
          2016,
          2017,
          2002,
          2016,
          2016,
          2016,
          2015,
          2016,
          2017,
          2015,
          2017,
          2016,
          2016,
          2016,
          2001,
          2015,
          2016,
          2015,
          2008,
          2010,
          2015,
          2014,
          1997,
          2018,
          2014,
          2010,
          2016,
          2013,
          2017,
          2011,
          2014,
          2011,
          2017,
          2017,
          2017,
          1971,
          1993,
          2016,
          2012,
          2013,
          2016,
          2014,
          2013,
          2009,
          1996,
          2012,
          2018,
          2013,
          2012,
          2012,
          2018,
          2006,
          2018,
          2016,
          2001,
          2017,
          1999,
          2014,
          1998,
          2016,
          2000,
          2015,
          2015,
          2001,
          2014,
          2014,
          2006,
          2015,
          1995,
          2003,
          2017,
          1998,
          1992,
          2018,
          2002,
          2000,
          2017,
          2001,
          2007,
          2018,
          2016,
          2016,
          2001,
          2016,
          2013,
          2010,
          1967,
          2005,
          2009,
          2016,
          2016,
          2014,
          1992,
          2015,
          1976,
          2012,
          1997,
          2012,
          1988,
          2009,
          2006,
          2002,
          2013,
          2012,
          2014,
          2015,
          2016,
          2013,
          2017,
          2004,
          2017,
          2013,
          2013,
          2016,
          2015,
          2015,
          2010,
          2017,
          2018,
          2018,
          1992,
          2016,
          2009,
          2019,
          2010,
          2016,
          2016,
          1997,
          2005,
          2012,
          2019,
          2012,
          2013,
          1973,
          2002,
          2018,
          1997,
          2019,
          2015,
          1996,
          2001,
          1998,
          1998,
          2000,
          2003,
          2006,
          2017,
          1982,
          2010,
          2012,
          1994,
          2007,
          2012,
          2015,
          2009,
          2016,
          2010,
          2008,
          2002,
          2010,
          2016,
          2018,
          2016,
          2014,
          2014,
          1990,
          2011,
          2001,
          2003,
          2008,
          2015,
          1987,
          2017,
          2015,
          2008,
          2004,
          2011,
          2018,
          2015,
          2016,
          2013,
          2013,
          2017,
          1997,
          2010,
          2015,
          2005,
          2018,
          2016,
          2016,
          2014,
          2017,
          2017,
          2009,
          2015,
          1997,
          2001,
          2014,
          1973,
          2005,
          2011,
          2013,
          2017,
          1995,
          2015,
          2003,
          2004,
          2011,
          2014,
          2017,
          1997,
          2015,
          2015,
          2017,
          2004,
          1998,
          2016,
          2015,
          2010,
          2010,
          2014,
          1992,
          2015,
          1998,
          2013,
          1962,
          2014,
          2012,
          1979,
          2013,
          2015,
          2016,
          1986,
          2002,
          2016,
          1973,
          2003,
          2009,
          2015,
          2008,
          2015,
          2015,
          2017,
          2016,
          1997,
          2009,
          2016,
          2015,
          2016,
          2013,
          2011,
          2016,
          2015,
          2016,
          2013,
          2014,
          2009,
          2016,
          2014,
          2018,
          2016,
          2013,
          2002,
          2016,
          2002,
          2007,
          1992,
          1992,
          2007,
          2016,
          1986,
          1996,
          1994,
          2012,
          2008,
          1980,
          2012,
          2015,
          2010,
          1980,
          2014,
          2008,
          2008,
          2017,
          2015,
          1968,
          1998,
          1995,
          2012,
          2019,
          2014,
          2000,
          1993,
          1988,
          1997,
          2000,
          2011,
          2010,
          2008,
          1999,
          2010,
          2013,
          2012,
          2015,
          2014,
          2015,
          1996,
          1993,
          2015,
          2008,
          2016,
          2009,
          2014,
          2015,
          2012,
          2015,
          2008,
          2017,
          1981,
          1996,
          2007,
          1972,
          2007,
          2017,
          2016,
          1980,
          2011,
          2003,
          2015,
          2005,
          2013,
          2000,
          2016,
          2016,
          2015,
          2016,
          2010,
          2007,
          2014,
          2016,
          2010,
          1996,
          1994,
          1992,
          2015,
          2006,
          2012,
          2016,
          2007,
          2015,
          2016,
          2016,
          2010,
          2009,
          1978,
          2017,
          2013,
          2011,
          2009,
          2005,
          2017,
          2016,
          2017,
          2009,
          2010,
          1992,
          2016,
          2017,
          2006,
          2015,
          2017,
          1974,
          1999,
          2003,
          2003,
          2009,
          2016,
          2014,
          2001,
          1997,
          2013,
          2017,
          2012,
          2014,
          2014,
          2014,
          2011,
          2015,
          2014,
          2001,
          2013,
          2015,
          2017,
          2009,
          1999,
          1974,
          2017,
          1996,
          2015,
          2009,
          2014,
          2015,
          1996,
          2014,
          2016,
          2016,
          2017,
          2015,
          2010,
          2014,
          2016,
          2008,
          2016,
          2013,
          2009,
          2016,
          2005,
          2018,
          2016,
          2005,
          2016,
          2007,
          2016,
          2015,
          2018,
          2014,
          2002,
          2017,
          2015,
          1967,
          2010,
          2014,
          2016,
          2017,
          2001,
          2011,
          2007,
          2009
         ],
         "xaxis": "x",
         "y": [
          115,
          122,
          106,
          118,
          117,
          121,
          113,
          154,
          120,
          82,
          104,
          94,
          94,
          93,
          97,
          86,
          229,
          89,
          121,
          105,
          112,
          129,
          107,
          108,
          110,
          94,
          121,
          108,
          104,
          90,
          105,
          113,
          99,
          189,
          112,
          98,
          105,
          101,
          105,
          118,
          102,
          111,
          165,
          88,
          94,
          96,
          106,
          126,
          115,
          125,
          155,
          120,
          126,
          109,
          89,
          101,
          106,
          89,
          105,
          129,
          130,
          100,
          85,
          121,
          89,
          92,
          116,
          100,
          97,
          87,
          122,
          101,
          99,
          86,
          110,
          103,
          101,
          101,
          104,
          88,
          109,
          104,
          99,
          93,
          98,
          99,
          97,
          88,
          97,
          148,
          109,
          92,
          89,
          102,
          105,
          95,
          118,
          97,
          95,
          115,
          109,
          138,
          89,
          99,
          93,
          102,
          101,
          85,
          121,
          91,
          132,
          126,
          119,
          123,
          102,
          137,
          103,
          102,
          97,
          112,
          100,
          90,
          101,
          89,
          99,
          88,
          149,
          83,
          116,
          102,
          115,
          113,
          100,
          131,
          119,
          98,
          134,
          94,
          119,
          103,
          90,
          112,
          134,
          118,
          102,
          114,
          106,
          139,
          112,
          89,
          127,
          95,
          101,
          123,
          100,
          94,
          116,
          115,
          71,
          112,
          128,
          111,
          90,
          148,
          96,
          104,
          105,
          95,
          84,
          94,
          94,
          117,
          106,
          115,
          97,
          133,
          115,
          102,
          91,
          108,
          95,
          117,
          98,
          108,
          85,
          95,
          100,
          94,
          81,
          134,
          107,
          93,
          100,
          111,
          78,
          82,
          104,
          130,
          83,
          77,
          124,
          96,
          91,
          139,
          123,
          122,
          80,
          139,
          92,
          88,
          97,
          135,
          109,
          97,
          113,
          119,
          90,
          80,
          104,
          111,
          99,
          126,
          89,
          91,
          105,
          114,
          101,
          108,
          156,
          113,
          90,
          94,
          104,
          135,
          87,
          92,
          103,
          122,
          116,
          119,
          82,
          111,
          121,
          121,
          107,
          107,
          93,
          104,
          103,
          91,
          95,
          93,
          95,
          111,
          154,
          105,
          119,
          158,
          116,
          122,
          96,
          93,
          101,
          104,
          112,
          92,
          91,
          132,
          122,
          99,
          119,
          92,
          119,
          97,
          97,
          103,
          95,
          90,
          120,
          129,
          92,
          137,
          93,
          137,
          209,
          121,
          101,
          107,
          100,
          98,
          85,
          141,
          118,
          91,
          96,
          97,
          81,
          106,
          96,
          88,
          102,
          104,
          110,
          119,
          92,
          113,
          123,
          132,
          106,
          126,
          114,
          113,
          124,
          78,
          112,
          112,
          135,
          133,
          122,
          122,
          118,
          97,
          144,
          110,
          124,
          111,
          80,
          94,
          98,
          90,
          107,
          91,
          87,
          102,
          95,
          94,
          106,
          87,
          82,
          102,
          103,
          135,
          81,
          123,
          76,
          91,
          168,
          119,
          116,
          83,
          103,
          130,
          106,
          96,
          168,
          114,
          82,
          97,
          107,
          108,
          105,
          78,
          119,
          144,
          93,
          113,
          119,
          93,
          93,
          83,
          97,
          100,
          94,
          96,
          104,
          137,
          101,
          110,
          86,
          86,
          96,
          125,
          94,
          106,
          108,
          110,
          87,
          111,
          89,
          91,
          101,
          91,
          100,
          103,
          103,
          112,
          122,
          95,
          119,
          163,
          102,
          128,
          90,
          103,
          93,
          110,
          143,
          90,
          119,
          147,
          94,
          103,
          128,
          126,
          108,
          110,
          97,
          144,
          116,
          129,
          120,
          88,
          123,
          90,
          90,
          112,
          111,
          110,
          133,
          114,
          98,
          117,
          99,
          119,
          98,
          84,
          113,
          88,
          87,
          96,
          104,
          130,
          96,
          172,
          124,
          110,
          112,
          96,
          90,
          112,
          90,
          82,
          117,
          93,
          113,
          110,
          93,
          88,
          96,
          140,
          62,
          97,
          112,
          89,
          99,
          93,
          92,
          127,
          105,
          105,
          109,
          109,
          91,
          103,
          107,
          110,
          96,
          133,
          108,
          133,
          101,
          124,
          118,
          98,
          90,
          93,
          102,
          104,
          134,
          145,
          118,
          113,
          86,
          103,
          97,
          92,
          93,
          97,
          167,
          109,
          110,
          100,
          90,
          103,
          90,
          145,
          92,
          137,
          98,
          117,
          95,
          110,
          99,
          96,
          101,
          88,
          93,
          89,
          86,
          102,
          126,
          120,
          134,
          94,
          97,
          91,
          117,
          93,
          91,
          100,
          104,
          103,
          106,
          153,
          102,
          154,
          105,
          134,
          102,
          107,
          89,
          75,
          110,
          97,
          95,
          111,
          137,
          106,
          109,
          87,
          116,
          99,
          81,
          93,
          99,
          95,
          101,
          115,
          93,
          100,
          89,
          105,
          94,
          108,
          85,
          153,
          103,
          76,
          93,
          105,
          88,
          107,
          90,
          104,
          105,
          112,
          84,
          112,
          105,
          128,
          109,
          93,
          141,
          84,
          96,
          97,
          111,
          96,
          91,
          94,
          99,
          91,
          101,
          108,
          113,
          118,
          99,
          122,
          84,
          120,
          91,
          90,
          98,
          96,
          112,
          86,
          84,
          117,
          109,
          105,
          120,
          131,
          154,
          89,
          113,
          129,
          96,
          95,
          97,
          97,
          95,
          120,
          101,
          93,
          118,
          137,
          121,
          89,
          86,
          95,
          99,
          88,
          195,
          120,
          121,
          117,
          85,
          146,
          145,
          111,
          112,
          97,
          94,
          95,
          96,
          101,
          135,
          107,
          84,
          95,
          86,
          104,
          109,
          129,
          94,
          86,
          98,
          86,
          106,
          117,
          113,
          91,
          116,
          93,
          97,
          101,
          97,
          109,
          87,
          89,
          90,
          117,
          95,
          86,
          95,
          98,
          118,
          122,
          112,
          93,
          105,
          101,
          102,
          112,
          101,
          151,
          84,
          110,
          95,
          106,
          107,
          76,
          116,
          82,
          97,
          113,
          106,
          158,
          89,
          133,
          94,
          97,
          94,
          108,
          118,
          93,
          131,
          89,
          138,
          119,
          93,
          121,
          136,
          138,
          129,
          94,
          91,
          91,
          94,
          124,
          155,
          118,
          140,
          91,
          107,
          103,
          120,
          90,
          92,
          124,
          95,
          122,
          89,
          106,
          139,
          83,
          104,
          94,
          91,
          96,
          111,
          92,
          94,
          114,
          94,
          100,
          108,
          124,
          89,
          102,
          95,
          90,
          94,
          108,
          110,
          130,
          132,
          91,
          101,
          94,
          109,
          103,
          98,
          96,
          93,
          108,
          110,
          86,
          97,
          90,
          100,
          106,
          109,
          81,
          106,
          94,
          158,
          88
         ],
         "yaxis": "y"
        },
        {
         "customdata": [
          [
           "InuYasha the Movie 4: Fire on the Mystic Island"
          ],
          [
           "InuYasha the Movie: Affections Touching Across Time"
          ],
          [
           "Naruto Shippûden the Movie: Bonds"
          ],
          [
           "Naruto Shippûden the Movie: The Will of Fire"
          ],
          [
           "Naruto Shippuden: The Movie"
          ],
          [
           "Naruto the Movie 2: Legend of the Stone of Gelel"
          ],
          [
           "Naruto the Movie 3: Guardians of the Crescent Moon Kingdom"
          ],
          [
           "Naruto the Movie: Ninja Clash in the Land of Snow"
          ],
          [
           "Dhanak"
          ],
          [
           "Pahuna"
          ],
          [
           "Monster Hunter: Legends of the Guild"
          ],
          [
           "'76"
          ],
          [
           "Flower Girl"
          ],
          [
           "A Perfect Fit"
          ],
          [
           "Rise: Ini Kalilah"
          ],
          [
           "Aziza"
          ],
          [
           "Sarbath"
          ],
          [
           "Breaking Boundaries: The Science Of Our Planet"
          ],
          [
           "Blue Miracle"
          ],
          [
           "Deadly Switch"
          ],
          [
           "Time to Dance"
          ],
          [
           "The Yeti Adventures"
          ],
          [
           "One"
          ],
          [
           "Story of Kale: When Someone's in Love"
          ],
          [
           "Ferrari Ki Sawaari"
          ],
          [
           "The Knight and the Princess"
          ],
          [
           "7 Yards: The Chris Norton Story"
          ],
          [
           "A Week Away"
          ],
          [
           "Pagglait"
          ],
          [
           "You're Everything To Me"
          ],
          [
           "Geez & Ann"
          ],
          [
           "Animals on the Loose: A You vs. Wild Movie"
          ],
          [
           "Doob: No Bed of Roses"
          ],
          [
           "Our Lady of San Juan, Four Centuries of Miracles"
          ],
          [
           "June & Kopi"
          ],
          [
           "Wish You"
          ],
          [
           "Tarung Sarung"
          ],
          [
           "Mukhsin"
          ],
          [
           "Rabun"
          ],
          [
           "André & his olive tree"
          ],
          [
           "You Are My Home"
          ],
          [
           "Finding Agnes"
          ],
          [
           "Dance Dreams: Hot Chocolate Nutcracker"
          ],
          [
           "Fantastica"
          ],
          [
           "Shawn Mendes: Live in Concert"
          ],
          [
           "Dolly Parton’s Christmas on the Square"
          ],
          [
           "The App That Stole Christmas"
          ],
          [
           "Ainu Mosir"
          ],
          [
           "Christmas with a Prince"
          ],
          [
           "Miss India"
          ],
          [
           "Christmas Break-In"
          ],
          [
           "Brave Blue World: Racing to Solve Our Water Crisis"
          ],
          [
           "A Babysitter's Guide to Monster Hunting"
          ],
          [
           "Kartini: Princess of Java"
          ],
          [
           "All Because of You"
          ],
          [
           "Baxu and the Giants"
          ],
          [
           "Ankhon Dekhi"
          ],
          [
           "Ishq Vishk"
          ],
          [
           "Welcome"
          ],
          [
           "DTC Yukemuri Junjo Hen From High & Low"
          ],
          [
           "Bhai: Vyakti Ki Valli - Uttarardh"
          ],
          [
           "Cycle"
          ],
          [
           "Ave Maryam"
          ],
          [
           "Love, Guaranteed"
          ],
          [
           "Children of the Sea"
          ],
          [
           "The Sleepover"
          ],
          [
           "Meet the In-Laws"
          ],
          [
           "Crazy Awesome Teachers"
          ],
          [
           "What's Your Raashee?"
          ],
          [
           "Nasha Natasha"
          ],
          [
           "The Letter Reader"
          ],
          [
           "Dharam Sankat Mein"
          ],
          [
           "Mary Kom"
          ],
          [
           "Oh My God"
          ],
          [
           "Special 26"
          ],
          [
           "The Royal Hibiscus Hotel"
          ],
          [
           "A Whisker Away"
          ],
          [
           "Riding Faith"
          ],
          [
           "What's Up?"
          ],
          [
           "Kalek Shanab"
          ],
          [
           "Freej Al Taibeen"
          ],
          [
           "The Witness Who Didn't See Anything"
          ],
          [
           "Ben Platt Live from Radio City Music Hall"
          ],
          [
           "Either Me Or My Auntie"
          ],
          [
           "My Sleeping Lover"
          ],
          [
           "Zaki Chan"
          ],
          [
           "Wedy Atkalam"
          ],
          [
           "Action Replayy"
          ],
          [
           "Si Doel the Movie"
          ],
          [
           "Jerry Seinfeld: 23 Hours To Kill"
          ],
          [
           "Ekşi Elmalar"
          ],
          [
           "Mischief"
          ],
          [
           "Violet Evergarden: Eternity and the Auto Memory Doll"
          ],
          [
           "Go Karts"
          ],
          [
           "93 Days"
          ],
          [
           "Full Count"
          ],
          [
           "Pretville"
          ],
          [
           "Liefling"
          ],
          [
           "Dragon Quest Your Story"
          ],
          [
           "French Toast"
          ],
          [
           "Airplane Mode"
          ],
          [
           "Breaking the Bank"
          ],
          [
           "Fireworks"
          ],
          [
           "John Mulaney & The Sack Lunch Bunch"
          ],
          [
           "Lost in London"
          ],
          [
           "Iyore"
          ],
          [
           "Lakshya"
          ],
          [
           "A Family Reunion Christmas"
          ],
          [
           "Wives on Strike: The Revolution"
          ],
          [
           "A Christmas Prince: The Royal Baby"
          ],
          [
           "Baby Dolls"
          ],
          [
           "Qismat"
          ],
          [
           "Holiday Rush"
          ],
          [
           "GO! The Unforgettable Party"
          ],
          [
           "K-on! the movie"
          ],
          [
           "Big Time Movie"
          ],
          [
           "Hey Arnold! The Jungle Movie"
          ],
          [
           "LEGENDS OF THE HIDDEN TEMPLE"
          ],
          [
           "Liar, Liar, Vampire"
          ],
          [
           "Christmas in the Heartland"
          ],
          [
           "Holiday in the Wild"
          ],
          [
           "Santa Girl"
          ],
          [
           "Dancing with the Birds"
          ],
          [
           "Kids on the Block"
          ],
          [
           "TUNA GIRL"
          ],
          [
           "Deliha 2"
          ],
          [
           "Los Tigres del Norte at Folsom Prison"
          ],
          [
           "The Crystal Calls Making the Dark Crystal: Age of Resistance"
          ],
          [
           "Tall Girl"
          ],
          [
           "Mi amigo Alexis"
          ],
          [
           "Falling Inn Love"
          ],
          [
           "Kaake Da Viyah"
          ],
          [
           "Mayday Life"
          ],
          [
           "Bogda"
          ],
          [
           "ANIMA"
          ],
          [
           "DJ Cinderella"
          ],
          [
           "Oprah Presents When They See Us Now"
          ],
          [
           "I Am Mother"
          ],
          [
           "Luka Chuppi"
          ],
          [
           "Rock My Heart"
          ],
          [
           "Good Sam"
          ],
          [
           "PATRICK (2019)"
          ],
          [
           "Laatu"
          ],
          [
           "Njan Prakashan"
          ],
          [
           "Shortcut Safari"
          ],
          [
           "Verses of Love"
          ],
          [
           "Nate Bargatze: The Tennessee Kid"
          ],
          [
           "Vince and Kath and James"
          ],
          [
           "Imago"
          ],
          [
           "Walk. Ride. Rodeo."
          ],
          [
           "The Boy Who Harnessed the Wind"
          ],
          [
           "Bride For Rent"
          ],
          [
           "Evening Shadows"
          ],
          [
           "It Takes a Man and a Woman"
          ],
          [
           "Life of An Outcast"
          ],
          [
           "Shonar Pahar"
          ],
          [
           "Kevin James: Sweat the Small Stuff"
          ],
          [
           "Kevin Hart's Guide to Black History"
          ],
          [
           "Hantu Kak Limah"
          ],
          [
           "GODZILLA The Planet Eater"
          ],
          [
           "Lionheart"
          ],
          [
           "Aggretsuko: We Wish You a Metal Christmas"
          ],
          [
           "Dragons: Dawn of the Dragon Racers"
          ],
          [
           "F.R.E.D.I."
          ],
          [
           "Don't Go Breaking My Heart"
          ],
          [
           "A Christmas Prince: The Royal Wedding"
          ],
          [
           "The Christmas Chronicles"
          ],
          [
           "Aalorukkam"
          ],
          [
           "Christmas With A View"
          ],
          [
           "Do Dooni Chaar"
          ],
          [
           "Jatts in Golmaal"
          ],
          [
           "Dil Vil Pyaar Vyaar"
          ],
          [
           "Harishchandrachi Factory"
          ],
          [
           "Judge Singh LLB"
          ],
          [
           "Main, Meri Patni Aur Woh"
          ],
          [
           "Motor Mitraan Di"
          ],
          [
           "Naughty Jatts"
          ],
          [
           "Pooja Kiven Aa"
          ],
          [
           "Saadey CM Saab"
          ],
          [
           "Theeya Velai Seyyanum Kumaru"
          ],
          [
           "What the Jatt!!"
          ],
          [
           "Next Gen"
          ],
          [
           "Once Again"
          ],
          [
           "The Guernsey Literary and Potato Peel Pie Society"
          ],
          [
           "Zion"
          ],
          [
           "2 States"
          ],
          [
           "Flavors of Youth: International Version"
          ],
          [
           "Chillar Party"
          ],
          [
           "Joker"
          ],
          [
           "The Blue Umbrella"
          ],
          [
           "Da Kath & Kim Code"
          ],
          [
           "Parmanu: The Story of Pokhran"
          ],
          [
           "White Fang"
          ],
          [
           "I Am Kalam"
          ],
          [
           "Bill Nye: Science Guy"
          ],
          [
           "Kevin James: Never Don't Give Up"
          ],
          [
           "Billu"
          ],
          [
           "Paheli"
          ],
          [
           "Benji"
          ],
          [
           "Guru"
          ],
          [
           "Shubh Aarambh"
          ],
          [
           "Swades"
          ],
          [
           "FullMetal Alchemist"
          ],
          [
           "Expedition Happiness"
          ],
          [
           "Rip Tide"
          ],
          [
           "Brian Regan: Nunchucks and Flamethrowers"
          ],
          [
           "Saving Capitalism"
          ],
          [
           "A Christmas Prince"
          ],
          [
           "Bandie"
          ],
          [
           "Hajwala: The Missing Engine"
          ],
          [
           "Singapore"
          ],
          [
           "Amrapali"
          ],
          [
           "Professor"
          ],
          [
           "Zipi & Zape y la Isla del Capitan"
          ],
          [
           "Dangal"
          ],
          [
           "Kanavu Variyam"
          ],
          [
           "The Russian Revolution"
          ],
          [
           "Amelia: A Tale of Two Sisters"
          ],
          [
           "Jackie: A Tale of Two Sisters"
          ],
          [
           "Prince"
          ],
          [
           "The Mitfords: A Tale of Two Sisters"
          ],
          [
           "The Mars Generation"
          ],
          [
           "Bibi & Tina"
          ],
          [
           "Notes on Blindness"
          ],
          [
           "The Butterfly's Dream"
          ],
          [
           "Dilwale"
          ],
          [
           "Sarajevo"
          ],
          [
           "Sand Storm"
          ],
          [
           "Across Grace Alley"
          ],
          [
           "A Grand Night In: The Story of Aardman"
          ],
          [
           "Into the Inferno"
          ],
          [
           "Bleach The Movie: Fade to Black"
          ],
          [
           "Jim Gaffigan: King Baby"
          ],
          [
           "Kung Fu Panda: Secrets of the Scroll"
          ],
          [
           "Pee-wee's Big Holiday"
          ],
          [
           "Cowspiracy: The Sustainability Secret"
          ],
          [
           "Mission Blue"
          ],
          [
           "Mitt"
          ],
          [
           "Quiet Victory: The Charlie Wedemeyer Story"
          ],
          [
           "Strange Voices"
          ],
          [
           "The Ryan White Story"
          ],
          [
           "Triumph of the Heart"
          ],
          [
           "Joseph: King of Dreams"
          ],
          [
           "1 Chance 2 Dance"
          ],
          [
           "3 Heroines"
          ],
          [
           "7 Din Mohabbat In"
          ],
          [
           "A Family Affair"
          ],
          [
           "A Princess for Christmas"
          ],
          [
           "A Sort of Homecoming"
          ],
          [
           "Aajcha Divas Majha"
          ],
          [
           "Abby Sen"
          ],
          [
           "Albion: The Enchanted Stallion"
          ],
          [
           "Alien Contact: Outer Space"
          ],
          [
           "An Interview with God"
          ],
          [
           "Annabelle Hooper and the Ghosts of Nantucket"
          ],
          [
           "Another Forever"
          ],
          [
           "Auschwitz: Blueprints of Genocide"
          ],
          [
           "Barsaat"
          ],
          [
           "Bawarchi"
          ],
          [
           "Betting on Zero"
          ],
          [
           "Bewafaa"
          ],
          [
           "Billy Graham: An Extraordinary Journey"
          ],
          [
           "Bruno and Boots: Go Jump in the Pool"
          ],
          [
           "Bruno and Boots: The Wizzle War"
          ],
          [
           "Bruno and Boots: This Can't Be Happening at Macdonald Hall"
          ],
          [
           "Cappuccino"
          ],
          [
           "Celluloid Man"
          ],
          [
           "Chaar Sahibzaade"
          ],
          [
           "Chashme Buddoor"
          ],
          [
           "Chasing Trane"
          ],
          [
           "Christmas Crush"
          ],
          [
           "Chupke Chupke"
          ],
          [
           "Class of '61"
          ],
          [
           "Coffee with D"
          ],
          [
           "Dance Academy: The Comeback"
          ],
          [
           "De Film van Dylan Haegens"
          ],
          [
           "Dear Santa"
          ],
          [
           "Devrai"
          ],
          [
           "Diana: 7 Days That Shook the World"
          ],
          [
           "Dolphin Kick"
          ],
          [
           "Dries"
          ],
          [
           "Ek Cup Chya"
          ],
          [
           "Elstree 1976"
          ],
          [
           "Emma' (Mother)"
          ],
          [
           "Eyyvah Eyyvah 2"
          ],
          [
           "Eyyvah Eyyvah 3"
          ],
          [
           "Figures of Speech"
          ],
          [
           "Filosofi Kopi The Movie"
          ],
          [
           "Freshman Year"
          ],
          [
           "Full Out"
          ],
          [
           "Galih dan Ratna"
          ],
          [
           "Garuda Di Dadaku"
          ],
          [
           "Garuda in My Heart 2"
          ],
          [
           "Gemini"
          ],
          [
           "God Knows Where I Am"
          ],
          [
           "Gol Maal"
          ],
          [
           "Harry and Snowman"
          ],
          [
           "Haseena Maan Jaayegi"
          ],
          [
           "Hiroshima: The Real History"
          ],
          [
           "Ho Mann Jahaan"
          ],
          [
           "How the Beatles Changed the World"
          ],
          [
           "Humko Deewana Kar Gaye"
          ],
          [
           "Inuyasha the Movie - L'isola del fuoco scarlatto"
          ],
          [
           "Kaakan"
          ],
          [
           "Kaaliyan"
          ],
          [
           "Katha"
          ],
          [
           "Khubsoorat"
          ],
          [
           "Kis Kisko Pyaar Karoon"
          ],
          [
           "Kung Fu Panda: Holiday"
          ],
          [
           "Kung Fu Yoga"
          ],
          [
           "Kya Kehna"
          ],
          [
           "Kyun! Ho Gaya Na"
          ],
          [
           "Let There Be Light"
          ],
          [
           "Like Arrows"
          ],
          [
           "Lucha: Playing the Impossible"
          ],
          [
           "Maacher Jhol"
          ],
          [
           "Magnus"
          ],
          [
           "Mahjong Heroes"
          ],
          [
           "Maine Pyar Kiya"
          ],
          [
           "Mala Kahich Problem Nahi"
          ],
          [
           "Martin Luther: The Idea that Changed the World"
          ],
          [
           "Maya Angelou: And Still I Rise"
          ],
          [
           "Maza Pati Karodpati"
          ],
          [
           "Meditation Park"
          ],
          [
           "Melle"
          ],
          [
           "Mission: Destroy Love"
          ],
          [
           "Mujhse Shaadi Karogi"
          ],
          [
           "Mutiny on the Bounty"
          ],
          [
           "My Babysitter's a Vampire: The Movie"
          ],
          [
           "My Brother ... Nikhil"
          ],
          [
           "Mythily Veendum Varunnu"
          ],
          [
           "Never Heard"
          ],
          [
           "No Entry"
          ],
          [
           "Norm of the North: Keys to the Kingdom"
          ],
          [
           "Norm of the North: King Sized Adventure"
          ],
          [
           "NOVA: Building Chernobyl's MegaTomb"
          ],
          [
           "NOVA: Chinese Chariot Revealed"
          ],
          [
           "NOVA: Day the Dinosaurs Died"
          ],
          [
           "NOVA: Extreme Animal Weapons"
          ],
          [
           "NOVA: First Face of America"
          ],
          [
           "NOVA: Killer Hurricanes"
          ],
          [
           "NOVA: Killer Volcanoes"
          ],
          [
           "NOVA: Poisoned Water"
          ],
          [
           "NOVA: Secrets of the Shining Knight"
          ],
          [
           "Ocean's Eleven"
          ],
          [
           "Once In A Lifetime Sessions with Nile Rodgers"
          ],
          [
           "One Day"
          ],
          [
           "Ottaal"
          ],
          [
           "Painted Faces"
          ],
          [
           "Papa the Great"
          ],
          [
           "Pareeth Pandaari"
          ],
          [
           "Patiala House"
          ],
          [
           "Pee-wee's Playhouse: Christmas Special"
          ],
          [
           "Pimpal"
          ],
          [
           "Radiopetti"
          ],
          [
           "Rajnigandha"
          ],
          [
           "Ramen Shop"
          ],
          [
           "Ready"
          ],
          [
           "Red Trees"
          ],
          [
           "Rembat"
          ],
          [
           "Sakhi"
          ],
          [
           "Samarppanam"
          ],
          [
           "Santa Claws"
          ],
          [
           "Sardaarji 2"
          ],
          [
           "Scandal in Sorrento"
          ],
          [
           "Scooby-Doo on Zombie Island"
          ],
          [
           "Secret"
          ],
          [
           "Secrets of Althorp - The Spencers"
          ],
          [
           "Secrets of Chatsworth"
          ],
          [
           "Secrets of Henry VIII's Palace: Hampton Court"
          ],
          [
           "Secrets of Her Majesty's Secret Service"
          ],
          [
           "Secrets of Highclere Castle"
          ],
          [
           "Secrets of Selfridges"
          ],
          [
           "Secrets of the Tower of London"
          ],
          [
           "Secrets of Underground London"
          ],
          [
           "Secrets of Westminster"
          ],
          [
           "Shararat"
          ],
          [
           "Single"
          ],
          [
           "Stealing History"
          ],
          [
           "Stink!"
          ],
          [
           "Story of an Egg"
          ],
          [
           "Super Nani"
          ],
          [
           "Swami"
          ],
          [
           "Taal"
          ],
          [
           "Teen Patti"
          ],
          [
           "Tees Maar Khan"
          ],
          [
           "Terra"
          ],
          [
           "Teshan"
          ],
          [
           "The Case for Christ"
          ],
          [
           "The Christmas Project"
          ],
          [
           "The Cruise"
          ],
          [
           "The Dreamer"
          ],
          [
           "The Free Man"
          ],
          [
           "The Jungle School"
          ],
          [
           "The Last Man on the Moon"
          ],
          [
           "The Magic Pill"
          ],
          [
           "The Music of Silence"
          ],
          [
           "The Only Mother To You All"
          ],
          [
           "The Rainbow Troops"
          ],
          [
           "The Real Miyagi"
          ],
          [
           "The Wedding Curse"
          ],
          [
           "The Women's Balcony"
          ],
          [
           "The World's Most Wanted Animal"
          ],
          [
           "Theater of Life"
          ],
          [
           "This Is Not What I Expected"
          ],
          [
           "Thunderbolt"
          ],
          [
           "Trimurti"
          ],
          [
           "Tukaram"
          ],
          [
           "Vikings Unearthed"
          ],
          [
           "Walk with Me"
          ],
          [
           "Yanda Kartavya Aahe"
          ],
          [
           "Yes or No"
          ],
          [
           "Yes or No 2"
          ],
          [
           "Yes or No 2.5"
          ],
          [
           "You Can’t Fight Christmas"
          ],
          [
           "You Changed My Life"
          ]
         ],
         "hovertemplate": "rating=TV-PG<br>release_year=%{x}<br>duration_int=%{y}<br>title=%{customdata[0]}<extra></extra>",
         "legendgroup": "TV-PG",
         "marker": {
          "color": "#19d3f3",
          "symbol": "circle"
         },
         "mode": "markers",
         "name": "TV-PG",
         "showlegend": true,
         "type": "scattergl",
         "x": [
          2004,
          2001,
          2008,
          2009,
          2007,
          2005,
          2006,
          2004,
          2015,
          2018,
          2021,
          2016,
          2013,
          2021,
          2018,
          2019,
          2021,
          2021,
          2021,
          2019,
          2020,
          2018,
          2020,
          2020,
          2012,
          2019,
          2021,
          2021,
          2021,
          2016,
          2021,
          2021,
          2017,
          2020,
          2021,
          2021,
          2020,
          2006,
          2004,
          2020,
          2020,
          2020,
          2020,
          2018,
          2020,
          2020,
          2020,
          2020,
          2018,
          2020,
          2019,
          2020,
          2020,
          2017,
          2020,
          2019,
          2013,
          2003,
          2007,
          2018,
          2019,
          2018,
          2018,
          2020,
          2019,
          2020,
          2017,
          2020,
          2009,
          2020,
          2019,
          2015,
          2014,
          2012,
          2013,
          2017,
          2020,
          2020,
          2006,
          2019,
          2018,
          1976,
          2020,
          2006,
          2008,
          2005,
          2018,
          2010,
          2018,
          2020,
          2016,
          2019,
          2019,
          2020,
          2016,
          2019,
          2012,
          2010,
          2019,
          2015,
          2020,
          2014,
          2017,
          2019,
          2017,
          2015,
          2004,
          2019,
          2017,
          2019,
          2019,
          2018,
          2019,
          2019,
          2011,
          2012,
          2017,
          2016,
          2015,
          2017,
          2019,
          2019,
          2019,
          2019,
          2019,
          2018,
          2019,
          2019,
          2019,
          2019,
          2019,
          2019,
          2019,
          2018,
          2019,
          2019,
          2019,
          2019,
          2019,
          2019,
          2019,
          2019,
          2018,
          2018,
          2016,
          2008,
          2019,
          2016,
          2018,
          2019,
          2019,
          2014,
          2018,
          2013,
          2018,
          2018,
          2001,
          2019,
          2018,
          2018,
          2018,
          2018,
          2014,
          2018,
          2011,
          2018,
          2018,
          2018,
          2018,
          2010,
          2013,
          2014,
          2009,
          2015,
          2005,
          2016,
          2013,
          2013,
          2015,
          2013,
          2015,
          2018,
          2018,
          2018,
          2018,
          2014,
          2018,
          2011,
          2012,
          2005,
          2005,
          2018,
          2018,
          2010,
          2017,
          2018,
          2009,
          2005,
          2018,
          2007,
          2017,
          2004,
          2017,
          2017,
          2017,
          2017,
          2017,
          2017,
          1978,
          2016,
          1960,
          1966,
          1962,
          2016,
          2016,
          2017,
          2017,
          2017,
          2017,
          1969,
          2017,
          2017,
          2014,
          2016,
          2013,
          2015,
          2014,
          2016,
          2013,
          2015,
          2016,
          2008,
          2009,
          2016,
          2016,
          2014,
          2014,
          2014,
          1988,
          1987,
          1989,
          1991,
          2000,
          2014,
          2016,
          2018,
          2015,
          2011,
          2015,
          2013,
          2015,
          2016,
          2017,
          2018,
          2016,
          2016,
          1994,
          1995,
          1972,
          2017,
          2005,
          2018,
          2016,
          2017,
          2017,
          2017,
          2012,
          2014,
          2013,
          2016,
          2012,
          1975,
          1993,
          2017,
          2017,
          2018,
          2011,
          2004,
          2017,
          2019,
          2017,
          2009,
          2015,
          2016,
          2011,
          2014,
          2016,
          2015,
          2019,
          2015,
          2017,
          2009,
          2011,
          2018,
          2016,
          1979,
          2015,
          1999,
          2015,
          2015,
          2017,
          2006,
          2004,
          2015,
          2017,
          1982,
          1980,
          2015,
          2010,
          2017,
          2000,
          2004,
          1946,
          2018,
          2016,
          2017,
          2016,
          1981,
          1989,
          2017,
          2017,
          2016,
          1988,
          2017,
          2017,
          2014,
          2004,
          1962,
          2010,
          2005,
          2017,
          2018,
          2005,
          2019,
          2019,
          2017,
          2017,
          2017,
          2017,
          2018,
          2017,
          2017,
          2017,
          2017,
          1960,
          2018,
          2016,
          2014,
          1988,
          2000,
          2017,
          2011,
          1988,
          2017,
          2015,
          1974,
          2018,
          2011,
          2017,
          2015,
          2007,
          2017,
          2014,
          2016,
          1955,
          1998,
          2007,
          2013,
          2013,
          2013,
          2014,
          2013,
          2014,
          2013,
          2014,
          2014,
          2002,
          2015,
          2006,
          2015,
          2017,
          2014,
          1977,
          1999,
          2010,
          2010,
          2015,
          2016,
          2017,
          2016,
          1970,
          2009,
          2016,
          2013,
          2014,
          2017,
          2017,
          2008,
          2008,
          2015,
          2006,
          2016,
          2018,
          2016,
          2017,
          1947,
          1995,
          2012,
          2016,
          2017,
          2006,
          2010,
          2012,
          2015,
          2017,
          2009
         ],
         "xaxis": "x",
         "y": [
          88,
          100,
          93,
          96,
          95,
          97,
          95,
          83,
          114,
          82,
          59,
          118,
          94,
          113,
          101,
          13,
          113,
          74,
          97,
          86,
          107,
          85,
          149,
          78,
          133,
          96,
          93,
          98,
          114,
          107,
          106,
          139,
          104,
          123,
          90,
          102,
          116,
          98,
          85,
          104,
          93,
          106,
          81,
          114,
          87,
          99,
          64,
          84,
          86,
          136,
          87,
          51,
          99,
          118,
          102,
          29,
          104,
          129,
          149,
          102,
          112,
          96,
          73,
          91,
          112,
          104,
          75,
          102,
          203,
          72,
          30,
          127,
          120,
          129,
          137,
          90,
          104,
          81,
          95,
          80,
          99,
          157,
          85,
          105,
          93,
          109,
          72,
          129,
          86,
          61,
          109,
          120,
          91,
          103,
          121,
          110,
          95,
          118,
          103,
          86,
          97,
          105,
          91,
          70,
          86,
          141,
          185,
          29,
          93,
          85,
          127,
          137,
          94,
          60,
          110,
          68,
          81,
          68,
          68,
          112,
          86,
          91,
          52,
          102,
          90,
          102,
          64,
          83,
          103,
          102,
          98,
          133,
          120,
          161,
          15,
          95,
          61,
          114,
          125,
          110,
          90,
          94,
          116,
          125,
          101,
          126,
          61,
          115,
          97,
          100,
          114,
          110,
          102,
          127,
          80,
          131,
          42,
          63,
          110,
          91,
          95,
          22,
          27,
          90,
          115,
          93,
          104,
          122,
          91,
          106,
          128,
          145,
          99,
          137,
          129,
          117,
          121,
          122,
          131,
          132,
          140,
          106,
          101,
          124,
          12,
          143,
          74,
          127,
          98,
          90,
          82,
          124,
          88,
          87,
          97,
          62,
          132,
          134,
          87,
          155,
          127,
          185,
          134,
          96,
          87,
          61,
          73,
          92,
          141,
          97,
          158,
          116,
          163,
          105,
          161,
          104,
          47,
          44,
          44,
          152,
          44,
          98,
          97,
          87,
          118,
          154,
          98,
          88,
          24,
          59,
          107,
          94,
          71,
          23,
          90,
          90,
          94,
          93,
          93,
          96,
          94,
          93,
          75,
          89,
          124,
          137,
          111,
          91,
          89,
          126,
          127,
          106,
          63,
          97,
          92,
          72,
          49,
          166,
          125,
          104,
          149,
          66,
          91,
          90,
          90,
          126,
          156,
          126,
          121,
          99,
          87,
          127,
          91,
          120,
          100,
          81,
          92,
          123,
          93,
          90,
          89,
          120,
          102,
          74,
          106,
          103,
          92,
          118,
          104,
          88,
          111,
          96,
          95,
          130,
          103,
          137,
          83,
          151,
          95,
          170,
          110,
          149,
          88,
          132,
          105,
          140,
          120,
          132,
          26,
          107,
          149,
          165,
          58,
          99,
          98,
          107,
          75,
          92,
          192,
          132,
          55,
          114,
          132,
          94,
          110,
          93,
          158,
          185,
          80,
          116,
          88,
          89,
          161,
          92,
          90,
          53,
          54,
          53,
          53,
          53,
          52,
          54,
          54,
          53,
          127,
          70,
          135,
          88,
          108,
          137,
          109,
          140,
          48,
          92,
          83,
          104,
          90,
          144,
          80,
          88,
          152,
          116,
          86,
          145,
          93,
          77,
          101,
          54,
          54,
          54,
          55,
          54,
          55,
          55,
          55,
          55,
          148,
          127,
          52,
          91,
          132,
          127,
          123,
          177,
          137,
          125,
          98,
          133,
          113,
          92,
          66,
          121,
          84,
          90,
          96,
          90,
          115,
          106,
          119,
          81,
          101,
          100,
          53,
          94,
          107,
          42,
          173,
          162,
          113,
          94,
          151,
          111,
          112,
          107,
          85,
          116
         ],
         "yaxis": "y"
        },
        {
         "customdata": [
          [
           "A Champion Heart"
          ],
          [
           "Hachi: A Dog's Tale"
          ],
          [
           "My Fair Lady"
          ],
          [
           "A Shaun the Sheep Movie: Farmageddon"
          ],
          [
           "Garfield's Pet Force"
          ],
          [
           "Jimmy Neutron: Boy Genius"
          ],
          [
           "Rugrats in Paris: The Movie"
          ],
          [
           "The Rugrats Movie"
          ],
          [
           "Spookley the Square Pumpkin"
          ],
          [
           "The Pixar Story"
          ],
          [
           "Pup Star: World Tour"
          ],
          [
           "Ghost of the Mountains"
          ],
          [
           "Growing Up Wild"
          ],
          [
           "Tini: The New Life of Violetta"
          ],
          [
           "Pup Star"
          ],
          [
           "All Dogs Go to Heaven"
          ],
          [
           "An American Tail"
          ],
          [
           "An American Tail: Fievel Goes West"
          ],
          [
           "An American Tail: The Mystery of the Night Monster"
          ],
          [
           "An American Tail: The Treasures of Manhattan Island"
          ],
          [
           "Balto"
          ],
          [
           "Balto 2: Wolf Quest"
          ],
          [
           "Balto 3: Wings of Change"
          ],
          [
           "Charlotte's Web"
          ],
          [
           "Chicken Little"
          ],
          [
           "Chitty Chitty Bang Bang"
          ],
          [
           "Fiddler on the Roof"
          ],
          [
           "For the Love of Benji"
          ],
          [
           "Forbidden Planet"
          ],
          [
           "Gigi"
          ],
          [
           "Justin Bieber: Never Say Never"
          ],
          [
           "Océans"
          ],
          [
           "Tarzan"
          ],
          [
           "Tarzan 2"
          ],
          [
           "The Pirate Fairy"
          ],
          [
           "The Polar Express"
          ],
          [
           "The Princess and the Frog"
          ],
          [
           "Tinker Bell and the Legend of the NeverBeast"
          ],
          [
           "True Grit"
          ],
          [
           "Willy Wonka & the Chocolate Factory"
          ]
         ],
         "hovertemplate": "rating=G<br>release_year=%{x}<br>duration_int=%{y}<br>title=%{customdata[0]}<extra></extra>",
         "legendgroup": "G",
         "marker": {
          "color": "#FF6692",
          "symbol": "circle"
         },
         "mode": "markers",
         "name": "G",
         "showlegend": true,
         "type": "scattergl",
         "x": [
          2018,
          2009,
          1964,
          2019,
          2009,
          2001,
          2000,
          1998,
          2004,
          2007,
          2018,
          2017,
          2016,
          2016,
          2016,
          1989,
          1986,
          1991,
          1999,
          2000,
          1995,
          2001,
          2004,
          1973,
          2005,
          1968,
          1971,
          1977,
          1956,
          1958,
          2011,
          2009,
          1999,
          2005,
          2014,
          2004,
          2009,
          2014,
          1969,
          1971
         ],
         "xaxis": "x",
         "y": [
          90,
          93,
          173,
          87,
          78,
          83,
          79,
          81,
          47,
          89,
          87,
          78,
          78,
          99,
          92,
          85,
          80,
          75,
          75,
          79,
          78,
          75,
          78,
          94,
          82,
          146,
          181,
          84,
          98,
          115,
          106,
          84,
          89,
          72,
          78,
          100,
          98,
          78,
          128,
          100
         ],
         "yaxis": "y"
        },
        {
         "customdata": [
          [
           "Chhota Bheem And The Broken Amulet"
          ],
          [
           "Chhota Bheem aur Krishna"
          ],
          [
           "Jungle Beat: The Movie"
          ],
          [
           "Arlo the Alligator Boy"
          ],
          [
           "Secret Magic Control Agency"
          ],
          [
           "Bigfoot Family"
          ],
          [
           "Xico's Journey"
          ],
          [
           "Charming"
          ],
          [
           "Spirit Riding Free: Ride Along Adventure"
          ],
          [
           "Captain Underpants Mega Blissmas"
          ],
          [
           "Fukrey Boyzzz: Space Mein Fukrapanti"
          ],
          [
           "Pets United"
          ],
          [
           "The Boss Baby: Get That Baby!"
          ],
          [
           "Fearless"
          ],
          [
           "Animal Crackers"
          ],
          [
           "The Larva Island Movie"
          ],
          [
           "Chhota Bheem and the Curse of Damyaan"
          ],
          [
           "A truthful Mother"
          ],
          [
           "Carmen Sandiego: To Steal or Not to Steal"
          ],
          [
           "Pokémon: Mewtwo Strikes Back - Evolution"
          ],
          [
           "Garfield's Fun Fest"
          ],
          [
           "Pokémon the Movie: Power of Us"
          ],
          [
           "A Fairly Odd Summer"
          ],
          [
           "Rocko's Modern Life: Static Cling"
          ],
          [
           "Lego DC Comics: Batman Be-Leaguered"
          ],
          [
           "LEGO Marvel Super Heroes: Black Panther"
          ],
          [
           "Pokémon the Movie: I Choose You!"
          ],
          [
           "Stretch Armstrong: The Breakout"
          ],
          [
           "Trolls Holiday Special"
          ],
          [
           "Monster Island"
          ],
          [
           "Ghost Patrol"
          ],
          [
           "LEGO Marvel Super Heroes: Avengers Reassembled!"
          ],
          [
           "Buddy Thunderstruck: The Maybe Pile"
          ],
          [
           "Puss in Book: Trapped in an Epic Tale"
          ],
          [
           "Sahara"
          ],
          [
           "LEGO: Marvel Super Heroes: Maximum Overload"
          ],
          [
           "A Christmas Special: Miraculous: Tales of Ladybug & Cat Noir"
          ],
          [
           "LEGO Jurassic World: The Indominus Escape"
          ],
          [
           "My Little Pony Equestria Girls: Legend of Everfree"
          ],
          [
           "Abominable Christmas"
          ],
          [
           "Alpha and Omega: The Legend of the Saw Tooth Cave"
          ],
          [
           "Barbie: A Fairy Secret"
          ],
          [
           "Chhota Bheem Kungfu Dhamaka"
          ],
          [
           "Figaro Pho"
          ],
          [
           "Iqbal"
          ],
          [
           "Krish Trish and Baltiboy: Face Your Fears"
          ],
          [
           "Kung Fu Magoo"
          ],
          [
           "Little Lunch: The Halloween Horror Story"
          ],
          [
           "Little Lunch: The Nightmare Before Graduation"
          ],
          [
           "Monster High 13 Wishes"
          ],
          [
           "Monster High: Boo York, Boo York"
          ],
          [
           "Monster High: Escape from Skull Shores"
          ],
          [
           "Monster High: Freaky Fusion"
          ],
          [
           "Monster High: Friday Night Frights"
          ],
          [
           "Monster High: Fright On!"
          ],
          [
           "Monster High: Frights, Camera, Action!"
          ],
          [
           "Monster High: Ghouls Rule"
          ],
          [
           "Monster High: Great Scarrier Reef"
          ],
          [
           "Monster High: New Ghoul at School"
          ],
          [
           "Monster High: Why Do Ghouls Fall in Love?"
          ],
          [
           "Norm of the North: Family Vacation"
          ],
          [
           "Power Rangers Super Megaforce: The Legendary Battle (Extended)"
          ],
          [
           "Power Rangers: Megaforce: The Robo Knight Before Christmas"
          ],
          [
           "Room on the Broom"
          ],
          [
           "Super Bheem Bana Vajraveer"
          ],
          [
           "Tayo the Little Bus Movie: Mission Ace"
          ],
          [
           "The Adventure Club"
          ],
          [
           "Thor: Tales of Asgard"
          ],
          [
           "Welcome to Monster High: The Origin Story"
          ],
          [
           "Yo-Kai Watch: The Movie"
          ]
         ],
         "hovertemplate": "rating=TV-Y7<br>release_year=%{x}<br>duration_int=%{y}<br>title=%{customdata[0]}<extra></extra>",
         "legendgroup": "TV-Y7",
         "marker": {
          "color": "#B6E880",
          "symbol": "circle"
         },
         "mode": "markers",
         "name": "TV-Y7",
         "showlegend": true,
         "type": "scattergl",
         "x": [
          2013,
          2009,
          2021,
          2021,
          2021,
          2021,
          2021,
          2021,
          2020,
          2020,
          2020,
          2020,
          2020,
          2020,
          2020,
          2020,
          2012,
          2020,
          2020,
          2019,
          2008,
          2018,
          2014,
          2019,
          2014,
          2018,
          2017,
          2018,
          2017,
          2017,
          2016,
          2015,
          2017,
          2017,
          2017,
          2013,
          2016,
          2016,
          2016,
          2012,
          2014,
          2010,
          2019,
          2008,
          2006,
          2017,
          2010,
          2016,
          2016,
          2013,
          2015,
          2012,
          2014,
          2013,
          2011,
          2014,
          2012,
          2016,
          2010,
          2013,
          2020,
          2014,
          2013,
          2012,
          2018,
          2016,
          2016,
          2011,
          2016,
          2016
         ],
         "xaxis": "x",
         "y": [
          64,
          68,
          90,
          93,
          105,
          88,
          87,
          85,
          79,
          46,
          75,
          93,
          115,
          92,
          106,
          91,
          87,
          85,
          82,
          98,
          79,
          98,
          68,
          46,
          22,
          22,
          97,
          104,
          27,
          81,
          47,
          22,
          14,
          24,
          86,
          22,
          22,
          25,
          73,
          44,
          45,
          72,
          112,
          29,
          127,
          65,
          79,
          23,
          25,
          73,
          72,
          46,
          74,
          46,
          46,
          74,
          71,
          72,
          23,
          46,
          89,
          55,
          24,
          26,
          63,
          48,
          88,
          77,
          73,
          96
         ],
         "yaxis": "y"
        },
        {
         "customdata": [
          [
           "This Little Love Of Mine"
          ],
          [
           "Si Doel the Movie 2"
          ],
          [
           "One Like It"
          ],
          [
           "Nate Bargatze: The Greatest Average American"
          ],
          [
           "Just In Time"
          ],
          [
           "Brian Regan: On the Rocks"
          ],
          [
           "Double Dad"
          ],
          [
           "Isa Pa with Feelings"
          ],
          [
           "Cemara's Family"
          ],
          [
           "Just The Way You Are"
          ],
          [
           "The Princess Switch: Switched Again"
          ],
          [
           "Three Words to Forever"
          ],
          [
           "A Very Country Christmas"
          ],
          [
           "Hometown Holiday"
          ],
          [
           "White Christmas"
          ],
          [
           "A Very Special Love"
          ],
          [
           "Midnight at the Magnolia"
          ],
          [
           "Operation Christmas Drop"
          ],
          [
           "Kiss the Ground"
          ],
          [
           "Dhh"
          ],
          [
           "Satria Heroes: Revenge of the Darkness"
          ],
          [
           "Sky Tour: The Movie"
          ],
          [
           "Malibu Rescue: The Next Wave"
          ],
          [
           "Sugar High"
          ],
          [
           "#FriendButMarried 2"
          ],
          [
           "Feel the Beat"
          ],
          [
           "One Take"
          ],
          [
           "Cook Off"
          ],
          [
           "One Day We'll Talk About Today"
          ],
          [
           "Si Doel the Movie 3"
          ],
          [
           "#FriendButMarried"
          ],
          [
           "Fan of Amoory"
          ],
          [
           "Luccas Neto em: Acampamento de Férias 2"
          ],
          [
           "My Stupid Boss"
          ],
          [
           "Stunt School"
          ],
          [
           "The Main Event"
          ],
          [
           "The Little Vampire"
          ],
          [
           "Misfit 2"
          ],
          [
           "Together For Eternity"
          ],
          [
           "Guatemala: Heart of the Mayan World"
          ],
          [
           "Lorena, Light-Footed Woman"
          ],
          [
           "Luccas Neto in: Summer Camp"
          ],
          [
           "Little Miss Sumo"
          ],
          [
           "Malibu Rescue"
          ],
          [
           "Pants on Fire"
          ],
          [
           "Radio Rebel"
          ],
          [
           "Prince of Peoria: A Christmas Moose Miracle"
          ],
          [
           "The Holiday Calendar"
          ],
          [
           "Going for Gold"
          ],
          [
           "48 Christmas Wishes"
          ],
          [
           "Christmas Inheritance"
          ],
          [
           "Pettersson and Findus 2"
          ],
          [
           "The Guardian Brothers"
          ],
          [
           "Mariah Carey's Merriest Christmas"
          ],
          [
           "Shrek the Musical"
          ],
          [
           "A Holiday Engagement"
          ],
          [
           "All Hallows' Eve"
          ],
          [
           "Alpha and Omega 2: A Howl-iday Adventure"
          ],
          [
           "Benji's Very Own Christmas Story"
          ],
          [
           "Bob's Broken Sleigh"
          ],
          [
           "Camp Cool Kids"
          ],
          [
           "Chandani: The Daughter of the Elephant Whisperer"
          ],
          [
           "Christmas in the Smokies"
          ],
          [
           "Covered: Alive in Asia"
          ],
          [
           "Dream Big: Engineering Our World"
          ],
          [
           "Guy Martin: Last Flight of the Vulcan Bomber"
          ],
          [
           "Hans Zimmer: Live in Prague"
          ],
          [
           "Harriet the Spy: Blog Wars"
          ],
          [
           "Hum Saath-Saath Hain"
          ],
          [
           "Koko: The Gorilla Who Talks"
          ],
          [
           "Monster High: Scaris, City of Frights"
          ],
          [
           "National Parks Adventure"
          ],
          [
           "NOVA: Black Hole Apocalypse"
          ],
          [
           "NOVA: Death Dive to Saturn"
          ],
          [
           "NOVA: Prediction by the Numbers"
          ],
          [
           "Nova: Ultimate Mars Challenge"
          ],
          [
           "Santa's Apprentice"
          ],
          [
           "Siddhant"
          ],
          [
           "The Incredible Story of the Giant Pear"
          ],
          [
           "The Tigers of Scotland"
          ],
          [
           "You Can Tutu"
          ]
         ],
         "hovertemplate": "rating=TV-G<br>release_year=%{x}<br>duration_int=%{y}<br>title=%{customdata[0]}<extra></extra>",
         "legendgroup": "TV-G",
         "marker": {
          "color": "#FF97FF",
          "symbol": "circle"
         },
         "mode": "markers",
         "name": "TV-G",
         "showlegend": true,
         "type": "scattergl",
         "x": [
          2021,
          2019,
          2020,
          2021,
          2020,
          2021,
          2020,
          2019,
          2018,
          2016,
          2020,
          2018,
          2017,
          2018,
          1954,
          2008,
          2020,
          2020,
          2020,
          2017,
          2017,
          2020,
          2020,
          2020,
          2020,
          2020,
          2020,
          2017,
          2020,
          2020,
          2018,
          2018,
          2020,
          2016,
          2019,
          2020,
          2017,
          2019,
          1999,
          2019,
          2019,
          2019,
          2018,
          2019,
          2014,
          2012,
          2018,
          2018,
          2018,
          2017,
          2017,
          2016,
          2016,
          2015,
          2013,
          2011,
          2016,
          2013,
          1978,
          2015,
          2017,
          2010,
          2015,
          2016,
          2017,
          2015,
          2017,
          2010,
          1999,
          2016,
          2013,
          2016,
          2018,
          2017,
          2018,
          2012,
          2010,
          2014,
          2018,
          2017,
          2017
         ],
         "xaxis": "x",
         "y": [
          92,
          95,
          15,
          60,
          92,
          58,
          105,
          102,
          110,
          107,
          97,
          107,
          84,
          84,
          120,
          107,
          87,
          96,
          85,
          127,
          92,
          93,
          71,
          44,
          104,
          110,
          86,
          100,
          128,
          93,
          102,
          109,
          81,
          107,
          95,
          103,
          83,
          82,
          176,
          67,
          28,
          87,
          20,
          70,
          87,
          90,
          29,
          95,
          88,
          84,
          105,
          82,
          86,
          38,
          130,
          92,
          92,
          45,
          25,
          47,
          104,
          87,
          88,
          75,
          42,
          57,
          138,
          87,
          176,
          56,
          60,
          42,
          113,
          54,
          53,
          53,
          72,
          105,
          75,
          58,
          87
         ],
         "yaxis": "y"
        },
        {
         "customdata": [
          [
           "Barbie & Chelsea: The Lost Birthday"
          ],
          [
           "An American Girl: McKenna Shoots for the Stars"
          ],
          [
           "Octonauts & the Ring of Fire"
          ],
          [
           "LEGO Marvel Spider-Man: Vexed by Venom"
          ],
          [
           "Pinkfong & Baby Shark's Space Adventure"
          ],
          [
           "Full Out 2: You Got This!"
          ],
          [
           "The Magic School Bus Rides Again In the Zone"
          ],
          [
           "Shaun the Sheep: The Farmer’s Llamas"
          ],
          [
           "Mighty Express: A Mighty Christmas"
          ],
          [
           "Angela's Christmas Wish"
          ],
          [
           "Spookley and the Christmas Kittens"
          ],
          [
           "A Go! Go! Cory Carson Christmas"
          ],
          [
           "Dragons: Rescue Riders: Huttsgalor Holiday"
          ],
          [
           "Alien Xmas"
          ],
          [
           "Elf Pets: A Fox Cub’s Christmas Tale"
          ],
          [
           "Elf Pets: Santa’s Reindeer Rescue"
          ],
          [
           "The Magic School Bus Rides Again The Frizz Connection"
          ],
          [
           "Octonauts & the Great Barrier Reef"
          ],
          [
           "StarBeam: Halloween Hero"
          ],
          [
           "Horrid Henry's Gross Day Out"
          ],
          [
           "Barbie Princess Adventure"
          ],
          [
           "True: Friendship Day"
          ],
          [
           "Octonauts & the Caves of Sac Actun"
          ],
          [
           "The Magic School Bus Rides Again Kids In Space"
          ],
          [
           "Super Monsters: The New Class"
          ],
          [
           "Latte and the Magic Waterstone"
          ],
          [
           "Dragons: Rescue Riders: Secrets of the Songwing"
          ],
          [
           "Go! Go! Cory Carson: The Chrissy"
          ],
          [
           "Dragons: Rescue Riders: Hunt for the Golden Dragon"
          ],
          [
           "True: Wuzzle Wegg Day"
          ],
          [
           "Willy and the Guardians of the Lake: Tales from the Lakeside Winter Adventure"
          ],
          [
           "Luccas Neto in: The End of Christmas"
          ],
          [
           "Garfield Gets Real"
          ],
          [
           "Back of the Net"
          ],
          [
           "Super Monsters Save Christmas"
          ],
          [
           "Escape from Mr. Lemoncello’s Library"
          ],
          [
           "Jinxed"
          ],
          [
           "The Boy Who Cried Werewolf"
          ],
          [
           "The Massively Mixed-Up Middle School Mystery"
          ],
          [
           "Super Monsters: Vida's First Halloween"
          ],
          [
           "Angela's Christmas"
          ],
          [
           "My Little Pony Friendship Is Magic: Best Gift Ever"
          ],
          [
           "My Little Pony Equestria Girls: Forgotten Friendship"
          ],
          [
           "My Little Pony Equestria Girls: Rollercoaster of Friendship"
          ],
          [
           "Pocoyo & The Space Circus"
          ],
          [
           "Fishtronaut: The Movie"
          ],
          [
           "A StoryBots Christmas"
          ],
          [
           "Beat Bugs: All Together Now"
          ],
          [
           "Barbie Dolphin Magic"
          ],
          [
           "Jessica Darling's It List"
          ],
          [
           "Raising the Bar"
          ],
          [
           "Zapped"
          ],
          [
           "Walt Disney Animation Studios Short Films Collection"
          ],
          [
           "Barbie & Her Sisters in a Pony Tale"
          ],
          [
           "Barbie in A Mermaid Tale"
          ],
          [
           "Barbie in Princess Power"
          ],
          [
           "Barbie in Rock 'N Royals"
          ],
          [
           "Barbie Star Light Adventure"
          ],
          [
           "Barbie: Princess Charm School"
          ],
          [
           "Barbie: Spy Squad"
          ],
          [
           "Barbie: The Princess & the Popstar"
          ],
          [
           "Barbie: Video Game Hero"
          ],
          [
           "LeapFrog: Letter Factory"
          ],
          [
           "LeapFrog: Numberland"
          ],
          [
           "LeapFrog: Phonics Farm"
          ],
          [
           "Magic Snowflake"
          ],
          [
           "My Little Pony Equestria Girls: Friendship Games"
          ],
          [
           "My Little Pony Equestria Girls: Rainbow Rocks"
          ],
          [
           "Shopkins: Chef Club"
          ],
          [
           "Shopkins: Wild"
          ],
          [
           "Shopkins: World Vacation"
          ]
         ],
         "hovertemplate": "rating=TV-Y<br>release_year=%{x}<br>duration_int=%{y}<br>title=%{customdata[0]}<extra></extra>",
         "legendgroup": "TV-Y",
         "marker": {
          "color": "#FECB52",
          "symbol": "circle"
         },
         "mode": "markers",
         "name": "TV-Y",
         "showlegend": true,
         "type": "scattergl",
         "x": [
          2021,
          2012,
          2021,
          2019,
          2019,
          2020,
          2020,
          2020,
          2020,
          2020,
          2019,
          2020,
          2020,
          2020,
          2020,
          2020,
          2020,
          2020,
          2020,
          2020,
          2020,
          2020,
          2020,
          2020,
          2020,
          2020,
          2020,
          2020,
          2020,
          2020,
          2019,
          2019,
          2007,
          2019,
          2019,
          2017,
          2013,
          2010,
          2015,
          2019,
          2018,
          2018,
          2018,
          2018,
          2008,
          2018,
          2017,
          2017,
          2017,
          2016,
          2016,
          2014,
          2015,
          2013,
          2010,
          2015,
          2015,
          2016,
          2011,
          2016,
          2012,
          2017,
          2003,
          2011,
          2011,
          2013,
          2015,
          2014,
          2016,
          2018,
          2017
         ],
         "xaxis": "x",
         "y": [
          60,
          94,
          73,
          22,
          65,
          91,
          46,
          28,
          26,
          48,
          45,
          22,
          46,
          42,
          28,
          27,
          46,
          47,
          33,
          61,
          72,
          24,
          72,
          46,
          25,
          83,
          46,
          42,
          46,
          24,
          72,
          71,
          78,
          86,
          24,
          69,
          69,
          86,
          40,
          24,
          30,
          44,
          44,
          44,
          25,
          78,
          26,
          51,
          64,
          80,
          97,
          92,
          90,
          74,
          74,
          74,
          83,
          79,
          80,
          75,
          75,
          72,
          37,
          33,
          35,
          73,
          72,
          73,
          45,
          75,
          71
         ],
         "yaxis": "y"
        },
        {
         "customdata": [
          [
           "Swearnet: The Movie"
          ],
          [
           "Blue Is the Warmest Color"
          ]
         ],
         "hovertemplate": "rating=NC-17<br>release_year=%{x}<br>duration_int=%{y}<br>title=%{customdata[0]}<extra></extra>",
         "legendgroup": "NC-17",
         "marker": {
          "color": "#636efa",
          "symbol": "circle"
         },
         "mode": "markers",
         "name": "NC-17",
         "showlegend": true,
         "type": "scattergl",
         "x": [
          2014,
          2013
         ],
         "xaxis": "x",
         "y": [
          112,
          180
         ],
         "yaxis": "y"
        },
        {
         "customdata": [
          [
           "13 Cameras"
          ],
          [
           "4th Man Out"
          ],
          [
           "A Russell Peters Christmas"
          ],
          [
           "Act of Vengeance"
          ],
          [
           "Adventures in Public School"
          ],
          [
           "APEX: The Story of the Hypercar"
          ],
          [
           "Asura: The City of Madness"
          ],
          [
           "Back and Forth"
          ],
          [
           "Backcountry"
          ],
          [
           "Band of Robbers"
          ],
          [
           "Bill Burr: Let It Go"
          ],
          [
           "Cat on a Hot Tin Roof"
          ],
          [
           "Chittagong"
          ],
          [
           "Daemonium"
          ],
          [
           "Daughters of the Dust"
          ],
          [
           "Diary of a Chambermaid"
          ],
          [
           "Esperando La Carroza"
          ],
          [
           "Exit Strategy"
          ],
          [
           "Fandry"
          ],
          [
           "Fifty"
          ],
          [
           "Fishtail"
          ],
          [
           "God of War"
          ],
          [
           "Happy Times"
          ],
          [
           "Harry Benson: Shoot First"
          ],
          [
           "Hot Bot"
          ],
          [
           "Iliza Shlesinger: War Paint"
          ],
          [
           "INDIA"
          ],
          [
           "Iverson"
          ],
          [
           "Katt Williams: Live"
          ],
          [
           "King Jack"
          ],
          [
           "Kristy"
          ],
          [
           "Little Sister"
          ],
          [
           "Look Who's Back"
          ],
          [
           "Mad Ron's Prevues from Hell"
          ],
          [
           "Master"
          ],
          [
           "Miss Stevens"
          ],
          [
           "Murder Party"
          ],
          [
           "Namour"
          ],
          [
           "Nymphomaniac: Volume 1"
          ],
          [
           "Operation Chromite"
          ],
          [
           "Prescription Thugs"
          ],
          [
           "Revelations"
          ],
          [
           "Rezeta"
          ],
          [
           "Russell Peters: Notorious"
          ],
          [
           "Solo Con Tu Pareja"
          ],
          [
           "Stronger Than the World"
          ],
          [
           "Suburra"
          ],
          [
           "The Pass"
          ],
          [
           "The River Thief"
          ],
          [
           "The Similars"
          ],
          [
           "Thorne: Scaredy Cat"
          ],
          [
           "Thorne: Sleepyhead"
          ],
          [
           "Total Frat Movie"
          ],
          [
           "Ugly"
          ],
          [
           "Viceroy's House"
          ],
          [
           "Vizontele Tuuba"
          ],
          [
           "Winter of Our Dreams"
          ],
          [
           "Young Tiger"
          ]
         ],
         "hovertemplate": "rating=NR<br>release_year=%{x}<br>duration_int=%{y}<br>title=%{customdata[0]}<extra></extra>",
         "legendgroup": "NR",
         "marker": {
          "color": "#EF553B",
          "symbol": "circle"
         },
         "mode": "markers",
         "name": "NR",
         "showlegend": true,
         "type": "scattergl",
         "x": [
          2015,
          2015,
          2011,
          2010,
          2018,
          2016,
          2016,
          2016,
          2014,
          2015,
          2010,
          1958,
          2012,
          2015,
          1991,
          2015,
          1985,
          2012,
          2014,
          2015,
          2015,
          2017,
          2014,
          2016,
          2016,
          2013,
          2014,
          2014,
          2006,
          2015,
          2013,
          2016,
          2015,
          1987,
          2016,
          2016,
          2007,
          2016,
          2013,
          2016,
          2015,
          2016,
          2012,
          2013,
          1991,
          2016,
          2015,
          2016,
          2016,
          2015,
          2010,
          2010,
          2016,
          2013,
          2017,
          2004,
          1981,
          1973
         ],
         "xaxis": "x",
         "y": [
          90,
          86,
          44,
          112,
          86,
          86,
          133,
          95,
          92,
          95,
          65,
          108,
          105,
          115,
          112,
          96,
          95,
          79,
          102,
          101,
          61,
          129,
          79,
          90,
          93,
          75,
          95,
          88,
          85,
          81,
          85,
          91,
          116,
          84,
          143,
          86,
          79,
          80,
          117,
          111,
          86,
          118,
          84,
          72,
          94,
          123,
          135,
          87,
          87,
          90,
          125,
          125,
          94,
          125,
          106,
          106,
          86,
          81
         ],
         "yaxis": "y"
        },
        {
         "customdata": [
          [
           "Dear Dracula"
          ],
          [
           "Leo the Lion"
          ],
          [
           "Motu Patlu: King of Kings"
          ]
         ],
         "hovertemplate": "rating=TV-Y7-FV<br>release_year=%{x}<br>duration_int=%{y}<br>title=%{customdata[0]}<extra></extra>",
         "legendgroup": "TV-Y7-FV",
         "marker": {
          "color": "#00cc96",
          "symbol": "circle"
         },
         "mode": "markers",
         "name": "TV-Y7-FV",
         "showlegend": true,
         "type": "scattergl",
         "x": [
          2012,
          2013,
          2016
         ],
         "xaxis": "x",
         "y": [
          43,
          78,
          109
         ],
         "yaxis": "y"
        },
        {
         "customdata": [
          [
           "Immoral Tales"
          ],
          [
           "Sex Doll"
          ],
          [
           "You Don't Mess with the Zohan"
          ]
         ],
         "hovertemplate": "rating=UR<br>release_year=%{x}<br>duration_int=%{y}<br>title=%{customdata[0]}<extra></extra>",
         "legendgroup": "UR",
         "marker": {
          "color": "#ab63fa",
          "symbol": "circle"
         },
         "mode": "markers",
         "name": "UR",
         "showlegend": true,
         "type": "scattergl",
         "x": [
          1974,
          2016,
          2008
         ],
         "xaxis": "x",
         "y": [
          103,
          103,
          113
         ],
         "yaxis": "y"
        }
       ],
       "layout": {
        "legend": {
         "title": {
          "text": "rating"
         },
         "tracegroupgap": 0
        },
        "template": {
         "data": {
          "bar": [
           {
            "error_x": {
             "color": "#2a3f5f"
            },
            "error_y": {
             "color": "#2a3f5f"
            },
            "marker": {
             "line": {
              "color": "#E5ECF6",
              "width": 0.5
             },
             "pattern": {
              "fillmode": "overlay",
              "size": 10,
              "solidity": 0.2
             }
            },
            "type": "bar"
           }
          ],
          "barpolar": [
           {
            "marker": {
             "line": {
              "color": "#E5ECF6",
              "width": 0.5
             },
             "pattern": {
              "fillmode": "overlay",
              "size": 10,
              "solidity": 0.2
             }
            },
            "type": "barpolar"
           }
          ],
          "carpet": [
           {
            "aaxis": {
             "endlinecolor": "#2a3f5f",
             "gridcolor": "white",
             "linecolor": "white",
             "minorgridcolor": "white",
             "startlinecolor": "#2a3f5f"
            },
            "baxis": {
             "endlinecolor": "#2a3f5f",
             "gridcolor": "white",
             "linecolor": "white",
             "minorgridcolor": "white",
             "startlinecolor": "#2a3f5f"
            },
            "type": "carpet"
           }
          ],
          "choropleth": [
           {
            "colorbar": {
             "outlinewidth": 0,
             "ticks": ""
            },
            "type": "choropleth"
           }
          ],
          "contour": [
           {
            "colorbar": {
             "outlinewidth": 0,
             "ticks": ""
            },
            "colorscale": [
             [
              0,
              "#0d0887"
             ],
             [
              0.1111111111111111,
              "#46039f"
             ],
             [
              0.2222222222222222,
              "#7201a8"
             ],
             [
              0.3333333333333333,
              "#9c179e"
             ],
             [
              0.4444444444444444,
              "#bd3786"
             ],
             [
              0.5555555555555556,
              "#d8576b"
             ],
             [
              0.6666666666666666,
              "#ed7953"
             ],
             [
              0.7777777777777778,
              "#fb9f3a"
             ],
             [
              0.8888888888888888,
              "#fdca26"
             ],
             [
              1,
              "#f0f921"
             ]
            ],
            "type": "contour"
           }
          ],
          "contourcarpet": [
           {
            "colorbar": {
             "outlinewidth": 0,
             "ticks": ""
            },
            "type": "contourcarpet"
           }
          ],
          "heatmap": [
           {
            "colorbar": {
             "outlinewidth": 0,
             "ticks": ""
            },
            "colorscale": [
             [
              0,
              "#0d0887"
             ],
             [
              0.1111111111111111,
              "#46039f"
             ],
             [
              0.2222222222222222,
              "#7201a8"
             ],
             [
              0.3333333333333333,
              "#9c179e"
             ],
             [
              0.4444444444444444,
              "#bd3786"
             ],
             [
              0.5555555555555556,
              "#d8576b"
             ],
             [
              0.6666666666666666,
              "#ed7953"
             ],
             [
              0.7777777777777778,
              "#fb9f3a"
             ],
             [
              0.8888888888888888,
              "#fdca26"
             ],
             [
              1,
              "#f0f921"
             ]
            ],
            "type": "heatmap"
           }
          ],
          "heatmapgl": [
           {
            "colorbar": {
             "outlinewidth": 0,
             "ticks": ""
            },
            "colorscale": [
             [
              0,
              "#0d0887"
             ],
             [
              0.1111111111111111,
              "#46039f"
             ],
             [
              0.2222222222222222,
              "#7201a8"
             ],
             [
              0.3333333333333333,
              "#9c179e"
             ],
             [
              0.4444444444444444,
              "#bd3786"
             ],
             [
              0.5555555555555556,
              "#d8576b"
             ],
             [
              0.6666666666666666,
              "#ed7953"
             ],
             [
              0.7777777777777778,
              "#fb9f3a"
             ],
             [
              0.8888888888888888,
              "#fdca26"
             ],
             [
              1,
              "#f0f921"
             ]
            ],
            "type": "heatmapgl"
           }
          ],
          "histogram": [
           {
            "marker": {
             "pattern": {
              "fillmode": "overlay",
              "size": 10,
              "solidity": 0.2
             }
            },
            "type": "histogram"
           }
          ],
          "histogram2d": [
           {
            "colorbar": {
             "outlinewidth": 0,
             "ticks": ""
            },
            "colorscale": [
             [
              0,
              "#0d0887"
             ],
             [
              0.1111111111111111,
              "#46039f"
             ],
             [
              0.2222222222222222,
              "#7201a8"
             ],
             [
              0.3333333333333333,
              "#9c179e"
             ],
             [
              0.4444444444444444,
              "#bd3786"
             ],
             [
              0.5555555555555556,
              "#d8576b"
             ],
             [
              0.6666666666666666,
              "#ed7953"
             ],
             [
              0.7777777777777778,
              "#fb9f3a"
             ],
             [
              0.8888888888888888,
              "#fdca26"
             ],
             [
              1,
              "#f0f921"
             ]
            ],
            "type": "histogram2d"
           }
          ],
          "histogram2dcontour": [
           {
            "colorbar": {
             "outlinewidth": 0,
             "ticks": ""
            },
            "colorscale": [
             [
              0,
              "#0d0887"
             ],
             [
              0.1111111111111111,
              "#46039f"
             ],
             [
              0.2222222222222222,
              "#7201a8"
             ],
             [
              0.3333333333333333,
              "#9c179e"
             ],
             [
              0.4444444444444444,
              "#bd3786"
             ],
             [
              0.5555555555555556,
              "#d8576b"
             ],
             [
              0.6666666666666666,
              "#ed7953"
             ],
             [
              0.7777777777777778,
              "#fb9f3a"
             ],
             [
              0.8888888888888888,
              "#fdca26"
             ],
             [
              1,
              "#f0f921"
             ]
            ],
            "type": "histogram2dcontour"
           }
          ],
          "mesh3d": [
           {
            "colorbar": {
             "outlinewidth": 0,
             "ticks": ""
            },
            "type": "mesh3d"
           }
          ],
          "parcoords": [
           {
            "line": {
             "colorbar": {
              "outlinewidth": 0,
              "ticks": ""
             }
            },
            "type": "parcoords"
           }
          ],
          "pie": [
           {
            "automargin": true,
            "type": "pie"
           }
          ],
          "scatter": [
           {
            "fillpattern": {
             "fillmode": "overlay",
             "size": 10,
             "solidity": 0.2
            },
            "type": "scatter"
           }
          ],
          "scatter3d": [
           {
            "line": {
             "colorbar": {
              "outlinewidth": 0,
              "ticks": ""
             }
            },
            "marker": {
             "colorbar": {
              "outlinewidth": 0,
              "ticks": ""
             }
            },
            "type": "scatter3d"
           }
          ],
          "scattercarpet": [
           {
            "marker": {
             "colorbar": {
              "outlinewidth": 0,
              "ticks": ""
             }
            },
            "type": "scattercarpet"
           }
          ],
          "scattergeo": [
           {
            "marker": {
             "colorbar": {
              "outlinewidth": 0,
              "ticks": ""
             }
            },
            "type": "scattergeo"
           }
          ],
          "scattergl": [
           {
            "marker": {
             "colorbar": {
              "outlinewidth": 0,
              "ticks": ""
             }
            },
            "type": "scattergl"
           }
          ],
          "scattermapbox": [
           {
            "marker": {
             "colorbar": {
              "outlinewidth": 0,
              "ticks": ""
             }
            },
            "type": "scattermapbox"
           }
          ],
          "scatterpolar": [
           {
            "marker": {
             "colorbar": {
              "outlinewidth": 0,
              "ticks": ""
             }
            },
            "type": "scatterpolar"
           }
          ],
          "scatterpolargl": [
           {
            "marker": {
             "colorbar": {
              "outlinewidth": 0,
              "ticks": ""
             }
            },
            "type": "scatterpolargl"
           }
          ],
          "scatterternary": [
           {
            "marker": {
             "colorbar": {
              "outlinewidth": 0,
              "ticks": ""
             }
            },
            "type": "scatterternary"
           }
          ],
          "surface": [
           {
            "colorbar": {
             "outlinewidth": 0,
             "ticks": ""
            },
            "colorscale": [
             [
              0,
              "#0d0887"
             ],
             [
              0.1111111111111111,
              "#46039f"
             ],
             [
              0.2222222222222222,
              "#7201a8"
             ],
             [
              0.3333333333333333,
              "#9c179e"
             ],
             [
              0.4444444444444444,
              "#bd3786"
             ],
             [
              0.5555555555555556,
              "#d8576b"
             ],
             [
              0.6666666666666666,
              "#ed7953"
             ],
             [
              0.7777777777777778,
              "#fb9f3a"
             ],
             [
              0.8888888888888888,
              "#fdca26"
             ],
             [
              1,
              "#f0f921"
             ]
            ],
            "type": "surface"
           }
          ],
          "table": [
           {
            "cells": {
             "fill": {
              "color": "#EBF0F8"
             },
             "line": {
              "color": "white"
             }
            },
            "header": {
             "fill": {
              "color": "#C8D4E3"
             },
             "line": {
              "color": "white"
             }
            },
            "type": "table"
           }
          ]
         },
         "layout": {
          "annotationdefaults": {
           "arrowcolor": "#2a3f5f",
           "arrowhead": 0,
           "arrowwidth": 1
          },
          "autotypenumbers": "strict",
          "coloraxis": {
           "colorbar": {
            "outlinewidth": 0,
            "ticks": ""
           }
          },
          "colorscale": {
           "diverging": [
            [
             0,
             "#8e0152"
            ],
            [
             0.1,
             "#c51b7d"
            ],
            [
             0.2,
             "#de77ae"
            ],
            [
             0.3,
             "#f1b6da"
            ],
            [
             0.4,
             "#fde0ef"
            ],
            [
             0.5,
             "#f7f7f7"
            ],
            [
             0.6,
             "#e6f5d0"
            ],
            [
             0.7,
             "#b8e186"
            ],
            [
             0.8,
             "#7fbc41"
            ],
            [
             0.9,
             "#4d9221"
            ],
            [
             1,
             "#276419"
            ]
           ],
           "sequential": [
            [
             0,
             "#0d0887"
            ],
            [
             0.1111111111111111,
             "#46039f"
            ],
            [
             0.2222222222222222,
             "#7201a8"
            ],
            [
             0.3333333333333333,
             "#9c179e"
            ],
            [
             0.4444444444444444,
             "#bd3786"
            ],
            [
             0.5555555555555556,
             "#d8576b"
            ],
            [
             0.6666666666666666,
             "#ed7953"
            ],
            [
             0.7777777777777778,
             "#fb9f3a"
            ],
            [
             0.8888888888888888,
             "#fdca26"
            ],
            [
             1,
             "#f0f921"
            ]
           ],
           "sequentialminus": [
            [
             0,
             "#0d0887"
            ],
            [
             0.1111111111111111,
             "#46039f"
            ],
            [
             0.2222222222222222,
             "#7201a8"
            ],
            [
             0.3333333333333333,
             "#9c179e"
            ],
            [
             0.4444444444444444,
             "#bd3786"
            ],
            [
             0.5555555555555556,
             "#d8576b"
            ],
            [
             0.6666666666666666,
             "#ed7953"
            ],
            [
             0.7777777777777778,
             "#fb9f3a"
            ],
            [
             0.8888888888888888,
             "#fdca26"
            ],
            [
             1,
             "#f0f921"
            ]
           ]
          },
          "colorway": [
           "#636efa",
           "#EF553B",
           "#00cc96",
           "#ab63fa",
           "#FFA15A",
           "#19d3f3",
           "#FF6692",
           "#B6E880",
           "#FF97FF",
           "#FECB52"
          ],
          "font": {
           "color": "#2a3f5f"
          },
          "geo": {
           "bgcolor": "white",
           "lakecolor": "white",
           "landcolor": "#E5ECF6",
           "showlakes": true,
           "showland": true,
           "subunitcolor": "white"
          },
          "hoverlabel": {
           "align": "left"
          },
          "hovermode": "closest",
          "mapbox": {
           "style": "light"
          },
          "paper_bgcolor": "white",
          "plot_bgcolor": "#E5ECF6",
          "polar": {
           "angularaxis": {
            "gridcolor": "white",
            "linecolor": "white",
            "ticks": ""
           },
           "bgcolor": "#E5ECF6",
           "radialaxis": {
            "gridcolor": "white",
            "linecolor": "white",
            "ticks": ""
           }
          },
          "scene": {
           "xaxis": {
            "backgroundcolor": "#E5ECF6",
            "gridcolor": "white",
            "gridwidth": 2,
            "linecolor": "white",
            "showbackground": true,
            "ticks": "",
            "zerolinecolor": "white"
           },
           "yaxis": {
            "backgroundcolor": "#E5ECF6",
            "gridcolor": "white",
            "gridwidth": 2,
            "linecolor": "white",
            "showbackground": true,
            "ticks": "",
            "zerolinecolor": "white"
           },
           "zaxis": {
            "backgroundcolor": "#E5ECF6",
            "gridcolor": "white",
            "gridwidth": 2,
            "linecolor": "white",
            "showbackground": true,
            "ticks": "",
            "zerolinecolor": "white"
           }
          },
          "shapedefaults": {
           "line": {
            "color": "#2a3f5f"
           }
          },
          "ternary": {
           "aaxis": {
            "gridcolor": "white",
            "linecolor": "white",
            "ticks": ""
           },
           "baxis": {
            "gridcolor": "white",
            "linecolor": "white",
            "ticks": ""
           },
           "bgcolor": "#E5ECF6",
           "caxis": {
            "gridcolor": "white",
            "linecolor": "white",
            "ticks": ""
           }
          },
          "title": {
           "x": 0.05
          },
          "xaxis": {
           "automargin": true,
           "gridcolor": "white",
           "linecolor": "white",
           "ticks": "",
           "title": {
            "standoff": 15
           },
           "zerolinecolor": "white",
           "zerolinewidth": 2
          },
          "yaxis": {
           "automargin": true,
           "gridcolor": "white",
           "linecolor": "white",
           "ticks": "",
           "title": {
            "standoff": 15
           },
           "zerolinecolor": "white",
           "zerolinewidth": 2
          }
         }
        },
        "title": {
         "text": "Movie Duration Over Years by Rating"
        },
        "xaxis": {
         "anchor": "y",
         "domain": [
          0,
          1
         ],
         "title": {
          "text": "release_year"
         }
        },
        "yaxis": {
         "anchor": "x",
         "domain": [
          0,
          1
         ],
         "title": {
          "text": "duration_int"
         }
        }
       }
      }
     },
     "metadata": {},
     "output_type": "display_data"
    }
   ],
   "source": [
    "fig = px.scatter(movies, x='release_year', y='duration_int', color='rating',\n",
    "                 title='Movie Duration Over Years by Rating', hover_data=['title'])\n",
    "fig.show()\n"
   ]
  }
 ],
 "metadata": {
  "kernelspec": {
   "display_name": "base",
   "language": "python",
   "name": "python3"
  },
  "language_info": {
   "codemirror_mode": {
    "name": "ipython",
    "version": 3
   },
   "file_extension": ".py",
   "mimetype": "text/x-python",
   "name": "python",
   "nbconvert_exporter": "python",
   "pygments_lexer": "ipython3",
   "version": "3.12.7"
  }
 },
 "nbformat": 4,
 "nbformat_minor": 5
}
